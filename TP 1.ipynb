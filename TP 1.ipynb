{
 "cells": [
  {
   "cell_type": "markdown",
   "id": "34dce295",
   "metadata": {},
   "source": [
    "# <i><b>Trabajo Practico Numero 1º<b><i> "
   ]
  },
  {
   "cell_type": "markdown",
   "id": "e32eb71e",
   "metadata": {},
   "source": [
    "#### <b><i>Integrantes:<i><b>\n",
    "#### <b><i>-Agustin Galli.<i><b>\n",
    "#### <b><i>-Ana Affranchino.<i><b>\n",
    "#### <b><i>-Fernando Castro Saia.<i><b>\n",
    "#### <b><i>-Martin Sciandro.<i><b>\n",
    "#### <b><i>-Tobias Canavesi.<i><b>"
   ]
  },
  {
   "cell_type": "markdown",
   "id": "add84637",
   "metadata": {},
   "source": [
    "------------------------------------------------------------------------------------------------------"
   ]
  },
  {
   "cell_type": "markdown",
   "id": "df596159",
   "metadata": {},
   "source": [
    "##### <i>Importacion de librerias y del DataFrame:<i>"
   ]
  },
  {
   "cell_type": "code",
   "execution_count": 2,
   "id": "93dd859f",
   "metadata": {},
   "outputs": [],
   "source": [
    "#Importacion de librerias para Dataframes & Arrays:\n",
    "import pandas as pd\n",
    "import numpy as np\n",
    "#Importacion de librerias de visualizacion:\n",
    "import seaborn as sns\n",
    "import matplotlib as mlp\n",
    "import matplotlib.pyplot as plt\n",
    "import re"
   ]
  },
  {
   "cell_type": "code",
   "execution_count": 3,
   "id": "fdec622d",
   "metadata": {},
   "outputs": [
    {
     "data": {
      "text/html": [
       "<div>\n",
       "<style scoped>\n",
       "    .dataframe tbody tr th:only-of-type {\n",
       "        vertical-align: middle;\n",
       "    }\n",
       "\n",
       "    .dataframe tbody tr th {\n",
       "        vertical-align: top;\n",
       "    }\n",
       "\n",
       "    .dataframe thead th {\n",
       "        text-align: right;\n",
       "    }\n",
       "</style>\n",
       "<table border=\"1\" class=\"dataframe\">\n",
       "  <thead>\n",
       "    <tr style=\"text-align: right;\">\n",
       "      <th></th>\n",
       "      <th>Unnamed: 0</th>\n",
       "      <th>operation</th>\n",
       "      <th>property_type</th>\n",
       "      <th>place_name</th>\n",
       "      <th>place_with_parent_names</th>\n",
       "      <th>country_name</th>\n",
       "      <th>state_name</th>\n",
       "      <th>geonames_id</th>\n",
       "      <th>lat-lon</th>\n",
       "      <th>lat</th>\n",
       "      <th>...</th>\n",
       "      <th>surface_covered_in_m2</th>\n",
       "      <th>price_usd_per_m2</th>\n",
       "      <th>price_per_m2</th>\n",
       "      <th>floor</th>\n",
       "      <th>rooms</th>\n",
       "      <th>expenses</th>\n",
       "      <th>properati_url</th>\n",
       "      <th>description</th>\n",
       "      <th>title</th>\n",
       "      <th>image_thumbnail</th>\n",
       "    </tr>\n",
       "  </thead>\n",
       "  <tbody>\n",
       "    <tr>\n",
       "      <th>0</th>\n",
       "      <td>0</td>\n",
       "      <td>sell</td>\n",
       "      <td>PH</td>\n",
       "      <td>Mataderos</td>\n",
       "      <td>|Argentina|Capital Federal|Mataderos|</td>\n",
       "      <td>Argentina</td>\n",
       "      <td>Capital Federal</td>\n",
       "      <td>3430787.0</td>\n",
       "      <td>-34.6618237,-58.5088387</td>\n",
       "      <td>-34.661824</td>\n",
       "      <td>...</td>\n",
       "      <td>40.0</td>\n",
       "      <td>1127.272727</td>\n",
       "      <td>1550.000000</td>\n",
       "      <td>NaN</td>\n",
       "      <td>NaN</td>\n",
       "      <td>NaN</td>\n",
       "      <td>http://www.properati.com.ar/15bo8_venta_ph_mat...</td>\n",
       "      <td>2 AMBIENTES TIPO CASA PLANTA BAJA POR PASILLO,...</td>\n",
       "      <td>2 AMB TIPO CASA SIN EXPENSAS EN PB</td>\n",
       "      <td>https://thumbs4.properati.com/8/BluUYiHJLhgIIK...</td>\n",
       "    </tr>\n",
       "    <tr>\n",
       "      <th>1</th>\n",
       "      <td>1</td>\n",
       "      <td>sell</td>\n",
       "      <td>apartment</td>\n",
       "      <td>La Plata</td>\n",
       "      <td>|Argentina|Bs.As. G.B.A. Zona Sur|La Plata|</td>\n",
       "      <td>Argentina</td>\n",
       "      <td>Bs.As. G.B.A. Zona Sur</td>\n",
       "      <td>3432039.0</td>\n",
       "      <td>-34.9038831,-57.9643295</td>\n",
       "      <td>-34.903883</td>\n",
       "      <td>...</td>\n",
       "      <td>NaN</td>\n",
       "      <td>NaN</td>\n",
       "      <td>NaN</td>\n",
       "      <td>NaN</td>\n",
       "      <td>NaN</td>\n",
       "      <td>NaN</td>\n",
       "      <td>http://www.properati.com.ar/15bob_venta_depart...</td>\n",
       "      <td>Venta de departamento en dÃ©cimo piso al frent...</td>\n",
       "      <td>VENTA Depto 2 dorm. a estrenar 7 e/ 36 y 37   ...</td>\n",
       "      <td>https://thumbs4.properati.com/7/ikpVBu2ztHA7jv...</td>\n",
       "    </tr>\n",
       "    <tr>\n",
       "      <th>2</th>\n",
       "      <td>2</td>\n",
       "      <td>sell</td>\n",
       "      <td>apartment</td>\n",
       "      <td>Mataderos</td>\n",
       "      <td>|Argentina|Capital Federal|Mataderos|</td>\n",
       "      <td>Argentina</td>\n",
       "      <td>Capital Federal</td>\n",
       "      <td>3430787.0</td>\n",
       "      <td>-34.6522615,-58.5229825</td>\n",
       "      <td>-34.652262</td>\n",
       "      <td>...</td>\n",
       "      <td>55.0</td>\n",
       "      <td>1309.090909</td>\n",
       "      <td>1309.090909</td>\n",
       "      <td>NaN</td>\n",
       "      <td>NaN</td>\n",
       "      <td>NaN</td>\n",
       "      <td>http://www.properati.com.ar/15bod_venta_depart...</td>\n",
       "      <td>2 AMBIENTES 3ER PISO LATERAL LIVING COMEDOR AM...</td>\n",
       "      <td>2 AMB 3ER PISO CON ASCENSOR APTO CREDITO</td>\n",
       "      <td>https://thumbs4.properati.com/5/SXKr34F_IwG3W_...</td>\n",
       "    </tr>\n",
       "    <tr>\n",
       "      <th>3</th>\n",
       "      <td>3</td>\n",
       "      <td>sell</td>\n",
       "      <td>PH</td>\n",
       "      <td>Liniers</td>\n",
       "      <td>|Argentina|Capital Federal|Liniers|</td>\n",
       "      <td>Argentina</td>\n",
       "      <td>Capital Federal</td>\n",
       "      <td>3431333.0</td>\n",
       "      <td>-34.6477969,-58.5164244</td>\n",
       "      <td>-34.647797</td>\n",
       "      <td>...</td>\n",
       "      <td>NaN</td>\n",
       "      <td>NaN</td>\n",
       "      <td>NaN</td>\n",
       "      <td>NaN</td>\n",
       "      <td>NaN</td>\n",
       "      <td>NaN</td>\n",
       "      <td>http://www.properati.com.ar/15boh_venta_ph_lin...</td>\n",
       "      <td>PH 3 ambientes con patio. Hay 3 deptos en lote...</td>\n",
       "      <td>PH 3 amb. cfte. reciclado</td>\n",
       "      <td>https://thumbs4.properati.com/3/DgIfX-85Mog5SP...</td>\n",
       "    </tr>\n",
       "    <tr>\n",
       "      <th>4</th>\n",
       "      <td>4</td>\n",
       "      <td>sell</td>\n",
       "      <td>apartment</td>\n",
       "      <td>Centro</td>\n",
       "      <td>|Argentina|Buenos Aires Costa AtlÃ¡ntica|Mar d...</td>\n",
       "      <td>Argentina</td>\n",
       "      <td>Buenos Aires Costa AtlÃ¡ntica</td>\n",
       "      <td>3435548.0</td>\n",
       "      <td>-38.0026256,-57.5494468</td>\n",
       "      <td>-38.002626</td>\n",
       "      <td>...</td>\n",
       "      <td>35.0</td>\n",
       "      <td>1828.571429</td>\n",
       "      <td>1828.571429</td>\n",
       "      <td>NaN</td>\n",
       "      <td>NaN</td>\n",
       "      <td>NaN</td>\n",
       "      <td>http://www.properati.com.ar/15bok_venta_depart...</td>\n",
       "      <td>DEPARTAMENTO CON FANTÃSTICA ILUMINACIÃN NATU...</td>\n",
       "      <td>DEPTO 2 AMB AL CONTRAFRENTE ZONA CENTRO/PLAZA ...</td>\n",
       "      <td>https://thumbs4.properati.com/5/xrRqlNcSI_vs-f...</td>\n",
       "    </tr>\n",
       "  </tbody>\n",
       "</table>\n",
       "<p>5 rows × 26 columns</p>\n",
       "</div>"
      ],
      "text/plain": [
       "   Unnamed: 0 operation property_type place_name  \\\n",
       "0           0      sell            PH  Mataderos   \n",
       "1           1      sell     apartment   La Plata   \n",
       "2           2      sell     apartment  Mataderos   \n",
       "3           3      sell            PH    Liniers   \n",
       "4           4      sell     apartment     Centro   \n",
       "\n",
       "                             place_with_parent_names country_name  \\\n",
       "0              |Argentina|Capital Federal|Mataderos|    Argentina   \n",
       "1        |Argentina|Bs.As. G.B.A. Zona Sur|La Plata|    Argentina   \n",
       "2              |Argentina|Capital Federal|Mataderos|    Argentina   \n",
       "3                |Argentina|Capital Federal|Liniers|    Argentina   \n",
       "4  |Argentina|Buenos Aires Costa AtlÃ¡ntica|Mar d...    Argentina   \n",
       "\n",
       "                      state_name  geonames_id                  lat-lon  \\\n",
       "0                Capital Federal    3430787.0  -34.6618237,-58.5088387   \n",
       "1         Bs.As. G.B.A. Zona Sur    3432039.0  -34.9038831,-57.9643295   \n",
       "2                Capital Federal    3430787.0  -34.6522615,-58.5229825   \n",
       "3                Capital Federal    3431333.0  -34.6477969,-58.5164244   \n",
       "4  Buenos Aires Costa AtlÃ¡ntica    3435548.0  -38.0026256,-57.5494468   \n",
       "\n",
       "         lat  ...  surface_covered_in_m2  price_usd_per_m2 price_per_m2  \\\n",
       "0 -34.661824  ...                   40.0       1127.272727  1550.000000   \n",
       "1 -34.903883  ...                    NaN               NaN          NaN   \n",
       "2 -34.652262  ...                   55.0       1309.090909  1309.090909   \n",
       "3 -34.647797  ...                    NaN               NaN          NaN   \n",
       "4 -38.002626  ...                   35.0       1828.571429  1828.571429   \n",
       "\n",
       "   floor  rooms  expenses                                      properati_url  \\\n",
       "0    NaN    NaN       NaN  http://www.properati.com.ar/15bo8_venta_ph_mat...   \n",
       "1    NaN    NaN       NaN  http://www.properati.com.ar/15bob_venta_depart...   \n",
       "2    NaN    NaN       NaN  http://www.properati.com.ar/15bod_venta_depart...   \n",
       "3    NaN    NaN       NaN  http://www.properati.com.ar/15boh_venta_ph_lin...   \n",
       "4    NaN    NaN       NaN  http://www.properati.com.ar/15bok_venta_depart...   \n",
       "\n",
       "                                         description  \\\n",
       "0  2 AMBIENTES TIPO CASA PLANTA BAJA POR PASILLO,...   \n",
       "1  Venta de departamento en dÃ©cimo piso al frent...   \n",
       "2  2 AMBIENTES 3ER PISO LATERAL LIVING COMEDOR AM...   \n",
       "3  PH 3 ambientes con patio. Hay 3 deptos en lote...   \n",
       "4  DEPARTAMENTO CON FANTÃSTICA ILUMINACIÃN NATU...   \n",
       "\n",
       "                                               title  \\\n",
       "0                 2 AMB TIPO CASA SIN EXPENSAS EN PB   \n",
       "1  VENTA Depto 2 dorm. a estrenar 7 e/ 36 y 37   ...   \n",
       "2           2 AMB 3ER PISO CON ASCENSOR APTO CREDITO   \n",
       "3                       PH 3 amb. cfte. reciclado      \n",
       "4  DEPTO 2 AMB AL CONTRAFRENTE ZONA CENTRO/PLAZA ...   \n",
       "\n",
       "                                     image_thumbnail  \n",
       "0  https://thumbs4.properati.com/8/BluUYiHJLhgIIK...  \n",
       "1  https://thumbs4.properati.com/7/ikpVBu2ztHA7jv...  \n",
       "2  https://thumbs4.properati.com/5/SXKr34F_IwG3W_...  \n",
       "3  https://thumbs4.properati.com/3/DgIfX-85Mog5SP...  \n",
       "4  https://thumbs4.properati.com/5/xrRqlNcSI_vs-f...  \n",
       "\n",
       "[5 rows x 26 columns]"
      ]
     },
     "execution_count": 3,
     "metadata": {},
     "output_type": "execute_result"
    }
   ],
   "source": [
    "data_location = \"properatti.csv\"\n",
    "data = pd.read_csv(data_location, sep = \",\", encoding = \"latin1\")\n",
    "data.head(5)"
   ]
  },
  {
   "cell_type": "code",
   "execution_count": 4,
   "id": "7d60185f",
   "metadata": {},
   "outputs": [
    {
     "data": {
      "text/plain": [
       "(121220, 26)"
      ]
     },
     "execution_count": 4,
     "metadata": {},
     "output_type": "execute_result"
    }
   ],
   "source": [
    "data.shape"
   ]
  },
  {
   "cell_type": "code",
   "execution_count": 5,
   "id": "7ca10343",
   "metadata": {},
   "outputs": [
    {
     "data": {
      "text/html": [
       "<div>\n",
       "<style scoped>\n",
       "    .dataframe tbody tr th:only-of-type {\n",
       "        vertical-align: middle;\n",
       "    }\n",
       "\n",
       "    .dataframe tbody tr th {\n",
       "        vertical-align: top;\n",
       "    }\n",
       "\n",
       "    .dataframe thead th {\n",
       "        text-align: right;\n",
       "    }\n",
       "</style>\n",
       "<table border=\"1\" class=\"dataframe\">\n",
       "  <thead>\n",
       "    <tr style=\"text-align: right;\">\n",
       "      <th></th>\n",
       "      <th>Unnamed: 0</th>\n",
       "      <th>geonames_id</th>\n",
       "      <th>lat</th>\n",
       "      <th>lon</th>\n",
       "      <th>price</th>\n",
       "      <th>price_aprox_local_currency</th>\n",
       "      <th>price_aprox_usd</th>\n",
       "      <th>surface_total_in_m2</th>\n",
       "      <th>surface_covered_in_m2</th>\n",
       "      <th>price_usd_per_m2</th>\n",
       "      <th>price_per_m2</th>\n",
       "      <th>floor</th>\n",
       "      <th>rooms</th>\n",
       "      <th>expenses</th>\n",
       "    </tr>\n",
       "  </thead>\n",
       "  <tbody>\n",
       "    <tr>\n",
       "      <th>count</th>\n",
       "      <td>121220.000000</td>\n",
       "      <td>1.025030e+05</td>\n",
       "      <td>69670.000000</td>\n",
       "      <td>69670.000000</td>\n",
       "      <td>1.008100e+05</td>\n",
       "      <td>1.008100e+05</td>\n",
       "      <td>1.008100e+05</td>\n",
       "      <td>81892.000000</td>\n",
       "      <td>101313.000000</td>\n",
       "      <td>68617.000000</td>\n",
       "      <td>8.765800e+04</td>\n",
       "      <td>7899.000000</td>\n",
       "      <td>47390.000000</td>\n",
       "      <td>1.426200e+04</td>\n",
       "    </tr>\n",
       "    <tr>\n",
       "      <th>mean</th>\n",
       "      <td>60609.500000</td>\n",
       "      <td>3.574442e+06</td>\n",
       "      <td>-34.626210</td>\n",
       "      <td>-59.266290</td>\n",
       "      <td>4.685259e+05</td>\n",
       "      <td>4.229397e+06</td>\n",
       "      <td>2.397006e+05</td>\n",
       "      <td>233.795328</td>\n",
       "      <td>133.050181</td>\n",
       "      <td>2160.086916</td>\n",
       "      <td>6.912216e+03</td>\n",
       "      <td>17.452336</td>\n",
       "      <td>3.080840</td>\n",
       "      <td>5.009234e+03</td>\n",
       "    </tr>\n",
       "    <tr>\n",
       "      <th>std</th>\n",
       "      <td>34993.344153</td>\n",
       "      <td>3.541306e+05</td>\n",
       "      <td>1.980936</td>\n",
       "      <td>2.299922</td>\n",
       "      <td>2.260101e+06</td>\n",
       "      <td>6.904714e+06</td>\n",
       "      <td>3.913239e+05</td>\n",
       "      <td>1782.222147</td>\n",
       "      <td>724.351479</td>\n",
       "      <td>2759.288621</td>\n",
       "      <td>2.837864e+04</td>\n",
       "      <td>120.243621</td>\n",
       "      <td>1.860773</td>\n",
       "      <td>1.204403e+05</td>\n",
       "    </tr>\n",
       "    <tr>\n",
       "      <th>min</th>\n",
       "      <td>0.000000</td>\n",
       "      <td>3.427208e+06</td>\n",
       "      <td>-54.823985</td>\n",
       "      <td>-75.678931</td>\n",
       "      <td>0.000000e+00</td>\n",
       "      <td>0.000000e+00</td>\n",
       "      <td>0.000000e+00</td>\n",
       "      <td>0.000000</td>\n",
       "      <td>0.000000</td>\n",
       "      <td>0.600000</td>\n",
       "      <td>1.510204e+00</td>\n",
       "      <td>1.000000</td>\n",
       "      <td>1.000000</td>\n",
       "      <td>1.000000e+00</td>\n",
       "    </tr>\n",
       "    <tr>\n",
       "      <th>25%</th>\n",
       "      <td>30304.750000</td>\n",
       "      <td>3.430234e+06</td>\n",
       "      <td>-34.669065</td>\n",
       "      <td>-58.727040</td>\n",
       "      <td>1.100000e+05</td>\n",
       "      <td>1.583309e+06</td>\n",
       "      <td>8.973388e+04</td>\n",
       "      <td>50.000000</td>\n",
       "      <td>45.000000</td>\n",
       "      <td>1218.181818</td>\n",
       "      <td>1.550000e+03</td>\n",
       "      <td>1.000000</td>\n",
       "      <td>2.000000</td>\n",
       "      <td>1.000000e+03</td>\n",
       "    </tr>\n",
       "    <tr>\n",
       "      <th>50%</th>\n",
       "      <td>60609.500000</td>\n",
       "      <td>3.433910e+06</td>\n",
       "      <td>-34.597985</td>\n",
       "      <td>-58.480128</td>\n",
       "      <td>1.850000e+05</td>\n",
       "      <td>2.558452e+06</td>\n",
       "      <td>1.450000e+05</td>\n",
       "      <td>84.000000</td>\n",
       "      <td>75.000000</td>\n",
       "      <td>1800.000000</td>\n",
       "      <td>2.213115e+03</td>\n",
       "      <td>3.000000</td>\n",
       "      <td>3.000000</td>\n",
       "      <td>2.000000e+03</td>\n",
       "    </tr>\n",
       "    <tr>\n",
       "      <th>75%</th>\n",
       "      <td>90914.250000</td>\n",
       "      <td>3.836668e+06</td>\n",
       "      <td>-34.441299</td>\n",
       "      <td>-58.395908</td>\n",
       "      <td>4.200000e+05</td>\n",
       "      <td>4.675792e+06</td>\n",
       "      <td>2.650000e+05</td>\n",
       "      <td>200.000000</td>\n",
       "      <td>150.000000</td>\n",
       "      <td>2486.411765</td>\n",
       "      <td>3.355549e+03</td>\n",
       "      <td>6.000000</td>\n",
       "      <td>4.000000</td>\n",
       "      <td>4.000000e+03</td>\n",
       "    </tr>\n",
       "    <tr>\n",
       "      <th>max</th>\n",
       "      <td>121219.000000</td>\n",
       "      <td>6.948895e+06</td>\n",
       "      <td>4.545843</td>\n",
       "      <td>-53.733330</td>\n",
       "      <td>6.500000e+08</td>\n",
       "      <td>8.212711e+08</td>\n",
       "      <td>4.654544e+07</td>\n",
       "      <td>200000.000000</td>\n",
       "      <td>187000.000000</td>\n",
       "      <td>206333.333300</td>\n",
       "      <td>4.000000e+06</td>\n",
       "      <td>3150.000000</td>\n",
       "      <td>32.000000</td>\n",
       "      <td>1.000150e+07</td>\n",
       "    </tr>\n",
       "  </tbody>\n",
       "</table>\n",
       "</div>"
      ],
      "text/plain": [
       "          Unnamed: 0   geonames_id           lat           lon         price  \\\n",
       "count  121220.000000  1.025030e+05  69670.000000  69670.000000  1.008100e+05   \n",
       "mean    60609.500000  3.574442e+06    -34.626210    -59.266290  4.685259e+05   \n",
       "std     34993.344153  3.541306e+05      1.980936      2.299922  2.260101e+06   \n",
       "min         0.000000  3.427208e+06    -54.823985    -75.678931  0.000000e+00   \n",
       "25%     30304.750000  3.430234e+06    -34.669065    -58.727040  1.100000e+05   \n",
       "50%     60609.500000  3.433910e+06    -34.597985    -58.480128  1.850000e+05   \n",
       "75%     90914.250000  3.836668e+06    -34.441299    -58.395908  4.200000e+05   \n",
       "max    121219.000000  6.948895e+06      4.545843    -53.733330  6.500000e+08   \n",
       "\n",
       "       price_aprox_local_currency  price_aprox_usd  surface_total_in_m2  \\\n",
       "count                1.008100e+05     1.008100e+05         81892.000000   \n",
       "mean                 4.229397e+06     2.397006e+05           233.795328   \n",
       "std                  6.904714e+06     3.913239e+05          1782.222147   \n",
       "min                  0.000000e+00     0.000000e+00             0.000000   \n",
       "25%                  1.583309e+06     8.973388e+04            50.000000   \n",
       "50%                  2.558452e+06     1.450000e+05            84.000000   \n",
       "75%                  4.675792e+06     2.650000e+05           200.000000   \n",
       "max                  8.212711e+08     4.654544e+07        200000.000000   \n",
       "\n",
       "       surface_covered_in_m2  price_usd_per_m2  price_per_m2        floor  \\\n",
       "count          101313.000000      68617.000000  8.765800e+04  7899.000000   \n",
       "mean              133.050181       2160.086916  6.912216e+03    17.452336   \n",
       "std               724.351479       2759.288621  2.837864e+04   120.243621   \n",
       "min                 0.000000          0.600000  1.510204e+00     1.000000   \n",
       "25%                45.000000       1218.181818  1.550000e+03     1.000000   \n",
       "50%                75.000000       1800.000000  2.213115e+03     3.000000   \n",
       "75%               150.000000       2486.411765  3.355549e+03     6.000000   \n",
       "max            187000.000000     206333.333300  4.000000e+06  3150.000000   \n",
       "\n",
       "              rooms      expenses  \n",
       "count  47390.000000  1.426200e+04  \n",
       "mean       3.080840  5.009234e+03  \n",
       "std        1.860773  1.204403e+05  \n",
       "min        1.000000  1.000000e+00  \n",
       "25%        2.000000  1.000000e+03  \n",
       "50%        3.000000  2.000000e+03  \n",
       "75%        4.000000  4.000000e+03  \n",
       "max       32.000000  1.000150e+07  "
      ]
     },
     "execution_count": 5,
     "metadata": {},
     "output_type": "execute_result"
    }
   ],
   "source": [
    "#Descripcion del Dataset:\n",
    "data.describe()"
   ]
  },
  {
   "cell_type": "markdown",
   "id": "a9a3d7d6",
   "metadata": {},
   "source": [
    "### <i> Limpieza de Datos: <i>"
   ]
  },
  {
   "cell_type": "code",
   "execution_count": 6,
   "id": "436f2fc4",
   "metadata": {},
   "outputs": [
    {
     "name": "stdout",
     "output_type": "stream",
     "text": [
      "Unnamed: 0                         0\n",
      "operation                          0\n",
      "property_type                      0\n",
      "place_name                        23\n",
      "place_with_parent_names            0\n",
      "country_name                       0\n",
      "state_name                         0\n",
      "geonames_id                    18717\n",
      "lat-lon                        51550\n",
      "lat                            51550\n",
      "lon                            51550\n",
      "price                          20410\n",
      "currency                       20411\n",
      "price_aprox_local_currency     20410\n",
      "price_aprox_usd                20410\n",
      "surface_total_in_m2            39328\n",
      "surface_covered_in_m2          19907\n",
      "price_usd_per_m2               52603\n",
      "price_per_m2                   33562\n",
      "floor                         113321\n",
      "rooms                          73830\n",
      "expenses                      106958\n",
      "properati_url                      0\n",
      "description                        2\n",
      "title                              0\n",
      "image_thumbnail                 3112\n",
      "dtype: int64\n"
     ]
    }
   ],
   "source": [
    "#Valores nulos del Dataset:\n",
    "is_null = data.isnull()\n",
    "cantidad_nulls = is_null.sum()\n",
    "print(cantidad_nulls)"
   ]
  },
  {
   "cell_type": "code",
   "execution_count": 7,
   "id": "66f36401",
   "metadata": {},
   "outputs": [
    {
     "name": "stdout",
     "output_type": "stream",
     "text": [
      "Unnamed: 0                     0.000000\n",
      "operation                      0.000000\n",
      "property_type                  0.000000\n",
      "place_name                     0.018974\n",
      "place_with_parent_names        0.000000\n",
      "country_name                   0.000000\n",
      "state_name                     0.000000\n",
      "geonames_id                   15.440521\n",
      "lat-lon                       42.525986\n",
      "lat                           42.525986\n",
      "lon                           42.525986\n",
      "price                         16.837156\n",
      "currency                      16.837981\n",
      "price_aprox_local_currency    16.837156\n",
      "price_aprox_usd               16.837156\n",
      "surface_total_in_m2           32.443491\n",
      "surface_covered_in_m2         16.422208\n",
      "price_usd_per_m2              43.394654\n",
      "price_per_m2                  27.686850\n",
      "floor                         93.483749\n",
      "rooms                         60.905791\n",
      "expenses                      88.234615\n",
      "properati_url                  0.000000\n",
      "description                    0.001650\n",
      "title                          0.000000\n",
      "image_thumbnail                2.567233\n",
      "dtype: float64\n"
     ]
    }
   ],
   "source": [
    "#Calculo el %:\n",
    "cantidad_total_registros = data.shape[0]\n",
    "porcentaje_nulls = (cantidad_nulls/cantidad_total_registros) * 100\n",
    "print(porcentaje_nulls)"
   ]
  },
  {
   "cell_type": "code",
   "execution_count": 8,
   "id": "9d4ca0e3",
   "metadata": {},
   "outputs": [
    {
     "data": {
      "text/html": [
       "<div>\n",
       "<style scoped>\n",
       "    .dataframe tbody tr th:only-of-type {\n",
       "        vertical-align: middle;\n",
       "    }\n",
       "\n",
       "    .dataframe tbody tr th {\n",
       "        vertical-align: top;\n",
       "    }\n",
       "\n",
       "    .dataframe thead th {\n",
       "        text-align: right;\n",
       "    }\n",
       "</style>\n",
       "<table border=\"1\" class=\"dataframe\">\n",
       "  <thead>\n",
       "    <tr style=\"text-align: right;\">\n",
       "      <th></th>\n",
       "      <th>Unnamed: 0</th>\n",
       "      <th>operation</th>\n",
       "      <th>property_type</th>\n",
       "      <th>place_name</th>\n",
       "      <th>place_with_parent_names</th>\n",
       "      <th>country_name</th>\n",
       "      <th>state_name</th>\n",
       "      <th>geonames_id</th>\n",
       "      <th>lat</th>\n",
       "      <th>lon</th>\n",
       "      <th>...</th>\n",
       "      <th>price_aprox_usd</th>\n",
       "      <th>surface_total_in_m2</th>\n",
       "      <th>surface_covered_in_m2</th>\n",
       "      <th>price_usd_per_m2</th>\n",
       "      <th>price_per_m2</th>\n",
       "      <th>floor</th>\n",
       "      <th>rooms</th>\n",
       "      <th>expenses</th>\n",
       "      <th>description</th>\n",
       "      <th>title</th>\n",
       "    </tr>\n",
       "  </thead>\n",
       "  <tbody>\n",
       "    <tr>\n",
       "      <th>0</th>\n",
       "      <td>0</td>\n",
       "      <td>sell</td>\n",
       "      <td>PH</td>\n",
       "      <td>Mataderos</td>\n",
       "      <td>|Argentina|Capital Federal|Mataderos|</td>\n",
       "      <td>Argentina</td>\n",
       "      <td>Capital Federal</td>\n",
       "      <td>3430787.0</td>\n",
       "      <td>-34.661824</td>\n",
       "      <td>-58.508839</td>\n",
       "      <td>...</td>\n",
       "      <td>62000.0</td>\n",
       "      <td>55.0</td>\n",
       "      <td>40.0</td>\n",
       "      <td>1127.272727</td>\n",
       "      <td>1550.000000</td>\n",
       "      <td>NaN</td>\n",
       "      <td>NaN</td>\n",
       "      <td>NaN</td>\n",
       "      <td>2 AMBIENTES TIPO CASA PLANTA BAJA POR PASILLO,...</td>\n",
       "      <td>2 AMB TIPO CASA SIN EXPENSAS EN PB</td>\n",
       "    </tr>\n",
       "    <tr>\n",
       "      <th>1</th>\n",
       "      <td>1</td>\n",
       "      <td>sell</td>\n",
       "      <td>apartment</td>\n",
       "      <td>La Plata</td>\n",
       "      <td>|Argentina|Bs.As. G.B.A. Zona Sur|La Plata|</td>\n",
       "      <td>Argentina</td>\n",
       "      <td>Bs.As. G.B.A. Zona Sur</td>\n",
       "      <td>3432039.0</td>\n",
       "      <td>-34.903883</td>\n",
       "      <td>-57.964330</td>\n",
       "      <td>...</td>\n",
       "      <td>150000.0</td>\n",
       "      <td>NaN</td>\n",
       "      <td>NaN</td>\n",
       "      <td>NaN</td>\n",
       "      <td>NaN</td>\n",
       "      <td>NaN</td>\n",
       "      <td>NaN</td>\n",
       "      <td>NaN</td>\n",
       "      <td>Venta de departamento en dÃ©cimo piso al frent...</td>\n",
       "      <td>VENTA Depto 2 dorm. a estrenar 7 e/ 36 y 37   ...</td>\n",
       "    </tr>\n",
       "    <tr>\n",
       "      <th>2</th>\n",
       "      <td>2</td>\n",
       "      <td>sell</td>\n",
       "      <td>apartment</td>\n",
       "      <td>Mataderos</td>\n",
       "      <td>|Argentina|Capital Federal|Mataderos|</td>\n",
       "      <td>Argentina</td>\n",
       "      <td>Capital Federal</td>\n",
       "      <td>3430787.0</td>\n",
       "      <td>-34.652262</td>\n",
       "      <td>-58.522982</td>\n",
       "      <td>...</td>\n",
       "      <td>72000.0</td>\n",
       "      <td>55.0</td>\n",
       "      <td>55.0</td>\n",
       "      <td>1309.090909</td>\n",
       "      <td>1309.090909</td>\n",
       "      <td>NaN</td>\n",
       "      <td>NaN</td>\n",
       "      <td>NaN</td>\n",
       "      <td>2 AMBIENTES 3ER PISO LATERAL LIVING COMEDOR AM...</td>\n",
       "      <td>2 AMB 3ER PISO CON ASCENSOR APTO CREDITO</td>\n",
       "    </tr>\n",
       "    <tr>\n",
       "      <th>3</th>\n",
       "      <td>3</td>\n",
       "      <td>sell</td>\n",
       "      <td>PH</td>\n",
       "      <td>Liniers</td>\n",
       "      <td>|Argentina|Capital Federal|Liniers|</td>\n",
       "      <td>Argentina</td>\n",
       "      <td>Capital Federal</td>\n",
       "      <td>3431333.0</td>\n",
       "      <td>-34.647797</td>\n",
       "      <td>-58.516424</td>\n",
       "      <td>...</td>\n",
       "      <td>95000.0</td>\n",
       "      <td>NaN</td>\n",
       "      <td>NaN</td>\n",
       "      <td>NaN</td>\n",
       "      <td>NaN</td>\n",
       "      <td>NaN</td>\n",
       "      <td>NaN</td>\n",
       "      <td>NaN</td>\n",
       "      <td>PH 3 ambientes con patio. Hay 3 deptos en lote...</td>\n",
       "      <td>PH 3 amb. cfte. reciclado</td>\n",
       "    </tr>\n",
       "    <tr>\n",
       "      <th>4</th>\n",
       "      <td>4</td>\n",
       "      <td>sell</td>\n",
       "      <td>apartment</td>\n",
       "      <td>Centro</td>\n",
       "      <td>|Argentina|Buenos Aires Costa AtlÃ¡ntica|Mar d...</td>\n",
       "      <td>Argentina</td>\n",
       "      <td>Buenos Aires Costa AtlÃ¡ntica</td>\n",
       "      <td>3435548.0</td>\n",
       "      <td>-38.002626</td>\n",
       "      <td>-57.549447</td>\n",
       "      <td>...</td>\n",
       "      <td>64000.0</td>\n",
       "      <td>35.0</td>\n",
       "      <td>35.0</td>\n",
       "      <td>1828.571429</td>\n",
       "      <td>1828.571429</td>\n",
       "      <td>NaN</td>\n",
       "      <td>NaN</td>\n",
       "      <td>NaN</td>\n",
       "      <td>DEPARTAMENTO CON FANTÃSTICA ILUMINACIÃN NATU...</td>\n",
       "      <td>DEPTO 2 AMB AL CONTRAFRENTE ZONA CENTRO/PLAZA ...</td>\n",
       "    </tr>\n",
       "  </tbody>\n",
       "</table>\n",
       "<p>5 rows × 23 columns</p>\n",
       "</div>"
      ],
      "text/plain": [
       "   Unnamed: 0 operation property_type place_name  \\\n",
       "0           0      sell            PH  Mataderos   \n",
       "1           1      sell     apartment   La Plata   \n",
       "2           2      sell     apartment  Mataderos   \n",
       "3           3      sell            PH    Liniers   \n",
       "4           4      sell     apartment     Centro   \n",
       "\n",
       "                             place_with_parent_names country_name  \\\n",
       "0              |Argentina|Capital Federal|Mataderos|    Argentina   \n",
       "1        |Argentina|Bs.As. G.B.A. Zona Sur|La Plata|    Argentina   \n",
       "2              |Argentina|Capital Federal|Mataderos|    Argentina   \n",
       "3                |Argentina|Capital Federal|Liniers|    Argentina   \n",
       "4  |Argentina|Buenos Aires Costa AtlÃ¡ntica|Mar d...    Argentina   \n",
       "\n",
       "                      state_name  geonames_id        lat        lon  ...  \\\n",
       "0                Capital Federal    3430787.0 -34.661824 -58.508839  ...   \n",
       "1         Bs.As. G.B.A. Zona Sur    3432039.0 -34.903883 -57.964330  ...   \n",
       "2                Capital Federal    3430787.0 -34.652262 -58.522982  ...   \n",
       "3                Capital Federal    3431333.0 -34.647797 -58.516424  ...   \n",
       "4  Buenos Aires Costa AtlÃ¡ntica    3435548.0 -38.002626 -57.549447  ...   \n",
       "\n",
       "   price_aprox_usd surface_total_in_m2  surface_covered_in_m2  \\\n",
       "0          62000.0                55.0                   40.0   \n",
       "1         150000.0                 NaN                    NaN   \n",
       "2          72000.0                55.0                   55.0   \n",
       "3          95000.0                 NaN                    NaN   \n",
       "4          64000.0                35.0                   35.0   \n",
       "\n",
       "   price_usd_per_m2  price_per_m2  floor  rooms  expenses  \\\n",
       "0       1127.272727   1550.000000    NaN    NaN       NaN   \n",
       "1               NaN           NaN    NaN    NaN       NaN   \n",
       "2       1309.090909   1309.090909    NaN    NaN       NaN   \n",
       "3               NaN           NaN    NaN    NaN       NaN   \n",
       "4       1828.571429   1828.571429    NaN    NaN       NaN   \n",
       "\n",
       "                                         description  \\\n",
       "0  2 AMBIENTES TIPO CASA PLANTA BAJA POR PASILLO,...   \n",
       "1  Venta de departamento en dÃ©cimo piso al frent...   \n",
       "2  2 AMBIENTES 3ER PISO LATERAL LIVING COMEDOR AM...   \n",
       "3  PH 3 ambientes con patio. Hay 3 deptos en lote...   \n",
       "4  DEPARTAMENTO CON FANTÃSTICA ILUMINACIÃN NATU...   \n",
       "\n",
       "                                               title  \n",
       "0                 2 AMB TIPO CASA SIN EXPENSAS EN PB  \n",
       "1  VENTA Depto 2 dorm. a estrenar 7 e/ 36 y 37   ...  \n",
       "2           2 AMB 3ER PISO CON ASCENSOR APTO CREDITO  \n",
       "3                       PH 3 amb. cfte. reciclado     \n",
       "4  DEPTO 2 AMB AL CONTRAFRENTE ZONA CENTRO/PLAZA ...  \n",
       "\n",
       "[5 rows x 23 columns]"
      ]
     },
     "execution_count": 8,
     "metadata": {},
     "output_type": "execute_result"
    }
   ],
   "source": [
    "#Eliminamos columnas innecesarias:\n",
    "data_filt = data.drop(columns = ['properati_url','lat-lon','image_thumbnail'])\n",
    "data_filt.head(5)"
   ]
  },
  {
   "cell_type": "code",
   "execution_count": 9,
   "id": "0edbd489",
   "metadata": {},
   "outputs": [
    {
     "data": {
      "text/plain": [
       "Index(['Unnamed: 0', 'operation', 'property_type', 'place_name',\n",
       "       'place_with_parent_names', 'country_name', 'state_name', 'geonames_id',\n",
       "       'lat', 'lon', 'price', 'currency', 'price_aprox_local_currency',\n",
       "       'price_aprox_usd', 'surface_total_in_m2', 'surface_covered_in_m2',\n",
       "       'price_usd_per_m2', 'price_per_m2', 'floor', 'rooms', 'expenses',\n",
       "       'description', 'title'],\n",
       "      dtype='object')"
      ]
     },
     "execution_count": 9,
     "metadata": {},
     "output_type": "execute_result"
    }
   ],
   "source": [
    "data_filt.columns"
   ]
  },
  {
   "cell_type": "code",
   "execution_count": 10,
   "id": "f9d1a5e0",
   "metadata": {},
   "outputs": [
    {
     "data": {
      "text/plain": [
       "0"
      ]
     },
     "execution_count": 10,
     "metadata": {},
     "output_type": "execute_result"
    }
   ],
   "source": [
    "#Eliminamos filas duplicadas:\n",
    "data_filt_2 = data_filt.drop_duplicates(subset = ['description','lat','lon'], keep = 'first')\n",
    "data_filt_2.head(5)\n",
    "data_filt_2.duplicated().sum()"
   ]
  },
  {
   "cell_type": "code",
   "execution_count": 11,
   "id": "a158f9a3",
   "metadata": {},
   "outputs": [
    {
     "data": {
      "text/plain": [
       "USD    80142\n",
       "ARS    10009\n",
       "PEN        2\n",
       "UYU        1\n",
       "Name: currency, dtype: int64"
      ]
     },
     "execution_count": 11,
     "metadata": {},
     "output_type": "execute_result"
    }
   ],
   "source": [
    "#Filtramos y limpiamos moneda dejando unicamente USD y ARS:\n",
    "data_filt_2['currency'].unique()\n",
    "data_filt_2['currency'].value_counts()"
   ]
  },
  {
   "cell_type": "code",
   "execution_count": 12,
   "id": "c17a5118",
   "metadata": {},
   "outputs": [
    {
     "data": {
      "text/html": [
       "<div>\n",
       "<style scoped>\n",
       "    .dataframe tbody tr th:only-of-type {\n",
       "        vertical-align: middle;\n",
       "    }\n",
       "\n",
       "    .dataframe tbody tr th {\n",
       "        vertical-align: top;\n",
       "    }\n",
       "\n",
       "    .dataframe thead th {\n",
       "        text-align: right;\n",
       "    }\n",
       "</style>\n",
       "<table border=\"1\" class=\"dataframe\">\n",
       "  <thead>\n",
       "    <tr style=\"text-align: right;\">\n",
       "      <th></th>\n",
       "      <th>Unnamed: 0</th>\n",
       "      <th>operation</th>\n",
       "      <th>property_type</th>\n",
       "      <th>place_name</th>\n",
       "      <th>place_with_parent_names</th>\n",
       "      <th>country_name</th>\n",
       "      <th>state_name</th>\n",
       "      <th>geonames_id</th>\n",
       "      <th>lat</th>\n",
       "      <th>lon</th>\n",
       "      <th>...</th>\n",
       "      <th>price_aprox_usd</th>\n",
       "      <th>surface_total_in_m2</th>\n",
       "      <th>surface_covered_in_m2</th>\n",
       "      <th>price_usd_per_m2</th>\n",
       "      <th>price_per_m2</th>\n",
       "      <th>floor</th>\n",
       "      <th>rooms</th>\n",
       "      <th>expenses</th>\n",
       "      <th>description</th>\n",
       "      <th>title</th>\n",
       "    </tr>\n",
       "  </thead>\n",
       "  <tbody>\n",
       "    <tr>\n",
       "      <th>107390</th>\n",
       "      <td>107390</td>\n",
       "      <td>sell</td>\n",
       "      <td>house</td>\n",
       "      <td>San Roque</td>\n",
       "      <td>|Argentina|Mendoza|San Roque|</td>\n",
       "      <td>Argentina</td>\n",
       "      <td>Mendoza</td>\n",
       "      <td>3836586.0</td>\n",
       "      <td>NaN</td>\n",
       "      <td>NaN</td>\n",
       "      <td>...</td>\n",
       "      <td>22980378.29</td>\n",
       "      <td>NaN</td>\n",
       "      <td>NaN</td>\n",
       "      <td>NaN</td>\n",
       "      <td>NaN</td>\n",
       "      <td>NaN</td>\n",
       "      <td>NaN</td>\n",
       "      <td>NaN</td>\n",
       "      <td>Casa con CalefacciÃ³n central, Mendoza, San Ro...</td>\n",
       "      <td>Casa - San Vicente</td>\n",
       "    </tr>\n",
       "  </tbody>\n",
       "</table>\n",
       "<p>1 rows × 23 columns</p>\n",
       "</div>"
      ],
      "text/plain": [
       "        Unnamed: 0 operation property_type place_name  \\\n",
       "107390      107390      sell         house  San Roque   \n",
       "\n",
       "              place_with_parent_names country_name state_name  geonames_id  \\\n",
       "107390  |Argentina|Mendoza|San Roque|    Argentina    Mendoza    3836586.0   \n",
       "\n",
       "        lat  lon  ...  price_aprox_usd surface_total_in_m2  \\\n",
       "107390  NaN  NaN  ...      22980378.29                 NaN   \n",
       "\n",
       "        surface_covered_in_m2  price_usd_per_m2  price_per_m2  floor  rooms  \\\n",
       "107390                    NaN               NaN           NaN    NaN    NaN   \n",
       "\n",
       "        expenses                                        description  \\\n",
       "107390       NaN  Casa con CalefacciÃ³n central, Mendoza, San Ro...   \n",
       "\n",
       "                     title  \n",
       "107390  Casa - San Vicente  \n",
       "\n",
       "[1 rows x 23 columns]"
      ]
     },
     "execution_count": 12,
     "metadata": {},
     "output_type": "execute_result"
    }
   ],
   "source": [
    "mask_UYU = data_filt_2['currency'] == 'UYU'\n",
    "data_filt_2[mask_UYU]"
   ]
  },
  {
   "cell_type": "code",
   "execution_count": 13,
   "id": "0662423e",
   "metadata": {},
   "outputs": [
    {
     "data": {
      "text/html": [
       "<div>\n",
       "<style scoped>\n",
       "    .dataframe tbody tr th:only-of-type {\n",
       "        vertical-align: middle;\n",
       "    }\n",
       "\n",
       "    .dataframe tbody tr th {\n",
       "        vertical-align: top;\n",
       "    }\n",
       "\n",
       "    .dataframe thead th {\n",
       "        text-align: right;\n",
       "    }\n",
       "</style>\n",
       "<table border=\"1\" class=\"dataframe\">\n",
       "  <thead>\n",
       "    <tr style=\"text-align: right;\">\n",
       "      <th></th>\n",
       "      <th>Unnamed: 0</th>\n",
       "      <th>operation</th>\n",
       "      <th>property_type</th>\n",
       "      <th>place_name</th>\n",
       "      <th>place_with_parent_names</th>\n",
       "      <th>country_name</th>\n",
       "      <th>state_name</th>\n",
       "      <th>geonames_id</th>\n",
       "      <th>lat</th>\n",
       "      <th>lon</th>\n",
       "      <th>...</th>\n",
       "      <th>price_aprox_usd</th>\n",
       "      <th>surface_total_in_m2</th>\n",
       "      <th>surface_covered_in_m2</th>\n",
       "      <th>price_usd_per_m2</th>\n",
       "      <th>price_per_m2</th>\n",
       "      <th>floor</th>\n",
       "      <th>rooms</th>\n",
       "      <th>expenses</th>\n",
       "      <th>description</th>\n",
       "      <th>title</th>\n",
       "    </tr>\n",
       "  </thead>\n",
       "  <tbody>\n",
       "    <tr>\n",
       "      <th>50387</th>\n",
       "      <td>50387</td>\n",
       "      <td>sell</td>\n",
       "      <td>apartment</td>\n",
       "      <td>Capital Federal</td>\n",
       "      <td>|Argentina|Capital Federal|</td>\n",
       "      <td>Argentina</td>\n",
       "      <td>Capital Federal</td>\n",
       "      <td>3433955.0</td>\n",
       "      <td>NaN</td>\n",
       "      <td>NaN</td>\n",
       "      <td>...</td>\n",
       "      <td>117139.33</td>\n",
       "      <td>NaN</td>\n",
       "      <td>NaN</td>\n",
       "      <td>NaN</td>\n",
       "      <td>NaN</td>\n",
       "      <td>NaN</td>\n",
       "      <td>NaN</td>\n",
       "      <td>NaN</td>\n",
       "      <td>Ref.: 55:PREVENTA ::: OPORTUNIDAD ::: DÃºplex ...</td>\n",
       "      <td>DUPLEX A LA VENTA | Liniers 1200 | Tandil</td>\n",
       "    </tr>\n",
       "    <tr>\n",
       "      <th>50388</th>\n",
       "      <td>50388</td>\n",
       "      <td>sell</td>\n",
       "      <td>apartment</td>\n",
       "      <td>Capital Federal</td>\n",
       "      <td>|Argentina|Capital Federal|</td>\n",
       "      <td>Argentina</td>\n",
       "      <td>Capital Federal</td>\n",
       "      <td>3433955.0</td>\n",
       "      <td>NaN</td>\n",
       "      <td>NaN</td>\n",
       "      <td>...</td>\n",
       "      <td>292848.33</td>\n",
       "      <td>NaN</td>\n",
       "      <td>NaN</td>\n",
       "      <td>NaN</td>\n",
       "      <td>NaN</td>\n",
       "      <td>NaN</td>\n",
       "      <td>NaN</td>\n",
       "      <td>NaN</td>\n",
       "      <td>Ref.: 56Duplex en venta de 1 dormitorio con ap...</td>\n",
       "      <td>DUPLEX A LA VENTA | Liniers 1200 | Tandil</td>\n",
       "    </tr>\n",
       "  </tbody>\n",
       "</table>\n",
       "<p>2 rows × 23 columns</p>\n",
       "</div>"
      ],
      "text/plain": [
       "       Unnamed: 0 operation property_type       place_name  \\\n",
       "50387       50387      sell     apartment  Capital Federal   \n",
       "50388       50388      sell     apartment  Capital Federal   \n",
       "\n",
       "           place_with_parent_names country_name       state_name  geonames_id  \\\n",
       "50387  |Argentina|Capital Federal|    Argentina  Capital Federal    3433955.0   \n",
       "50388  |Argentina|Capital Federal|    Argentina  Capital Federal    3433955.0   \n",
       "\n",
       "       lat  lon  ...  price_aprox_usd surface_total_in_m2  \\\n",
       "50387  NaN  NaN  ...        117139.33                 NaN   \n",
       "50388  NaN  NaN  ...        292848.33                 NaN   \n",
       "\n",
       "       surface_covered_in_m2  price_usd_per_m2  price_per_m2  floor  rooms  \\\n",
       "50387                    NaN               NaN           NaN    NaN    NaN   \n",
       "50388                    NaN               NaN           NaN    NaN    NaN   \n",
       "\n",
       "       expenses                                        description  \\\n",
       "50387       NaN  Ref.: 55:PREVENTA ::: OPORTUNIDAD ::: DÃºplex ...   \n",
       "50388       NaN  Ref.: 56Duplex en venta de 1 dormitorio con ap...   \n",
       "\n",
       "                                           title  \n",
       "50387  DUPLEX A LA VENTA | Liniers 1200 | Tandil  \n",
       "50388  DUPLEX A LA VENTA | Liniers 1200 | Tandil  \n",
       "\n",
       "[2 rows x 23 columns]"
      ]
     },
     "execution_count": 13,
     "metadata": {},
     "output_type": "execute_result"
    }
   ],
   "source": [
    "mask_PEN = data_filt_2['currency'] == 'PEN'\n",
    "data_filt_2[mask_PEN]"
   ]
  },
  {
   "cell_type": "code",
   "execution_count": 14,
   "id": "021f6b94",
   "metadata": {},
   "outputs": [
    {
     "data": {
      "text/plain": [
       "array(['USD', nan, 'ARS'], dtype=object)"
      ]
     },
     "execution_count": 14,
     "metadata": {},
     "output_type": "execute_result"
    }
   ],
   "source": [
    "data_filt_3 = data_filt_2.drop(index = [107390, 50387, 50388])\n",
    "data_filt_3['currency'].unique()"
   ]
  },
  {
   "cell_type": "code",
   "execution_count": 18,
   "id": "fcec4cd6",
   "metadata": {},
   "outputs": [
    {
     "data": {
      "text/html": [
       "<div>\n",
       "<style scoped>\n",
       "    .dataframe tbody tr th:only-of-type {\n",
       "        vertical-align: middle;\n",
       "    }\n",
       "\n",
       "    .dataframe tbody tr th {\n",
       "        vertical-align: top;\n",
       "    }\n",
       "\n",
       "    .dataframe thead th {\n",
       "        text-align: right;\n",
       "    }\n",
       "</style>\n",
       "<table border=\"1\" class=\"dataframe\">\n",
       "  <thead>\n",
       "    <tr style=\"text-align: right;\">\n",
       "      <th></th>\n",
       "      <th>Unnamed: 0</th>\n",
       "      <th>operation</th>\n",
       "      <th>property_type</th>\n",
       "      <th>place_name</th>\n",
       "      <th>place_with_parent_names</th>\n",
       "      <th>country_name</th>\n",
       "      <th>state_name</th>\n",
       "      <th>geonames_id</th>\n",
       "      <th>lat</th>\n",
       "      <th>lon</th>\n",
       "      <th>...</th>\n",
       "      <th>price_aprox_usd</th>\n",
       "      <th>surface_total_in_m2</th>\n",
       "      <th>surface_covered_in_m2</th>\n",
       "      <th>price_usd_per_m2</th>\n",
       "      <th>price_per_m2</th>\n",
       "      <th>floor</th>\n",
       "      <th>rooms</th>\n",
       "      <th>expenses</th>\n",
       "      <th>description</th>\n",
       "      <th>title</th>\n",
       "    </tr>\n",
       "  </thead>\n",
       "  <tbody>\n",
       "    <tr>\n",
       "      <th>0</th>\n",
       "      <td>0</td>\n",
       "      <td>sell</td>\n",
       "      <td>PH</td>\n",
       "      <td>Mataderos</td>\n",
       "      <td>|Argentina|Capital Federal|Mataderos|</td>\n",
       "      <td>Argentina</td>\n",
       "      <td>Capital Federal</td>\n",
       "      <td>3430787.0</td>\n",
       "      <td>-34.661824</td>\n",
       "      <td>-58.508839</td>\n",
       "      <td>...</td>\n",
       "      <td>62000.0</td>\n",
       "      <td>55.0</td>\n",
       "      <td>40.0</td>\n",
       "      <td>1127.272727</td>\n",
       "      <td>1550.000000</td>\n",
       "      <td>NaN</td>\n",
       "      <td>NaN</td>\n",
       "      <td>NaN</td>\n",
       "      <td>2 AMBIENTES TIPO CASA PLANTA BAJA POR PASILLO,...</td>\n",
       "      <td>2 AMB TIPO CASA SIN EXPENSAS EN PB</td>\n",
       "    </tr>\n",
       "    <tr>\n",
       "      <th>1</th>\n",
       "      <td>1</td>\n",
       "      <td>sell</td>\n",
       "      <td>apartment</td>\n",
       "      <td>La Plata</td>\n",
       "      <td>|Argentina|Bs.As. G.B.A. Zona Sur|La Plata|</td>\n",
       "      <td>Argentina</td>\n",
       "      <td>Bs.As. G.B.A. Zona Sur</td>\n",
       "      <td>3432039.0</td>\n",
       "      <td>-34.903883</td>\n",
       "      <td>-57.964330</td>\n",
       "      <td>...</td>\n",
       "      <td>150000.0</td>\n",
       "      <td>NaN</td>\n",
       "      <td>NaN</td>\n",
       "      <td>NaN</td>\n",
       "      <td>NaN</td>\n",
       "      <td>NaN</td>\n",
       "      <td>NaN</td>\n",
       "      <td>NaN</td>\n",
       "      <td>Venta de departamento en dÃ©cimo piso al frent...</td>\n",
       "      <td>VENTA Depto 2 dorm. a estrenar 7 e/ 36 y 37   ...</td>\n",
       "    </tr>\n",
       "    <tr>\n",
       "      <th>2</th>\n",
       "      <td>2</td>\n",
       "      <td>sell</td>\n",
       "      <td>apartment</td>\n",
       "      <td>Mataderos</td>\n",
       "      <td>|Argentina|Capital Federal|Mataderos|</td>\n",
       "      <td>Argentina</td>\n",
       "      <td>Capital Federal</td>\n",
       "      <td>3430787.0</td>\n",
       "      <td>-34.652262</td>\n",
       "      <td>-58.522982</td>\n",
       "      <td>...</td>\n",
       "      <td>72000.0</td>\n",
       "      <td>55.0</td>\n",
       "      <td>55.0</td>\n",
       "      <td>1309.090909</td>\n",
       "      <td>1309.090909</td>\n",
       "      <td>NaN</td>\n",
       "      <td>NaN</td>\n",
       "      <td>NaN</td>\n",
       "      <td>2 AMBIENTES 3ER PISO LATERAL LIVING COMEDOR AM...</td>\n",
       "      <td>2 AMB 3ER PISO CON ASCENSOR APTO CREDITO</td>\n",
       "    </tr>\n",
       "    <tr>\n",
       "      <th>3</th>\n",
       "      <td>3</td>\n",
       "      <td>sell</td>\n",
       "      <td>PH</td>\n",
       "      <td>Liniers</td>\n",
       "      <td>|Argentina|Capital Federal|Liniers|</td>\n",
       "      <td>Argentina</td>\n",
       "      <td>Capital Federal</td>\n",
       "      <td>3431333.0</td>\n",
       "      <td>-34.647797</td>\n",
       "      <td>-58.516424</td>\n",
       "      <td>...</td>\n",
       "      <td>95000.0</td>\n",
       "      <td>NaN</td>\n",
       "      <td>NaN</td>\n",
       "      <td>NaN</td>\n",
       "      <td>NaN</td>\n",
       "      <td>NaN</td>\n",
       "      <td>NaN</td>\n",
       "      <td>NaN</td>\n",
       "      <td>PH 3 ambientes con patio. Hay 3 deptos en lote...</td>\n",
       "      <td>PH 3 amb. cfte. reciclado</td>\n",
       "    </tr>\n",
       "    <tr>\n",
       "      <th>4</th>\n",
       "      <td>4</td>\n",
       "      <td>sell</td>\n",
       "      <td>apartment</td>\n",
       "      <td>Centro</td>\n",
       "      <td>|Argentina|Buenos Aires Costa AtlÃ¡ntica|Mar d...</td>\n",
       "      <td>Argentina</td>\n",
       "      <td>Buenos Aires Costa AtlÃ¡ntica</td>\n",
       "      <td>3435548.0</td>\n",
       "      <td>-38.002626</td>\n",
       "      <td>-57.549447</td>\n",
       "      <td>...</td>\n",
       "      <td>64000.0</td>\n",
       "      <td>35.0</td>\n",
       "      <td>35.0</td>\n",
       "      <td>1828.571429</td>\n",
       "      <td>1828.571429</td>\n",
       "      <td>NaN</td>\n",
       "      <td>NaN</td>\n",
       "      <td>NaN</td>\n",
       "      <td>DEPARTAMENTO CON FANTÃSTICA ILUMINACIÃN NATU...</td>\n",
       "      <td>DEPTO 2 AMB AL CONTRAFRENTE ZONA CENTRO/PLAZA ...</td>\n",
       "    </tr>\n",
       "  </tbody>\n",
       "</table>\n",
       "<p>5 rows × 23 columns</p>\n",
       "</div>"
      ],
      "text/plain": [
       "   Unnamed: 0 operation property_type place_name  \\\n",
       "0           0      sell            PH  Mataderos   \n",
       "1           1      sell     apartment   La Plata   \n",
       "2           2      sell     apartment  Mataderos   \n",
       "3           3      sell            PH    Liniers   \n",
       "4           4      sell     apartment     Centro   \n",
       "\n",
       "                             place_with_parent_names country_name  \\\n",
       "0              |Argentina|Capital Federal|Mataderos|    Argentina   \n",
       "1        |Argentina|Bs.As. G.B.A. Zona Sur|La Plata|    Argentina   \n",
       "2              |Argentina|Capital Federal|Mataderos|    Argentina   \n",
       "3                |Argentina|Capital Federal|Liniers|    Argentina   \n",
       "4  |Argentina|Buenos Aires Costa AtlÃ¡ntica|Mar d...    Argentina   \n",
       "\n",
       "                      state_name  geonames_id        lat        lon  ...  \\\n",
       "0                Capital Federal    3430787.0 -34.661824 -58.508839  ...   \n",
       "1         Bs.As. G.B.A. Zona Sur    3432039.0 -34.903883 -57.964330  ...   \n",
       "2                Capital Federal    3430787.0 -34.652262 -58.522982  ...   \n",
       "3                Capital Federal    3431333.0 -34.647797 -58.516424  ...   \n",
       "4  Buenos Aires Costa AtlÃ¡ntica    3435548.0 -38.002626 -57.549447  ...   \n",
       "\n",
       "   price_aprox_usd surface_total_in_m2  surface_covered_in_m2  \\\n",
       "0          62000.0                55.0                   40.0   \n",
       "1         150000.0                 NaN                    NaN   \n",
       "2          72000.0                55.0                   55.0   \n",
       "3          95000.0                 NaN                    NaN   \n",
       "4          64000.0                35.0                   35.0   \n",
       "\n",
       "   price_usd_per_m2  price_per_m2  floor  rooms  expenses  \\\n",
       "0       1127.272727   1550.000000    NaN    NaN       NaN   \n",
       "1               NaN           NaN    NaN    NaN       NaN   \n",
       "2       1309.090909   1309.090909    NaN    NaN       NaN   \n",
       "3               NaN           NaN    NaN    NaN       NaN   \n",
       "4       1828.571429   1828.571429    NaN    NaN       NaN   \n",
       "\n",
       "                                         description  \\\n",
       "0  2 AMBIENTES TIPO CASA PLANTA BAJA POR PASILLO,...   \n",
       "1  Venta de departamento en dÃ©cimo piso al frent...   \n",
       "2  2 AMBIENTES 3ER PISO LATERAL LIVING COMEDOR AM...   \n",
       "3  PH 3 ambientes con patio. Hay 3 deptos en lote...   \n",
       "4  DEPARTAMENTO CON FANTÃSTICA ILUMINACIÃN NATU...   \n",
       "\n",
       "                                               title  \n",
       "0                 2 AMB TIPO CASA SIN EXPENSAS EN PB  \n",
       "1  VENTA Depto 2 dorm. a estrenar 7 e/ 36 y 37   ...  \n",
       "2           2 AMB 3ER PISO CON ASCENSOR APTO CREDITO  \n",
       "3                       PH 3 amb. cfte. reciclado     \n",
       "4  DEPTO 2 AMB AL CONTRAFRENTE ZONA CENTRO/PLAZA ...  \n",
       "\n",
       "[5 rows x 23 columns]"
      ]
     },
     "execution_count": 18,
     "metadata": {},
     "output_type": "execute_result"
    }
   ],
   "source": [
    "#Eliminacion de duplicados con igual latitud, longitud y descripcion:\n",
    "data_filt_4 = data_filt_3.drop_duplicates(subset = ['description', 'lat', 'lon'], keep = 'first')\n",
    "data_filt_4.describe()\n",
    "data_filt_4.head(5)"
   ]
  },
  {
   "cell_type": "code",
   "execution_count": 49,
   "id": "d78764ff",
   "metadata": {},
   "outputs": [
    {
     "name": "stdout",
     "output_type": "stream",
     "text": [
      "count    9.015200e+04\n",
      "mean     2.453367e+05\n",
      "std      3.946684e+05\n",
      "min      0.000000e+00\n",
      "25%      9.000000e+04\n",
      "50%      1.500000e+05\n",
      "75%      2.750000e+05\n",
      "max      4.654544e+07\n",
      "Name: price_aprox_usd, dtype: float64\n"
     ]
    }
   ],
   "source": [
    "#Analisis de outliers sobre la columna de precios 'price_aprox_usd':\n",
    "price_aprox_usd_describe = data_filt_4['price_aprox_usd'].describe()\n",
    "print(price_aprox_usd_describe)"
   ]
  },
  {
   "cell_type": "code",
   "execution_count": 50,
   "id": "4466dc1f",
   "metadata": {},
   "outputs": [
    {
     "name": "stdout",
     "output_type": "stream",
     "text": [
      "90114.0\n",
      "197668.34570791555\n",
      "304917.08987117035\n",
      "627121.7246779259\n",
      "-232090.63480675552\n"
     ]
    }
   ],
   "source": [
    "q1 = price_aprox_usd_describe.quantile(0.25)\n",
    "print(q1)\n",
    "q2 = price_aprox_usd_describe.quantile(0.5)\n",
    "print(q2)\n",
    "q3 = price_aprox_usd_describe.quantile(0.75)\n",
    "print(q3)\n",
    "\n",
    "iqr = (q3 - q1) * 1.5\n",
    "\n",
    "up_threshold = q3 + iqr\n",
    "low_threshold = q1 - iqr\n",
    "\n",
    "print(up_threshold)\n",
    "print(low_threshold)\n",
    "\n",
    "outlier_mask_up = price_aprox_usd_describe > up_threshold\n",
    "outlier_mask_down = price_aprox_usd_describe < low_threshold\n",
    "outlier_mask = np.logical_or(outlier_mask_up, outlier_mask_down)\n",
    "not_outliers = np.logical_not(outlier_mask)\n",
    "\n",
    "outliers = price_aprox_usd_describe[outlier_mask]\n"
   ]
  },
  {
   "cell_type": "code",
   "execution_count": 51,
   "id": "c30f8795",
   "metadata": {},
   "outputs": [
    {
     "data": {
      "text/plain": [
       "count         7.000000\n",
       "mean     177879.578700\n",
       "std      134670.943171\n",
       "min           0.000000\n",
       "25%       90076.000000\n",
       "50%      150000.000000\n",
       "75%      260168.345708\n",
       "max      394668.359485\n",
       "Name: price_aprox_usd, dtype: float64"
      ]
     },
     "execution_count": 51,
     "metadata": {},
     "output_type": "execute_result"
    }
   ],
   "source": [
    "price_aprox_usd_describe_filt = price_aprox_usd_describe[not_outliers]\n",
    "price_aprox_usd_describe_filt.describe()"
   ]
  },
  {
   "cell_type": "code",
   "execution_count": 52,
   "id": "7079405b",
   "metadata": {},
   "outputs": [
    {
     "data": {
      "text/plain": [
       "<AxesSubplot:>"
      ]
     },
     "execution_count": 52,
     "metadata": {},
     "output_type": "execute_result"
    },
    {
     "data": {
      "image/png": "[encoded data removed]",
      "text/plain": [
       "<Figure size 432x288 with 1 Axes>"
      ]
     },
     "metadata": {
      "needs_background": "light"
     },
     "output_type": "display_data"
    }
   ],
   "source": [
    "sns.boxplot(x= price_aprox_usd_describe.values)"
   ]
  },
  {
   "cell_type": "code",
   "execution_count": 53,
   "id": "3a337bf5",
   "metadata": {},
   "outputs": [
    {
     "data": {
      "text/plain": [
       "<AxesSubplot:>"
      ]
     },
     "execution_count": 53,
     "metadata": {},
     "output_type": "execute_result"
    },
    {
     "data": {
      "image/png": "[encoded data removed]",
      "text/plain": [
       "<Figure size 432x288 with 1 Axes>"
      ]
     },
     "metadata": {
      "needs_background": "light"
     },
     "output_type": "display_data"
    }
   ],
   "source": [
    "sns.boxplot(x= price_aprox_usd_describe_filt.values)"
   ]
  },
  {
   "cell_type": "code",
   "execution_count": 54,
   "id": "7f1fbd1e",
   "metadata": {},
   "outputs": [
    {
     "data": {
      "text/plain": [
       "22.25533515088841"
      ]
     },
     "execution_count": 54,
     "metadata": {},
     "output_type": "execute_result"
    }
   ],
   "source": [
    "#Imputacion precio 'price_usd_per_m2':\n",
    "data_filt_4['price_usd_per_m2_clean'] = data_filt_4['price_usd_per_m2']\n",
    "mask_price_null = data_filt_4['price_usd_per_m2'].isnull()\n",
    "#Sumamos cantidad de nulos\n",
    "(data_filt_4.loc[mask_price_null, 'price_usd_per_m2_clean']).isnull().sum()\n",
    "#Imputamos\n",
    "data_filt_4.loc[mask_price_null, 'price_usd_per_m2_clean'] = (data_filt_4.loc[mask_price_null , 'price'] / data_filt_4.loc[mask_price_null , 'surface_covered_in_m2'])\n",
    "#Calculo de %\n",
    "data_filt_4.loc[:, 'price_usd_per_m2_clean'].isnull().sum() / data_filt_4.shape[0] * 100"
   ]
  },
  {
   "cell_type": "code",
   "execution_count": 55,
   "id": "25464176",
   "metadata": {},
   "outputs": [
    {
     "name": "stdout",
     "output_type": "stream",
     "text": [
      "90114.0\n",
      "197668.34570791555\n",
      "304917.08987117035\n",
      "98338.5250492992\n",
      "-56354.226140779516\n"
     ]
    }
   ],
   "source": [
    "#Analisis de outliers sobre la columna 'price_usd_per_m2_clean'\n",
    "price_usd_per_m2_clean_describe = data_filt_4['price_usd_per_m2_clean'].describe()\n",
    "price_usd_per_m2_clean_describe\n",
    "\n",
    "q1_price_clean = price_usd_per_m2_clean_describe.quantile(0.25)\n",
    "print(q1)\n",
    "q2_price_clean = price_usd_per_m2_clean_describe.quantile(0.5)\n",
    "print(q2)\n",
    "q3_price_clean = price_usd_per_m2_clean_describe.quantile(0.75)\n",
    "print(q3)\n",
    "\n",
    "\n",
    "iqr_price_clean = (q3_price_clean - q1_price_clean) * 1.5\n",
    "\n",
    "up_threshold_price_clean = q3_price_clean + iqr_price_clean\n",
    "low_threshold_price_clean = q1_price_clean - iqr_price_clean\n",
    "\n",
    "print(up_threshold_price_clean)\n",
    "print(low_threshold_price_clean)\n",
    "\n",
    "outlier_mask_up_2 = price_usd_per_m2_clean_describe > up_threshold_price_clean\n",
    "outlier_mask_down_2 = price_usd_per_m2_clean_describe < low_threshold_price_clean\n",
    "outlier_mask_2 = np.logical_or(outlier_mask_up_2, outlier_mask_down_2)\n",
    "not_outliers_2 = np.logical_not(outlier_mask_2)\n",
    "\n",
    "outliers_2 = price_usd_per_m2_clean_describe[outlier_mask_2]"
   ]
  },
  {
   "cell_type": "code",
   "execution_count": 56,
   "id": "089eec5e",
   "metadata": {},
   "outputs": [
    {
     "data": {
      "text/plain": [
       "count        7.000000\n",
       "mean     16857.868798\n",
       "std      30441.159581\n",
       "min          0.600000\n",
       "25%       1511.111111\n",
       "50%       2520.498447\n",
       "75%      14882.380457\n",
       "max      82697.000000\n",
       "Name: price_usd_per_m2_clean, dtype: float64"
      ]
     },
     "execution_count": 56,
     "metadata": {},
     "output_type": "execute_result"
    }
   ],
   "source": [
    "price_usd_per_m2_clean_filtered = price_usd_per_m2_clean_describe[not_outliers]\n",
    "price_usd_per_m2_clean_filtered.describe()"
   ]
  },
  {
   "cell_type": "code",
   "execution_count": 57,
   "id": "fbac5df0",
   "metadata": {},
   "outputs": [
    {
     "data": {
      "text/plain": [
       "<AxesSubplot:>"
      ]
     },
     "execution_count": 57,
     "metadata": {},
     "output_type": "execute_result"
    },
    {
     "data": {
      "image/png": "[encoded data removed]",
      "text/plain": [
       "<Figure size 432x288 with 1 Axes>"
      ]
     },
     "metadata": {
      "needs_background": "light"
     },
     "output_type": "display_data"
    }
   ],
   "source": [
    "sns.boxplot(x = price_usd_per_m2_clean_describe.values)"
   ]
  },
  {
   "cell_type": "code",
   "execution_count": 58,
   "id": "cc149bde",
   "metadata": {},
   "outputs": [
    {
     "data": {
      "text/plain": [
       "<AxesSubplot:>"
      ]
     },
     "execution_count": 58,
     "metadata": {},
     "output_type": "execute_result"
    },
    {
     "data": {
      "image/png": "[encoded data removed]",
      "text/plain": [
       "<Figure size 432x288 with 1 Axes>"
      ]
     },
     "metadata": {
      "needs_background": "light"
     },
     "output_type": "display_data"
    }
   ],
   "source": [
    "sns.boxplot(x = price_usd_per_m2_clean_filtered.values)"
   ]
  },
  {
   "cell_type": "markdown",
   "id": "30d5dc94",
   "metadata": {},
   "source": [
    "### <i> Limpieza con REGEX: <i>"
   ]
  },
  {
   "cell_type": "code",
   "execution_count": 62,
   "id": "b484593b",
   "metadata": {},
   "outputs": [
    {
     "data": {
      "text/plain": [
       "'Venta de departamento en dÃ©cimo piso al frente, a estrenar. Living comedor con ventanales hacia el balcÃ³n con pisos de madera. Cocina completa con doble mesada, muebles bajo mesada. Lavadero separado. Toilette.Dormitorio con placard. Segundo dormitorio a dividir. CalefacciÃ³n por radiadorBaÃ±o completo.BalcÃ³n corrido. Posibilidad de cochera semicubierta. U$D 20.000                     Aviso publicado por Pixel Inmobiliario (Servicio de PÃ¡ginas Web para Inmobiliarias).'"
      ]
     },
     "execution_count": 62,
     "metadata": {},
     "output_type": "execute_result"
    }
   ],
   "source": [
    "data_filt_4['description'][1]"
   ]
  },
  {
   "cell_type": "code",
   "execution_count": 91,
   "id": "80c5e188",
   "metadata": {},
   "outputs": [
    {
     "name": "stdout",
     "output_type": "stream",
     "text": [
      "7         <re.Match object; span=(102, 108), match='PILE...\n",
      "8         <re.Match object; span=(102, 108), match='PILE...\n",
      "13        <re.Match object; span=(101, 108), match='Pisc...\n",
      "14        <re.Match object; span=(76, 83), match='Piscina'>\n",
      "18        <re.Match object; span=(421, 428), match='Pisc...\n",
      "                                ...                        \n",
      "121155    <re.Match object; span=(263, 269), match='pile...\n",
      "121211    <re.Match object; span=(458, 464), match='pile...\n",
      "121212    <re.Match object; span=(601, 607), match='pile...\n",
      "121213    <re.Match object; span=(269, 275), match='pile...\n",
      "121215    <re.Match object; span=(292, 298), match='pile...\n",
      "Name: description, Length: 28254, dtype: object\n"
     ]
    }
   ],
   "source": [
    "#REGEX Piletas:\n",
    "pileta_pattern = \"pileta|picina|pisina|piscina\"\n",
    "pileta_regex = re.compile(pileta_pattern, re.I)\n",
    "pileta_matches = data_filt_4['description'].apply(lambda x: x if x is np.NaN else pileta_regex.search(x))\n",
    "pileta_mask = pileta_matches.notnull()\n",
    "pilteta_mask_sum = pileta_matches.notnull().sum\n",
    "pileta_description = pileta_matches.loc[pileta_mask]\n",
    "print(pileta_description)"
   ]
  },
  {
   "cell_type": "code",
   "execution_count": 92,
   "id": "af016a50",
   "metadata": {},
   "outputs": [
    {
     "data": {
      "text/plain": [
       "' Torre I Mondrian. 3 ambientes con terraza y dos baÃ±os al frente.Vitraux ofrece en el ultimo nivel, Piscina con Solarium, un espacio con Sala de ReuniÃ³n para uso profesional, eventos o proyecciones con un amplio Foyer, Sauna, Gimnasio, un SalÃ³n de Usos MÃºltiples con cocina y una amplia expansiÃ³n. Asimismo cuenta con un Hall en Doble altura y un amplio Estar que balconea al mismo en el primer piso.AsÃ\\xad destaca la Excelente RelaciÃ³n de espacios de uso comÃºn sobre el metro propio, sobre todo en Studios que rondan los 30 metros propios y pueden gozar de todos los diferentes usos especiales.'"
      ]
     },
     "execution_count": 92,
     "metadata": {},
     "output_type": "execute_result"
    }
   ],
   "source": [
    "pileta_description.iloc[2].string"
   ]
  },
  {
   "cell_type": "code",
   "execution_count": 93,
   "id": "ade149d7",
   "metadata": {},
   "outputs": [
    {
     "name": "stdout",
     "output_type": "stream",
     "text": [
      "28254\n",
      "27812\n"
     ]
    }
   ],
   "source": [
    "description_to_replace = [x.string for x in pileta_description]\n",
    "print(len(description_to_replace))\n",
    "description_to_replace_unique = list(set(description_to_replace))\n",
    "print(len(description_to_replace_unique))"
   ]
  },
  {
   "cell_type": "code",
   "execution_count": 94,
   "id": "4018ffa5",
   "metadata": {},
   "outputs": [
    {
     "data": {
      "text/html": [
       "<div>\n",
       "<style scoped>\n",
       "    .dataframe tbody tr th:only-of-type {\n",
       "        vertical-align: middle;\n",
       "    }\n",
       "\n",
       "    .dataframe tbody tr th {\n",
       "        vertical-align: top;\n",
       "    }\n",
       "\n",
       "    .dataframe thead th {\n",
       "        text-align: right;\n",
       "    }\n",
       "</style>\n",
       "<table border=\"1\" class=\"dataframe\">\n",
       "  <thead>\n",
       "    <tr style=\"text-align: right;\">\n",
       "      <th></th>\n",
       "      <th>description</th>\n",
       "      <th>pileta</th>\n",
       "    </tr>\n",
       "  </thead>\n",
       "  <tbody>\n",
       "    <tr>\n",
       "      <th>0</th>\n",
       "      <td>2 AMBIENTES TIPO CASA PLANTA BAJA POR PASILLO,...</td>\n",
       "      <td></td>\n",
       "    </tr>\n",
       "    <tr>\n",
       "      <th>1</th>\n",
       "      <td>Venta de departamento en dÃ©cimo piso al frent...</td>\n",
       "      <td></td>\n",
       "    </tr>\n",
       "    <tr>\n",
       "      <th>2</th>\n",
       "      <td>2 AMBIENTES 3ER PISO LATERAL LIVING COMEDOR AM...</td>\n",
       "      <td></td>\n",
       "    </tr>\n",
       "    <tr>\n",
       "      <th>3</th>\n",
       "      <td>PH 3 ambientes con patio. Hay 3 deptos en lote...</td>\n",
       "      <td></td>\n",
       "    </tr>\n",
       "    <tr>\n",
       "      <th>4</th>\n",
       "      <td>DEPARTAMENTO CON FANTÃSTICA ILUMINACIÃN NATU...</td>\n",
       "      <td></td>\n",
       "    </tr>\n",
       "  </tbody>\n",
       "</table>\n",
       "</div>"
      ],
      "text/plain": [
       "                                         description pileta\n",
       "0  2 AMBIENTES TIPO CASA PLANTA BAJA POR PASILLO,...       \n",
       "1  Venta de departamento en dÃ©cimo piso al frent...       \n",
       "2  2 AMBIENTES 3ER PISO LATERAL LIVING COMEDOR AM...       \n",
       "3  PH 3 ambientes con patio. Hay 3 deptos en lote...       \n",
       "4  DEPARTAMENTO CON FANTÃSTICA ILUMINACIÃN NATU...       "
      ]
     },
     "execution_count": 94,
     "metadata": {},
     "output_type": "execute_result"
    }
   ],
   "source": [
    "#Creacion de nuevas columnas:\n",
    "data_filt_4['pileta'] = ''\n",
    "data_filt_4['cochera'] = ''\n",
    "\n",
    "data_filt_4.loc[pileta_mask, 'pileta'] = 1\n",
    "data_filt_4[['description','pileta']].head(5)\n"
   ]
  },
  {
   "cell_type": "code",
   "execution_count": 95,
   "id": "9593d979",
   "metadata": {},
   "outputs": [
    {
     "name": "stdout",
     "output_type": "stream",
     "text": [
      "1         <re.Match object; span=(338, 345), match='coch...\n",
      "10        <re.Match object; span=(75, 82), match='cochera'>\n",
      "15        <re.Match object; span=(141, 148), match='coch...\n",
      "17        <re.Match object; span=(385, 392), match='Coch...\n",
      "23        <re.Match object; span=(422, 429), match='coch...\n",
      "                                ...                        \n",
      "121210    <re.Match object; span=(213, 220), match='Coch...\n",
      "121211    <re.Match object; span=(334, 341), match='coch...\n",
      "121214    <re.Match object; span=(180, 187), match='Coch...\n",
      "121215    <re.Match object; span=(206, 213), match='Coch...\n",
      "121217    <re.Match object; span=(564, 571), match='COCH...\n",
      "Name: description, Length: 43763, dtype: object\n"
     ]
    }
   ],
   "source": [
    "#REGEX Cochera:\n",
    "cochera_pattern = \"cochera|garage\"\n",
    "cochera_regex = re.compile(cochera_pattern, re.I)\n",
    "cochera_matches = data_filt_4['description'].apply(lambda x: x if x is np.NaN else cochera_regex.search(x))\n",
    "cochera_mask = cochera_matches.notnull()\n",
    "cochera_mask_sum = cochera_mask.notnull().sum\n",
    "cochera_description = cochera_matches.loc[cochera_mask]\n",
    "print(cochera_description)"
   ]
  },
  {
   "cell_type": "code",
   "execution_count": 96,
   "id": "c02e1e66",
   "metadata": {},
   "outputs": [
    {
     "data": {
      "text/plain": [
       "'Venta de departamento en dÃ©cimo piso al frente, a estrenar. Living comedor con ventanales hacia el balcÃ³n con pisos de madera. Cocina completa con doble mesada, muebles bajo mesada. Lavadero separado. Toilette.Dormitorio con placard. Segundo dormitorio a dividir. CalefacciÃ³n por radiadorBaÃ±o completo.BalcÃ³n corrido. Posibilidad de cochera semicubierta. U$D 20.000                     Aviso publicado por Pixel Inmobiliario (Servicio de PÃ¡ginas Web para Inmobiliarias).'"
      ]
     },
     "execution_count": 96,
     "metadata": {},
     "output_type": "execute_result"
    }
   ],
   "source": [
    "cochera_description.iloc[0].string"
   ]
  },
  {
   "cell_type": "code",
   "execution_count": 97,
   "id": "60c3f747",
   "metadata": {},
   "outputs": [
    {
     "name": "stdout",
     "output_type": "stream",
     "text": [
      "43763\n",
      "43191\n"
     ]
    }
   ],
   "source": [
    "description_to_replace_cochera= [x.string for x in cochera_description]\n",
    "print(len(description_to_replace_cochera))\n",
    "description_to_replace_unique_cochera = list(set(description_to_replace_cochera))\n",
    "print(len(description_to_replace_unique_cochera))"
   ]
  },
  {
   "cell_type": "code",
   "execution_count": 99,
   "id": "46f57293",
   "metadata": {},
   "outputs": [
    {
     "data": {
      "text/html": [
       "<div>\n",
       "<style scoped>\n",
       "    .dataframe tbody tr th:only-of-type {\n",
       "        vertical-align: middle;\n",
       "    }\n",
       "\n",
       "    .dataframe tbody tr th {\n",
       "        vertical-align: top;\n",
       "    }\n",
       "\n",
       "    .dataframe thead th {\n",
       "        text-align: right;\n",
       "    }\n",
       "</style>\n",
       "<table border=\"1\" class=\"dataframe\">\n",
       "  <thead>\n",
       "    <tr style=\"text-align: right;\">\n",
       "      <th></th>\n",
       "      <th>description</th>\n",
       "      <th>pileta</th>\n",
       "      <th>cochera</th>\n",
       "    </tr>\n",
       "  </thead>\n",
       "  <tbody>\n",
       "    <tr>\n",
       "      <th>0</th>\n",
       "      <td>2 AMBIENTES TIPO CASA PLANTA BAJA POR PASILLO,...</td>\n",
       "      <td></td>\n",
       "      <td></td>\n",
       "    </tr>\n",
       "    <tr>\n",
       "      <th>1</th>\n",
       "      <td>Venta de departamento en dÃ©cimo piso al frent...</td>\n",
       "      <td></td>\n",
       "      <td>1</td>\n",
       "    </tr>\n",
       "    <tr>\n",
       "      <th>2</th>\n",
       "      <td>2 AMBIENTES 3ER PISO LATERAL LIVING COMEDOR AM...</td>\n",
       "      <td></td>\n",
       "      <td></td>\n",
       "    </tr>\n",
       "    <tr>\n",
       "      <th>3</th>\n",
       "      <td>PH 3 ambientes con patio. Hay 3 deptos en lote...</td>\n",
       "      <td></td>\n",
       "      <td></td>\n",
       "    </tr>\n",
       "    <tr>\n",
       "      <th>4</th>\n",
       "      <td>DEPARTAMENTO CON FANTÃSTICA ILUMINACIÃN NATU...</td>\n",
       "      <td></td>\n",
       "      <td></td>\n",
       "    </tr>\n",
       "  </tbody>\n",
       "</table>\n",
       "</div>"
      ],
      "text/plain": [
       "                                         description pileta cochera\n",
       "0  2 AMBIENTES TIPO CASA PLANTA BAJA POR PASILLO,...               \n",
       "1  Venta de departamento en dÃ©cimo piso al frent...              1\n",
       "2  2 AMBIENTES 3ER PISO LATERAL LIVING COMEDOR AM...               \n",
       "3  PH 3 ambientes con patio. Hay 3 deptos en lote...               \n",
       "4  DEPARTAMENTO CON FANTÃSTICA ILUMINACIÃN NATU...               "
      ]
     },
     "execution_count": 99,
     "metadata": {},
     "output_type": "execute_result"
    }
   ],
   "source": [
    "data_filt_4.loc[cochera_mask, 'cochera'] = 1\n",
    "data_filt_4[['description','pileta','cochera']].head(5)"
   ]
  },
  {
   "cell_type": "code",
   "execution_count": null,
   "id": "007ff038",
   "metadata": {},
   "outputs": [],
   "source": []
  }
 ],
 "metadata": {
  "kernelspec": {
   "display_name": "Python 3",
   "language": "python",
   "name": "python3"
  },
  "language_info": {
   "codemirror_mode": {
    "name": "ipython",
    "version": 3
   },
   "file_extension": ".py",
   "mimetype": "text/x-python",
   "name": "python",
   "nbconvert_exporter": "python",
   "pygments_lexer": "ipython3",
   "version": "3.8.8"
  }
 },
 "nbformat": 4,
 "nbformat_minor": 5
}
