{
 "cells": [
  {
   "cell_type": "code",
   "execution_count": 405,
   "id": "f095fe28",
   "metadata": {},
   "outputs": [
    {
     "data": {
      "text/html": [
       "<div>\n",
       "<style scoped>\n",
       "    .dataframe tbody tr th:only-of-type {\n",
       "        vertical-align: middle;\n",
       "    }\n",
       "\n",
       "    .dataframe tbody tr th {\n",
       "        vertical-align: top;\n",
       "    }\n",
       "\n",
       "    .dataframe thead th {\n",
       "        text-align: right;\n",
       "    }\n",
       "</style>\n",
       "<table border=\"1\" class=\"dataframe\">\n",
       "  <thead>\n",
       "    <tr style=\"text-align: right;\">\n",
       "      <th></th>\n",
       "      <th>Unnamed: 0</th>\n",
       "      <th>operation</th>\n",
       "      <th>property_type</th>\n",
       "      <th>place_name</th>\n",
       "      <th>place_with_parent_names</th>\n",
       "      <th>country_name</th>\n",
       "      <th>state_name</th>\n",
       "      <th>geonames_id</th>\n",
       "      <th>lat-lon</th>\n",
       "      <th>lat</th>\n",
       "      <th>lon</th>\n",
       "      <th>price</th>\n",
       "      <th>currency</th>\n",
       "      <th>price_aprox_local_currency</th>\n",
       "      <th>price_aprox_usd</th>\n",
       "      <th>surface_total_in_m2</th>\n",
       "      <th>surface_covered_in_m2</th>\n",
       "      <th>price_usd_per_m2</th>\n",
       "      <th>price_per_m2</th>\n",
       "      <th>floor</th>\n",
       "      <th>rooms</th>\n",
       "      <th>expenses</th>\n",
       "      <th>properati_url</th>\n",
       "      <th>description</th>\n",
       "      <th>title</th>\n",
       "      <th>image_thumbnail</th>\n",
       "    </tr>\n",
       "  </thead>\n",
       "  <tbody>\n",
       "    <tr>\n",
       "      <th>0</th>\n",
       "      <td>0</td>\n",
       "      <td>sell</td>\n",
       "      <td>PH</td>\n",
       "      <td>Mataderos</td>\n",
       "      <td>|Argentina|Capital Federal|Mataderos|</td>\n",
       "      <td>Argentina</td>\n",
       "      <td>Capital Federal</td>\n",
       "      <td>3430787.0</td>\n",
       "      <td>-34.6618237,-58.5088387</td>\n",
       "      <td>-34.661824</td>\n",
       "      <td>-58.508839</td>\n",
       "      <td>62000.0</td>\n",
       "      <td>USD</td>\n",
       "      <td>1093959.0</td>\n",
       "      <td>62000.0</td>\n",
       "      <td>55.0</td>\n",
       "      <td>40.0</td>\n",
       "      <td>1127.272727</td>\n",
       "      <td>1550.000000</td>\n",
       "      <td>NaN</td>\n",
       "      <td>NaN</td>\n",
       "      <td>NaN</td>\n",
       "      <td>http://www.properati.com.ar/15bo8_venta_ph_mat...</td>\n",
       "      <td>2 AMBIENTES TIPO CASA PLANTA BAJA POR PASILLO,...</td>\n",
       "      <td>2 AMB TIPO CASA SIN EXPENSAS EN PB</td>\n",
       "      <td>https://thumbs4.properati.com/8/BluUYiHJLhgIIK...</td>\n",
       "    </tr>\n",
       "    <tr>\n",
       "      <th>1</th>\n",
       "      <td>1</td>\n",
       "      <td>sell</td>\n",
       "      <td>apartment</td>\n",
       "      <td>La Plata</td>\n",
       "      <td>|Argentina|Bs.As. G.B.A. Zona Sur|La Plata|</td>\n",
       "      <td>Argentina</td>\n",
       "      <td>Bs.As. G.B.A. Zona Sur</td>\n",
       "      <td>3432039.0</td>\n",
       "      <td>-34.9038831,-57.9643295</td>\n",
       "      <td>-34.903883</td>\n",
       "      <td>-57.964330</td>\n",
       "      <td>150000.0</td>\n",
       "      <td>USD</td>\n",
       "      <td>2646675.0</td>\n",
       "      <td>150000.0</td>\n",
       "      <td>NaN</td>\n",
       "      <td>NaN</td>\n",
       "      <td>NaN</td>\n",
       "      <td>NaN</td>\n",
       "      <td>NaN</td>\n",
       "      <td>NaN</td>\n",
       "      <td>NaN</td>\n",
       "      <td>http://www.properati.com.ar/15bob_venta_depart...</td>\n",
       "      <td>Venta de departamento en décimo piso al frente...</td>\n",
       "      <td>VENTA Depto 2 dorm. a estrenar 7 e/ 36 y 37   ...</td>\n",
       "      <td>https://thumbs4.properati.com/7/ikpVBu2ztHA7jv...</td>\n",
       "    </tr>\n",
       "    <tr>\n",
       "      <th>2</th>\n",
       "      <td>2</td>\n",
       "      <td>sell</td>\n",
       "      <td>apartment</td>\n",
       "      <td>Mataderos</td>\n",
       "      <td>|Argentina|Capital Federal|Mataderos|</td>\n",
       "      <td>Argentina</td>\n",
       "      <td>Capital Federal</td>\n",
       "      <td>3430787.0</td>\n",
       "      <td>-34.6522615,-58.5229825</td>\n",
       "      <td>-34.652262</td>\n",
       "      <td>-58.522982</td>\n",
       "      <td>72000.0</td>\n",
       "      <td>USD</td>\n",
       "      <td>1270404.0</td>\n",
       "      <td>72000.0</td>\n",
       "      <td>55.0</td>\n",
       "      <td>55.0</td>\n",
       "      <td>1309.090909</td>\n",
       "      <td>1309.090909</td>\n",
       "      <td>NaN</td>\n",
       "      <td>NaN</td>\n",
       "      <td>NaN</td>\n",
       "      <td>http://www.properati.com.ar/15bod_venta_depart...</td>\n",
       "      <td>2 AMBIENTES 3ER PISO LATERAL LIVING COMEDOR AM...</td>\n",
       "      <td>2 AMB 3ER PISO CON ASCENSOR APTO CREDITO</td>\n",
       "      <td>https://thumbs4.properati.com/5/SXKr34F_IwG3W_...</td>\n",
       "    </tr>\n",
       "  </tbody>\n",
       "</table>\n",
       "</div>"
      ],
      "text/plain": [
       "   Unnamed: 0 operation property_type place_name  \\\n",
       "0           0      sell            PH  Mataderos   \n",
       "1           1      sell     apartment   La Plata   \n",
       "2           2      sell     apartment  Mataderos   \n",
       "\n",
       "                       place_with_parent_names country_name  \\\n",
       "0        |Argentina|Capital Federal|Mataderos|    Argentina   \n",
       "1  |Argentina|Bs.As. G.B.A. Zona Sur|La Plata|    Argentina   \n",
       "2        |Argentina|Capital Federal|Mataderos|    Argentina   \n",
       "\n",
       "               state_name  geonames_id                  lat-lon        lat  \\\n",
       "0         Capital Federal    3430787.0  -34.6618237,-58.5088387 -34.661824   \n",
       "1  Bs.As. G.B.A. Zona Sur    3432039.0  -34.9038831,-57.9643295 -34.903883   \n",
       "2         Capital Federal    3430787.0  -34.6522615,-58.5229825 -34.652262   \n",
       "\n",
       "         lon     price currency  price_aprox_local_currency  price_aprox_usd  \\\n",
       "0 -58.508839   62000.0      USD                   1093959.0          62000.0   \n",
       "1 -57.964330  150000.0      USD                   2646675.0         150000.0   \n",
       "2 -58.522982   72000.0      USD                   1270404.0          72000.0   \n",
       "\n",
       "   surface_total_in_m2  surface_covered_in_m2  price_usd_per_m2  price_per_m2  \\\n",
       "0                 55.0                   40.0       1127.272727   1550.000000   \n",
       "1                  NaN                    NaN               NaN           NaN   \n",
       "2                 55.0                   55.0       1309.090909   1309.090909   \n",
       "\n",
       "   floor  rooms  expenses                                      properati_url  \\\n",
       "0    NaN    NaN       NaN  http://www.properati.com.ar/15bo8_venta_ph_mat...   \n",
       "1    NaN    NaN       NaN  http://www.properati.com.ar/15bob_venta_depart...   \n",
       "2    NaN    NaN       NaN  http://www.properati.com.ar/15bod_venta_depart...   \n",
       "\n",
       "                                         description  \\\n",
       "0  2 AMBIENTES TIPO CASA PLANTA BAJA POR PASILLO,...   \n",
       "1  Venta de departamento en décimo piso al frente...   \n",
       "2  2 AMBIENTES 3ER PISO LATERAL LIVING COMEDOR AM...   \n",
       "\n",
       "                                               title  \\\n",
       "0                 2 AMB TIPO CASA SIN EXPENSAS EN PB   \n",
       "1  VENTA Depto 2 dorm. a estrenar 7 e/ 36 y 37   ...   \n",
       "2           2 AMB 3ER PISO CON ASCENSOR APTO CREDITO   \n",
       "\n",
       "                                     image_thumbnail  \n",
       "0  https://thumbs4.properati.com/8/BluUYiHJLhgIIK...  \n",
       "1  https://thumbs4.properati.com/7/ikpVBu2ztHA7jv...  \n",
       "2  https://thumbs4.properati.com/5/SXKr34F_IwG3W_...  "
      ]
     },
     "execution_count": 405,
     "metadata": {},
     "output_type": "execute_result"
    }
   ],
   "source": [
    "import pandas as pd\n",
    "import numpy as np\n",
    "import re\n",
    "import seaborn as sns\n",
    "import matplotlib.pyplot as plt\n",
    "\n",
    "data = pd.read_csv(\"../DH/properatti.csv\", sep = ',')\n",
    "data.head(3)"
   ]
  },
  {
   "cell_type": "code",
   "execution_count": 407,
   "id": "7c4908f5",
   "metadata": {},
   "outputs": [],
   "source": [
    "data1 = data.drop_duplicates(['lat', 'lon', 'price', 'description'])"
   ]
  },
  {
   "cell_type": "code",
   "execution_count": 408,
   "id": "961429df",
   "metadata": {},
   "outputs": [
    {
     "data": {
      "text/plain": [
       "(113312, 26)"
      ]
     },
     "execution_count": 408,
     "metadata": {},
     "output_type": "execute_result"
    }
   ],
   "source": [
    "data1.shape"
   ]
  },
  {
   "cell_type": "code",
   "execution_count": 409,
   "id": "434633d9",
   "metadata": {},
   "outputs": [
    {
     "data": {
      "text/plain": [
       "True     105973\n",
       "False      7339\n",
       "Name: floor, dtype: int64"
      ]
     },
     "execution_count": 409,
     "metadata": {},
     "output_type": "execute_result"
    }
   ],
   "source": [
    "data1['floor'].isnull().value_counts()"
   ]
  },
  {
   "cell_type": "code",
   "execution_count": 410,
   "id": "37bec4f7",
   "metadata": {},
   "outputs": [
    {
     "data": {
      "text/plain": [
       "0         2 AMBIENTES TIPO CASA PLANTA BAJA POR PASILLO,...\n",
       "1         Venta de departamento en décimo piso al frente...\n",
       "2         2 AMBIENTES 3ER PISO LATERAL LIVING COMEDOR AM...\n",
       "3         PH 3 ambientes con patio. Hay 3 deptos en lote...\n",
       "4         DEPARTAMENTO CON FANTÁSTICA ILUMINACIÓN NATURA...\n",
       "                                ...                        \n",
       "121215    TORRE FORUM ALCORTA - MÁXIMA CATEGORÍA.Impecab...\n",
       "121216    Excelente e impecable casa en Venta en Las Lom...\n",
       "121217    VENTA DEPARTAMENTO AMBIENTE DIVISIBLE A ESTREN...\n",
       "121218    2 Amb al contrafrente,  luminoso. El departame...\n",
       "121219    Departamento de 77 m2 apto profesional. Edific...\n",
       "Name: description, Length: 113312, dtype: object"
      ]
     },
     "execution_count": 410,
     "metadata": {},
     "output_type": "execute_result"
    }
   ],
   "source": [
    "data1['description']"
   ]
  },
  {
   "cell_type": "code",
   "execution_count": 411,
   "id": "40a76c90",
   "metadata": {},
   "outputs": [],
   "source": [
    "description = data1['description'].astype(str)"
   ]
  },
  {
   "cell_type": "code",
   "execution_count": 412,
   "id": "7aa550aa",
   "metadata": {},
   "outputs": [
    {
     "name": "stdout",
     "output_type": "stream",
     "text": [
      "0\n",
      "0\n"
     ]
    }
   ],
   "source": [
    "print(data1['operation'].isnull().sum())\n",
    "print(data1['property_type'].isnull().sum())"
   ]
  },
  {
   "cell_type": "code",
   "execution_count": 413,
   "id": "541c4396",
   "metadata": {},
   "outputs": [
    {
     "data": {
      "text/plain": [
       "0.13450750701204423"
      ]
     },
     "execution_count": 413,
     "metadata": {},
     "output_type": "execute_result"
    }
   ],
   "source": [
    "data1['price'].isnull().sum()/data.shape[0]"
   ]
  },
  {
   "cell_type": "code",
   "execution_count": null,
   "id": "a8e16a79",
   "metadata": {},
   "outputs": [],
   "source": []
  },
  {
   "cell_type": "code",
   "execution_count": 344,
   "id": "24029da5",
   "metadata": {},
   "outputs": [
    {
     "data": {
      "text/plain": [
       "0         <re.Match object; span=(0, 12), match='2 AMBIE...\n",
       "1                                                      None\n",
       "2         <re.Match object; span=(0, 13), match='2 AMBIE...\n",
       "3         <re.Match object; span=(3, 15), match='3 ambie...\n",
       "4                                                      None\n",
       "                                ...                        \n",
       "121215                                                 None\n",
       "121216                                                 None\n",
       "121217    <re.Match object; span=(6, 28), match='DEPARTA...\n",
       "121218                                                 None\n",
       "121219                                                 None\n",
       "Name: description, Length: 121220, dtype: object"
      ]
     },
     "execution_count": 344,
     "metadata": {},
     "output_type": "execute_result"
    }
   ],
   "source": [
    "pattern_ambientes = \"(?P<ambiente>\\w+?\\s(amb|AMB|Ambiente|ambiente|AMBIENTE|Ambientes|ambientes|AMBIENTES|MONOAMBIENTE)\\s\\d?)\"\n",
    "regex_ambientes = re.compile(pattern_ambientes)\n",
    "description = data['description'].astype(str)\n",
    "resultado_ambientes = description.apply(lambda x: regex_ambientes.search(x))\n",
    "resultado_ambientes"
   ]
  },
  {
   "cell_type": "code",
   "execution_count": 415,
   "id": "69424f10",
   "metadata": {},
   "outputs": [
    {
     "data": {
      "text/plain": [
       "<bound method IndexOpsMixin.value_counts of 0                   2 AMBIENTES \n",
       "1                           None\n",
       "2                  2 AMBIENTES 3\n",
       "3                   3 ambientes \n",
       "4                           None\n",
       "                   ...          \n",
       "121215                      None\n",
       "121216                      None\n",
       "121217    DEPARTAMENTO AMBIENTE \n",
       "121218                      None\n",
       "121219                      None\n",
       "Name: description, Length: 121220, dtype: object>"
      ]
     },
     "execution_count": 415,
     "metadata": {},
     "output_type": "execute_result"
    }
   ],
   "source": [
    "ambientes_match = resultado_ambientes.apply(lambda x: x if x is None else x.group('ambiente'))\n",
    "ambientes_match.value_counts"
   ]
  },
  {
   "cell_type": "code",
   "execution_count": 416,
   "id": "c675daf7",
   "metadata": {},
   "outputs": [
    {
     "data": {
      "text/plain": [
       "0            <re.Match object; span=(0, 6), match='2 AMB '>\n",
       "1                                                      None\n",
       "2           <re.Match object; span=(0, 7), match='2 AMB 3'>\n",
       "3                                                      None\n",
       "4           <re.Match object; span=(6, 12), match='2 AMB '>\n",
       "                                ...                        \n",
       "121215                                                 None\n",
       "121216                                                 None\n",
       "121217    <re.Match object; span=(6, 28), match='DEPARTA...\n",
       "121218                                                 None\n",
       "121219                                                 None\n",
       "Name: title, Length: 121220, dtype: object"
      ]
     },
     "execution_count": 416,
     "metadata": {},
     "output_type": "execute_result"
    }
   ],
   "source": [
    "pattern_ambientes = \"(?P<ambiente>\\w+?\\s(amb|AMB|Ambiente|ambiente|AMBIENTE|Ambientes|ambientes|AMBIENTES|MONOAMBIENTE)\\s\\d?)\"\n",
    "regex_ambientes = re.compile(pattern_ambientes)\n",
    "title = data['title'].astype(str)\n",
    "resultado_ambientes2 = title.apply(lambda x: regex_ambientes.search(x))\n",
    "resultado_ambientes2"
   ]
  },
  {
   "cell_type": "code",
   "execution_count": 417,
   "id": "6c8b8ce2",
   "metadata": {},
   "outputs": [
    {
     "data": {
      "text/plain": [
       "<bound method IndexOpsMixin.value_counts of 0                         2 AMB \n",
       "1                           None\n",
       "2                        2 AMB 3\n",
       "3                           None\n",
       "4                         2 AMB \n",
       "                   ...          \n",
       "121215                      None\n",
       "121216                      None\n",
       "121217    DEPARTAMENTO AMBIENTE \n",
       "121218                      None\n",
       "121219                      None\n",
       "Name: title, Length: 121220, dtype: object>"
      ]
     },
     "execution_count": 417,
     "metadata": {},
     "output_type": "execute_result"
    }
   ],
   "source": [
    "ambientes_match2 = resultado_ambientes2.apply(lambda x: x if x is None else x.group('ambiente'))\n",
    "ambientes_match2.value_counts"
   ]
  },
  {
   "cell_type": "code",
   "execution_count": 348,
   "id": "6eaf4dad",
   "metadata": {},
   "outputs": [],
   "source": [
    "# data.dtypes"
   ]
  },
  {
   "cell_type": "code",
   "execution_count": 349,
   "id": "9843aa68",
   "metadata": {},
   "outputs": [
    {
     "data": {
      "text/plain": [
       "0               2 AMBIENTES \n",
       "1                       None\n",
       "2              2 AMBIENTES 3\n",
       "3               3 ambientes \n",
       "4                       None\n",
       "5                       None\n",
       "6                       None\n",
       "7    EXCELENTE MONOAMBIENTE \n",
       "8             DOS AMBIENTES \n",
       "9                       None\n",
       "Name: description, dtype: object"
      ]
     },
     "execution_count": 349,
     "metadata": {},
     "output_type": "execute_result"
    }
   ],
   "source": [
    "ambientes_match.head(10)"
   ]
  },
  {
   "cell_type": "code",
   "execution_count": 418,
   "id": "08b53875",
   "metadata": {},
   "outputs": [
    {
     "data": {
      "text/plain": [
       "Index(['Unnamed: 0', 'operation', 'property_type', 'place_name',\n",
       "       'place_with_parent_names', 'country_name', 'state_name', 'geonames_id',\n",
       "       'lat-lon', 'lat', 'lon', 'price', 'currency',\n",
       "       'price_aprox_local_currency', 'price_aprox_usd', 'surface_total_in_m2',\n",
       "       'surface_covered_in_m2', 'price_usd_per_m2', 'price_per_m2', 'floor',\n",
       "       'rooms', 'expenses', 'properati_url', 'description', 'title',\n",
       "       'image_thumbnail', 'ambientes', 'ambientes2'],\n",
       "      dtype='object')"
      ]
     },
     "execution_count": 418,
     "metadata": {},
     "output_type": "execute_result"
    }
   ],
   "source": [
    "data['ambientes'] = ambientes_match\n",
    "data['ambientes2'] = ambientes_match2\n",
    "data.columns"
   ]
  },
  {
   "cell_type": "code",
   "execution_count": 422,
   "id": "429d4b13",
   "metadata": {},
   "outputs": [
    {
     "data": {
      "text/html": [
       "<div>\n",
       "<style scoped>\n",
       "    .dataframe tbody tr th:only-of-type {\n",
       "        vertical-align: middle;\n",
       "    }\n",
       "\n",
       "    .dataframe tbody tr th {\n",
       "        vertical-align: top;\n",
       "    }\n",
       "\n",
       "    .dataframe thead th {\n",
       "        text-align: right;\n",
       "    }\n",
       "</style>\n",
       "<table border=\"1\" class=\"dataframe\">\n",
       "  <thead>\n",
       "    <tr style=\"text-align: right;\">\n",
       "      <th></th>\n",
       "      <th>ambientes</th>\n",
       "      <th>ambientes2</th>\n",
       "    </tr>\n",
       "  </thead>\n",
       "  <tbody>\n",
       "    <tr>\n",
       "      <th>0</th>\n",
       "      <td>2 AMBIENTES</td>\n",
       "      <td>2 AMB</td>\n",
       "    </tr>\n",
       "    <tr>\n",
       "      <th>1</th>\n",
       "      <td>None</td>\n",
       "      <td>None</td>\n",
       "    </tr>\n",
       "    <tr>\n",
       "      <th>2</th>\n",
       "      <td>2 AMBIENTES 3</td>\n",
       "      <td>2 AMB 3</td>\n",
       "    </tr>\n",
       "    <tr>\n",
       "      <th>3</th>\n",
       "      <td>3 ambientes</td>\n",
       "      <td>None</td>\n",
       "    </tr>\n",
       "    <tr>\n",
       "      <th>4</th>\n",
       "      <td>None</td>\n",
       "      <td>2 AMB</td>\n",
       "    </tr>\n",
       "    <tr>\n",
       "      <th>...</th>\n",
       "      <td>...</td>\n",
       "      <td>...</td>\n",
       "    </tr>\n",
       "    <tr>\n",
       "      <th>121215</th>\n",
       "      <td>None</td>\n",
       "      <td>None</td>\n",
       "    </tr>\n",
       "    <tr>\n",
       "      <th>121216</th>\n",
       "      <td>None</td>\n",
       "      <td>None</td>\n",
       "    </tr>\n",
       "    <tr>\n",
       "      <th>121217</th>\n",
       "      <td>DEPARTAMENTO AMBIENTE</td>\n",
       "      <td>DEPARTAMENTO AMBIENTE</td>\n",
       "    </tr>\n",
       "    <tr>\n",
       "      <th>121218</th>\n",
       "      <td>None</td>\n",
       "      <td>None</td>\n",
       "    </tr>\n",
       "    <tr>\n",
       "      <th>121219</th>\n",
       "      <td>None</td>\n",
       "      <td>None</td>\n",
       "    </tr>\n",
       "  </tbody>\n",
       "</table>\n",
       "<p>121220 rows × 2 columns</p>\n",
       "</div>"
      ],
      "text/plain": [
       "                     ambientes              ambientes2\n",
       "0                 2 AMBIENTES                   2 AMB \n",
       "1                         None                    None\n",
       "2                2 AMBIENTES 3                 2 AMB 3\n",
       "3                 3 ambientes                     None\n",
       "4                         None                  2 AMB \n",
       "...                        ...                     ...\n",
       "121215                    None                    None\n",
       "121216                    None                    None\n",
       "121217  DEPARTAMENTO AMBIENTE   DEPARTAMENTO AMBIENTE \n",
       "121218                    None                    None\n",
       "121219                    None                    None\n",
       "\n",
       "[121220 rows x 2 columns]"
      ]
     },
     "execution_count": 422,
     "metadata": {},
     "output_type": "execute_result"
    }
   ],
   "source": [
    "data_ambientes = data.loc[:, 'ambientes': 'ambientes2'].astype(str)\n",
    "data_ambientes"
   ]
  },
  {
   "cell_type": "code",
   "execution_count": 423,
   "id": "5a8681fb",
   "metadata": {},
   "outputs": [
    {
     "data": {
      "text/plain": [
       "0            2\n",
       "1         None\n",
       "2            2\n",
       "3            3\n",
       "4         None\n",
       "          ... \n",
       "121215    None\n",
       "121216    None\n",
       "121217    None\n",
       "121218    None\n",
       "121219    None\n",
       "Name: ambientes, Length: 121220, dtype: object"
      ]
     },
     "execution_count": 423,
     "metadata": {},
     "output_type": "execute_result"
    }
   ],
   "source": [
    "pattern_nro_ambientes = \"(?P<nro_ambientes>\\d)\"\n",
    "regex_nro_ambientes = re.compile(pattern_nro_ambientes)\n",
    "\n",
    "resultado_nro_amb = data_ambientes['ambientes'].apply(lambda x: regex_nro_ambientes.search(x))\n",
    "# [('ambientes', 'ambientes2')]\n",
    "nro_amb_match = resultado_nro_amb.apply(lambda x: x if x is None else x.group('nro_ambientes'))\n",
    "\n",
    "nro_amb_match "
   ]
  },
  {
   "cell_type": "code",
   "execution_count": 424,
   "id": "57084b41",
   "metadata": {},
   "outputs": [
    {
     "data": {
      "text/plain": [
       "0            2\n",
       "1         None\n",
       "2            2\n",
       "3         None\n",
       "4            2\n",
       "          ... \n",
       "121215    None\n",
       "121216    None\n",
       "121217    None\n",
       "121218    None\n",
       "121219    None\n",
       "Name: ambientes2, Length: 121220, dtype: object"
      ]
     },
     "execution_count": 424,
     "metadata": {},
     "output_type": "execute_result"
    }
   ],
   "source": [
    "pattern_nro_ambientes = \"(?P<nro_ambientes>\\d)\"\n",
    "regex_nro_ambientes = re.compile(pattern_nro_ambientes)\n",
    "\n",
    "resultado_nro_amb2 = data_ambientes['ambientes2'].apply(lambda x: regex_nro_ambientes.search(x))\n",
    "\n",
    "nro_amb_match2 = resultado_nro_amb2.apply(lambda x: x if x is None else x.group('nro_ambientes'))\n",
    "\n",
    "type(nro_amb_match2)\n",
    "nro_amb_match2"
   ]
  },
  {
   "cell_type": "code",
   "execution_count": 425,
   "id": "a053f0b8",
   "metadata": {},
   "outputs": [
    {
     "data": {
      "text/html": [
       "<div>\n",
       "<style scoped>\n",
       "    .dataframe tbody tr th:only-of-type {\n",
       "        vertical-align: middle;\n",
       "    }\n",
       "\n",
       "    .dataframe tbody tr th {\n",
       "        vertical-align: top;\n",
       "    }\n",
       "\n",
       "    .dataframe thead th {\n",
       "        text-align: right;\n",
       "    }\n",
       "</style>\n",
       "<table border=\"1\" class=\"dataframe\">\n",
       "  <thead>\n",
       "    <tr style=\"text-align: right;\">\n",
       "      <th></th>\n",
       "      <th>ambientes</th>\n",
       "      <th>ambientes2</th>\n",
       "    </tr>\n",
       "  </thead>\n",
       "  <tbody>\n",
       "    <tr>\n",
       "      <th>0</th>\n",
       "      <td>2</td>\n",
       "      <td>2</td>\n",
       "    </tr>\n",
       "    <tr>\n",
       "      <th>1</th>\n",
       "      <td>None</td>\n",
       "      <td>None</td>\n",
       "    </tr>\n",
       "    <tr>\n",
       "      <th>2</th>\n",
       "      <td>2</td>\n",
       "      <td>2</td>\n",
       "    </tr>\n",
       "    <tr>\n",
       "      <th>3</th>\n",
       "      <td>3</td>\n",
       "      <td>None</td>\n",
       "    </tr>\n",
       "    <tr>\n",
       "      <th>4</th>\n",
       "      <td>None</td>\n",
       "      <td>2</td>\n",
       "    </tr>\n",
       "    <tr>\n",
       "      <th>...</th>\n",
       "      <td>...</td>\n",
       "      <td>...</td>\n",
       "    </tr>\n",
       "    <tr>\n",
       "      <th>121215</th>\n",
       "      <td>None</td>\n",
       "      <td>None</td>\n",
       "    </tr>\n",
       "    <tr>\n",
       "      <th>121216</th>\n",
       "      <td>None</td>\n",
       "      <td>None</td>\n",
       "    </tr>\n",
       "    <tr>\n",
       "      <th>121217</th>\n",
       "      <td>None</td>\n",
       "      <td>None</td>\n",
       "    </tr>\n",
       "    <tr>\n",
       "      <th>121218</th>\n",
       "      <td>None</td>\n",
       "      <td>None</td>\n",
       "    </tr>\n",
       "    <tr>\n",
       "      <th>121219</th>\n",
       "      <td>None</td>\n",
       "      <td>None</td>\n",
       "    </tr>\n",
       "  </tbody>\n",
       "</table>\n",
       "<p>121220 rows × 2 columns</p>\n",
       "</div>"
      ],
      "text/plain": [
       "       ambientes ambientes2\n",
       "0              2          2\n",
       "1           None       None\n",
       "2              2          2\n",
       "3              3       None\n",
       "4           None          2\n",
       "...          ...        ...\n",
       "121215      None       None\n",
       "121216      None       None\n",
       "121217      None       None\n",
       "121218      None       None\n",
       "121219      None       None\n",
       "\n",
       "[121220 rows x 2 columns]"
      ]
     },
     "execution_count": 425,
     "metadata": {},
     "output_type": "execute_result"
    }
   ],
   "source": [
    "df_amb = pd.DataFrame([nro_amb_match, nro_amb_match2])\n",
    "df_ambientes = df_amb.T\n",
    "df_ambientes"
   ]
  },
  {
   "cell_type": "code",
   "execution_count": 377,
   "id": "255c8aa3",
   "metadata": {},
   "outputs": [
    {
     "data": {
      "text/plain": [
       "0               22\n",
       "1         NoneNone\n",
       "2               22\n",
       "3            3None\n",
       "4            None2\n",
       "            ...   \n",
       "121215    NoneNone\n",
       "121216    NoneNone\n",
       "121217    NoneNone\n",
       "121218    NoneNone\n",
       "121219    NoneNone\n",
       "Name: Amb, Length: 121220, dtype: object"
      ]
     },
     "execution_count": 377,
     "metadata": {},
     "output_type": "execute_result"
    }
   ],
   "source": [
    "df_ambientes['Amb'] = df_ambientes['ambientes'].astype(str) + df_ambientes['ambientes2'].astype(str)\n",
    "df_ambientes['Amb']"
   ]
  },
  {
   "cell_type": "code",
   "execution_count": 382,
   "id": "456a151f",
   "metadata": {},
   "outputs": [
    {
     "name": "stdout",
     "output_type": "stream",
     "text": [
      "0            2\n",
      "1         None\n",
      "2            2\n",
      "3            3\n",
      "4            2\n",
      "          ... \n",
      "121215    None\n",
      "121216    None\n",
      "121217    None\n",
      "121218    None\n",
      "121219    None\n",
      "Name: Amb, Length: 121220, dtype: object\n"
     ]
    },
    {
     "data": {
      "text/plain": [
       "False    86422\n",
       "True     34798\n",
       "Name: Amb, dtype: int64"
      ]
     },
     "execution_count": 382,
     "metadata": {},
     "output_type": "execute_result"
    }
   ],
   "source": [
    "pattern_nro_ambientes = \"(?P<nro_ambientes>\\d)\"\n",
    "regex_nro_ambientes = re.compile(pattern_nro_ambientes)\n",
    "\n",
    "resultado_nro_amb3 = df_ambientes['Amb'].apply(lambda x: regex_nro_ambientes.search(x))\n",
    "\n",
    "nro_amb_match3 = resultado_nro_amb3.apply(lambda x: x if x is None else x.group('nro_ambientes'))\n",
    "\n",
    "type(nro_amb_match3)\n",
    "print(nro_amb_match3)\n",
    "nro_amb_match3.notnull().value_counts()"
   ]
  },
  {
   "cell_type": "markdown",
   "id": "33c2d034",
   "metadata": {},
   "source": [
    "\n",
    "Dormitorios\n"
   ]
  },
  {
   "cell_type": "code",
   "execution_count": 351,
   "id": "b05ed12f",
   "metadata": {},
   "outputs": [
    {
     "data": {
      "text/plain": [
       "0                                                      None\n",
       "1         <re.Match object; span=(234, 253), match='Segu...\n",
       "2         <re.Match object; span=(95, 108), match='Y DOR...\n",
       "3                                                      None\n",
       "4                                                      None\n",
       "                                ...                        \n",
       "121215    <re.Match object; span=(155, 169), match='2 do...\n",
       "121216    <re.Match object; span=(453, 468), match='3 Do...\n",
       "121217                                                 None\n",
       "121218                                                 None\n",
       "121219                                                 None\n",
       "Name: description, Length: 121220, dtype: object"
      ]
     },
     "execution_count": 351,
     "metadata": {},
     "output_type": "execute_result"
    }
   ],
   "source": [
    "pattern_dormitorios = \"(?P<dormitorios>\\w+?\\s(dormitorio|Dormitorio|dormitorios|Dormitorios|DORMITORIO|DORMITORIOS)\\s\\d?)\"\n",
    "regex_dormitorios = re.compile(pattern_dormitorios)\n",
    "description = data['description'].astype(str)\n",
    "resultado_dormitorios = description.apply(lambda x: regex_dormitorios.search(x))\n",
    "resultado_dormitorios"
   ]
  },
  {
   "cell_type": "code",
   "execution_count": 352,
   "id": "a1c84207",
   "metadata": {},
   "outputs": [
    {
     "data": {
      "text/plain": [
       "<bound method IndexOpsMixin.value_counts of 0                        None\n",
       "1         Segundo dormitorio \n",
       "2               Y DORMITORIO \n",
       "3                        None\n",
       "4                        None\n",
       "                 ...         \n",
       "121215         2 dormitorios \n",
       "121216        3 Dormitorios 2\n",
       "121217                   None\n",
       "121218                   None\n",
       "121219                   None\n",
       "Name: description, Length: 121220, dtype: object>"
      ]
     },
     "execution_count": 352,
     "metadata": {},
     "output_type": "execute_result"
    }
   ],
   "source": [
    "dormitorios_match = resultado_dormitorios.apply(lambda x: x if x is None else x.group('dormitorios'))\n",
    "dormitorios_match.value_counts"
   ]
  },
  {
   "cell_type": "code",
   "execution_count": 353,
   "id": "16d70c9c",
   "metadata": {},
   "outputs": [
    {
     "data": {
      "text/plain": [
       "0                    None\n",
       "1     Segundo dormitorio \n",
       "2           Y DORMITORIO \n",
       "3                    None\n",
       "4                    None\n",
       "5                    None\n",
       "6        DOS DORMITORIOS \n",
       "7                    None\n",
       "8                    None\n",
       "9                    None\n",
       "10                   None\n",
       "11         2 Dormitorios \n",
       "Name: description, dtype: object"
      ]
     },
     "execution_count": 353,
     "metadata": {},
     "output_type": "execute_result"
    }
   ],
   "source": [
    "dormitorios_match.head(12)"
   ]
  },
  {
   "cell_type": "markdown",
   "id": "5030e9ac",
   "metadata": {},
   "source": [
    "PILETA"
   ]
  },
  {
   "cell_type": "code",
   "execution_count": 354,
   "id": "43d40d02",
   "metadata": {},
   "outputs": [
    {
     "data": {
      "text/plain": [
       "<bound method IndexOpsMixin.value_counts of 0            None\n",
       "1            None\n",
       "2            None\n",
       "3            None\n",
       "4            None\n",
       "           ...   \n",
       "121215     pileta\n",
       "121216     pileta\n",
       "121217       None\n",
       "121218       None\n",
       "121219       None\n",
       "Name: description, Length: 121220, dtype: object>"
      ]
     },
     "execution_count": 354,
     "metadata": {},
     "output_type": "execute_result"
    }
   ],
   "source": [
    "pattern_pileta = \"(?P<pileta>\\s(pileta|Pileta|PILETA|piscina|Piscina|PISCINA|pisina))\"\n",
    "regex_pileta = re.compile(pattern_pileta, flags=re.IGNORECASE)\n",
    "description = data['description'].astype(str)\n",
    "resultado_pileta = description.apply(lambda x: regex_pileta.search(x))\n",
    "resultado_pileta\n",
    "pileta_match = resultado_pileta.apply(lambda x: x if x is None else x.group('pileta'))\n",
    "pileta_match.value_counts"
   ]
  },
  {
   "cell_type": "code",
   "execution_count": 355,
   "id": "f6f04b0d",
   "metadata": {},
   "outputs": [],
   "source": [
    "pileta_match.head(15)\n",
    "data['pileta'] = pileta_match"
   ]
  },
  {
   "cell_type": "code",
   "execution_count": 356,
   "id": "7f662bc7",
   "metadata": {},
   "outputs": [
    {
     "data": {
      "text/html": [
       "<div>\n",
       "<style scoped>\n",
       "    .dataframe tbody tr th:only-of-type {\n",
       "        vertical-align: middle;\n",
       "    }\n",
       "\n",
       "    .dataframe tbody tr th {\n",
       "        vertical-align: top;\n",
       "    }\n",
       "\n",
       "    .dataframe thead th {\n",
       "        text-align: right;\n",
       "    }\n",
       "</style>\n",
       "<table border=\"1\" class=\"dataframe\">\n",
       "  <thead>\n",
       "    <tr style=\"text-align: right;\">\n",
       "      <th></th>\n",
       "      <th>Unnamed: 0</th>\n",
       "      <th>operation</th>\n",
       "      <th>property_type</th>\n",
       "      <th>place_name</th>\n",
       "      <th>place_with_parent_names</th>\n",
       "      <th>country_name</th>\n",
       "      <th>state_name</th>\n",
       "      <th>geonames_id</th>\n",
       "      <th>lat-lon</th>\n",
       "      <th>lat</th>\n",
       "      <th>lon</th>\n",
       "      <th>price</th>\n",
       "      <th>currency</th>\n",
       "      <th>price_aprox_local_currency</th>\n",
       "      <th>price_aprox_usd</th>\n",
       "      <th>surface_total_in_m2</th>\n",
       "      <th>surface_covered_in_m2</th>\n",
       "      <th>price_usd_per_m2</th>\n",
       "      <th>price_per_m2</th>\n",
       "      <th>floor</th>\n",
       "      <th>rooms</th>\n",
       "      <th>expenses</th>\n",
       "      <th>properati_url</th>\n",
       "      <th>description</th>\n",
       "      <th>title</th>\n",
       "      <th>image_thumbnail</th>\n",
       "      <th>ambientes</th>\n",
       "      <th>ambientes2</th>\n",
       "      <th>pileta</th>\n",
       "    </tr>\n",
       "  </thead>\n",
       "  <tbody>\n",
       "    <tr>\n",
       "      <th>0</th>\n",
       "      <td>0</td>\n",
       "      <td>sell</td>\n",
       "      <td>PH</td>\n",
       "      <td>Mataderos</td>\n",
       "      <td>|Argentina|Capital Federal|Mataderos|</td>\n",
       "      <td>Argentina</td>\n",
       "      <td>Capital Federal</td>\n",
       "      <td>3430787.0</td>\n",
       "      <td>-34.6618237,-58.5088387</td>\n",
       "      <td>-34.661824</td>\n",
       "      <td>-58.508839</td>\n",
       "      <td>62000.0</td>\n",
       "      <td>USD</td>\n",
       "      <td>1093959.0</td>\n",
       "      <td>62000.0</td>\n",
       "      <td>55.0</td>\n",
       "      <td>40.0</td>\n",
       "      <td>1127.272727</td>\n",
       "      <td>1550.000000</td>\n",
       "      <td>NaN</td>\n",
       "      <td>NaN</td>\n",
       "      <td>NaN</td>\n",
       "      <td>http://www.properati.com.ar/15bo8_venta_ph_mat...</td>\n",
       "      <td>2 AMBIENTES TIPO CASA PLANTA BAJA POR PASILLO,...</td>\n",
       "      <td>2 AMB TIPO CASA SIN EXPENSAS EN PB</td>\n",
       "      <td>https://thumbs4.properati.com/8/BluUYiHJLhgIIK...</td>\n",
       "      <td>2 AMBIENTES</td>\n",
       "      <td>2 AMB</td>\n",
       "      <td>None</td>\n",
       "    </tr>\n",
       "    <tr>\n",
       "      <th>1</th>\n",
       "      <td>1</td>\n",
       "      <td>sell</td>\n",
       "      <td>apartment</td>\n",
       "      <td>La Plata</td>\n",
       "      <td>|Argentina|Bs.As. G.B.A. Zona Sur|La Plata|</td>\n",
       "      <td>Argentina</td>\n",
       "      <td>Bs.As. G.B.A. Zona Sur</td>\n",
       "      <td>3432039.0</td>\n",
       "      <td>-34.9038831,-57.9643295</td>\n",
       "      <td>-34.903883</td>\n",
       "      <td>-57.964330</td>\n",
       "      <td>150000.0</td>\n",
       "      <td>USD</td>\n",
       "      <td>2646675.0</td>\n",
       "      <td>150000.0</td>\n",
       "      <td>NaN</td>\n",
       "      <td>NaN</td>\n",
       "      <td>NaN</td>\n",
       "      <td>NaN</td>\n",
       "      <td>NaN</td>\n",
       "      <td>NaN</td>\n",
       "      <td>NaN</td>\n",
       "      <td>http://www.properati.com.ar/15bob_venta_depart...</td>\n",
       "      <td>Venta de departamento en décimo piso al frente...</td>\n",
       "      <td>VENTA Depto 2 dorm. a estrenar 7 e/ 36 y 37   ...</td>\n",
       "      <td>https://thumbs4.properati.com/7/ikpVBu2ztHA7jv...</td>\n",
       "      <td>None</td>\n",
       "      <td>None</td>\n",
       "      <td>None</td>\n",
       "    </tr>\n",
       "    <tr>\n",
       "      <th>2</th>\n",
       "      <td>2</td>\n",
       "      <td>sell</td>\n",
       "      <td>apartment</td>\n",
       "      <td>Mataderos</td>\n",
       "      <td>|Argentina|Capital Federal|Mataderos|</td>\n",
       "      <td>Argentina</td>\n",
       "      <td>Capital Federal</td>\n",
       "      <td>3430787.0</td>\n",
       "      <td>-34.6522615,-58.5229825</td>\n",
       "      <td>-34.652262</td>\n",
       "      <td>-58.522982</td>\n",
       "      <td>72000.0</td>\n",
       "      <td>USD</td>\n",
       "      <td>1270404.0</td>\n",
       "      <td>72000.0</td>\n",
       "      <td>55.0</td>\n",
       "      <td>55.0</td>\n",
       "      <td>1309.090909</td>\n",
       "      <td>1309.090909</td>\n",
       "      <td>NaN</td>\n",
       "      <td>NaN</td>\n",
       "      <td>NaN</td>\n",
       "      <td>http://www.properati.com.ar/15bod_venta_depart...</td>\n",
       "      <td>2 AMBIENTES 3ER PISO LATERAL LIVING COMEDOR AM...</td>\n",
       "      <td>2 AMB 3ER PISO CON ASCENSOR APTO CREDITO</td>\n",
       "      <td>https://thumbs4.properati.com/5/SXKr34F_IwG3W_...</td>\n",
       "      <td>2 AMBIENTES 3</td>\n",
       "      <td>2 AMB 3</td>\n",
       "      <td>None</td>\n",
       "    </tr>\n",
       "    <tr>\n",
       "      <th>3</th>\n",
       "      <td>3</td>\n",
       "      <td>sell</td>\n",
       "      <td>PH</td>\n",
       "      <td>Liniers</td>\n",
       "      <td>|Argentina|Capital Federal|Liniers|</td>\n",
       "      <td>Argentina</td>\n",
       "      <td>Capital Federal</td>\n",
       "      <td>3431333.0</td>\n",
       "      <td>-34.6477969,-58.5164244</td>\n",
       "      <td>-34.647797</td>\n",
       "      <td>-58.516424</td>\n",
       "      <td>95000.0</td>\n",
       "      <td>USD</td>\n",
       "      <td>1676227.5</td>\n",
       "      <td>95000.0</td>\n",
       "      <td>NaN</td>\n",
       "      <td>NaN</td>\n",
       "      <td>NaN</td>\n",
       "      <td>NaN</td>\n",
       "      <td>NaN</td>\n",
       "      <td>NaN</td>\n",
       "      <td>NaN</td>\n",
       "      <td>http://www.properati.com.ar/15boh_venta_ph_lin...</td>\n",
       "      <td>PH 3 ambientes con patio. Hay 3 deptos en lote...</td>\n",
       "      <td>PH 3 amb. cfte. reciclado</td>\n",
       "      <td>https://thumbs4.properati.com/3/DgIfX-85Mog5SP...</td>\n",
       "      <td>3 ambientes</td>\n",
       "      <td>None</td>\n",
       "      <td>None</td>\n",
       "    </tr>\n",
       "    <tr>\n",
       "      <th>4</th>\n",
       "      <td>4</td>\n",
       "      <td>sell</td>\n",
       "      <td>apartment</td>\n",
       "      <td>Centro</td>\n",
       "      <td>|Argentina|Buenos Aires Costa Atlántica|Mar de...</td>\n",
       "      <td>Argentina</td>\n",
       "      <td>Buenos Aires Costa Atlántica</td>\n",
       "      <td>3435548.0</td>\n",
       "      <td>-38.0026256,-57.5494468</td>\n",
       "      <td>-38.002626</td>\n",
       "      <td>-57.549447</td>\n",
       "      <td>64000.0</td>\n",
       "      <td>USD</td>\n",
       "      <td>1129248.0</td>\n",
       "      <td>64000.0</td>\n",
       "      <td>35.0</td>\n",
       "      <td>35.0</td>\n",
       "      <td>1828.571429</td>\n",
       "      <td>1828.571429</td>\n",
       "      <td>NaN</td>\n",
       "      <td>NaN</td>\n",
       "      <td>NaN</td>\n",
       "      <td>http://www.properati.com.ar/15bok_venta_depart...</td>\n",
       "      <td>DEPARTAMENTO CON FANTÁSTICA ILUMINACIÓN NATURA...</td>\n",
       "      <td>DEPTO 2 AMB AL CONTRAFRENTE ZONA CENTRO/PLAZA ...</td>\n",
       "      <td>https://thumbs4.properati.com/5/xrRqlNcSI_vs-f...</td>\n",
       "      <td>None</td>\n",
       "      <td>2 AMB</td>\n",
       "      <td>None</td>\n",
       "    </tr>\n",
       "  </tbody>\n",
       "</table>\n",
       "</div>"
      ],
      "text/plain": [
       "   Unnamed: 0 operation property_type place_name  \\\n",
       "0           0      sell            PH  Mataderos   \n",
       "1           1      sell     apartment   La Plata   \n",
       "2           2      sell     apartment  Mataderos   \n",
       "3           3      sell            PH    Liniers   \n",
       "4           4      sell     apartment     Centro   \n",
       "\n",
       "                             place_with_parent_names country_name  \\\n",
       "0              |Argentina|Capital Federal|Mataderos|    Argentina   \n",
       "1        |Argentina|Bs.As. G.B.A. Zona Sur|La Plata|    Argentina   \n",
       "2              |Argentina|Capital Federal|Mataderos|    Argentina   \n",
       "3                |Argentina|Capital Federal|Liniers|    Argentina   \n",
       "4  |Argentina|Buenos Aires Costa Atlántica|Mar de...    Argentina   \n",
       "\n",
       "                     state_name  geonames_id                  lat-lon  \\\n",
       "0               Capital Federal    3430787.0  -34.6618237,-58.5088387   \n",
       "1        Bs.As. G.B.A. Zona Sur    3432039.0  -34.9038831,-57.9643295   \n",
       "2               Capital Federal    3430787.0  -34.6522615,-58.5229825   \n",
       "3               Capital Federal    3431333.0  -34.6477969,-58.5164244   \n",
       "4  Buenos Aires Costa Atlántica    3435548.0  -38.0026256,-57.5494468   \n",
       "\n",
       "         lat        lon     price currency  price_aprox_local_currency  \\\n",
       "0 -34.661824 -58.508839   62000.0      USD                   1093959.0   \n",
       "1 -34.903883 -57.964330  150000.0      USD                   2646675.0   \n",
       "2 -34.652262 -58.522982   72000.0      USD                   1270404.0   \n",
       "3 -34.647797 -58.516424   95000.0      USD                   1676227.5   \n",
       "4 -38.002626 -57.549447   64000.0      USD                   1129248.0   \n",
       "\n",
       "   price_aprox_usd  surface_total_in_m2  surface_covered_in_m2  \\\n",
       "0          62000.0                 55.0                   40.0   \n",
       "1         150000.0                  NaN                    NaN   \n",
       "2          72000.0                 55.0                   55.0   \n",
       "3          95000.0                  NaN                    NaN   \n",
       "4          64000.0                 35.0                   35.0   \n",
       "\n",
       "   price_usd_per_m2  price_per_m2  floor  rooms  expenses  \\\n",
       "0       1127.272727   1550.000000    NaN    NaN       NaN   \n",
       "1               NaN           NaN    NaN    NaN       NaN   \n",
       "2       1309.090909   1309.090909    NaN    NaN       NaN   \n",
       "3               NaN           NaN    NaN    NaN       NaN   \n",
       "4       1828.571429   1828.571429    NaN    NaN       NaN   \n",
       "\n",
       "                                       properati_url  \\\n",
       "0  http://www.properati.com.ar/15bo8_venta_ph_mat...   \n",
       "1  http://www.properati.com.ar/15bob_venta_depart...   \n",
       "2  http://www.properati.com.ar/15bod_venta_depart...   \n",
       "3  http://www.properati.com.ar/15boh_venta_ph_lin...   \n",
       "4  http://www.properati.com.ar/15bok_venta_depart...   \n",
       "\n",
       "                                         description  \\\n",
       "0  2 AMBIENTES TIPO CASA PLANTA BAJA POR PASILLO,...   \n",
       "1  Venta de departamento en décimo piso al frente...   \n",
       "2  2 AMBIENTES 3ER PISO LATERAL LIVING COMEDOR AM...   \n",
       "3  PH 3 ambientes con patio. Hay 3 deptos en lote...   \n",
       "4  DEPARTAMENTO CON FANTÁSTICA ILUMINACIÓN NATURA...   \n",
       "\n",
       "                                               title  \\\n",
       "0                 2 AMB TIPO CASA SIN EXPENSAS EN PB   \n",
       "1  VENTA Depto 2 dorm. a estrenar 7 e/ 36 y 37   ...   \n",
       "2           2 AMB 3ER PISO CON ASCENSOR APTO CREDITO   \n",
       "3                       PH 3 amb. cfte. reciclado      \n",
       "4  DEPTO 2 AMB AL CONTRAFRENTE ZONA CENTRO/PLAZA ...   \n",
       "\n",
       "                                     image_thumbnail      ambientes  \\\n",
       "0  https://thumbs4.properati.com/8/BluUYiHJLhgIIK...   2 AMBIENTES    \n",
       "1  https://thumbs4.properati.com/7/ikpVBu2ztHA7jv...           None   \n",
       "2  https://thumbs4.properati.com/5/SXKr34F_IwG3W_...  2 AMBIENTES 3   \n",
       "3  https://thumbs4.properati.com/3/DgIfX-85Mog5SP...   3 ambientes    \n",
       "4  https://thumbs4.properati.com/5/xrRqlNcSI_vs-f...           None   \n",
       "\n",
       "  ambientes2 pileta  \n",
       "0     2 AMB    None  \n",
       "1       None   None  \n",
       "2    2 AMB 3   None  \n",
       "3       None   None  \n",
       "4     2 AMB    None  "
      ]
     },
     "execution_count": 356,
     "metadata": {},
     "output_type": "execute_result"
    }
   ],
   "source": [
    "pd.set_option('display.max_columns', None)\n",
    "data.head()"
   ]
  },
  {
   "cell_type": "code",
   "execution_count": 357,
   "id": "1b3739d0",
   "metadata": {},
   "outputs": [],
   "source": [
    "# mask_bv = data['place_name'] == 'Bella Vista'\n",
    "# data[mask_bv]"
   ]
  },
  {
   "cell_type": "markdown",
   "id": "10cb82a1",
   "metadata": {},
   "source": [
    "COLUMNAS"
   ]
  },
  {
   "cell_type": "code",
   "execution_count": 358,
   "id": "28ddacdf",
   "metadata": {},
   "outputs": [
    {
     "data": {
      "text/plain": [
       "Index(['Unnamed: 0', 'operation', 'property_type', 'place_name',\n",
       "       'place_with_parent_names', 'country_name', 'state_name', 'geonames_id',\n",
       "       'lat-lon', 'lat', 'lon', 'price', 'currency',\n",
       "       'price_aprox_local_currency', 'price_aprox_usd', 'surface_total_in_m2',\n",
       "       'surface_covered_in_m2', 'price_usd_per_m2', 'price_per_m2', 'floor',\n",
       "       'rooms', 'expenses', 'properati_url', 'description', 'title',\n",
       "       'image_thumbnail', 'ambientes', 'ambientes2', 'pileta'],\n",
       "      dtype='object')"
      ]
     },
     "execution_count": 358,
     "metadata": {},
     "output_type": "execute_result"
    }
   ],
   "source": [
    "data.columns"
   ]
  },
  {
   "cell_type": "markdown",
   "id": "858bd810",
   "metadata": {},
   "source": [
    "EVALUANDO NULOS"
   ]
  },
  {
   "cell_type": "code",
   "execution_count": 359,
   "id": "5f260059",
   "metadata": {},
   "outputs": [
    {
     "name": "stdout",
     "output_type": "stream",
     "text": [
      "0\n",
      "0.1683715558488698\n",
      "0.1683715558488698\n",
      "0.6090579112357697\n",
      "0.3244349117307375\n",
      "0.16422207556508828\n",
      "0.43394654347467415\n",
      "0.27686850354726944\n"
     ]
    }
   ],
   "source": [
    "print(data.state_name.isnull().sum())\n",
    "print((data['price'].isnull().sum())/data.shape[0])\n",
    "print((data['price_aprox_usd'].isnull().sum())/data.shape[0])\n",
    "print((data['rooms'].isnull().sum())/data.shape[0])\n",
    "print((data['surface_total_in_m2'].isnull().sum())/data.shape[0])\n",
    "print((data['surface_covered_in_m2'].isnull().sum())/data.shape[0])\n",
    "print((data['price_usd_per_m2'].isnull().sum())/data.shape[0])\n",
    "print((data['price_per_m2'].isnull().sum())/data.shape[0])"
   ]
  },
  {
   "cell_type": "code",
   "execution_count": 360,
   "id": "1f21d736",
   "metadata": {},
   "outputs": [
    {
     "data": {
      "text/plain": [
       "20410"
      ]
     },
     "execution_count": 360,
     "metadata": {},
     "output_type": "execute_result"
    }
   ],
   "source": [
    "data['price'].isnull().sum()"
   ]
  },
  {
   "cell_type": "code",
   "execution_count": 361,
   "id": "2ce63fc5",
   "metadata": {},
   "outputs": [],
   "source": [
    "data['priceClean'] = data['price']\n",
    "# mask_not_USD = data['currency']!=\"USD\"\n",
    "# data.loc[mask_not_USD,'priceClean'] = data.loc[mask_not_USD,'price_aprox_usd']\n",
    "\n",
    "# # q1 =data['priceClean'].quantile(q=0.25)\n",
    "# # q1\n",
    "# data['priceClean'].isnull().sum()"
   ]
  },
  {
   "cell_type": "markdown",
   "id": "b2084b8e",
   "metadata": {},
   "source": [
    "# Imputar price usd per m2"
   ]
  },
  {
   "cell_type": "code",
   "execution_count": 362,
   "id": "414fa457",
   "metadata": {},
   "outputs": [
    {
     "data": {
      "text/plain": [
       "0.43394654347467415"
      ]
     },
     "execution_count": 362,
     "metadata": {},
     "output_type": "execute_result"
    }
   ],
   "source": [
    "data['price_usd_per_m2_clean'] = data['price_usd_per_m2']\n",
    "mask_nulos = data['price_usd_per_m2_clean'] == None\n",
    "data.loc[mask_nulos, 'price_usd_per_m2_clean'] = (data.loc[mask_nulos, 'priceClean']/data.loc[mask_nulos, 'surface_covered_in_m2'] ) \n",
    "data['price_usd_per_m2_clean'].isnull().sum()/data.shape[0]"
   ]
  },
  {
   "cell_type": "code",
   "execution_count": 363,
   "id": "57371f43",
   "metadata": {},
   "outputs": [
    {
     "data": {
      "text/plain": [
       "0.2334185777924435"
      ]
     },
     "execution_count": 363,
     "metadata": {},
     "output_type": "execute_result"
    }
   ],
   "source": [
    "mask1 = data['price_usd_per_m2_clean'].isnull()\n",
    "\n",
    "(data.loc[mask1, 'price_usd_per_m2_clean']).isnull().sum()\n",
    "\n",
    "data.loc[mask1, 'price_usd_per_m2_clean'] = (data.loc[mask1, 'priceClean']/data.loc[mask1, 'surface_covered_in_m2'])\n",
    "\n",
    "data.loc[:, 'price_usd_per_m2_clean'].isnull().sum()/data.shape[0]"
   ]
  },
  {
   "cell_type": "code",
   "execution_count": 364,
   "id": "0393f317",
   "metadata": {},
   "outputs": [
    {
     "data": {
      "text/plain": [
       "0.1683715558488698"
      ]
     },
     "execution_count": 364,
     "metadata": {},
     "output_type": "execute_result"
    }
   ],
   "source": [
    "+20410/data.shape[0]"
   ]
  },
  {
   "cell_type": "code",
   "execution_count": 365,
   "id": "8dca7df1",
   "metadata": {},
   "outputs": [
    {
     "data": {
      "text/plain": [
       "33560"
      ]
     },
     "execution_count": 365,
     "metadata": {},
     "output_type": "execute_result"
    }
   ],
   "source": [
    "(data['priceClean']/data['surface_covered_in_m2']).isnull().sum()"
   ]
  },
  {
   "cell_type": "code",
   "execution_count": 366,
   "id": "245c9512",
   "metadata": {},
   "outputs": [],
   "source": [
    "# data['price_usd_per_m2_clean'] = data['price_usd_per_m2']\n",
    "# mask_nulos = (data['price_usd_per_m2_clean'] == None , data['price_usd_per_m2_clean'] == np.NaN)\n",
    "# data.loc[mask_nulos, 'price_usd_per_m2_clean'] = data.loc[mask_nulos, 'price']"
   ]
  },
  {
   "cell_type": "code",
   "execution_count": 367,
   "id": "24877e98",
   "metadata": {},
   "outputs": [],
   "source": [
    "# mask_nulos = (data['price'] == np.NaN & data['price_per_m2'] != np.NaN)\n",
    "# data[mask_nulos]"
   ]
  },
  {
   "cell_type": "code",
   "execution_count": 368,
   "id": "f4940c02",
   "metadata": {},
   "outputs": [
    {
     "data": {
      "text/plain": [
       "0         False\n",
       "1          True\n",
       "2         False\n",
       "3         False\n",
       "4         False\n",
       "          ...  \n",
       "121215    False\n",
       "121216    False\n",
       "121217     True\n",
       "121218    False\n",
       "121219    False\n",
       "Name: description, Length: 121220, dtype: bool"
      ]
     },
     "execution_count": 368,
     "metadata": {},
     "output_type": "execute_result"
    }
   ],
   "source": [
    "regex_price = re.compile(\"((US|USD|\\$US|U\\$D|\\$) ?\\d+)\")\n",
    "price_description_match = data['description'].apply(lambda x: x if x is np.NaN else regex_price.search(x))\n",
    "price_description = price_description_match.apply(lambda x: x if x is None or x is np.NaN else x.group(0))\n",
    "\n",
    "price_description.notnull()"
   ]
  },
  {
   "cell_type": "markdown",
   "id": "8fc8a532",
   "metadata": {},
   "source": [
    "DATA PRECIOS NULOS"
   ]
  },
  {
   "cell_type": "code",
   "execution_count": 369,
   "id": "680d8dc3",
   "metadata": {},
   "outputs": [
    {
     "data": {
      "text/html": [
       "<div>\n",
       "<style scoped>\n",
       "    .dataframe tbody tr th:only-of-type {\n",
       "        vertical-align: middle;\n",
       "    }\n",
       "\n",
       "    .dataframe tbody tr th {\n",
       "        vertical-align: top;\n",
       "    }\n",
       "\n",
       "    .dataframe thead th {\n",
       "        text-align: right;\n",
       "    }\n",
       "</style>\n",
       "<table border=\"1\" class=\"dataframe\">\n",
       "  <thead>\n",
       "    <tr style=\"text-align: right;\">\n",
       "      <th></th>\n",
       "      <th>property_type</th>\n",
       "      <th>place_name</th>\n",
       "      <th>place_with_parent_names</th>\n",
       "      <th>state_name</th>\n",
       "      <th>surface_total_in_m2</th>\n",
       "      <th>surface_covered_in_m2</th>\n",
       "      <th>rooms</th>\n",
       "      <th>description</th>\n",
       "      <th>title</th>\n",
       "      <th>pileta</th>\n",
       "    </tr>\n",
       "  </thead>\n",
       "  <tbody>\n",
       "    <tr>\n",
       "      <th>5</th>\n",
       "      <td>house</td>\n",
       "      <td>Gualeguaychú</td>\n",
       "      <td>|Argentina|Entre Ríos|Gualeguaychú|</td>\n",
       "      <td>Entre Ríos</td>\n",
       "      <td>53.0</td>\n",
       "      <td>NaN</td>\n",
       "      <td>NaN</td>\n",
       "      <td>Casa en el perímetro del barrio 338, ubicada e...</td>\n",
       "      <td>Casa Barrio 338. Sobre calle 3 de caballería, ...</td>\n",
       "      <td>None</td>\n",
       "    </tr>\n",
       "    <tr>\n",
       "      <th>20</th>\n",
       "      <td>house</td>\n",
       "      <td>Villa Giardino</td>\n",
       "      <td>|Argentina|Córdoba|Villa Giardino|</td>\n",
       "      <td>Córdoba</td>\n",
       "      <td>148.0</td>\n",
       "      <td>148.0</td>\n",
       "      <td>NaN</td>\n",
       "      <td>Consta de: Comedor-cocina, cuatro dormitorios ...</td>\n",
       "      <td>Casa con excelente ubicaciòn, calle asfaltada,...</td>\n",
       "      <td>None</td>\n",
       "    </tr>\n",
       "    <tr>\n",
       "      <th>41</th>\n",
       "      <td>apartment</td>\n",
       "      <td>Villa Carlos Paz</td>\n",
       "      <td>|Argentina|Córdoba|Villa Carlos Paz|</td>\n",
       "      <td>Córdoba</td>\n",
       "      <td>115.0</td>\n",
       "      <td>115.0</td>\n",
       "      <td>4.0</td>\n",
       "      <td>“Arecas” es un complejo de dúplex y departamen...</td>\n",
       "      <td>Venta en pozo deptos-dúplex- Barrio Santa Rita...</td>\n",
       "      <td>None</td>\n",
       "    </tr>\n",
       "    <tr>\n",
       "      <th>62</th>\n",
       "      <td>house</td>\n",
       "      <td>Berazategui</td>\n",
       "      <td>|Argentina|Bs.As. G.B.A. Zona Sur|Berazategui|</td>\n",
       "      <td>Bs.As. G.B.A. Zona Sur</td>\n",
       "      <td>156.0</td>\n",
       "      <td>156.0</td>\n",
       "      <td>NaN</td>\n",
       "      <td>Casa moderna en dos plantas.PB : Living con ho...</td>\n",
       "      <td>MODERNA CASA EN OMBUES DE HUDSON</td>\n",
       "      <td>None</td>\n",
       "    </tr>\n",
       "    <tr>\n",
       "      <th>67</th>\n",
       "      <td>house</td>\n",
       "      <td>Ituzaingó</td>\n",
       "      <td>|Argentina|Bs.As. G.B.A. Zona Oeste|Ituzaingó|</td>\n",
       "      <td>Bs.As. G.B.A. Zona Oeste</td>\n",
       "      <td>220.0</td>\n",
       "      <td>NaN</td>\n",
       "      <td>5.0</td>\n",
       "      <td>PLANTA ALTA: DORMITORIO EN SUITE - BALCÓNPLANT...</td>\n",
       "      <td>Chalet en Venta. Ambientes. Dormitorios. 220 m2</td>\n",
       "      <td>None</td>\n",
       "    </tr>\n",
       "    <tr>\n",
       "      <th>...</th>\n",
       "      <td>...</td>\n",
       "      <td>...</td>\n",
       "      <td>...</td>\n",
       "      <td>...</td>\n",
       "      <td>...</td>\n",
       "      <td>...</td>\n",
       "      <td>...</td>\n",
       "      <td>...</td>\n",
       "      <td>...</td>\n",
       "      <td>...</td>\n",
       "    </tr>\n",
       "    <tr>\n",
       "      <th>121210</th>\n",
       "      <td>house</td>\n",
       "      <td>Martínez</td>\n",
       "      <td>|Argentina|Bs.As. G.B.A. Zona Norte|San Isidro...</td>\n",
       "      <td>Bs.As. G.B.A. Zona Norte</td>\n",
       "      <td>NaN</td>\n",
       "      <td>120.0</td>\n",
       "      <td>NaN</td>\n",
       "      <td>Dos viviendas en block en excelente ubicación ...</td>\n",
       "      <td>Casa - Martinez</td>\n",
       "      <td>None</td>\n",
       "    </tr>\n",
       "    <tr>\n",
       "      <th>121211</th>\n",
       "      <td>apartment</td>\n",
       "      <td>Acassuso</td>\n",
       "      <td>|Argentina|Bs.As. G.B.A. Zona Norte|San Isidro...</td>\n",
       "      <td>Bs.As. G.B.A. Zona Norte</td>\n",
       "      <td>205.0</td>\n",
       "      <td>205.0</td>\n",
       "      <td>NaN</td>\n",
       "      <td>Excelente departamento de categoría con vistas...</td>\n",
       "      <td>Departamento - Acassuso</td>\n",
       "      <td>pileta</td>\n",
       "    </tr>\n",
       "    <tr>\n",
       "      <th>121212</th>\n",
       "      <td>house</td>\n",
       "      <td>Acassuso</td>\n",
       "      <td>|Argentina|Bs.As. G.B.A. Zona Norte|San Isidro...</td>\n",
       "      <td>Bs.As. G.B.A. Zona Norte</td>\n",
       "      <td>420.0</td>\n",
       "      <td>420.0</td>\n",
       "      <td>NaN</td>\n",
       "      <td>ESPECTACULAR CASA ESTILO RACIONALISTA EN CALLE...</td>\n",
       "      <td>Casa - Acassuso</td>\n",
       "      <td>pileta</td>\n",
       "    </tr>\n",
       "    <tr>\n",
       "      <th>121213</th>\n",
       "      <td>house</td>\n",
       "      <td>Martínez</td>\n",
       "      <td>|Argentina|Bs.As. G.B.A. Zona Norte|San Isidro...</td>\n",
       "      <td>Bs.As. G.B.A. Zona Norte</td>\n",
       "      <td>600.0</td>\n",
       "      <td>600.0</td>\n",
       "      <td>NaN</td>\n",
       "      <td>EXCELENTE casa en Martinez. Inmejorable ubicai...</td>\n",
       "      <td>Casa - Martinez</td>\n",
       "      <td>pileta</td>\n",
       "    </tr>\n",
       "    <tr>\n",
       "      <th>121214</th>\n",
       "      <td>store</td>\n",
       "      <td>San Isidro</td>\n",
       "      <td>|Argentina|Bs.As. G.B.A. Zona Norte|San Isidro|</td>\n",
       "      <td>Bs.As. G.B.A. Zona Norte</td>\n",
       "      <td>123.0</td>\n",
       "      <td>123.0</td>\n",
       "      <td>NaN</td>\n",
       "      <td>***VENTA CON RENTA***Local en EDIFICIO lomas ...</td>\n",
       "      <td>Local - San Isidro</td>\n",
       "      <td>None</td>\n",
       "    </tr>\n",
       "  </tbody>\n",
       "</table>\n",
       "<p>20410 rows × 10 columns</p>\n",
       "</div>"
      ],
      "text/plain": [
       "       property_type        place_name  \\\n",
       "5              house      Gualeguaychú   \n",
       "20             house    Villa Giardino   \n",
       "41         apartment  Villa Carlos Paz   \n",
       "62             house       Berazategui   \n",
       "67             house         Ituzaingó   \n",
       "...              ...               ...   \n",
       "121210         house          Martínez   \n",
       "121211     apartment          Acassuso   \n",
       "121212         house          Acassuso   \n",
       "121213         house          Martínez   \n",
       "121214         store        San Isidro   \n",
       "\n",
       "                                  place_with_parent_names  \\\n",
       "5                     |Argentina|Entre Ríos|Gualeguaychú|   \n",
       "20                     |Argentina|Córdoba|Villa Giardino|   \n",
       "41                   |Argentina|Córdoba|Villa Carlos Paz|   \n",
       "62         |Argentina|Bs.As. G.B.A. Zona Sur|Berazategui|   \n",
       "67         |Argentina|Bs.As. G.B.A. Zona Oeste|Ituzaingó|   \n",
       "...                                                   ...   \n",
       "121210  |Argentina|Bs.As. G.B.A. Zona Norte|San Isidro...   \n",
       "121211  |Argentina|Bs.As. G.B.A. Zona Norte|San Isidro...   \n",
       "121212  |Argentina|Bs.As. G.B.A. Zona Norte|San Isidro...   \n",
       "121213  |Argentina|Bs.As. G.B.A. Zona Norte|San Isidro...   \n",
       "121214    |Argentina|Bs.As. G.B.A. Zona Norte|San Isidro|   \n",
       "\n",
       "                      state_name  surface_total_in_m2  surface_covered_in_m2  \\\n",
       "5                     Entre Ríos                 53.0                    NaN   \n",
       "20                       Córdoba                148.0                  148.0   \n",
       "41                       Córdoba                115.0                  115.0   \n",
       "62        Bs.As. G.B.A. Zona Sur                156.0                  156.0   \n",
       "67      Bs.As. G.B.A. Zona Oeste                220.0                    NaN   \n",
       "...                          ...                  ...                    ...   \n",
       "121210  Bs.As. G.B.A. Zona Norte                  NaN                  120.0   \n",
       "121211  Bs.As. G.B.A. Zona Norte                205.0                  205.0   \n",
       "121212  Bs.As. G.B.A. Zona Norte                420.0                  420.0   \n",
       "121213  Bs.As. G.B.A. Zona Norte                600.0                  600.0   \n",
       "121214  Bs.As. G.B.A. Zona Norte                123.0                  123.0   \n",
       "\n",
       "        rooms                                        description  \\\n",
       "5         NaN  Casa en el perímetro del barrio 338, ubicada e...   \n",
       "20        NaN  Consta de: Comedor-cocina, cuatro dormitorios ...   \n",
       "41        4.0  “Arecas” es un complejo de dúplex y departamen...   \n",
       "62        NaN  Casa moderna en dos plantas.PB : Living con ho...   \n",
       "67        5.0  PLANTA ALTA: DORMITORIO EN SUITE - BALCÓNPLANT...   \n",
       "...       ...                                                ...   \n",
       "121210    NaN  Dos viviendas en block en excelente ubicación ...   \n",
       "121211    NaN  Excelente departamento de categoría con vistas...   \n",
       "121212    NaN  ESPECTACULAR CASA ESTILO RACIONALISTA EN CALLE...   \n",
       "121213    NaN  EXCELENTE casa en Martinez. Inmejorable ubicai...   \n",
       "121214    NaN   ***VENTA CON RENTA***Local en EDIFICIO lomas ...   \n",
       "\n",
       "                                                    title   pileta  \n",
       "5       Casa Barrio 338. Sobre calle 3 de caballería, ...     None  \n",
       "20      Casa con excelente ubicaciòn, calle asfaltada,...     None  \n",
       "41      Venta en pozo deptos-dúplex- Barrio Santa Rita...     None  \n",
       "62                       MODERNA CASA EN OMBUES DE HUDSON     None  \n",
       "67        Chalet en Venta. Ambientes. Dormitorios. 220 m2     None  \n",
       "...                                                   ...      ...  \n",
       "121210                                    Casa - Martinez     None  \n",
       "121211                            Departamento - Acassuso   pileta  \n",
       "121212                                    Casa - Acassuso   pileta  \n",
       "121213                                    Casa - Martinez   pileta  \n",
       "121214                                 Local - San Isidro     None  \n",
       "\n",
       "[20410 rows x 10 columns]"
      ]
     },
     "execution_count": 369,
     "metadata": {},
     "output_type": "execute_result"
    }
   ],
   "source": [
    "mask_price_nulos = data['price_aprox_usd'].isnull()==True\n",
    "data_price_nulos = data[mask_price_nulos]\n",
    "data_price_nulos_ =data_price_nulos.loc[:, ['property_type', 'place_name', 'place_with_parent_names', 'state_name', 'surface_total_in_m2', 'surface_covered_in_m2', 'rooms', 'description', 'title', 'pileta' ]]\n",
    "data_price_nulos_"
   ]
  },
  {
   "cell_type": "code",
   "execution_count": 370,
   "id": "69fe7f6c",
   "metadata": {},
   "outputs": [
    {
     "data": {
      "text/plain": [
       "state_name                place_name                property_type\n",
       "Bs.As. G.B.A. Zona Norte  Acassuso                  apartment         172.500000\n",
       "                                                    house             368.750000\n",
       "                          Albanueva Barrio Cerrado  apartment         154.500000\n",
       "                          Altos del Pilar           house             370.000000\n",
       "                          Bahía del Sol             house                    NaN\n",
       "                                                                        ...     \n",
       "Tucumán                   Tucumán                   store            1000.000000\n",
       "                          Villa Belgrano            apartment         200.000000\n",
       "                          Yerba Buena               apartment          90.417910\n",
       "                                                    house             343.388889\n",
       "                                                    store             105.000000\n",
       "Name: surface_total_in_m2, Length: 1087, dtype: float64"
      ]
     },
     "execution_count": 370,
     "metadata": {},
     "output_type": "execute_result"
    }
   ],
   "source": [
    "data_price_nulos_.groupby(['state_name', 'place_name', 'property_type'])['surface_total_in_m2'].mean()"
   ]
  },
  {
   "cell_type": "code",
   "execution_count": 385,
   "id": "5f1117b7",
   "metadata": {},
   "outputs": [],
   "source": [
    "# data['rooms_2'] = x.apply(lambda x: x.data['rooms'] if x.data['rooms'] is not np.NaN else x.data[dormitorios_match] )"
   ]
  },
  {
   "cell_type": "code",
   "execution_count": 419,
   "id": "1f94d93b",
   "metadata": {},
   "outputs": [
    {
     "data": {
      "text/plain": [
       "False"
      ]
     },
     "execution_count": 419,
     "metadata": {},
     "output_type": "execute_result"
    }
   ],
   "source": [
    "any(data.duplicated())"
   ]
  },
  {
   "cell_type": "code",
   "execution_count": 420,
   "id": "1f091d67",
   "metadata": {},
   "outputs": [
    {
     "data": {
      "text/plain": [
       "0         False\n",
       "1          True\n",
       "2         False\n",
       "3         False\n",
       "4          True\n",
       "          ...  \n",
       "121215     True\n",
       "121216     True\n",
       "121217    False\n",
       "121218     True\n",
       "121219     True\n",
       "Name: ambientes, Length: 121220, dtype: bool"
      ]
     },
     "execution_count": 420,
     "metadata": {},
     "output_type": "execute_result"
    }
   ],
   "source": [
    "data['ambientes'].isnull()"
   ]
  },
  {
   "cell_type": "code",
   "execution_count": 421,
   "id": "aa0b02b7",
   "metadata": {},
   "outputs": [],
   "source": [
    "# ambientes = data['ambientes']\n",
    "# ambientes.join()"
   ]
  },
  {
   "cell_type": "code",
   "execution_count": 384,
   "id": "b4ec3610",
   "metadata": {},
   "outputs": [],
   "source": [
    "# df_ambientes['Amb'] = df_ambientes.apply(lambda x: x['ambientes'] if x['ambientes'] is not None else x['ambientes2'] )\n",
    "\n",
    "# data['ambientes'].apply(lambda x: x['ambientes'] if x['ambientes'] is not np.NaN else x['ambientes2'] )"
   ]
  },
  {
   "cell_type": "code",
   "execution_count": null,
   "id": "f39c0c59",
   "metadata": {},
   "outputs": [],
   "source": []
  },
  {
   "cell_type": "markdown",
   "id": "5f11a656",
   "metadata": {},
   "source": [
    "TIPOS DE PROPIEDADES"
   ]
  },
  {
   "cell_type": "code",
   "execution_count": 290,
   "id": "94041723",
   "metadata": {},
   "outputs": [
    {
     "data": {
      "text/plain": [
       "property_type\n",
       "PH            5751\n",
       "apartment    71065\n",
       "house        40268\n",
       "store         4136\n",
       "Name: Unnamed: 0, dtype: int64"
      ]
     },
     "execution_count": 290,
     "metadata": {},
     "output_type": "execute_result"
    }
   ],
   "source": [
    "operation_type = data.groupby('property_type', axis=0).count().iloc[:, 0]\n",
    "\n",
    "operation_type"
   ]
  },
  {
   "cell_type": "code",
   "execution_count": 289,
   "id": "592493b6",
   "metadata": {},
   "outputs": [
    {
     "name": "stdout",
     "output_type": "stream",
     "text": [
      "121220\n"
     ]
    },
    {
     "data": {
      "text/plain": [
       "121220"
      ]
     },
     "execution_count": 289,
     "metadata": {},
     "output_type": "execute_result"
    }
   ],
   "source": [
    "print(data.shape[0])\n",
    "5751+71065+40268+4136"
   ]
  },
  {
   "cell_type": "code",
   "execution_count": null,
   "id": "59b241e9",
   "metadata": {},
   "outputs": [],
   "source": [
    "data['state_name'].value_counts()"
   ]
  },
  {
   "cell_type": "code",
   "execution_count": 291,
   "id": "05c2a4f8",
   "metadata": {},
   "outputs": [
    {
     "data": {
      "text/plain": [
       "<AxesSubplot:xlabel='state_name', ylabel='price_aprox_usd'>"
      ]
     },
     "execution_count": 291,
     "metadata": {},
     "output_type": "execute_result"
    },
    {
     "data": {
      "image/png": "[encoded data removed]",
      "text/plain": [
       "<Figure size 432x288 with 1 Axes>"
      ]
     },
     "metadata": {},
     "output_type": "display_data"
    }
   ],
   "source": [
    "state_values = ['Capital Federal', 'Bs.As. G.B.A. Zona Norte', 'Bs.As. G.B.A. Zona Sur', 'Córdoba', 'Santa Fe', 'Buenos Aires Costa Atlántica', 'Bs.As. G.B.A. Zona Oeste', 'Buenos Aires Interior']\n",
    "\n",
    "data_state_mask = data.state_name.apply(lambda x: x in state_values)\n",
    "\n",
    "data_state = data.loc[data_state_mask, :]\n",
    "\n",
    "palette_suburb = [\"lightblue\", \"pink\", \"yellow\", \"green\", \"orange\"]\n",
    "\n",
    "sns.boxplot(x = \"state_name\", y = \"price_aprox_usd\", data=data_state, hue='property_type', palette = palette_suburb)"
   ]
  },
  {
   "cell_type": "code",
   "execution_count": null,
   "id": "c07dc3dd",
   "metadata": {},
   "outputs": [],
   "source": []
  },
  {
   "cell_type": "code",
   "execution_count": 292,
   "id": "0c3996fc",
   "metadata": {},
   "outputs": [
    {
     "data": {
      "text/plain": [
       "<AxesSubplot:ylabel='Unnamed: 0'>"
      ]
     },
     "execution_count": 292,
     "metadata": {},
     "output_type": "execute_result"
    },
    {
     "data": {
      "image/png": "[encoded data removed]",
      "text/plain": [
       "<Figure size 432x288 with 1 Axes>"
      ]
     },
     "metadata": {},
     "output_type": "display_data"
    }
   ],
   "source": [
    "# label= ['PH', 'apartment', 'house', 'store']\n",
    "sns.set_style(\"whitegrid\")\n",
    "operation_type.plot.pie(autopct=\"%.1f%%\")\n"
   ]
  },
  {
   "cell_type": "code",
   "execution_count": 293,
   "id": "0027bdc7",
   "metadata": {},
   "outputs": [
    {
     "data": {
      "image/png": "[encoded data removed]",
      "text/plain": [
       "<Figure size 720x432 with 1 Axes>"
      ]
     },
     "metadata": {},
     "output_type": "display_data"
    }
   ],
   "source": [
    "#Using matplotlib\n",
    "pie, ax = plt.subplots(figsize=[10,6])\n",
    "# labels = operation_type.keys()\n",
    "label= ['PH', 'apartment', 'house', 'store']\n",
    "plt.pie(x=operation_type, autopct=\"%.1f%%\", explode=[0.05]*4, labels=labels, pctdistance=0.5, shadow=True)\n",
    "plt.title(\"Operation by type\", fontsize=14);\n",
    "# pie.savefig(\"DeliveryPieChart.png\")"
   ]
  },
  {
   "cell_type": "code",
   "execution_count": 294,
   "id": "a21050bc",
   "metadata": {},
   "outputs": [
    {
     "data": {
      "text/plain": [
       "False    88426\n",
       "True     32792\n",
       "Name: pileta, dtype: int64"
      ]
     },
     "execution_count": 294,
     "metadata": {},
     "output_type": "execute_result"
    }
   ],
   "source": [
    "data[\"pileta\"] = data.description.str.contains(r'(?i)pileta|piscina|pisina')\n",
    "data['pileta'].value_counts()"
   ]
  },
  {
   "cell_type": "code",
   "execution_count": 295,
   "id": "2a8eafa1",
   "metadata": {},
   "outputs": [
    {
     "data": {
      "text/html": [
       "<div>\n",
       "<style scoped>\n",
       "    .dataframe tbody tr th:only-of-type {\n",
       "        vertical-align: middle;\n",
       "    }\n",
       "\n",
       "    .dataframe tbody tr th {\n",
       "        vertical-align: top;\n",
       "    }\n",
       "\n",
       "    .dataframe thead th {\n",
       "        text-align: right;\n",
       "    }\n",
       "</style>\n",
       "<table border=\"1\" class=\"dataframe\">\n",
       "  <thead>\n",
       "    <tr style=\"text-align: right;\">\n",
       "      <th></th>\n",
       "      <th>Unnamed: 0</th>\n",
       "      <th>operation</th>\n",
       "      <th>property_type</th>\n",
       "      <th>place_name</th>\n",
       "      <th>place_with_parent_names</th>\n",
       "      <th>country_name</th>\n",
       "      <th>state_name</th>\n",
       "      <th>geonames_id</th>\n",
       "      <th>lat-lon</th>\n",
       "      <th>lat</th>\n",
       "      <th>lon</th>\n",
       "      <th>price</th>\n",
       "      <th>currency</th>\n",
       "      <th>price_aprox_local_currency</th>\n",
       "      <th>price_aprox_usd</th>\n",
       "      <th>surface_total_in_m2</th>\n",
       "      <th>surface_covered_in_m2</th>\n",
       "      <th>price_usd_per_m2</th>\n",
       "      <th>price_per_m2</th>\n",
       "      <th>floor</th>\n",
       "      <th>rooms</th>\n",
       "      <th>expenses</th>\n",
       "      <th>properati_url</th>\n",
       "      <th>description</th>\n",
       "      <th>title</th>\n",
       "      <th>image_thumbnail</th>\n",
       "      <th>ambientes</th>\n",
       "      <th>ambientes2</th>\n",
       "      <th>pileta</th>\n",
       "      <th>priceClean</th>\n",
       "      <th>price_usd_per_m2_clean</th>\n",
       "    </tr>\n",
       "  </thead>\n",
       "  <tbody>\n",
       "    <tr>\n",
       "      <th>0</th>\n",
       "      <td>0</td>\n",
       "      <td>sell</td>\n",
       "      <td>PH</td>\n",
       "      <td>Mataderos</td>\n",
       "      <td>|Argentina|Capital Federal|Mataderos|</td>\n",
       "      <td>Argentina</td>\n",
       "      <td>Capital Federal</td>\n",
       "      <td>3430787.0</td>\n",
       "      <td>-34.6618237,-58.5088387</td>\n",
       "      <td>-34.661824</td>\n",
       "      <td>-58.508839</td>\n",
       "      <td>62000.0</td>\n",
       "      <td>USD</td>\n",
       "      <td>1093959.0</td>\n",
       "      <td>62000.0</td>\n",
       "      <td>55.0</td>\n",
       "      <td>40.0</td>\n",
       "      <td>1127.272727</td>\n",
       "      <td>1550.000000</td>\n",
       "      <td>NaN</td>\n",
       "      <td>NaN</td>\n",
       "      <td>NaN</td>\n",
       "      <td>http://www.properati.com.ar/15bo8_venta_ph_mat...</td>\n",
       "      <td>2 AMBIENTES TIPO CASA PLANTA BAJA POR PASILLO,...</td>\n",
       "      <td>2 AMB TIPO CASA SIN EXPENSAS EN PB</td>\n",
       "      <td>https://thumbs4.properati.com/8/BluUYiHJLhgIIK...</td>\n",
       "      <td>2 AMBIENTES</td>\n",
       "      <td>2 AMB</td>\n",
       "      <td>False</td>\n",
       "      <td>62000.0</td>\n",
       "      <td>1127.272727</td>\n",
       "    </tr>\n",
       "    <tr>\n",
       "      <th>1</th>\n",
       "      <td>1</td>\n",
       "      <td>sell</td>\n",
       "      <td>apartment</td>\n",
       "      <td>La Plata</td>\n",
       "      <td>|Argentina|Bs.As. G.B.A. Zona Sur|La Plata|</td>\n",
       "      <td>Argentina</td>\n",
       "      <td>Bs.As. G.B.A. Zona Sur</td>\n",
       "      <td>3432039.0</td>\n",
       "      <td>-34.9038831,-57.9643295</td>\n",
       "      <td>-34.903883</td>\n",
       "      <td>-57.964330</td>\n",
       "      <td>150000.0</td>\n",
       "      <td>USD</td>\n",
       "      <td>2646675.0</td>\n",
       "      <td>150000.0</td>\n",
       "      <td>NaN</td>\n",
       "      <td>NaN</td>\n",
       "      <td>NaN</td>\n",
       "      <td>NaN</td>\n",
       "      <td>NaN</td>\n",
       "      <td>NaN</td>\n",
       "      <td>NaN</td>\n",
       "      <td>http://www.properati.com.ar/15bob_venta_depart...</td>\n",
       "      <td>Venta de departamento en décimo piso al frente...</td>\n",
       "      <td>VENTA Depto 2 dorm. a estrenar 7 e/ 36 y 37   ...</td>\n",
       "      <td>https://thumbs4.properati.com/7/ikpVBu2ztHA7jv...</td>\n",
       "      <td>None</td>\n",
       "      <td>None</td>\n",
       "      <td>False</td>\n",
       "      <td>150000.0</td>\n",
       "      <td>NaN</td>\n",
       "    </tr>\n",
       "    <tr>\n",
       "      <th>2</th>\n",
       "      <td>2</td>\n",
       "      <td>sell</td>\n",
       "      <td>apartment</td>\n",
       "      <td>Mataderos</td>\n",
       "      <td>|Argentina|Capital Federal|Mataderos|</td>\n",
       "      <td>Argentina</td>\n",
       "      <td>Capital Federal</td>\n",
       "      <td>3430787.0</td>\n",
       "      <td>-34.6522615,-58.5229825</td>\n",
       "      <td>-34.652262</td>\n",
       "      <td>-58.522982</td>\n",
       "      <td>72000.0</td>\n",
       "      <td>USD</td>\n",
       "      <td>1270404.0</td>\n",
       "      <td>72000.0</td>\n",
       "      <td>55.0</td>\n",
       "      <td>55.0</td>\n",
       "      <td>1309.090909</td>\n",
       "      <td>1309.090909</td>\n",
       "      <td>NaN</td>\n",
       "      <td>NaN</td>\n",
       "      <td>NaN</td>\n",
       "      <td>http://www.properati.com.ar/15bod_venta_depart...</td>\n",
       "      <td>2 AMBIENTES 3ER PISO LATERAL LIVING COMEDOR AM...</td>\n",
       "      <td>2 AMB 3ER PISO CON ASCENSOR APTO CREDITO</td>\n",
       "      <td>https://thumbs4.properati.com/5/SXKr34F_IwG3W_...</td>\n",
       "      <td>2 AMBIENTES 3</td>\n",
       "      <td>2 AMB 3</td>\n",
       "      <td>False</td>\n",
       "      <td>72000.0</td>\n",
       "      <td>1309.090909</td>\n",
       "    </tr>\n",
       "    <tr>\n",
       "      <th>3</th>\n",
       "      <td>3</td>\n",
       "      <td>sell</td>\n",
       "      <td>PH</td>\n",
       "      <td>Liniers</td>\n",
       "      <td>|Argentina|Capital Federal|Liniers|</td>\n",
       "      <td>Argentina</td>\n",
       "      <td>Capital Federal</td>\n",
       "      <td>3431333.0</td>\n",
       "      <td>-34.6477969,-58.5164244</td>\n",
       "      <td>-34.647797</td>\n",
       "      <td>-58.516424</td>\n",
       "      <td>95000.0</td>\n",
       "      <td>USD</td>\n",
       "      <td>1676227.5</td>\n",
       "      <td>95000.0</td>\n",
       "      <td>NaN</td>\n",
       "      <td>NaN</td>\n",
       "      <td>NaN</td>\n",
       "      <td>NaN</td>\n",
       "      <td>NaN</td>\n",
       "      <td>NaN</td>\n",
       "      <td>NaN</td>\n",
       "      <td>http://www.properati.com.ar/15boh_venta_ph_lin...</td>\n",
       "      <td>PH 3 ambientes con patio. Hay 3 deptos en lote...</td>\n",
       "      <td>PH 3 amb. cfte. reciclado</td>\n",
       "      <td>https://thumbs4.properati.com/3/DgIfX-85Mog5SP...</td>\n",
       "      <td>3 ambientes</td>\n",
       "      <td>None</td>\n",
       "      <td>False</td>\n",
       "      <td>95000.0</td>\n",
       "      <td>NaN</td>\n",
       "    </tr>\n",
       "    <tr>\n",
       "      <th>4</th>\n",
       "      <td>4</td>\n",
       "      <td>sell</td>\n",
       "      <td>apartment</td>\n",
       "      <td>Centro</td>\n",
       "      <td>|Argentina|Buenos Aires Costa Atlántica|Mar de...</td>\n",
       "      <td>Argentina</td>\n",
       "      <td>Buenos Aires Costa Atlántica</td>\n",
       "      <td>3435548.0</td>\n",
       "      <td>-38.0026256,-57.5494468</td>\n",
       "      <td>-38.002626</td>\n",
       "      <td>-57.549447</td>\n",
       "      <td>64000.0</td>\n",
       "      <td>USD</td>\n",
       "      <td>1129248.0</td>\n",
       "      <td>64000.0</td>\n",
       "      <td>35.0</td>\n",
       "      <td>35.0</td>\n",
       "      <td>1828.571429</td>\n",
       "      <td>1828.571429</td>\n",
       "      <td>NaN</td>\n",
       "      <td>NaN</td>\n",
       "      <td>NaN</td>\n",
       "      <td>http://www.properati.com.ar/15bok_venta_depart...</td>\n",
       "      <td>DEPARTAMENTO CON FANTÁSTICA ILUMINACIÓN NATURA...</td>\n",
       "      <td>DEPTO 2 AMB AL CONTRAFRENTE ZONA CENTRO/PLAZA ...</td>\n",
       "      <td>https://thumbs4.properati.com/5/xrRqlNcSI_vs-f...</td>\n",
       "      <td>None</td>\n",
       "      <td>2 AMB</td>\n",
       "      <td>False</td>\n",
       "      <td>64000.0</td>\n",
       "      <td>1828.571429</td>\n",
       "    </tr>\n",
       "  </tbody>\n",
       "</table>\n",
       "</div>"
      ],
      "text/plain": [
       "   Unnamed: 0 operation property_type place_name  \\\n",
       "0           0      sell            PH  Mataderos   \n",
       "1           1      sell     apartment   La Plata   \n",
       "2           2      sell     apartment  Mataderos   \n",
       "3           3      sell            PH    Liniers   \n",
       "4           4      sell     apartment     Centro   \n",
       "\n",
       "                             place_with_parent_names country_name  \\\n",
       "0              |Argentina|Capital Federal|Mataderos|    Argentina   \n",
       "1        |Argentina|Bs.As. G.B.A. Zona Sur|La Plata|    Argentina   \n",
       "2              |Argentina|Capital Federal|Mataderos|    Argentina   \n",
       "3                |Argentina|Capital Federal|Liniers|    Argentina   \n",
       "4  |Argentina|Buenos Aires Costa Atlántica|Mar de...    Argentina   \n",
       "\n",
       "                     state_name  geonames_id                  lat-lon  \\\n",
       "0               Capital Federal    3430787.0  -34.6618237,-58.5088387   \n",
       "1        Bs.As. G.B.A. Zona Sur    3432039.0  -34.9038831,-57.9643295   \n",
       "2               Capital Federal    3430787.0  -34.6522615,-58.5229825   \n",
       "3               Capital Federal    3431333.0  -34.6477969,-58.5164244   \n",
       "4  Buenos Aires Costa Atlántica    3435548.0  -38.0026256,-57.5494468   \n",
       "\n",
       "         lat        lon     price currency  price_aprox_local_currency  \\\n",
       "0 -34.661824 -58.508839   62000.0      USD                   1093959.0   \n",
       "1 -34.903883 -57.964330  150000.0      USD                   2646675.0   \n",
       "2 -34.652262 -58.522982   72000.0      USD                   1270404.0   \n",
       "3 -34.647797 -58.516424   95000.0      USD                   1676227.5   \n",
       "4 -38.002626 -57.549447   64000.0      USD                   1129248.0   \n",
       "\n",
       "   price_aprox_usd  surface_total_in_m2  surface_covered_in_m2  \\\n",
       "0          62000.0                 55.0                   40.0   \n",
       "1         150000.0                  NaN                    NaN   \n",
       "2          72000.0                 55.0                   55.0   \n",
       "3          95000.0                  NaN                    NaN   \n",
       "4          64000.0                 35.0                   35.0   \n",
       "\n",
       "   price_usd_per_m2  price_per_m2  floor  rooms  expenses  \\\n",
       "0       1127.272727   1550.000000    NaN    NaN       NaN   \n",
       "1               NaN           NaN    NaN    NaN       NaN   \n",
       "2       1309.090909   1309.090909    NaN    NaN       NaN   \n",
       "3               NaN           NaN    NaN    NaN       NaN   \n",
       "4       1828.571429   1828.571429    NaN    NaN       NaN   \n",
       "\n",
       "                                       properati_url  \\\n",
       "0  http://www.properati.com.ar/15bo8_venta_ph_mat...   \n",
       "1  http://www.properati.com.ar/15bob_venta_depart...   \n",
       "2  http://www.properati.com.ar/15bod_venta_depart...   \n",
       "3  http://www.properati.com.ar/15boh_venta_ph_lin...   \n",
       "4  http://www.properati.com.ar/15bok_venta_depart...   \n",
       "\n",
       "                                         description  \\\n",
       "0  2 AMBIENTES TIPO CASA PLANTA BAJA POR PASILLO,...   \n",
       "1  Venta de departamento en décimo piso al frente...   \n",
       "2  2 AMBIENTES 3ER PISO LATERAL LIVING COMEDOR AM...   \n",
       "3  PH 3 ambientes con patio. Hay 3 deptos en lote...   \n",
       "4  DEPARTAMENTO CON FANTÁSTICA ILUMINACIÓN NATURA...   \n",
       "\n",
       "                                               title  \\\n",
       "0                 2 AMB TIPO CASA SIN EXPENSAS EN PB   \n",
       "1  VENTA Depto 2 dorm. a estrenar 7 e/ 36 y 37   ...   \n",
       "2           2 AMB 3ER PISO CON ASCENSOR APTO CREDITO   \n",
       "3                       PH 3 amb. cfte. reciclado      \n",
       "4  DEPTO 2 AMB AL CONTRAFRENTE ZONA CENTRO/PLAZA ...   \n",
       "\n",
       "                                     image_thumbnail      ambientes  \\\n",
       "0  https://thumbs4.properati.com/8/BluUYiHJLhgIIK...   2 AMBIENTES    \n",
       "1  https://thumbs4.properati.com/7/ikpVBu2ztHA7jv...           None   \n",
       "2  https://thumbs4.properati.com/5/SXKr34F_IwG3W_...  2 AMBIENTES 3   \n",
       "3  https://thumbs4.properati.com/3/DgIfX-85Mog5SP...   3 ambientes    \n",
       "4  https://thumbs4.properati.com/5/xrRqlNcSI_vs-f...           None   \n",
       "\n",
       "  ambientes2 pileta  priceClean  price_usd_per_m2_clean  \n",
       "0     2 AMB   False     62000.0             1127.272727  \n",
       "1       None  False    150000.0                     NaN  \n",
       "2    2 AMB 3  False     72000.0             1309.090909  \n",
       "3       None  False     95000.0                     NaN  \n",
       "4     2 AMB   False     64000.0             1828.571429  "
      ]
     },
     "execution_count": 295,
     "metadata": {},
     "output_type": "execute_result"
    }
   ],
   "source": [
    "data.head()"
   ]
  },
  {
   "cell_type": "code",
   "execution_count": null,
   "id": "b4498a97",
   "metadata": {},
   "outputs": [],
   "source": []
  },
  {
   "cell_type": "code",
   "execution_count": null,
   "id": "2b3d2885",
   "metadata": {},
   "outputs": [],
   "source": []
  }
 ],
 "metadata": {
  "kernelspec": {
   "display_name": "Python 3",
   "language": "python",
   "name": "python3"
  },
  "language_info": {
   "codemirror_mode": {
    "name": "ipython",
    "version": 3
   },
   "file_extension": ".py",
   "mimetype": "text/x-python",
   "name": "python",
   "nbconvert_exporter": "python",
   "pygments_lexer": "ipython3",
   "version": "3.8.8"
  }
 },
 "nbformat": 4,
 "nbformat_minor": 5
}
