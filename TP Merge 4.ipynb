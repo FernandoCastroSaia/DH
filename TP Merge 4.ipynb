{
 "cells": [
  {
   "cell_type": "markdown",
   "id": "39053a65",
   "metadata": {},
   "source": [
    "# <i><b>Trabajo Practico Numero 1º<b><i> "
   ]
  },
  {
   "cell_type": "markdown",
   "id": "c1a04cc6",
   "metadata": {},
   "source": [
    "#### <b><i>Integrantes:<i><b>\n",
    "#### <b><i>-Agustin Galli.<i><b>\n",
    "#### <b><i>-Ana Affranchino.<i><b>\n",
    "#### <b><i>-Fernando Castro Saia.<i><b>\n",
    "#### <b><i>-Martin Sciandro.<i><b>\n",
    "#### <b><i>-Tobias Canavesi.<i><b>"
   ]
  },
  {
   "cell_type": "markdown",
   "id": "5f009fd7",
   "metadata": {},
   "source": [
    "------------------------------------------------------------------------------------------------------"
   ]
  },
  {
   "cell_type": "markdown",
   "id": "9e12f980",
   "metadata": {},
   "source": [
    "##### <i>Importacion de librerias y del DataFrame:<i>"
   ]
  },
  {
   "cell_type": "code",
   "execution_count": 2,
   "id": "b0dcabd8",
   "metadata": {},
   "outputs": [],
   "source": [
    "#Importacion de librerias para Dataframes & Arrays:\n",
    "import pandas as pd\n",
    "import geopandas as gpd\n"
    "import numpy as np\n",
    "#Importacion de librerias de visualizacion:\n",
    "import seaborn as sns\n",
    "import contextily as cx\n"
    "import matplotlib as mlp\n",
    "import matplotlib.pyplot as plt\n",
    "import re"
   ]
  },
  {
   "cell_type": "code",
   "execution_count": 7,
   "id": "a5922b36",
   "metadata": {},
   "outputs": [
    {
     "data": {
      "text/html": [
       "<div>\n",
       "<style scoped>\n",
       "    .dataframe tbody tr th:only-of-type {\n",
       "        vertical-align: middle;\n",
       "    }\n",
       "\n",
       "    .dataframe tbody tr th {\n",
       "        vertical-align: top;\n",
       "    }\n",
       "\n",
       "    .dataframe thead th {\n",
       "        text-align: right;\n",
       "    }\n",
       "</style>\n",
       "<table border=\"1\" class=\"dataframe\">\n",
       "  <thead>\n",
       "    <tr style=\"text-align: right;\">\n",
       "      <th></th>\n",
       "      <th>Unnamed: 0</th>\n",
       "      <th>operation</th>\n",
       "      <th>property_type</th>\n",
       "      <th>place_name</th>\n",
       "      <th>place_with_parent_names</th>\n",
       "      <th>country_name</th>\n",
       "      <th>state_name</th>\n",
       "      <th>geonames_id</th>\n",
       "      <th>lat-lon</th>\n",
       "      <th>lat</th>\n",
       "      <th>...</th>\n",
       "      <th>surface_covered_in_m2</th>\n",
       "      <th>price_usd_per_m2</th>\n",
       "      <th>price_per_m2</th>\n",
       "      <th>floor</th>\n",
       "      <th>rooms</th>\n",
       "      <th>expenses</th>\n",
       "      <th>properati_url</th>\n",
       "      <th>description</th>\n",
       "      <th>title</th>\n",
       "      <th>image_thumbnail</th>\n",
       "    </tr>\n",
       "  </thead>\n",
       "  <tbody>\n",
       "    <tr>\n",
       "      <th>0</th>\n",
       "      <td>0</td>\n",
       "      <td>sell</td>\n",
       "      <td>PH</td>\n",
       "      <td>Mataderos</td>\n",
       "      <td>|Argentina|Capital Federal|Mataderos|</td>\n",
       "      <td>Argentina</td>\n",
       "      <td>Capital Federal</td>\n",
       "      <td>3430787.0</td>\n",
       "      <td>-34.6618237,-58.5088387</td>\n",
       "      <td>-34.661824</td>\n",
       "      <td>...</td>\n",
       "      <td>40.0</td>\n",
       "      <td>1127.272727</td>\n",
       "      <td>1550.000000</td>\n",
       "      <td>NaN</td>\n",
       "      <td>NaN</td>\n",
       "      <td>NaN</td>\n",
       "      <td>http://www.properati.com.ar/15bo8_venta_ph_mat...</td>\n",
       "      <td>2 AMBIENTES TIPO CASA PLANTA BAJA POR PASILLO,...</td>\n",
       "      <td>2 AMB TIPO CASA SIN EXPENSAS EN PB</td>\n",
       "      <td>https://thumbs4.properati.com/8/BluUYiHJLhgIIK...</td>\n",
       "    </tr>\n",
       "    <tr>\n",
       "      <th>1</th>\n",
       "      <td>1</td>\n",
       "      <td>sell</td>\n",
       "      <td>apartment</td>\n",
       "      <td>La Plata</td>\n",
       "      <td>|Argentina|Bs.As. G.B.A. Zona Sur|La Plata|</td>\n",
       "      <td>Argentina</td>\n",
       "      <td>Bs.As. G.B.A. Zona Sur</td>\n",
       "      <td>3432039.0</td>\n",
       "      <td>-34.9038831,-57.9643295</td>\n",
       "      <td>-34.903883</td>\n",
       "      <td>...</td>\n",
       "      <td>NaN</td>\n",
       "      <td>NaN</td>\n",
       "      <td>NaN</td>\n",
       "      <td>NaN</td>\n",
       "      <td>NaN</td>\n",
       "      <td>NaN</td>\n",
       "      <td>http://www.properati.com.ar/15bob_venta_depart...</td>\n",
       "      <td>Venta de departamento en dÃ©cimo piso al frent...</td>\n",
       "      <td>VENTA Depto 2 dorm. a estrenar 7 e/ 36 y 37   ...</td>\n",
       "      <td>https://thumbs4.properati.com/7/ikpVBu2ztHA7jv...</td>\n",
       "    </tr>\n",
       "    <tr>\n",
       "      <th>2</th>\n",
       "      <td>2</td>\n",
       "      <td>sell</td>\n",
       "      <td>apartment</td>\n",
       "      <td>Mataderos</td>\n",
       "      <td>|Argentina|Capital Federal|Mataderos|</td>\n",
       "      <td>Argentina</td>\n",
       "      <td>Capital Federal</td>\n",
       "      <td>3430787.0</td>\n",
       "      <td>-34.6522615,-58.5229825</td>\n",
       "      <td>-34.652262</td>\n",
       "      <td>...</td>\n",
       "      <td>55.0</td>\n",
       "      <td>1309.090909</td>\n",
       "      <td>1309.090909</td>\n",
       "      <td>NaN</td>\n",
       "      <td>NaN</td>\n",
       "      <td>NaN</td>\n",
       "      <td>http://www.properati.com.ar/15bod_venta_depart...</td>\n",
       "      <td>2 AMBIENTES 3ER PISO LATERAL LIVING COMEDOR AM...</td>\n",
       "      <td>2 AMB 3ER PISO CON ASCENSOR APTO CREDITO</td>\n",
       "      <td>https://thumbs4.properati.com/5/SXKr34F_IwG3W_...</td>\n",
       "    </tr>\n",
       "    <tr>\n",
       "      <th>3</th>\n",
       "      <td>3</td>\n",
       "      <td>sell</td>\n",
       "      <td>PH</td>\n",
       "      <td>Liniers</td>\n",
       "      <td>|Argentina|Capital Federal|Liniers|</td>\n",
       "      <td>Argentina</td>\n",
       "      <td>Capital Federal</td>\n",
       "      <td>3431333.0</td>\n",
       "      <td>-34.6477969,-58.5164244</td>\n",
       "      <td>-34.647797</td>\n",
       "      <td>...</td>\n",
       "      <td>NaN</td>\n",
       "      <td>NaN</td>\n",
       "      <td>NaN</td>\n",
       "      <td>NaN</td>\n",
       "      <td>NaN</td>\n",
       "      <td>NaN</td>\n",
       "      <td>http://www.properati.com.ar/15boh_venta_ph_lin...</td>\n",
       "      <td>PH 3 ambientes con patio. Hay 3 deptos en lote...</td>\n",
       "      <td>PH 3 amb. cfte. reciclado</td>\n",
       "      <td>https://thumbs4.properati.com/3/DgIfX-85Mog5SP...</td>\n",
       "    </tr>\n",
       "    <tr>\n",
       "      <th>4</th>\n",
       "      <td>4</td>\n",
       "      <td>sell</td>\n",
       "      <td>apartment</td>\n",
       "      <td>Centro</td>\n",
       "      <td>|Argentina|Buenos Aires Costa AtlÃ¡ntica|Mar d...</td>\n",
       "      <td>Argentina</td>\n",
       "      <td>Buenos Aires Costa AtlÃ¡ntica</td>\n",
       "      <td>3435548.0</td>\n",
       "      <td>-38.0026256,-57.5494468</td>\n",
       "      <td>-38.002626</td>\n",
       "      <td>...</td>\n",
       "      <td>35.0</td>\n",
       "      <td>1828.571429</td>\n",
       "      <td>1828.571429</td>\n",
       "      <td>NaN</td>\n",
       "      <td>NaN</td>\n",
       "      <td>NaN</td>\n",
       "      <td>http://www.properati.com.ar/15bok_venta_depart...</td>\n",
       "      <td>DEPARTAMENTO CON FANTÃSTICA ILUMINACIÃN NATU...</td>\n",
       "      <td>DEPTO 2 AMB AL CONTRAFRENTE ZONA CENTRO/PLAZA ...</td>\n",
       "      <td>https://thumbs4.properati.com/5/xrRqlNcSI_vs-f...</td>\n",
       "    </tr>\n",
       "  </tbody>\n",
       "</table>\n",
       "<p>5 rows × 26 columns</p>\n",
       "</div>"
      ],
      "text/plain": [
       "   Unnamed: 0 operation property_type place_name  \\\n",
       "0           0      sell            PH  Mataderos   \n",
       "1           1      sell     apartment   La Plata   \n",
       "2           2      sell     apartment  Mataderos   \n",
       "3           3      sell            PH    Liniers   \n",
       "4           4      sell     apartment     Centro   \n",
       "\n",
       "                             place_with_parent_names country_name  \\\n",
       "0              |Argentina|Capital Federal|Mataderos|    Argentina   \n",
       "1        |Argentina|Bs.As. G.B.A. Zona Sur|La Plata|    Argentina   \n",
       "2              |Argentina|Capital Federal|Mataderos|    Argentina   \n",
       "3                |Argentina|Capital Federal|Liniers|    Argentina   \n",
       "4  |Argentina|Buenos Aires Costa AtlÃ¡ntica|Mar d...    Argentina   \n",
       "\n",
       "                      state_name  geonames_id                  lat-lon  \\\n",
       "0                Capital Federal    3430787.0  -34.6618237,-58.5088387   \n",
       "1         Bs.As. G.B.A. Zona Sur    3432039.0  -34.9038831,-57.9643295   \n",
       "2                Capital Federal    3430787.0  -34.6522615,-58.5229825   \n",
       "3                Capital Federal    3431333.0  -34.6477969,-58.5164244   \n",
       "4  Buenos Aires Costa AtlÃ¡ntica    3435548.0  -38.0026256,-57.5494468   \n",
       "\n",
       "         lat  ...  surface_covered_in_m2  price_usd_per_m2 price_per_m2  \\\n",
       "0 -34.661824  ...                   40.0       1127.272727  1550.000000   \n",
       "1 -34.903883  ...                    NaN               NaN          NaN   \n",
       "2 -34.652262  ...                   55.0       1309.090909  1309.090909   \n",
       "3 -34.647797  ...                    NaN               NaN          NaN   \n",
       "4 -38.002626  ...                   35.0       1828.571429  1828.571429   \n",
       "\n",
       "   floor  rooms  expenses                                      properati_url  \\\n",
       "0    NaN    NaN       NaN  http://www.properati.com.ar/15bo8_venta_ph_mat...   \n",
       "1    NaN    NaN       NaN  http://www.properati.com.ar/15bob_venta_depart...   \n",
       "2    NaN    NaN       NaN  http://www.properati.com.ar/15bod_venta_depart...   \n",
       "3    NaN    NaN       NaN  http://www.properati.com.ar/15boh_venta_ph_lin...   \n",
       "4    NaN    NaN       NaN  http://www.properati.com.ar/15bok_venta_depart...   \n",
       "\n",
       "                                         description  \\\n",
       "0  2 AMBIENTES TIPO CASA PLANTA BAJA POR PASILLO,...   \n",
       "1  Venta de departamento en dÃ©cimo piso al frent...   \n",
       "2  2 AMBIENTES 3ER PISO LATERAL LIVING COMEDOR AM...   \n",
       "3  PH 3 ambientes con patio. Hay 3 deptos en lote...   \n",
       "4  DEPARTAMENTO CON FANTÃSTICA ILUMINACIÃN NATU...   \n",
       "\n",
       "                                               title  \\\n",
       "0                 2 AMB TIPO CASA SIN EXPENSAS EN PB   \n",
       "1  VENTA Depto 2 dorm. a estrenar 7 e/ 36 y 37   ...   \n",
       "2           2 AMB 3ER PISO CON ASCENSOR APTO CREDITO   \n",
       "3                       PH 3 amb. cfte. reciclado      \n",
       "4  DEPTO 2 AMB AL CONTRAFRENTE ZONA CENTRO/PLAZA ...   \n",
       "\n",
       "                                     image_thumbnail  \n",
       "0  https://thumbs4.properati.com/8/BluUYiHJLhgIIK...  \n",
       "1  https://thumbs4.properati.com/7/ikpVBu2ztHA7jv...  \n",
       "2  https://thumbs4.properati.com/5/SXKr34F_IwG3W_...  \n",
       "3  https://thumbs4.properati.com/3/DgIfX-85Mog5SP...  \n",
       "4  https://thumbs4.properati.com/5/xrRqlNcSI_vs-f...  \n",
       "\n",
       "[5 rows x 26 columns]"
      ]
     },
     "execution_count": 7,
     "metadata": {},
     "output_type": "execute_result"
    }
   ],
   "source": [
    "data = pd.read_csv(\"properatti.csv\", sep = \",\", encoding = 'latin1')\n",
    "data.head(5)"
   ]
  },
  {
   "cell_type": "markdown",
   "id": "2c515c94",
   "metadata": {},
   "source": [
    "### <i> Limpieza de Datos: <i>"
   ]
  },
  {
   "cell_type": "code",
   "execution_count": 8,
   "id": "27e5a332",
   "metadata": {},
   "outputs": [],
   "source": [
    "#Eliminacion columnas innecesarias:\n",
    "data_1=data.drop(columns=['image_thumbnail','properati_url','lat-lon','Unnamed: 0','expenses','price_aprox_local_currency'])"
   ]
  },
  {
   "cell_type": "code",
   "execution_count": 10,
   "id": "377a81bd",
   "metadata": {},
   "outputs": [
    {
     "data": {
      "text/plain": [
       "operation                   0.000000\n",
       "property_type               0.000000\n",
       "place_name                  0.018974\n",
       "place_with_parent_names     0.000000\n",
       "country_name                0.000000\n",
       "state_name                  0.000000\n",
       "geonames_id                15.440521\n",
       "lat                        42.525986\n",
       "lon                        42.525986\n",
       "price                      16.837156\n",
       "currency                   16.837981\n",
       "price_aprox_usd            16.837156\n",
       "surface_total_in_m2        32.443491\n",
       "surface_covered_in_m2      16.422208\n",
       "price_usd_per_m2           43.394654\n",
       "price_per_m2               27.686850\n",
       "floor                      93.483749\n",
       "rooms                      60.905791\n",
       "description                 0.001650\n",
       "title                       0.000000\n",
       "dtype: float64"
      ]
     },
     "execution_count": 10,
     "metadata": {},
     "output_type": "execute_result"
    }
   ],
   "source": [
    "#Cantidad de nulos:\n",
    "(data_1.isnull().sum()/data_1.shape[0])*100"
   ]
  },
  {
   "cell_type": "code",
   "execution_count": 11,
   "id": "651c738d",
   "metadata": {},
   "outputs": [
    {
     "data": {
      "text/html": [
       "<div>\n",
       "<style scoped>\n",
       "    .dataframe tbody tr th:only-of-type {\n",
       "        vertical-align: middle;\n",
       "    }\n",
       "\n",
       "    .dataframe tbody tr th {\n",
       "        vertical-align: top;\n",
       "    }\n",
       "\n",
       "    .dataframe thead th {\n",
       "        text-align: right;\n",
       "    }\n",
       "</style>\n",
       "<table border=\"1\" class=\"dataframe\">\n",
       "  <thead>\n",
       "    <tr style=\"text-align: right;\">\n",
       "      <th></th>\n",
       "      <th>operation</th>\n",
       "      <th>property_type</th>\n",
       "      <th>place_name</th>\n",
       "      <th>place_with_parent_names</th>\n",
       "      <th>country_name</th>\n",
       "      <th>state_name</th>\n",
       "      <th>geonames_id</th>\n",
       "      <th>lat</th>\n",
       "      <th>lon</th>\n",
       "      <th>price</th>\n",
       "      <th>currency</th>\n",
       "      <th>price_aprox_usd</th>\n",
       "      <th>surface_total_in_m2</th>\n",
       "      <th>surface_covered_in_m2</th>\n",
       "      <th>price_usd_per_m2</th>\n",
       "      <th>price_per_m2</th>\n",
       "      <th>floor</th>\n",
       "      <th>rooms</th>\n",
       "      <th>description</th>\n",
       "      <th>title</th>\n",
       "    </tr>\n",
       "  </thead>\n",
       "  <tbody>\n",
       "    <tr>\n",
       "      <th>0</th>\n",
       "      <td>sell</td>\n",
       "      <td>PH</td>\n",
       "      <td>Mataderos</td>\n",
       "      <td>|Argentina|Capital Federal|Mataderos|</td>\n",
       "      <td>Argentina</td>\n",
       "      <td>Capital Federal</td>\n",
       "      <td>3430787.0</td>\n",
       "      <td>-34.661824</td>\n",
       "      <td>-58.508839</td>\n",
       "      <td>62000.0</td>\n",
       "      <td>USD</td>\n",
       "      <td>62000.0</td>\n",
       "      <td>55.0</td>\n",
       "      <td>40.0</td>\n",
       "      <td>1127.272727</td>\n",
       "      <td>1550.000000</td>\n",
       "      <td>NaN</td>\n",
       "      <td>NaN</td>\n",
       "      <td>2 AMBIENTES TIPO CASA PLANTA BAJA POR PASILLO,...</td>\n",
       "      <td>2 AMB TIPO CASA SIN EXPENSAS EN PB</td>\n",
       "    </tr>\n",
       "    <tr>\n",
       "      <th>1</th>\n",
       "      <td>sell</td>\n",
       "      <td>apartment</td>\n",
       "      <td>La Plata</td>\n",
       "      <td>|Argentina|Bs.As. G.B.A. Zona Sur|La Plata|</td>\n",
       "      <td>Argentina</td>\n",
       "      <td>Bs.As. G.B.A. Zona Sur</td>\n",
       "      <td>3432039.0</td>\n",
       "      <td>-34.903883</td>\n",
       "      <td>-57.964330</td>\n",
       "      <td>150000.0</td>\n",
       "      <td>USD</td>\n",
       "      <td>150000.0</td>\n",
       "      <td>NaN</td>\n",
       "      <td>NaN</td>\n",
       "      <td>NaN</td>\n",
       "      <td>NaN</td>\n",
       "      <td>NaN</td>\n",
       "      <td>NaN</td>\n",
       "      <td>Venta de departamento en dÃ©cimo piso al frent...</td>\n",
       "      <td>VENTA Depto 2 dorm. a estrenar 7 e/ 36 y 37   ...</td>\n",
       "    </tr>\n",
       "    <tr>\n",
       "      <th>2</th>\n",
       "      <td>sell</td>\n",
       "      <td>apartment</td>\n",
       "      <td>Mataderos</td>\n",
       "      <td>|Argentina|Capital Federal|Mataderos|</td>\n",
       "      <td>Argentina</td>\n",
       "      <td>Capital Federal</td>\n",
       "      <td>3430787.0</td>\n",
       "      <td>-34.652262</td>\n",
       "      <td>-58.522982</td>\n",
       "      <td>72000.0</td>\n",
       "      <td>USD</td>\n",
       "      <td>72000.0</td>\n",
       "      <td>55.0</td>\n",
       "      <td>55.0</td>\n",
       "      <td>1309.090909</td>\n",
       "      <td>1309.090909</td>\n",
       "      <td>NaN</td>\n",
       "      <td>NaN</td>\n",
       "      <td>2 AMBIENTES 3ER PISO LATERAL LIVING COMEDOR AM...</td>\n",
       "      <td>2 AMB 3ER PISO CON ASCENSOR APTO CREDITO</td>\n",
       "    </tr>\n",
       "  </tbody>\n",
       "</table>\n",
       "</div>"
      ],
      "text/plain": [
       "  operation property_type place_name  \\\n",
       "0      sell            PH  Mataderos   \n",
       "1      sell     apartment   La Plata   \n",
       "2      sell     apartment  Mataderos   \n",
       "\n",
       "                       place_with_parent_names country_name  \\\n",
       "0        |Argentina|Capital Federal|Mataderos|    Argentina   \n",
       "1  |Argentina|Bs.As. G.B.A. Zona Sur|La Plata|    Argentina   \n",
       "2        |Argentina|Capital Federal|Mataderos|    Argentina   \n",
       "\n",
       "               state_name  geonames_id        lat        lon     price  \\\n",
       "0         Capital Federal    3430787.0 -34.661824 -58.508839   62000.0   \n",
       "1  Bs.As. G.B.A. Zona Sur    3432039.0 -34.903883 -57.964330  150000.0   \n",
       "2         Capital Federal    3430787.0 -34.652262 -58.522982   72000.0   \n",
       "\n",
       "  currency  price_aprox_usd  surface_total_in_m2  surface_covered_in_m2  \\\n",
       "0      USD          62000.0                 55.0                   40.0   \n",
       "1      USD         150000.0                  NaN                    NaN   \n",
       "2      USD          72000.0                 55.0                   55.0   \n",
       "\n",
       "   price_usd_per_m2  price_per_m2  floor  rooms  \\\n",
       "0       1127.272727   1550.000000    NaN    NaN   \n",
       "1               NaN           NaN    NaN    NaN   \n",
       "2       1309.090909   1309.090909    NaN    NaN   \n",
       "\n",
       "                                         description  \\\n",
       "0  2 AMBIENTES TIPO CASA PLANTA BAJA POR PASILLO,...   \n",
       "1  Venta de departamento en dÃ©cimo piso al frent...   \n",
       "2  2 AMBIENTES 3ER PISO LATERAL LIVING COMEDOR AM...   \n",
       "\n",
       "                                               title  \n",
       "0                 2 AMB TIPO CASA SIN EXPENSAS EN PB  \n",
       "1  VENTA Depto 2 dorm. a estrenar 7 e/ 36 y 37   ...  \n",
       "2           2 AMB 3ER PISO CON ASCENSOR APTO CREDITO  "
      ]
     },
     "execution_count": 11,
     "metadata": {},
     "output_type": "execute_result"
    }
   ],
   "source": [
    "data_1.head(3)"
   ]
  },
  {
   "cell_type": "code",
   "execution_count": 12,
   "id": "06a72615",
   "metadata": {},
   "outputs": [
    {
     "data": {
      "text/plain": [
       "<AxesSubplot:>"
      ]
     },
     "execution_count": 12,
     "metadata": {},
     "output_type": "execute_result"
    },
    {
     "data": {
      "image/png": "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\n",
      "text/plain": [
       "<Figure size 432x288 with 1 Axes>"
      ]
     },
     "metadata": {
      "needs_background": "light"
     },
     "output_type": "display_data"
    }
   ],
   "source": [
    "#Numero de nulos por columna:\n",
    "vc_nulls = data_1.apply(lambda x: x.isnull().value_counts()).T[True]\n",
    "vc_nulls.hist() \n",
    "vc_nulls.plot(kind = 'bar')"
   ]
  },
  {
   "cell_type": "code",
   "execution_count": 13,
   "id": "255fdfc2",
   "metadata": {},
   "outputs": [
    {
     "data": {
      "text/plain": [
       "array(['USD', nan, 'ARS', 'PEN', 'UYU'], dtype=object)"
      ]
     },
     "execution_count": 13,
     "metadata": {},
     "output_type": "execute_result"
    }
   ],
   "source": [
    "#Filtramos y limpiamos moneda dejando unicamente USD y ARS:\n",
    "monedas=data_1['currency'].unique()\n",
    "monedas"
   ]
  },
  {
   "cell_type": "code",
   "execution_count": 14,
   "id": "aea54b72",
   "metadata": {},
   "outputs": [
    {
     "data": {
      "text/plain": [
       "USD    87587\n",
       "ARS    13219\n",
       "PEN        2\n",
       "UYU        1\n",
       "Name: currency, dtype: int64"
      ]
     },
     "execution_count": 14,
     "metadata": {},
     "output_type": "execute_result"
    }
   ],
   "source": [
    "data_1['currency'].value_counts()"
   ]
  },
  {
   "cell_type": "code",
   "execution_count": 15,
   "id": "5254542a",
   "metadata": {},
   "outputs": [
    {
     "data": {
      "text/html": [
       "<div>\n",
       "<style scoped>\n",
       "    .dataframe tbody tr th:only-of-type {\n",
       "        vertical-align: middle;\n",
       "    }\n",
       "\n",
       "    .dataframe tbody tr th {\n",
       "        vertical-align: top;\n",
       "    }\n",
       "\n",
       "    .dataframe thead th {\n",
       "        text-align: right;\n",
       "    }\n",
       "</style>\n",
       "<table border=\"1\" class=\"dataframe\">\n",
       "  <thead>\n",
       "    <tr style=\"text-align: right;\">\n",
       "      <th></th>\n",
       "      <th>operation</th>\n",
       "      <th>property_type</th>\n",
       "      <th>place_name</th>\n",
       "      <th>place_with_parent_names</th>\n",
       "      <th>country_name</th>\n",
       "      <th>state_name</th>\n",
       "      <th>geonames_id</th>\n",
       "      <th>lat</th>\n",
       "      <th>lon</th>\n",
       "      <th>price</th>\n",
       "      <th>currency</th>\n",
       "      <th>price_aprox_usd</th>\n",
       "      <th>surface_total_in_m2</th>\n",
       "      <th>surface_covered_in_m2</th>\n",
       "      <th>price_usd_per_m2</th>\n",
       "      <th>price_per_m2</th>\n",
       "      <th>floor</th>\n",
       "      <th>rooms</th>\n",
       "      <th>description</th>\n",
       "      <th>title</th>\n",
       "    </tr>\n",
       "  </thead>\n",
       "  <tbody>\n",
       "    <tr>\n",
       "      <th>107390</th>\n",
       "      <td>sell</td>\n",
       "      <td>house</td>\n",
       "      <td>San Roque</td>\n",
       "      <td>|Argentina|Mendoza|San Roque|</td>\n",
       "      <td>Argentina</td>\n",
       "      <td>Mendoza</td>\n",
       "      <td>3836586.0</td>\n",
       "      <td>NaN</td>\n",
       "      <td>NaN</td>\n",
       "      <td>650000000.0</td>\n",
       "      <td>UYU</td>\n",
       "      <td>22980378.29</td>\n",
       "      <td>NaN</td>\n",
       "      <td>NaN</td>\n",
       "      <td>NaN</td>\n",
       "      <td>NaN</td>\n",
       "      <td>NaN</td>\n",
       "      <td>NaN</td>\n",
       "      <td>Casa con CalefacciÃ³n central, Mendoza, San Ro...</td>\n",
       "      <td>Casa - San Vicente</td>\n",
       "    </tr>\n",
       "  </tbody>\n",
       "</table>\n",
       "</div>"
      ],
      "text/plain": [
       "       operation property_type place_name        place_with_parent_names  \\\n",
       "107390      sell         house  San Roque  |Argentina|Mendoza|San Roque|   \n",
       "\n",
       "       country_name state_name  geonames_id  lat  lon        price currency  \\\n",
       "107390    Argentina    Mendoza    3836586.0  NaN  NaN  650000000.0      UYU   \n",
       "\n",
       "        price_aprox_usd  surface_total_in_m2  surface_covered_in_m2  \\\n",
       "107390      22980378.29                  NaN                    NaN   \n",
       "\n",
       "        price_usd_per_m2  price_per_m2  floor  rooms  \\\n",
       "107390               NaN           NaN    NaN    NaN   \n",
       "\n",
       "                                              description               title  \n",
       "107390  Casa con CalefacciÃ³n central, Mendoza, San Ro...  Casa - San Vicente  "
      ]
     },
     "execution_count": 15,
     "metadata": {},
     "output_type": "execute_result"
    }
   ],
   "source": [
    "mask1=data['currency']=='UYU'\n",
    "data_1[mask1]"
   ]
  },
  {
   "cell_type": "code",
   "execution_count": 16,
   "id": "afb25bdc",
   "metadata": {},
   "outputs": [
    {
     "data": {
      "text/html": [
       "<div>\n",
       "<style scoped>\n",
       "    .dataframe tbody tr th:only-of-type {\n",
       "        vertical-align: middle;\n",
       "    }\n",
       "\n",
       "    .dataframe tbody tr th {\n",
       "        vertical-align: top;\n",
       "    }\n",
       "\n",
       "    .dataframe thead th {\n",
       "        text-align: right;\n",
       "    }\n",
       "</style>\n",
       "<table border=\"1\" class=\"dataframe\">\n",
       "  <thead>\n",
       "    <tr style=\"text-align: right;\">\n",
       "      <th></th>\n",
       "      <th>operation</th>\n",
       "      <th>property_type</th>\n",
       "      <th>place_name</th>\n",
       "      <th>place_with_parent_names</th>\n",
       "      <th>country_name</th>\n",
       "      <th>state_name</th>\n",
       "      <th>geonames_id</th>\n",
       "      <th>lat</th>\n",
       "      <th>lon</th>\n",
       "      <th>price</th>\n",
       "      <th>currency</th>\n",
       "      <th>price_aprox_usd</th>\n",
       "      <th>surface_total_in_m2</th>\n",
       "      <th>surface_covered_in_m2</th>\n",
       "      <th>price_usd_per_m2</th>\n",
       "      <th>price_per_m2</th>\n",
       "      <th>floor</th>\n",
       "      <th>rooms</th>\n",
       "      <th>description</th>\n",
       "      <th>title</th>\n",
       "    </tr>\n",
       "  </thead>\n",
       "  <tbody>\n",
       "    <tr>\n",
       "      <th>50387</th>\n",
       "      <td>sell</td>\n",
       "      <td>apartment</td>\n",
       "      <td>Capital Federal</td>\n",
       "      <td>|Argentina|Capital Federal|</td>\n",
       "      <td>Argentina</td>\n",
       "      <td>Capital Federal</td>\n",
       "      <td>3433955.0</td>\n",
       "      <td>NaN</td>\n",
       "      <td>NaN</td>\n",
       "      <td>380000.0</td>\n",
       "      <td>PEN</td>\n",
       "      <td>117139.33</td>\n",
       "      <td>NaN</td>\n",
       "      <td>NaN</td>\n",
       "      <td>NaN</td>\n",
       "      <td>NaN</td>\n",
       "      <td>NaN</td>\n",
       "      <td>NaN</td>\n",
       "      <td>Ref.: 55:PREVENTA ::: OPORTUNIDAD ::: DÃºplex ...</td>\n",
       "      <td>DUPLEX A LA VENTA | Liniers 1200 | Tandil</td>\n",
       "    </tr>\n",
       "    <tr>\n",
       "      <th>50388</th>\n",
       "      <td>sell</td>\n",
       "      <td>apartment</td>\n",
       "      <td>Capital Federal</td>\n",
       "      <td>|Argentina|Capital Federal|</td>\n",
       "      <td>Argentina</td>\n",
       "      <td>Capital Federal</td>\n",
       "      <td>3433955.0</td>\n",
       "      <td>NaN</td>\n",
       "      <td>NaN</td>\n",
       "      <td>950000.0</td>\n",
       "      <td>PEN</td>\n",
       "      <td>292848.33</td>\n",
       "      <td>NaN</td>\n",
       "      <td>NaN</td>\n",
       "      <td>NaN</td>\n",
       "      <td>NaN</td>\n",
       "      <td>NaN</td>\n",
       "      <td>NaN</td>\n",
       "      <td>Ref.: 56Duplex en venta de 1 dormitorio con ap...</td>\n",
       "      <td>DUPLEX A LA VENTA | Liniers 1200 | Tandil</td>\n",
       "    </tr>\n",
       "  </tbody>\n",
       "</table>\n",
       "</div>"
      ],
      "text/plain": [
       "      operation property_type       place_name      place_with_parent_names  \\\n",
       "50387      sell     apartment  Capital Federal  |Argentina|Capital Federal|   \n",
       "50388      sell     apartment  Capital Federal  |Argentina|Capital Federal|   \n",
       "\n",
       "      country_name       state_name  geonames_id  lat  lon     price currency  \\\n",
       "50387    Argentina  Capital Federal    3433955.0  NaN  NaN  380000.0      PEN   \n",
       "50388    Argentina  Capital Federal    3433955.0  NaN  NaN  950000.0      PEN   \n",
       "\n",
       "       price_aprox_usd  surface_total_in_m2  surface_covered_in_m2  \\\n",
       "50387        117139.33                  NaN                    NaN   \n",
       "50388        292848.33                  NaN                    NaN   \n",
       "\n",
       "       price_usd_per_m2  price_per_m2  floor  rooms  \\\n",
       "50387               NaN           NaN    NaN    NaN   \n",
       "50388               NaN           NaN    NaN    NaN   \n",
       "\n",
       "                                             description  \\\n",
       "50387  Ref.: 55:PREVENTA ::: OPORTUNIDAD ::: DÃºplex ...   \n",
       "50388  Ref.: 56Duplex en venta de 1 dormitorio con ap...   \n",
       "\n",
       "                                           title  \n",
       "50387  DUPLEX A LA VENTA | Liniers 1200 | Tandil  \n",
       "50388  DUPLEX A LA VENTA | Liniers 1200 | Tandil  "
      ]
     },
     "execution_count": 16,
     "metadata": {},
     "output_type": "execute_result"
    }
   ],
   "source": [
    "mask2=data['currency']=='PEN'\n",
    "data_1[mask2]"
   ]
  },
  {
   "cell_type": "code",
   "execution_count": 17,
   "id": "a88d9430",
   "metadata": {},
   "outputs": [
    {
     "data": {
      "text/plain": [
       "array(['USD', nan, 'ARS'], dtype=object)"
      ]
     },
     "execution_count": 17,
     "metadata": {},
     "output_type": "execute_result"
    }
   ],
   "source": [
    "data_2=data_1.drop(index=[107390,50387,50388])\n",
    "data_2['currency'].unique()"
   ]
  },
  {
   "cell_type": "code",
   "execution_count": 18,
   "id": "2e02eb84",
   "metadata": {},
   "outputs": [
    {
     "data": {
      "text/html": [
       "<div>\n",
       "<style scoped>\n",
       "    .dataframe tbody tr th:only-of-type {\n",
       "        vertical-align: middle;\n",
       "    }\n",
       "\n",
       "    .dataframe tbody tr th {\n",
       "        vertical-align: top;\n",
       "    }\n",
       "\n",
       "    .dataframe thead th {\n",
       "        text-align: right;\n",
       "    }\n",
       "</style>\n",
       "<table border=\"1\" class=\"dataframe\">\n",
       "  <thead>\n",
       "    <tr style=\"text-align: right;\">\n",
       "      <th></th>\n",
       "      <th>operation</th>\n",
       "      <th>property_type</th>\n",
       "      <th>place_name</th>\n",
       "      <th>place_with_parent_names</th>\n",
       "      <th>country_name</th>\n",
       "      <th>state_name</th>\n",
       "      <th>geonames_id</th>\n",
       "      <th>lat</th>\n",
       "      <th>lon</th>\n",
       "      <th>price</th>\n",
       "      <th>currency</th>\n",
       "      <th>price_aprox_usd</th>\n",
       "      <th>surface_total_in_m2</th>\n",
       "      <th>surface_covered_in_m2</th>\n",
       "      <th>price_usd_per_m2</th>\n",
       "      <th>price_per_m2</th>\n",
       "      <th>floor</th>\n",
       "      <th>rooms</th>\n",
       "      <th>description</th>\n",
       "      <th>title</th>\n",
       "    </tr>\n",
       "  </thead>\n",
       "  <tbody>\n",
       "    <tr>\n",
       "      <th>0</th>\n",
       "      <td>sell</td>\n",
       "      <td>PH</td>\n",
       "      <td>Mataderos</td>\n",
       "      <td>|Argentina|Capital Federal|Mataderos|</td>\n",
       "      <td>Argentina</td>\n",
       "      <td>Capital Federal</td>\n",
       "      <td>3430787.0</td>\n",
       "      <td>-34.661824</td>\n",
       "      <td>-58.508839</td>\n",
       "      <td>62000.0</td>\n",
       "      <td>USD</td>\n",
       "      <td>62000.0</td>\n",
       "      <td>55.0</td>\n",
       "      <td>40.0</td>\n",
       "      <td>1127.272727</td>\n",
       "      <td>1550.0</td>\n",
       "      <td>NaN</td>\n",
       "      <td>NaN</td>\n",
       "      <td>2 AMBIENTES TIPO CASA PLANTA BAJA POR PASILLO,...</td>\n",
       "      <td>2 AMB TIPO CASA SIN EXPENSAS EN PB</td>\n",
       "    </tr>\n",
       "    <tr>\n",
       "      <th>1</th>\n",
       "      <td>sell</td>\n",
       "      <td>apartment</td>\n",
       "      <td>La Plata</td>\n",
       "      <td>|Argentina|Bs.As. G.B.A. Zona Sur|La Plata|</td>\n",
       "      <td>Argentina</td>\n",
       "      <td>Bs.As. G.B.A. Zona Sur</td>\n",
       "      <td>3432039.0</td>\n",
       "      <td>-34.903883</td>\n",
       "      <td>-57.964330</td>\n",
       "      <td>150000.0</td>\n",
       "      <td>USD</td>\n",
       "      <td>150000.0</td>\n",
       "      <td>NaN</td>\n",
       "      <td>NaN</td>\n",
       "      <td>NaN</td>\n",
       "      <td>NaN</td>\n",
       "      <td>NaN</td>\n",
       "      <td>NaN</td>\n",
       "      <td>Venta de departamento en dÃ©cimo piso al frent...</td>\n",
       "      <td>VENTA Depto 2 dorm. a estrenar 7 e/ 36 y 37   ...</td>\n",
       "    </tr>\n",
       "  </tbody>\n",
       "</table>\n",
       "</div>"
      ],
      "text/plain": [
       "  operation property_type place_name  \\\n",
       "0      sell            PH  Mataderos   \n",
       "1      sell     apartment   La Plata   \n",
       "\n",
       "                       place_with_parent_names country_name  \\\n",
       "0        |Argentina|Capital Federal|Mataderos|    Argentina   \n",
       "1  |Argentina|Bs.As. G.B.A. Zona Sur|La Plata|    Argentina   \n",
       "\n",
       "               state_name  geonames_id        lat        lon     price  \\\n",
       "0         Capital Federal    3430787.0 -34.661824 -58.508839   62000.0   \n",
       "1  Bs.As. G.B.A. Zona Sur    3432039.0 -34.903883 -57.964330  150000.0   \n",
       "\n",
       "  currency  price_aprox_usd  surface_total_in_m2  surface_covered_in_m2  \\\n",
       "0      USD          62000.0                 55.0                   40.0   \n",
       "1      USD         150000.0                  NaN                    NaN   \n",
       "\n",
       "   price_usd_per_m2  price_per_m2  floor  rooms  \\\n",
       "0       1127.272727        1550.0    NaN    NaN   \n",
       "1               NaN           NaN    NaN    NaN   \n",
       "\n",
       "                                         description  \\\n",
       "0  2 AMBIENTES TIPO CASA PLANTA BAJA POR PASILLO,...   \n",
       "1  Venta de departamento en dÃ©cimo piso al frent...   \n",
       "\n",
       "                                               title  \n",
       "0                 2 AMB TIPO CASA SIN EXPENSAS EN PB  \n",
       "1  VENTA Depto 2 dorm. a estrenar 7 e/ 36 y 37   ...  "
      ]
     },
     "execution_count": 18,
     "metadata": {},
     "output_type": "execute_result"
    }
   ],
   "source": [
    "data_2.head(2)"
   ]
  },
  {
   "cell_type": "code",
   "execution_count": 19,
   "id": "955edacb",
   "metadata": {},
   "outputs": [
    {
     "data": {
      "text/plain": [
       "0"
      ]
     },
     "execution_count": 19,
     "metadata": {},
     "output_type": "execute_result"
    }
   ],
   "source": [
    "maskarg=data_2['currency']=='ARS'\n",
    "data_2[maskarg]['price_aprox_usd'].isnull().sum()"
   ]
  },
  {
   "cell_type": "code",
   "execution_count": 20,
   "id": "1b19733a",
   "metadata": {},
   "outputs": [
    {
     "name": "stdout",
     "output_type": "stream",
     "text": [
      "<class 'pandas.core.frame.DataFrame'>\n",
      "Int64Index: 106370 entries, 0 to 121219\n",
      "Data columns (total 20 columns):\n",
      " #   Column                   Non-Null Count   Dtype  \n",
      "---  ------                   --------------   -----  \n",
      " 0   operation                106370 non-null  object \n",
      " 1   property_type            106370 non-null  object \n",
      " 2   place_name               106347 non-null  object \n",
      " 3   place_with_parent_names  106370 non-null  object \n",
      " 4   country_name             106370 non-null  object \n",
      " 5   state_name               106370 non-null  object \n",
      " 6   geonames_id              89400 non-null   float64\n",
      " 7   lat                      64073 non-null   float64\n",
      " 8   lon                      64073 non-null   float64\n",
      " 9   price                    90152 non-null   float64\n",
      " 10  currency                 90151 non-null   object \n",
      " 11  price_aprox_usd          90152 non-null   float64\n",
      " 12  surface_total_in_m2      69725 non-null   float64\n",
      " 13  surface_covered_in_m2    88630 non-null   float64\n",
      " 14  price_usd_per_m2         59951 non-null   float64\n",
      " 15  price_per_m2             78002 non-null   float64\n",
      " 16  floor                    6836 non-null    float64\n",
      " 17  rooms                    43367 non-null   float64\n",
      " 18  description              106368 non-null  object \n",
      " 19  title                    106370 non-null  object \n",
      "dtypes: float64(11), object(9)\n",
      "memory usage: 17.0+ MB\n"
     ]
    }
   ],
   "source": [
    "#Eliminacion de duplicados con igual latitud, longitud y descripcion:\n",
    "data_2_nodup = data_2.drop_duplicates(subset = ['description',\"lat\", \"lon\"], keep = \"first\")\n",
    "data_2_nodup.info()"
   ]
  },
  {
   "cell_type": "code",
   "execution_count": 21,
   "id": "59f32057",
   "metadata": {},
   "outputs": [
    {
     "data": {
      "text/html": [
       "<div>\n",
       "<style scoped>\n",
       "    .dataframe tbody tr th:only-of-type {\n",
       "        vertical-align: middle;\n",
       "    }\n",
       "\n",
       "    .dataframe tbody tr th {\n",
       "        vertical-align: top;\n",
       "    }\n",
       "\n",
       "    .dataframe thead th {\n",
       "        text-align: right;\n",
       "    }\n",
       "</style>\n",
       "<table border=\"1\" class=\"dataframe\">\n",
       "  <thead>\n",
       "    <tr style=\"text-align: right;\">\n",
       "      <th></th>\n",
       "      <th>operation</th>\n",
       "      <th>property_type</th>\n",
       "      <th>place_name</th>\n",
       "      <th>place_with_parent_names</th>\n",
       "      <th>country_name</th>\n",
       "      <th>state_name</th>\n",
       "      <th>geonames_id</th>\n",
       "      <th>lat</th>\n",
       "      <th>lon</th>\n",
       "      <th>price</th>\n",
       "      <th>currency</th>\n",
       "      <th>price_aprox_usd</th>\n",
       "      <th>surface_total_in_m2</th>\n",
       "      <th>surface_covered_in_m2</th>\n",
       "      <th>price_usd_per_m2</th>\n",
       "      <th>price_per_m2</th>\n",
       "      <th>floor</th>\n",
       "      <th>rooms</th>\n",
       "      <th>description</th>\n",
       "      <th>title</th>\n",
       "    </tr>\n",
       "  </thead>\n",
       "  <tbody>\n",
       "    <tr>\n",
       "      <th>0</th>\n",
       "      <td>sell</td>\n",
       "      <td>PH</td>\n",
       "      <td>Mataderos</td>\n",
       "      <td>|Argentina|Capital Federal|Mataderos|</td>\n",
       "      <td>Argentina</td>\n",
       "      <td>Capital Federal</td>\n",
       "      <td>3430787.0</td>\n",
       "      <td>-34.661824</td>\n",
       "      <td>-58.508839</td>\n",
       "      <td>62000.0</td>\n",
       "      <td>USD</td>\n",
       "      <td>62000.0</td>\n",
       "      <td>55.0</td>\n",
       "      <td>40.0</td>\n",
       "      <td>1127.272727</td>\n",
       "      <td>1550.000000</td>\n",
       "      <td>NaN</td>\n",
       "      <td>NaN</td>\n",
       "      <td>2 AMBIENTES TIPO CASA PLANTA BAJA POR PASILLO,...</td>\n",
       "      <td>2 AMB TIPO CASA SIN EXPENSAS EN PB</td>\n",
       "    </tr>\n",
       "    <tr>\n",
       "      <th>1</th>\n",
       "      <td>sell</td>\n",
       "      <td>apartment</td>\n",
       "      <td>La Plata</td>\n",
       "      <td>|Argentina|Bs.As. G.B.A. Zona Sur|La Plata|</td>\n",
       "      <td>Argentina</td>\n",
       "      <td>Bs.As. G.B.A. Zona Sur</td>\n",
       "      <td>3432039.0</td>\n",
       "      <td>-34.903883</td>\n",
       "      <td>-57.964330</td>\n",
       "      <td>150000.0</td>\n",
       "      <td>USD</td>\n",
       "      <td>150000.0</td>\n",
       "      <td>NaN</td>\n",
       "      <td>NaN</td>\n",
       "      <td>NaN</td>\n",
       "      <td>NaN</td>\n",
       "      <td>NaN</td>\n",
       "      <td>NaN</td>\n",
       "      <td>Venta de departamento en dÃ©cimo piso al frent...</td>\n",
       "      <td>VENTA Depto 2 dorm. a estrenar 7 e/ 36 y 37   ...</td>\n",
       "    </tr>\n",
       "    <tr>\n",
       "      <th>2</th>\n",
       "      <td>sell</td>\n",
       "      <td>apartment</td>\n",
       "      <td>Mataderos</td>\n",
       "      <td>|Argentina|Capital Federal|Mataderos|</td>\n",
       "      <td>Argentina</td>\n",
       "      <td>Capital Federal</td>\n",
       "      <td>3430787.0</td>\n",
       "      <td>-34.652262</td>\n",
       "      <td>-58.522982</td>\n",
       "      <td>72000.0</td>\n",
       "      <td>USD</td>\n",
       "      <td>72000.0</td>\n",
       "      <td>55.0</td>\n",
       "      <td>55.0</td>\n",
       "      <td>1309.090909</td>\n",
       "      <td>1309.090909</td>\n",
       "      <td>NaN</td>\n",
       "      <td>NaN</td>\n",
       "      <td>2 AMBIENTES 3ER PISO LATERAL LIVING COMEDOR AM...</td>\n",
       "      <td>2 AMB 3ER PISO CON ASCENSOR APTO CREDITO</td>\n",
       "    </tr>\n",
       "    <tr>\n",
       "      <th>3</th>\n",
       "      <td>sell</td>\n",
       "      <td>PH</td>\n",
       "      <td>Liniers</td>\n",
       "      <td>|Argentina|Capital Federal|Liniers|</td>\n",
       "      <td>Argentina</td>\n",
       "      <td>Capital Federal</td>\n",
       "      <td>3431333.0</td>\n",
       "      <td>-34.647797</td>\n",
       "      <td>-58.516424</td>\n",
       "      <td>95000.0</td>\n",
       "      <td>USD</td>\n",
       "      <td>95000.0</td>\n",
       "      <td>NaN</td>\n",
       "      <td>NaN</td>\n",
       "      <td>NaN</td>\n",
       "      <td>NaN</td>\n",
       "      <td>NaN</td>\n",
       "      <td>NaN</td>\n",
       "      <td>PH 3 ambientes con patio. Hay 3 deptos en lote...</td>\n",
       "      <td>PH 3 amb. cfte. reciclado</td>\n",
       "    </tr>\n",
       "    <tr>\n",
       "      <th>4</th>\n",
       "      <td>sell</td>\n",
       "      <td>apartment</td>\n",
       "      <td>Centro</td>\n",
       "      <td>|Argentina|Buenos Aires Costa AtlÃ¡ntica|Mar d...</td>\n",
       "      <td>Argentina</td>\n",
       "      <td>Buenos Aires Costa AtlÃ¡ntica</td>\n",
       "      <td>3435548.0</td>\n",
       "      <td>-38.002626</td>\n",
       "      <td>-57.549447</td>\n",
       "      <td>64000.0</td>\n",
       "      <td>USD</td>\n",
       "      <td>64000.0</td>\n",
       "      <td>35.0</td>\n",
       "      <td>35.0</td>\n",
       "      <td>1828.571429</td>\n",
       "      <td>1828.571429</td>\n",
       "      <td>NaN</td>\n",
       "      <td>NaN</td>\n",
       "      <td>DEPARTAMENTO CON FANTÃSTICA ILUMINACIÃN NATU...</td>\n",
       "      <td>DEPTO 2 AMB AL CONTRAFRENTE ZONA CENTRO/PLAZA ...</td>\n",
       "    </tr>\n",
       "  </tbody>\n",
       "</table>\n",
       "</div>"
      ],
      "text/plain": [
       "  operation property_type place_name  \\\n",
       "0      sell            PH  Mataderos   \n",
       "1      sell     apartment   La Plata   \n",
       "2      sell     apartment  Mataderos   \n",
       "3      sell            PH    Liniers   \n",
       "4      sell     apartment     Centro   \n",
       "\n",
       "                             place_with_parent_names country_name  \\\n",
       "0              |Argentina|Capital Federal|Mataderos|    Argentina   \n",
       "1        |Argentina|Bs.As. G.B.A. Zona Sur|La Plata|    Argentina   \n",
       "2              |Argentina|Capital Federal|Mataderos|    Argentina   \n",
       "3                |Argentina|Capital Federal|Liniers|    Argentina   \n",
       "4  |Argentina|Buenos Aires Costa AtlÃ¡ntica|Mar d...    Argentina   \n",
       "\n",
       "                      state_name  geonames_id        lat        lon     price  \\\n",
       "0                Capital Federal    3430787.0 -34.661824 -58.508839   62000.0   \n",
       "1         Bs.As. G.B.A. Zona Sur    3432039.0 -34.903883 -57.964330  150000.0   \n",
       "2                Capital Federal    3430787.0 -34.652262 -58.522982   72000.0   \n",
       "3                Capital Federal    3431333.0 -34.647797 -58.516424   95000.0   \n",
       "4  Buenos Aires Costa AtlÃ¡ntica    3435548.0 -38.002626 -57.549447   64000.0   \n",
       "\n",
       "  currency  price_aprox_usd  surface_total_in_m2  surface_covered_in_m2  \\\n",
       "0      USD          62000.0                 55.0                   40.0   \n",
       "1      USD         150000.0                  NaN                    NaN   \n",
       "2      USD          72000.0                 55.0                   55.0   \n",
       "3      USD          95000.0                  NaN                    NaN   \n",
       "4      USD          64000.0                 35.0                   35.0   \n",
       "\n",
       "   price_usd_per_m2  price_per_m2  floor  rooms  \\\n",
       "0       1127.272727   1550.000000    NaN    NaN   \n",
       "1               NaN           NaN    NaN    NaN   \n",
       "2       1309.090909   1309.090909    NaN    NaN   \n",
       "3               NaN           NaN    NaN    NaN   \n",
       "4       1828.571429   1828.571429    NaN    NaN   \n",
       "\n",
       "                                         description  \\\n",
       "0  2 AMBIENTES TIPO CASA PLANTA BAJA POR PASILLO,...   \n",
       "1  Venta de departamento en dÃ©cimo piso al frent...   \n",
       "2  2 AMBIENTES 3ER PISO LATERAL LIVING COMEDOR AM...   \n",
       "3  PH 3 ambientes con patio. Hay 3 deptos en lote...   \n",
       "4  DEPARTAMENTO CON FANTÃSTICA ILUMINACIÃN NATU...   \n",
       "\n",
       "                                               title  \n",
       "0                 2 AMB TIPO CASA SIN EXPENSAS EN PB  \n",
       "1  VENTA Depto 2 dorm. a estrenar 7 e/ 36 y 37   ...  \n",
       "2           2 AMB 3ER PISO CON ASCENSOR APTO CREDITO  \n",
       "3                       PH 3 amb. cfte. reciclado     \n",
       "4  DEPTO 2 AMB AL CONTRAFRENTE ZONA CENTRO/PLAZA ...  "
      ]
     },
     "execution_count": 21,
     "metadata": {},
     "output_type": "execute_result"
    }
   ],
   "source": [
    "data_2_nodup.head(5)"
   ]
  },
  {
   "cell_type": "code",
   "execution_count": 22,
   "id": "cc652c7e",
   "metadata": {},
   "outputs": [
    {
     "data": {
      "text/plain": [
       "count    9.015200e+04\n",
       "mean     2.453367e+05\n",
       "std      3.946684e+05\n",
       "min      0.000000e+00\n",
       "25%      9.000000e+04\n",
       "50%      1.500000e+05\n",
       "75%      2.750000e+05\n",
       "max      4.654544e+07\n",
       "Name: price_aprox_usd, dtype: float64"
      ]
     },
     "execution_count": 22,
     "metadata": {},
     "output_type": "execute_result"
    }
   ],
   "source": [
    "#Analisis de outliers sobre la columna de precios 'price_aprox_usd':\n",
    "describe_price_aprox_usd = data_2_nodup[\"price_aprox_usd\"].describe()\n",
    "describe_price_aprox_usd"
   ]
  },
  {
   "cell_type": "code",
   "execution_count": 23,
   "id": "c00c524b",
   "metadata": {},
   "outputs": [
    {
     "name": "stdout",
     "output_type": "stream",
     "text": [
      "90114.0\n",
      "197668.34570791555\n",
      "304917.08987117035\n",
      "627121.7246779259\n",
      "-232090.63480675552\n"
     ]
    }
   ],
   "source": [
    "q1 = describe_price_aprox_usd.quantile(0.25)\n",
    "print(q1)\n",
    "q2 = describe_price_aprox_usd.quantile(0.5)\n",
    "print(q2)\n",
    "q3 = describe_price_aprox_usd.quantile(0.75)\n",
    "print(q3)\n",
    "\n",
    "\n",
    "iqr = (q3 - q1) * 1.5\n",
    "\n",
    "up_threshold = q3 + iqr\n",
    "low_threshold = q1 - iqr\n",
    "\n",
    "print(up_threshold)\n",
    "print(low_threshold)\n",
    "\n",
    "outlier_mask_up = describe_price_aprox_usd > up_threshold\n",
    "outlier_mask_down = describe_price_aprox_usd < low_threshold\n",
    "outlier_mask = np.logical_or(outlier_mask_up, outlier_mask_down)\n",
    "not_outliers = np.logical_not(outlier_mask)\n",
    "\n",
    "outliers = describe_price_aprox_usd[outlier_mask]"
   ]
  },
  {
   "cell_type": "code",
   "execution_count": 24,
   "id": "120ab2bd",
   "metadata": {},
   "outputs": [
    {
     "data": {
      "text/plain": [
       "count         7.000000\n",
       "mean     177879.578700\n",
       "std      134670.943171\n",
       "min           0.000000\n",
       "25%       90076.000000\n",
       "50%      150000.000000\n",
       "75%      260168.345708\n",
       "max      394668.359485\n",
       "Name: price_aprox_usd, dtype: float64"
      ]
     },
     "execution_count": 24,
     "metadata": {},
     "output_type": "execute_result"
    }
   ],
   "source": [
    "describe_price_aprox_usd_filtered = describe_price_aprox_usd[not_outliers]\n",
    "describe_price_aprox_usd_filtered.describe()"
   ]
  },
  {
   "cell_type": "code",
   "execution_count": 25,
   "id": "463dcbda",
   "metadata": {},
   "outputs": [
    {
     "data": {
      "text/plain": [
       "count    8.000000e+00\n",
       "mean     5.973825e+06\n",
       "std      1.639388e+07\n",
       "min      0.000000e+00\n",
       "25%      9.011400e+04\n",
       "50%      1.976683e+05\n",
       "75%      3.049171e+05\n",
       "max      4.654544e+07\n",
       "Name: price_aprox_usd, dtype: float64"
      ]
     },
     "execution_count": 25,
     "metadata": {},
     "output_type": "execute_result"
    }
   ],
   "source": [
    "describe_price_aprox_usd.describe()"
   ]
  },
  {
   "cell_type": "code",
   "execution_count": 27,
   "id": "6a622918",
   "metadata": {},
   "outputs": [
    {
     "name": "stderr",
     "output_type": "stream",
     "text": [
      "<ipython-input-27-b35452db9ccb>:2: SettingWithCopyWarning: \n",
      "A value is trying to be set on a copy of a slice from a DataFrame.\n",
      "Try using .loc[row_indexer,col_indexer] = value instead\n",
      "\n",
      "See the caveats in the documentation: https://pandas.pydata.org/pandas-docs/stable/user_guide/indexing.html#returning-a-view-versus-a-copy\n",
      "  data_2_nodup['price_usd_per_m2_clean'] = data_2_nodup['price_usd_per_m2']\n",
      "C:\\Users\\Equipo\\anaconda3\\envs\\dhdsblend2021\\lib\\site-packages\\pandas\\core\\indexing.py:1743: SettingWithCopyWarning: \n",
      "A value is trying to be set on a copy of a slice from a DataFrame.\n",
      "Try using .loc[row_indexer,col_indexer] = value instead\n",
      "\n",
      "See the caveats in the documentation: https://pandas.pydata.org/pandas-docs/stable/user_guide/indexing.html#returning-a-view-versus-a-copy\n",
      "  isetter(ilocs[0], value)\n"
     ]
    },
    {
     "data": {
      "text/plain": [
       "0.22255335150888408"
      ]
     },
     "execution_count": 27,
     "metadata": {},
     "output_type": "execute_result"
    }
   ],
   "source": [
    "#Imputacion precio 'price_usd_per_m2':\n",
    "data_2_nodup['price_usd_per_m2_clean'] = data_2_nodup['price_usd_per_m2']\n",
    "mask1 = data_2_nodup['price_usd_per_m2_clean'].isnull()\n",
    "\n",
    "(data_2_nodup.loc[mask1, 'price_usd_per_m2_clean']).isnull().sum()\n",
    "data_2_nodup.loc[mask1, 'price_usd_per_m2_clean'] = (data_2_nodup.loc[mask1, 'price']/data_2_nodup.loc[mask1, 'surface_covered_in_m2'])\n",
    "data_2_nodup.loc[:, 'price_usd_per_m2_clean'].isnull().sum()/data_2_nodup.shape[0]"
   ]
  },
  {
   "cell_type": "code",
   "execution_count": 28,
   "id": "ff549454",
   "metadata": {},
   "outputs": [
    {
     "data": {
      "text/plain": [
       "count    8.269700e+04\n",
       "mean     3.558770e+03\n",
       "std      2.620599e+04\n",
       "min      6.000000e-01\n",
       "25%      1.222222e+03\n",
       "50%      1.800000e+03\n",
       "75%      2.520498e+03\n",
       "max      4.000000e+06\n",
       "Name: price_usd_per_m2_clean, dtype: float64"
      ]
     },
     "execution_count": 28,
     "metadata": {},
     "output_type": "execute_result"
    }
   ],
   "source": [
    "#Analisis de outliers sobre la columna 'price_usd_per_m2_clean'\n",
    "describe_price_usd_per_m2_clean = data_2_nodup[\"price_usd_per_m2_clean\"].describe()\n",
    "describe_price_usd_per_m2_clean"
   ]
  },
  {
   "cell_type": "code",
   "execution_count": 29,
   "id": "ad2dfe9e",
   "metadata": {},
   "outputs": [
    {
     "name": "stdout",
     "output_type": "stream",
     "text": [
      "1655.5555555\n",
      "3039.6341115879177\n",
      "40328.74335301968\n",
      "98338.5250492992\n",
      "-56354.226140779516\n"
     ]
    }
   ],
   "source": [
    "q1 = describe_price_usd_per_m2_clean.quantile(0.25)\n",
    "print(q1)\n",
    "q2 = describe_price_usd_per_m2_clean.quantile(0.5)\n",
    "print(q2)\n",
    "q3 = describe_price_usd_per_m2_clean.quantile(0.75)\n",
    "print(q3)\n",
    "\n",
    "\n",
    "iqr = (q3 - q1) * 1.5\n",
    "\n",
    "up_threshold = q3 + iqr\n",
    "low_threshold = q1 - iqr\n",
    "\n",
    "print(up_threshold)\n",
    "print(low_threshold)\n",
    "\n",
    "outlier_mask_up = describe_price_usd_per_m2_clean > up_threshold\n",
    "outlier_mask_down = describe_price_usd_per_m2_clean < low_threshold\n",
    "outlier_mask = np.logical_or(outlier_mask_up, outlier_mask_down)\n",
    "not_outliers = np.logical_not(outlier_mask)\n",
    "\n",
    "outliers = describe_price_usd_per_m2_clean[outlier_mask]"
   ]
  },
  {
   "cell_type": "code",
   "execution_count": 30,
   "id": "31a2c1ad",
   "metadata": {},
   "outputs": [
    {
     "data": {
      "text/plain": [
       "count        7.000000\n",
       "mean     16857.868798\n",
       "std      30441.159581\n",
       "min          0.600000\n",
       "25%       1511.111111\n",
       "50%       2520.498447\n",
       "75%      14882.380457\n",
       "max      82697.000000\n",
       "Name: price_usd_per_m2_clean, dtype: float64"
      ]
     },
     "execution_count": 30,
     "metadata": {},
     "output_type": "execute_result"
    }
   ],
   "source": [
    "describe_price_usd_per_m2_clean_filtered = describe_price_usd_per_m2_clean[not_outliers]\n",
    "describe_price_usd_per_m2_clean_filtered.describe()"
   ]
  },
  {
   "cell_type": "code",
   "execution_count": 31,
   "id": "3e80fc3c",
   "metadata": {},
   "outputs": [
    {
     "data": {
      "text/plain": [
       "count    8.000000e+00\n",
       "mean     5.147506e+05\n",
       "std      1.408535e+06\n",
       "min      6.000000e-01\n",
       "25%      1.655556e+03\n",
       "50%      3.039634e+03\n",
       "75%      4.032874e+04\n",
       "max      4.000000e+06\n",
       "Name: price_usd_per_m2_clean, dtype: float64"
      ]
     },
     "execution_count": 31,
     "metadata": {},
     "output_type": "execute_result"
    }
   ],
   "source": [
    "describe_price_usd_per_m2_clean.describe()"
   ]
  },
  {
   "cell_type": "code",
   "execution_count": 32,
   "id": "0f366913",
   "metadata": {},
   "outputs": [
    {
     "data": {
      "text/plain": [
       "count    82697.000000\n",
       "mean      3558.769776\n",
       "std      26205.991137\n",
       "min          0.600000\n",
       "25%       1222.222222\n",
       "50%       1800.000000\n",
       "75%       2520.498447\n",
       "Name: price_usd_per_m2_clean, dtype: float64"
      ]
     },
     "execution_count": 32,
     "metadata": {},
     "output_type": "execute_result"
    }
   ],
   "source": [
    "describe_price_usd_per_m2_clean_filtered"
   ]
  },
  {
   "cell_type": "markdown",
   "id": "282128df",
   "metadata": {},
   "source": [
    "### <i> Limpieza con REGEX: <i>"
   ]
  },
  {
   "cell_type": "code",
   "execution_count": 33,
   "id": "698f2685",
   "metadata": {},
   "outputs": [
    {
     "data": {
      "text/plain": [
       "'Venta de departamento en dÃ©cimo piso al frente, a estrenar. Living comedor con ventanales hacia el balcÃ³n con pisos de madera. Cocina completa con doble mesada, muebles bajo mesada. Lavadero separado. Toilette.Dormitorio con placard. Segundo dormitorio a dividir. CalefacciÃ³n por radiadorBaÃ±o completo.BalcÃ³n corrido. Posibilidad de cochera semicubierta. U$D 20.000                     Aviso publicado por Pixel Inmobiliario (Servicio de PÃ¡ginas Web para Inmobiliarias).'"
      ]
     },
     "execution_count": 33,
     "metadata": {},
     "output_type": "execute_result"
    }
   ],
   "source": [
    "data_2_nodup['description'][1]"
   ]
  },
  {
   "cell_type": "code",
   "execution_count": 35,
   "id": "7f41188a",
   "metadata": {},
   "outputs": [],
   "source": [
    "#REGEX piletas:\n",
    "pileta_pattern = \"pileta|picina|pisina|piscina\"\n",
    "pileta_regex = re.compile(pileta_pattern, re.I)\n",
    "pileta_matches = data_2_nodup['description'].apply(lambda x: x if x is np.NaN else pileta_regex.search(x))\n",
    "pileta_mask = pileta_matches.notnull()\n",
    "pileta_description = pileta_matches.loc[pileta_mask]"
   ]
  },
  {
   "cell_type": "code",
   "execution_count": 36,
   "id": "3932f9c7",
   "metadata": {},
   "outputs": [
    {
     "data": {
      "text/plain": [
       "7         <re.Match object; span=(102, 108), match='PILE...\n",
       "8         <re.Match object; span=(102, 108), match='PILE...\n",
       "13        <re.Match object; span=(101, 108), match='Pisc...\n",
       "14        <re.Match object; span=(76, 83), match='Piscina'>\n",
       "18        <re.Match object; span=(421, 428), match='Pisc...\n",
       "                                ...                        \n",
       "121155    <re.Match object; span=(263, 269), match='pile...\n",
       "121211    <re.Match object; span=(458, 464), match='pile...\n",
       "121212    <re.Match object; span=(601, 607), match='pile...\n",
       "121213    <re.Match object; span=(269, 275), match='pile...\n",
       "121215    <re.Match object; span=(292, 298), match='pile...\n",
       "Name: description, Length: 28254, dtype: object"
      ]
     },
     "execution_count": 36,
     "metadata": {},
     "output_type": "execute_result"
    }
   ],
   "source": [
    "pileta_description"
   ]
  },
  {
   "cell_type": "code",
   "execution_count": 37,
   "id": "4f88bc5a",
   "metadata": {},
   "outputs": [
    {
     "data": {
      "text/plain": [
       "' Torre I Mondrian. 3 ambientes con terraza y dos baÃ±os al frente.Vitraux ofrece en el ultimo nivel, Piscina con Solarium, un espacio con Sala de ReuniÃ³n para uso profesional, eventos o proyecciones con un amplio Foyer, Sauna, Gimnasio, un SalÃ³n de Usos MÃºltiples con cocina y una amplia expansiÃ³n. Asimismo cuenta con un Hall en Doble altura y un amplio Estar que balconea al mismo en el primer piso.AsÃ\\xad destaca la Excelente RelaciÃ³n de espacios de uso comÃºn sobre el metro propio, sobre todo en Studios que rondan los 30 metros propios y pueden gozar de todos los diferentes usos especiales.'"
      ]
     },
     "execution_count": 37,
     "metadata": {},
     "output_type": "execute_result"
    }
   ],
   "source": [
    "pileta_description.iloc[2].string"
   ]
  },
  {
   "cell_type": "code",
   "execution_count": 38,
   "id": "d012f62d",
   "metadata": {},
   "outputs": [
    {
     "data": {
      "text/plain": [
       "0         False\n",
       "1         False\n",
       "2         False\n",
       "3         False\n",
       "4         False\n",
       "          ...  \n",
       "121214    False\n",
       "121215     True\n",
       "121217    False\n",
       "121218    False\n",
       "121219    False\n",
       "Name: description, Length: 106370, dtype: bool"
      ]
     },
     "execution_count": 38,
     "metadata": {},
     "output_type": "execute_result"
    }
   ],
   "source": [
    "pileta_mask"
   ]
  },
  {
   "cell_type": "code",
   "execution_count": 39,
   "id": "27efbaa6",
   "metadata": {},
   "outputs": [
    {
     "name": "stdout",
     "output_type": "stream",
     "text": [
      "28254\n",
      "27812\n"
     ]
    }
   ],
   "source": [
    "description_to_replace = [x.string for x in pileta_description]\n",
    "print(len(description_to_replace))\n",
    "description_to_replace_unique = list(set(description_to_replace))\n",
    "print(len(description_to_replace_unique))"
   ]
  },
  {
   "cell_type": "code",
   "execution_count": 40,
   "id": "4c7d7a83",
   "metadata": {},
   "outputs": [
    {
     "name": "stderr",
     "output_type": "stream",
     "text": [
      "<ipython-input-40-961aea014fbe>:2: SettingWithCopyWarning: \n",
      "A value is trying to be set on a copy of a slice from a DataFrame.\n",
      "Try using .loc[row_indexer,col_indexer] = value instead\n",
      "\n",
      "See the caveats in the documentation: https://pandas.pydata.org/pandas-docs/stable/user_guide/indexing.html#returning-a-view-versus-a-copy\n",
      "  data_2_nodup['pileta']=''\n",
      "<ipython-input-40-961aea014fbe>:3: SettingWithCopyWarning: \n",
      "A value is trying to be set on a copy of a slice from a DataFrame.\n",
      "Try using .loc[row_indexer,col_indexer] = value instead\n",
      "\n",
      "See the caveats in the documentation: https://pandas.pydata.org/pandas-docs/stable/user_guide/indexing.html#returning-a-view-versus-a-copy\n",
      "  data_2_nodup['cochera']=''\n",
      "C:\\Users\\Equipo\\anaconda3\\envs\\dhdsblend2021\\lib\\site-packages\\pandas\\core\\indexing.py:1763: SettingWithCopyWarning: \n",
      "A value is trying to be set on a copy of a slice from a DataFrame.\n",
      "Try using .loc[row_indexer,col_indexer] = value instead\n",
      "\n",
      "See the caveats in the documentation: https://pandas.pydata.org/pandas-docs/stable/user_guide/indexing.html#returning-a-view-versus-a-copy\n",
      "  isetter(loc, value)\n"
     ]
    }
   ],
   "source": [
    "#Creacion de nuevas columnas:\n",
    "data_2_nodup['pileta']=''\n",
    "data_2_nodup['cochera']=''\n",
    "data_2_nodup.loc[pileta_mask, 'pileta'] =1"
   ]
  },
  {
   "cell_type": "code",
   "execution_count": 41,
   "id": "f8343035",
   "metadata": {},
   "outputs": [
    {
     "data": {
      "text/html": [
       "<div>\n",
       "<style scoped>\n",
       "    .dataframe tbody tr th:only-of-type {\n",
       "        vertical-align: middle;\n",
       "    }\n",
       "\n",
       "    .dataframe tbody tr th {\n",
       "        vertical-align: top;\n",
       "    }\n",
       "\n",
       "    .dataframe thead th {\n",
       "        text-align: right;\n",
       "    }\n",
       "</style>\n",
       "<table border=\"1\" class=\"dataframe\">\n",
       "  <thead>\n",
       "    <tr style=\"text-align: right;\">\n",
       "      <th></th>\n",
       "      <th>operation</th>\n",
       "      <th>property_type</th>\n",
       "      <th>place_name</th>\n",
       "      <th>place_with_parent_names</th>\n",
       "      <th>country_name</th>\n",
       "      <th>state_name</th>\n",
       "      <th>geonames_id</th>\n",
       "      <th>lat</th>\n",
       "      <th>lon</th>\n",
       "      <th>price</th>\n",
       "      <th>...</th>\n",
       "      <th>surface_covered_in_m2</th>\n",
       "      <th>price_usd_per_m2</th>\n",
       "      <th>price_per_m2</th>\n",
       "      <th>floor</th>\n",
       "      <th>rooms</th>\n",
       "      <th>description</th>\n",
       "      <th>title</th>\n",
       "      <th>price_usd_per_m2_clean</th>\n",
       "      <th>pileta</th>\n",
       "      <th>cochera</th>\n",
       "    </tr>\n",
       "  </thead>\n",
       "  <tbody>\n",
       "    <tr>\n",
       "      <th>0</th>\n",
       "      <td>sell</td>\n",
       "      <td>PH</td>\n",
       "      <td>Mataderos</td>\n",
       "      <td>|Argentina|Capital Federal|Mataderos|</td>\n",
       "      <td>Argentina</td>\n",
       "      <td>Capital Federal</td>\n",
       "      <td>3430787.0</td>\n",
       "      <td>-34.661824</td>\n",
       "      <td>-58.508839</td>\n",
       "      <td>62000.0</td>\n",
       "      <td>...</td>\n",
       "      <td>40.0</td>\n",
       "      <td>1127.272727</td>\n",
       "      <td>1550.0</td>\n",
       "      <td>NaN</td>\n",
       "      <td>NaN</td>\n",
       "      <td>2 AMBIENTES TIPO CASA PLANTA BAJA POR PASILLO,...</td>\n",
       "      <td>2 AMB TIPO CASA SIN EXPENSAS EN PB</td>\n",
       "      <td>1127.272727</td>\n",
       "      <td></td>\n",
       "      <td></td>\n",
       "    </tr>\n",
       "  </tbody>\n",
       "</table>\n",
       "<p>1 rows × 23 columns</p>\n",
       "</div>"
      ],
      "text/plain": [
       "  operation property_type place_name                place_with_parent_names  \\\n",
       "0      sell            PH  Mataderos  |Argentina|Capital Federal|Mataderos|   \n",
       "\n",
       "  country_name       state_name  geonames_id        lat        lon    price  \\\n",
       "0    Argentina  Capital Federal    3430787.0 -34.661824 -58.508839  62000.0   \n",
       "\n",
       "   ... surface_covered_in_m2  price_usd_per_m2  price_per_m2  floor  rooms  \\\n",
       "0  ...                  40.0       1127.272727        1550.0    NaN    NaN   \n",
       "\n",
       "                                         description  \\\n",
       "0  2 AMBIENTES TIPO CASA PLANTA BAJA POR PASILLO,...   \n",
       "\n",
       "                                title  price_usd_per_m2_clean pileta cochera  \n",
       "0  2 AMB TIPO CASA SIN EXPENSAS EN PB             1127.272727                 \n",
       "\n",
       "[1 rows x 23 columns]"
      ]
     },
     "execution_count": 41,
     "metadata": {},
     "output_type": "execute_result"
    }
   ],
   "source": [
    "data_2_nodup.head(1)"
   ]
  },
  {
   "cell_type": "code",
   "execution_count": 42,
   "id": "fb157177",
   "metadata": {},
   "outputs": [],
   "source": [
    "#REGEX cochera:\n",
    "cochera_pattern = \"cochera|garage\"\n",
    "cochera_regex = re.compile(cochera_pattern, re.I)\n",
    "cochera_matches = data_2_nodup['description'].apply(lambda x: x if x is np.NaN else cochera_regex.search(x))\n",
    "cochera_mask = cochera_matches.notnull()\n",
    "cochera_description = cochera_matches.loc[cochera_mask]"
   ]
  },
  {
   "cell_type": "code",
   "execution_count": 43,
   "id": "57761e93",
   "metadata": {},
   "outputs": [
    {
     "data": {
      "text/plain": [
       "'Venta de departamento en dÃ©cimo piso al frente, a estrenar. Living comedor con ventanales hacia el balcÃ³n con pisos de madera. Cocina completa con doble mesada, muebles bajo mesada. Lavadero separado. Toilette.Dormitorio con placard. Segundo dormitorio a dividir. CalefacciÃ³n por radiadorBaÃ±o completo.BalcÃ³n corrido. Posibilidad de cochera semicubierta. U$D 20.000                     Aviso publicado por Pixel Inmobiliario (Servicio de PÃ¡ginas Web para Inmobiliarias).'"
      ]
     },
     "execution_count": 43,
     "metadata": {},
     "output_type": "execute_result"
    }
   ],
   "source": [
    "cochera_description.iloc[0].string"
   ]
  },
  {
   "cell_type": "code",
   "execution_count": 44,
   "id": "2ac4c4f3",
   "metadata": {},
   "outputs": [
    {
     "name": "stdout",
     "output_type": "stream",
     "text": [
      "43763\n",
      "43191\n"
     ]
    }
   ],
   "source": [
    "description_to_replace_cochera= [x.string for x in cochera_description]\n",
    "print(len(description_to_replace_cochera))\n",
    "description_to_replace_unique_cochera = list(set(description_to_replace_cochera))\n",
    "print(len(description_to_replace_unique_cochera))"
   ]
  },
  {
   "cell_type": "code",
   "execution_count": 45,
   "id": "8de1c0cd",
   "metadata": {},
   "outputs": [
    {
     "name": "stderr",
     "output_type": "stream",
     "text": [
      "C:\\Users\\Equipo\\anaconda3\\envs\\dhdsblend2021\\lib\\site-packages\\pandas\\core\\indexing.py:1763: SettingWithCopyWarning: \n",
      "A value is trying to be set on a copy of a slice from a DataFrame.\n",
      "Try using .loc[row_indexer,col_indexer] = value instead\n",
      "\n",
      "See the caveats in the documentation: https://pandas.pydata.org/pandas-docs/stable/user_guide/indexing.html#returning-a-view-versus-a-copy\n",
      "  isetter(loc, value)\n"
     ]
    }
   ],
   "source": [
    "data_2_nodup.loc[cochera_mask, 'cochera'] = 1"
   ]
  },
  {
   "cell_type": "code",
   "execution_count": 46,
   "id": "b6800e2a",
   "metadata": {},
   "outputs": [
    {
     "data": {
      "text/html": [
       "<div>\n",
       "<style scoped>\n",
       "    .dataframe tbody tr th:only-of-type {\n",
       "        vertical-align: middle;\n",
       "    }\n",
       "\n",
       "    .dataframe tbody tr th {\n",
       "        vertical-align: top;\n",
       "    }\n",
       "\n",
       "    .dataframe thead th {\n",
       "        text-align: right;\n",
       "    }\n",
       "</style>\n",
       "<table border=\"1\" class=\"dataframe\">\n",
       "  <thead>\n",
       "    <tr style=\"text-align: right;\">\n",
       "      <th></th>\n",
       "      <th>operation</th>\n",
       "      <th>property_type</th>\n",
       "      <th>place_name</th>\n",
       "      <th>place_with_parent_names</th>\n",
       "      <th>country_name</th>\n",
       "      <th>state_name</th>\n",
       "      <th>geonames_id</th>\n",
       "      <th>lat</th>\n",
       "      <th>lon</th>\n",
       "      <th>price</th>\n",
       "      <th>...</th>\n",
       "      <th>surface_covered_in_m2</th>\n",
       "      <th>price_usd_per_m2</th>\n",
       "      <th>price_per_m2</th>\n",
       "      <th>floor</th>\n",
       "      <th>rooms</th>\n",
       "      <th>description</th>\n",
       "      <th>title</th>\n",
       "      <th>price_usd_per_m2_clean</th>\n",
       "      <th>pileta</th>\n",
       "      <th>cochera</th>\n",
       "    </tr>\n",
       "  </thead>\n",
       "  <tbody>\n",
       "    <tr>\n",
       "      <th>0</th>\n",
       "      <td>sell</td>\n",
       "      <td>PH</td>\n",
       "      <td>Mataderos</td>\n",
       "      <td>|Argentina|Capital Federal|Mataderos|</td>\n",
       "      <td>Argentina</td>\n",
       "      <td>Capital Federal</td>\n",
       "      <td>3430787.0</td>\n",
       "      <td>-34.661824</td>\n",
       "      <td>-58.508839</td>\n",
       "      <td>62000.0</td>\n",
       "      <td>...</td>\n",
       "      <td>40.0</td>\n",
       "      <td>1127.272727</td>\n",
       "      <td>1550.000000</td>\n",
       "      <td>NaN</td>\n",
       "      <td>NaN</td>\n",
       "      <td>2 AMBIENTES TIPO CASA PLANTA BAJA POR PASILLO,...</td>\n",
       "      <td>2 AMB TIPO CASA SIN EXPENSAS EN PB</td>\n",
       "      <td>1127.272727</td>\n",
       "      <td></td>\n",
       "      <td></td>\n",
       "    </tr>\n",
       "    <tr>\n",
       "      <th>1</th>\n",
       "      <td>sell</td>\n",
       "      <td>apartment</td>\n",
       "      <td>La Plata</td>\n",
       "      <td>|Argentina|Bs.As. G.B.A. Zona Sur|La Plata|</td>\n",
       "      <td>Argentina</td>\n",
       "      <td>Bs.As. G.B.A. Zona Sur</td>\n",
       "      <td>3432039.0</td>\n",
       "      <td>-34.903883</td>\n",
       "      <td>-57.964330</td>\n",
       "      <td>150000.0</td>\n",
       "      <td>...</td>\n",
       "      <td>NaN</td>\n",
       "      <td>NaN</td>\n",
       "      <td>NaN</td>\n",
       "      <td>NaN</td>\n",
       "      <td>NaN</td>\n",
       "      <td>Venta de departamento en dÃ©cimo piso al frent...</td>\n",
       "      <td>VENTA Depto 2 dorm. a estrenar 7 e/ 36 y 37   ...</td>\n",
       "      <td>NaN</td>\n",
       "      <td></td>\n",
       "      <td>1</td>\n",
       "    </tr>\n",
       "    <tr>\n",
       "      <th>2</th>\n",
       "      <td>sell</td>\n",
       "      <td>apartment</td>\n",
       "      <td>Mataderos</td>\n",
       "      <td>|Argentina|Capital Federal|Mataderos|</td>\n",
       "      <td>Argentina</td>\n",
       "      <td>Capital Federal</td>\n",
       "      <td>3430787.0</td>\n",
       "      <td>-34.652262</td>\n",
       "      <td>-58.522982</td>\n",
       "      <td>72000.0</td>\n",
       "      <td>...</td>\n",
       "      <td>55.0</td>\n",
       "      <td>1309.090909</td>\n",
       "      <td>1309.090909</td>\n",
       "      <td>NaN</td>\n",
       "      <td>NaN</td>\n",
       "      <td>2 AMBIENTES 3ER PISO LATERAL LIVING COMEDOR AM...</td>\n",
       "      <td>2 AMB 3ER PISO CON ASCENSOR APTO CREDITO</td>\n",
       "      <td>1309.090909</td>\n",
       "      <td></td>\n",
       "      <td></td>\n",
       "    </tr>\n",
       "  </tbody>\n",
       "</table>\n",
       "<p>3 rows × 23 columns</p>\n",
       "</div>"
      ],
      "text/plain": [
       "  operation property_type place_name  \\\n",
       "0      sell            PH  Mataderos   \n",
       "1      sell     apartment   La Plata   \n",
       "2      sell     apartment  Mataderos   \n",
       "\n",
       "                       place_with_parent_names country_name  \\\n",
       "0        |Argentina|Capital Federal|Mataderos|    Argentina   \n",
       "1  |Argentina|Bs.As. G.B.A. Zona Sur|La Plata|    Argentina   \n",
       "2        |Argentina|Capital Federal|Mataderos|    Argentina   \n",
       "\n",
       "               state_name  geonames_id        lat        lon     price  ...  \\\n",
       "0         Capital Federal    3430787.0 -34.661824 -58.508839   62000.0  ...   \n",
       "1  Bs.As. G.B.A. Zona Sur    3432039.0 -34.903883 -57.964330  150000.0  ...   \n",
       "2         Capital Federal    3430787.0 -34.652262 -58.522982   72000.0  ...   \n",
       "\n",
       "  surface_covered_in_m2  price_usd_per_m2  price_per_m2  floor  rooms  \\\n",
       "0                  40.0       1127.272727   1550.000000    NaN    NaN   \n",
       "1                   NaN               NaN           NaN    NaN    NaN   \n",
       "2                  55.0       1309.090909   1309.090909    NaN    NaN   \n",
       "\n",
       "                                         description  \\\n",
       "0  2 AMBIENTES TIPO CASA PLANTA BAJA POR PASILLO,...   \n",
       "1  Venta de departamento en dÃ©cimo piso al frent...   \n",
       "2  2 AMBIENTES 3ER PISO LATERAL LIVING COMEDOR AM...   \n",
       "\n",
       "                                               title  price_usd_per_m2_clean  \\\n",
       "0                 2 AMB TIPO CASA SIN EXPENSAS EN PB             1127.272727   \n",
       "1  VENTA Depto 2 dorm. a estrenar 7 e/ 36 y 37   ...                     NaN   \n",
       "2           2 AMB 3ER PISO CON ASCENSOR APTO CREDITO             1309.090909   \n",
       "\n",
       "  pileta cochera  \n",
       "0                 \n",
       "1              1  \n",
       "2                 \n",
       "\n",
       "[3 rows x 23 columns]"
      ]
     },
     "execution_count": 46,
     "metadata": {},
     "output_type": "execute_result"
    }
   ],
   "source": [
    "data_2_nodup.head(3)"
   ]
  },
  {
   "cell_type": "code",
   "execution_count": 47,
   "id": "220107d3",
   "metadata": {},
   "outputs": [
    {
     "data": {
      "text/plain": [
       "<bound method IndexOpsMixin.value_counts of 0                   2 AMBIENTES \n",
       "1                           None\n",
       "2                  2 AMBIENTES 3\n",
       "3                   3 ambientes \n",
       "4                           None\n",
       "                   ...          \n",
       "121214                      None\n",
       "121215                      None\n",
       "121217    DEPARTAMENTO AMBIENTE \n",
       "121218                      None\n",
       "121219                      None\n",
       "Name: description, Length: 106370, dtype: object>"
      ]
     },
     "execution_count": 47,
     "metadata": {},
     "output_type": "execute_result"
    }
   ],
   "source": [
    "#REGEX ambientes:\n",
    "pattern_ambientes = \"(?P<ambiente>\\w+?\\s(amb|AMB|Ambiente|ambiente|AMBIENTE|Ambientes|ambientes|AMBIENTES|MONOAMBIENTE)\\s\\d?)\"\n",
    "regex_ambientes = re.compile(pattern_ambientes)\n",
    "description = data_2_nodup['description'].astype(str)\n",
    "resultado_ambientes = description.apply(lambda x: regex_ambientes.search(x))\n",
    "ambientes_match = resultado_ambientes.apply(lambda x: x if x is None else x.group('ambiente'))\n",
    "ambientes_match.value_counts"
   ]
  },
  {
   "cell_type": "code",
   "execution_count": 51,
   "id": "253340cd",
   "metadata": {},
   "outputs": [
    {
     "data": {
      "text/plain": [
       "<bound method IndexOpsMixin.value_counts of 0                         2 AMB \n",
       "1                           None\n",
       "2                        2 AMB 3\n",
       "3                           None\n",
       "4                         2 AMB \n",
       "                   ...          \n",
       "121214                      None\n",
       "121215                      None\n",
       "121217    DEPARTAMENTO AMBIENTE \n",
       "121218                      None\n",
       "121219                      None\n",
       "Name: title, Length: 106370, dtype: object>"
      ]
     },
     "execution_count": 51,
     "metadata": {},
     "output_type": "execute_result"
    }
   ],
   "source": [
    "pattern_ambientes = \"(?P<ambiente>\\w+?\\s(amb|AMB|Ambiente|ambiente|AMBIENTE|Ambientes|ambientes|AMBIENTES|MONOAMBIENTE)\\s\\d?)\"\n",
    "regex_ambientes = re.compile(pattern_ambientes)\n",
    "title = data_2_nodup['title'].astype(str)\n",
    "resultado_ambientes2 = title.apply(lambda x: regex_ambientes.search(x))\n",
    "ambientes_match2 = resultado_ambientes2.apply(lambda x: x if x is None else x.group('ambiente'))\n",
    "ambientes_match2.value_counts"
   ]
  },
  {
   "cell_type": "code",
   "execution_count": 52,
   "id": "3bd7acff",
   "metadata": {},
   "outputs": [
    {
     "data": {
      "text/plain": [
       "0               2 AMBIENTES \n",
       "1                       None\n",
       "2              2 AMBIENTES 3\n",
       "3               3 ambientes \n",
       "4                       None\n",
       "5                       None\n",
       "6                       None\n",
       "7    EXCELENTE MONOAMBIENTE \n",
       "8             DOS AMBIENTES \n",
       "9                       None\n",
       "Name: description, dtype: object"
      ]
     },
     "execution_count": 52,
     "metadata": {},
     "output_type": "execute_result"
    }
   ],
   "source": [
    "ambientes_match.head(10)"
   ]
  },
  {
   "cell_type": "code",
   "execution_count": 53,
   "id": "b7c1a34d",
   "metadata": {},
   "outputs": [
    {
     "name": "stderr",
     "output_type": "stream",
     "text": [
      "<ipython-input-53-3cab0b91d6fc>:1: SettingWithCopyWarning: \n",
      "A value is trying to be set on a copy of a slice from a DataFrame.\n",
      "Try using .loc[row_indexer,col_indexer] = value instead\n",
      "\n",
      "See the caveats in the documentation: https://pandas.pydata.org/pandas-docs/stable/user_guide/indexing.html#returning-a-view-versus-a-copy\n",
      "  data_2_nodup['ambientes'] = ambientes_match\n",
      "<ipython-input-53-3cab0b91d6fc>:2: SettingWithCopyWarning: \n",
      "A value is trying to be set on a copy of a slice from a DataFrame.\n",
      "Try using .loc[row_indexer,col_indexer] = value instead\n",
      "\n",
      "See the caveats in the documentation: https://pandas.pydata.org/pandas-docs/stable/user_guide/indexing.html#returning-a-view-versus-a-copy\n",
      "  data_2_nodup['ambientes2'] = ambientes_match2\n"
     ]
    }
   ],
   "source": [
    "data_2_nodup['ambientes'] = ambientes_match\n",
    "data_2_nodup['ambientes2'] = ambientes_match2"
   ]
  },
  {
   "cell_type": "code",
   "execution_count": 54,
   "id": "46b6b5f5",
   "metadata": {},
   "outputs": [
    {
     "data": {
      "text/html": [
       "<div>\n",
       "<style scoped>\n",
       "    .dataframe tbody tr th:only-of-type {\n",
       "        vertical-align: middle;\n",
       "    }\n",
       "\n",
       "    .dataframe tbody tr th {\n",
       "        vertical-align: top;\n",
       "    }\n",
       "\n",
       "    .dataframe thead th {\n",
       "        text-align: right;\n",
       "    }\n",
       "</style>\n",
       "<table border=\"1\" class=\"dataframe\">\n",
       "  <thead>\n",
       "    <tr style=\"text-align: right;\">\n",
       "      <th></th>\n",
       "      <th>ambientes</th>\n",
       "      <th>ambientes2</th>\n",
       "    </tr>\n",
       "  </thead>\n",
       "  <tbody>\n",
       "    <tr>\n",
       "      <th>0</th>\n",
       "      <td>2 AMBIENTES</td>\n",
       "      <td>2 AMB</td>\n",
       "    </tr>\n",
       "    <tr>\n",
       "      <th>1</th>\n",
       "      <td>None</td>\n",
       "      <td>None</td>\n",
       "    </tr>\n",
       "    <tr>\n",
       "      <th>2</th>\n",
       "      <td>2 AMBIENTES 3</td>\n",
       "      <td>2 AMB 3</td>\n",
       "    </tr>\n",
       "    <tr>\n",
       "      <th>3</th>\n",
       "      <td>3 ambientes</td>\n",
       "      <td>None</td>\n",
       "    </tr>\n",
       "    <tr>\n",
       "      <th>4</th>\n",
       "      <td>None</td>\n",
       "      <td>2 AMB</td>\n",
       "    </tr>\n",
       "    <tr>\n",
       "      <th>...</th>\n",
       "      <td>...</td>\n",
       "      <td>...</td>\n",
       "    </tr>\n",
       "    <tr>\n",
       "      <th>121214</th>\n",
       "      <td>None</td>\n",
       "      <td>None</td>\n",
       "    </tr>\n",
       "    <tr>\n",
       "      <th>121215</th>\n",
       "      <td>None</td>\n",
       "      <td>None</td>\n",
       "    </tr>\n",
       "    <tr>\n",
       "      <th>121217</th>\n",
       "      <td>DEPARTAMENTO AMBIENTE</td>\n",
       "      <td>DEPARTAMENTO AMBIENTE</td>\n",
       "    </tr>\n",
       "    <tr>\n",
       "      <th>121218</th>\n",
       "      <td>None</td>\n",
       "      <td>None</td>\n",
       "    </tr>\n",
       "    <tr>\n",
       "      <th>121219</th>\n",
       "      <td>None</td>\n",
       "      <td>None</td>\n",
       "    </tr>\n",
       "  </tbody>\n",
       "</table>\n",
       "<p>106370 rows × 2 columns</p>\n",
       "</div>"
      ],
      "text/plain": [
       "                     ambientes              ambientes2\n",
       "0                 2 AMBIENTES                   2 AMB \n",
       "1                         None                    None\n",
       "2                2 AMBIENTES 3                 2 AMB 3\n",
       "3                 3 ambientes                     None\n",
       "4                         None                  2 AMB \n",
       "...                        ...                     ...\n",
       "121214                    None                    None\n",
       "121215                    None                    None\n",
       "121217  DEPARTAMENTO AMBIENTE   DEPARTAMENTO AMBIENTE \n",
       "121218                    None                    None\n",
       "121219                    None                    None\n",
       "\n",
       "[106370 rows x 2 columns]"
      ]
     },
     "execution_count": 54,
     "metadata": {},
     "output_type": "execute_result"
    }
   ],
   "source": [
    "data_ambientes = data_2_nodup.loc[:, 'ambientes': 'ambientes2'].astype(str)\n",
    "data_ambientes"
   ]
  },
  {
   "cell_type": "code",
   "execution_count": 55,
   "id": "408e8d38",
   "metadata": {},
   "outputs": [],
   "source": [
    "pattern_nro_ambientes = \"(?P<nro_ambientes>\\d)\"\n",
    "regex_nro_ambientes = re.compile(pattern_nro_ambientes)\n",
    "\n",
    "resultado_nro_amb = data_ambientes['ambientes'].apply(lambda x: regex_nro_ambientes.search(x))\n",
    "# [('ambientes', 'ambientes2')]\n",
    "nro_amb_match = resultado_nro_amb.apply(lambda x: x if x is None else x.group('nro_ambientes'))"
   ]
  },
  {
   "cell_type": "code",
   "execution_count": 56,
   "id": "e9107858",
   "metadata": {},
   "outputs": [
    {
     "data": {
      "text/plain": [
       "0            2\n",
       "1         None\n",
       "2            2\n",
       "3         None\n",
       "4            2\n",
       "          ... \n",
       "121214    None\n",
       "121215    None\n",
       "121217    None\n",
       "121218    None\n",
       "121219    None\n",
       "Name: ambientes2, Length: 106370, dtype: object"
      ]
     },
     "execution_count": 56,
     "metadata": {},
     "output_type": "execute_result"
    }
   ],
   "source": [
    "pattern_nro_ambientes = \"(?P<nro_ambientes>\\d)\"\n",
    "regex_nro_ambientes = re.compile(pattern_nro_ambientes)\n",
    "\n",
    "resultado_nro_amb2 = data_ambientes['ambientes2'].apply(lambda x: regex_nro_ambientes.search(x))\n",
    "\n",
    "nro_amb_match2 = resultado_nro_amb2.apply(lambda x: x if x is None else x.group('nro_ambientes'))\n",
    "\n",
    "nro_amb_match2"
   ]
  },
  {
   "cell_type": "code",
   "execution_count": 57,
   "id": "786c5d55",
   "metadata": {},
   "outputs": [
    {
     "data": {
      "text/html": [
       "<div>\n",
       "<style scoped>\n",
       "    .dataframe tbody tr th:only-of-type {\n",
       "        vertical-align: middle;\n",
       "    }\n",
       "\n",
       "    .dataframe tbody tr th {\n",
       "        vertical-align: top;\n",
       "    }\n",
       "\n",
       "    .dataframe thead th {\n",
       "        text-align: right;\n",
       "    }\n",
       "</style>\n",
       "<table border=\"1\" class=\"dataframe\">\n",
       "  <thead>\n",
       "    <tr style=\"text-align: right;\">\n",
       "      <th></th>\n",
       "      <th>ambientes</th>\n",
       "      <th>ambientes2</th>\n",
       "    </tr>\n",
       "  </thead>\n",
       "  <tbody>\n",
       "    <tr>\n",
       "      <th>0</th>\n",
       "      <td>2</td>\n",
       "      <td>2</td>\n",
       "    </tr>\n",
       "    <tr>\n",
       "      <th>1</th>\n",
       "      <td>None</td>\n",
       "      <td>None</td>\n",
       "    </tr>\n",
       "    <tr>\n",
       "      <th>2</th>\n",
       "      <td>2</td>\n",
       "      <td>2</td>\n",
       "    </tr>\n",
       "    <tr>\n",
       "      <th>3</th>\n",
       "      <td>3</td>\n",
       "      <td>None</td>\n",
       "    </tr>\n",
       "    <tr>\n",
       "      <th>4</th>\n",
       "      <td>None</td>\n",
       "      <td>2</td>\n",
       "    </tr>\n",
       "    <tr>\n",
       "      <th>...</th>\n",
       "      <td>...</td>\n",
       "      <td>...</td>\n",
       "    </tr>\n",
       "    <tr>\n",
       "      <th>121214</th>\n",
       "      <td>None</td>\n",
       "      <td>None</td>\n",
       "    </tr>\n",
       "    <tr>\n",
       "      <th>121215</th>\n",
       "      <td>None</td>\n",
       "      <td>None</td>\n",
       "    </tr>\n",
       "    <tr>\n",
       "      <th>121217</th>\n",
       "      <td>None</td>\n",
       "      <td>None</td>\n",
       "    </tr>\n",
       "    <tr>\n",
       "      <th>121218</th>\n",
       "      <td>None</td>\n",
       "      <td>None</td>\n",
       "    </tr>\n",
       "    <tr>\n",
       "      <th>121219</th>\n",
       "      <td>None</td>\n",
       "      <td>None</td>\n",
       "    </tr>\n",
       "  </tbody>\n",
       "</table>\n",
       "<p>106370 rows × 2 columns</p>\n",
       "</div>"
      ],
      "text/plain": [
       "       ambientes ambientes2\n",
       "0              2          2\n",
       "1           None       None\n",
       "2              2          2\n",
       "3              3       None\n",
       "4           None          2\n",
       "...          ...        ...\n",
       "121214      None       None\n",
       "121215      None       None\n",
       "121217      None       None\n",
       "121218      None       None\n",
       "121219      None       None\n",
       "\n",
       "[106370 rows x 2 columns]"
      ]
     },
     "execution_count": 57,
     "metadata": {},
     "output_type": "execute_result"
    }
   ],
   "source": [
    "df_amb = pd.DataFrame([nro_amb_match, nro_amb_match2])\n",
    "df_ambientes = df_amb.T\n",
    "df_ambientes"
   ]
  },
  {
   "cell_type": "code",
   "execution_count": 58,
   "id": "61ded115",
   "metadata": {},
   "outputs": [],
   "source": [
    "ambientes=df_ambientes.apply(lambda x: x['ambientes'] if x['ambientes']!= None else x['ambientes2'],axis=1)"
   ]
  },
  {
   "cell_type": "code",
   "execution_count": 59,
   "id": "a29cbe7d",
   "metadata": {},
   "outputs": [
    {
     "data": {
      "text/html": [
       "<div>\n",
       "<style scoped>\n",
       "    .dataframe tbody tr th:only-of-type {\n",
       "        vertical-align: middle;\n",
       "    }\n",
       "\n",
       "    .dataframe tbody tr th {\n",
       "        vertical-align: top;\n",
       "    }\n",
       "\n",
       "    .dataframe thead th {\n",
       "        text-align: right;\n",
       "    }\n",
       "</style>\n",
       "<table border=\"1\" class=\"dataframe\">\n",
       "  <thead>\n",
       "    <tr style=\"text-align: right;\">\n",
       "      <th></th>\n",
       "      <th>operation</th>\n",
       "      <th>property_type</th>\n",
       "      <th>place_name</th>\n",
       "      <th>place_with_parent_names</th>\n",
       "      <th>country_name</th>\n",
       "      <th>state_name</th>\n",
       "      <th>geonames_id</th>\n",
       "      <th>lat</th>\n",
       "      <th>lon</th>\n",
       "      <th>price</th>\n",
       "      <th>...</th>\n",
       "      <th>price_usd_per_m2</th>\n",
       "      <th>price_per_m2</th>\n",
       "      <th>floor</th>\n",
       "      <th>rooms</th>\n",
       "      <th>description</th>\n",
       "      <th>title</th>\n",
       "      <th>price_usd_per_m2_clean</th>\n",
       "      <th>pileta</th>\n",
       "      <th>cochera</th>\n",
       "      <th>ambientes</th>\n",
       "    </tr>\n",
       "  </thead>\n",
       "  <tbody>\n",
       "    <tr>\n",
       "      <th>0</th>\n",
       "      <td>sell</td>\n",
       "      <td>PH</td>\n",
       "      <td>Mataderos</td>\n",
       "      <td>|Argentina|Capital Federal|Mataderos|</td>\n",
       "      <td>Argentina</td>\n",
       "      <td>Capital Federal</td>\n",
       "      <td>3430787.0</td>\n",
       "      <td>-34.661824</td>\n",
       "      <td>-58.508839</td>\n",
       "      <td>62000.0</td>\n",
       "      <td>...</td>\n",
       "      <td>1127.272727</td>\n",
       "      <td>1550.000000</td>\n",
       "      <td>NaN</td>\n",
       "      <td>NaN</td>\n",
       "      <td>2 AMBIENTES TIPO CASA PLANTA BAJA POR PASILLO,...</td>\n",
       "      <td>2 AMB TIPO CASA SIN EXPENSAS EN PB</td>\n",
       "      <td>1127.272727</td>\n",
       "      <td></td>\n",
       "      <td></td>\n",
       "      <td>2</td>\n",
       "    </tr>\n",
       "    <tr>\n",
       "      <th>1</th>\n",
       "      <td>sell</td>\n",
       "      <td>apartment</td>\n",
       "      <td>La Plata</td>\n",
       "      <td>|Argentina|Bs.As. G.B.A. Zona Sur|La Plata|</td>\n",
       "      <td>Argentina</td>\n",
       "      <td>Bs.As. G.B.A. Zona Sur</td>\n",
       "      <td>3432039.0</td>\n",
       "      <td>-34.903883</td>\n",
       "      <td>-57.964330</td>\n",
       "      <td>150000.0</td>\n",
       "      <td>...</td>\n",
       "      <td>NaN</td>\n",
       "      <td>NaN</td>\n",
       "      <td>NaN</td>\n",
       "      <td>NaN</td>\n",
       "      <td>Venta de departamento en dÃ©cimo piso al frent...</td>\n",
       "      <td>VENTA Depto 2 dorm. a estrenar 7 e/ 36 y 37   ...</td>\n",
       "      <td>NaN</td>\n",
       "      <td></td>\n",
       "      <td>1</td>\n",
       "      <td>None</td>\n",
       "    </tr>\n",
       "    <tr>\n",
       "      <th>2</th>\n",
       "      <td>sell</td>\n",
       "      <td>apartment</td>\n",
       "      <td>Mataderos</td>\n",
       "      <td>|Argentina|Capital Federal|Mataderos|</td>\n",
       "      <td>Argentina</td>\n",
       "      <td>Capital Federal</td>\n",
       "      <td>3430787.0</td>\n",
       "      <td>-34.652262</td>\n",
       "      <td>-58.522982</td>\n",
       "      <td>72000.0</td>\n",
       "      <td>...</td>\n",
       "      <td>1309.090909</td>\n",
       "      <td>1309.090909</td>\n",
       "      <td>NaN</td>\n",
       "      <td>NaN</td>\n",
       "      <td>2 AMBIENTES 3ER PISO LATERAL LIVING COMEDOR AM...</td>\n",
       "      <td>2 AMB 3ER PISO CON ASCENSOR APTO CREDITO</td>\n",
       "      <td>1309.090909</td>\n",
       "      <td></td>\n",
       "      <td></td>\n",
       "      <td>2</td>\n",
       "    </tr>\n",
       "    <tr>\n",
       "      <th>3</th>\n",
       "      <td>sell</td>\n",
       "      <td>PH</td>\n",
       "      <td>Liniers</td>\n",
       "      <td>|Argentina|Capital Federal|Liniers|</td>\n",
       "      <td>Argentina</td>\n",
       "      <td>Capital Federal</td>\n",
       "      <td>3431333.0</td>\n",
       "      <td>-34.647797</td>\n",
       "      <td>-58.516424</td>\n",
       "      <td>95000.0</td>\n",
       "      <td>...</td>\n",
       "      <td>NaN</td>\n",
       "      <td>NaN</td>\n",
       "      <td>NaN</td>\n",
       "      <td>NaN</td>\n",
       "      <td>PH 3 ambientes con patio. Hay 3 deptos en lote...</td>\n",
       "      <td>PH 3 amb. cfte. reciclado</td>\n",
       "      <td>NaN</td>\n",
       "      <td></td>\n",
       "      <td></td>\n",
       "      <td>3</td>\n",
       "    </tr>\n",
       "    <tr>\n",
       "      <th>4</th>\n",
       "      <td>sell</td>\n",
       "      <td>apartment</td>\n",
       "      <td>Centro</td>\n",
       "      <td>|Argentina|Buenos Aires Costa AtlÃ¡ntica|Mar d...</td>\n",
       "      <td>Argentina</td>\n",
       "      <td>Buenos Aires Costa AtlÃ¡ntica</td>\n",
       "      <td>3435548.0</td>\n",
       "      <td>-38.002626</td>\n",
       "      <td>-57.549447</td>\n",
       "      <td>64000.0</td>\n",
       "      <td>...</td>\n",
       "      <td>1828.571429</td>\n",
       "      <td>1828.571429</td>\n",
       "      <td>NaN</td>\n",
       "      <td>NaN</td>\n",
       "      <td>DEPARTAMENTO CON FANTÃSTICA ILUMINACIÃN NATU...</td>\n",
       "      <td>DEPTO 2 AMB AL CONTRAFRENTE ZONA CENTRO/PLAZA ...</td>\n",
       "      <td>1828.571429</td>\n",
       "      <td></td>\n",
       "      <td></td>\n",
       "      <td>2</td>\n",
       "    </tr>\n",
       "  </tbody>\n",
       "</table>\n",
       "<p>5 rows × 24 columns</p>\n",
       "</div>"
      ],
      "text/plain": [
       "  operation property_type place_name  \\\n",
       "0      sell            PH  Mataderos   \n",
       "1      sell     apartment   La Plata   \n",
       "2      sell     apartment  Mataderos   \n",
       "3      sell            PH    Liniers   \n",
       "4      sell     apartment     Centro   \n",
       "\n",
       "                             place_with_parent_names country_name  \\\n",
       "0              |Argentina|Capital Federal|Mataderos|    Argentina   \n",
       "1        |Argentina|Bs.As. G.B.A. Zona Sur|La Plata|    Argentina   \n",
       "2              |Argentina|Capital Federal|Mataderos|    Argentina   \n",
       "3                |Argentina|Capital Federal|Liniers|    Argentina   \n",
       "4  |Argentina|Buenos Aires Costa AtlÃ¡ntica|Mar d...    Argentina   \n",
       "\n",
       "                      state_name  geonames_id        lat        lon     price  \\\n",
       "0                Capital Federal    3430787.0 -34.661824 -58.508839   62000.0   \n",
       "1         Bs.As. G.B.A. Zona Sur    3432039.0 -34.903883 -57.964330  150000.0   \n",
       "2                Capital Federal    3430787.0 -34.652262 -58.522982   72000.0   \n",
       "3                Capital Federal    3431333.0 -34.647797 -58.516424   95000.0   \n",
       "4  Buenos Aires Costa AtlÃ¡ntica    3435548.0 -38.002626 -57.549447   64000.0   \n",
       "\n",
       "   ... price_usd_per_m2  price_per_m2  floor  rooms  \\\n",
       "0  ...      1127.272727   1550.000000    NaN    NaN   \n",
       "1  ...              NaN           NaN    NaN    NaN   \n",
       "2  ...      1309.090909   1309.090909    NaN    NaN   \n",
       "3  ...              NaN           NaN    NaN    NaN   \n",
       "4  ...      1828.571429   1828.571429    NaN    NaN   \n",
       "\n",
       "                                         description  \\\n",
       "0  2 AMBIENTES TIPO CASA PLANTA BAJA POR PASILLO,...   \n",
       "1  Venta de departamento en dÃ©cimo piso al frent...   \n",
       "2  2 AMBIENTES 3ER PISO LATERAL LIVING COMEDOR AM...   \n",
       "3  PH 3 ambientes con patio. Hay 3 deptos en lote...   \n",
       "4  DEPARTAMENTO CON FANTÃSTICA ILUMINACIÃN NATU...   \n",
       "\n",
       "                                               title  price_usd_per_m2_clean  \\\n",
       "0                 2 AMB TIPO CASA SIN EXPENSAS EN PB             1127.272727   \n",
       "1  VENTA Depto 2 dorm. a estrenar 7 e/ 36 y 37   ...                     NaN   \n",
       "2           2 AMB 3ER PISO CON ASCENSOR APTO CREDITO             1309.090909   \n",
       "3                       PH 3 amb. cfte. reciclado                        NaN   \n",
       "4  DEPTO 2 AMB AL CONTRAFRENTE ZONA CENTRO/PLAZA ...             1828.571429   \n",
       "\n",
       "   pileta cochera ambientes  \n",
       "0                         2  \n",
       "1               1      None  \n",
       "2                         2  \n",
       "3                         3  \n",
       "4                         2  \n",
       "\n",
       "[5 rows x 24 columns]"
      ]
     },
     "execution_count": 59,
     "metadata": {},
     "output_type": "execute_result"
    }
   ],
   "source": [
    "data_3_nodup = data_2_nodup.drop(['ambientes', 'ambientes2'], axis=1)\n",
    "data_3_nodup['ambientes'] = ambientes\n",
    "data_3_nodup.head()"
   ]
  },
  {
   "cell_type": "code",
   "execution_count": 60,
   "id": "62cae91a",
   "metadata": {},
   "outputs": [],
   "source": [
    "#REGEX barrio:\n",
    "pattern_barrio = \"(?P<barrio_cerrado>\\w+?\\s(barrio cerrado)\\s\\d?)\"\n",
    "regex_barrio = re.compile(pattern_barrio, flags=re.IGNORECASE)\n",
    "description = data_3_nodup['description'].astype(str)\n",
    "resultado_barrio = description.apply(lambda x: regex_barrio.search(x))\n",
    "resultado_barrio.value_counts()\n",
    "\n",
    "barrios_match = resultado_barrio.apply(lambda x: x if x is None else x.group('barrio_cerrado'))\n",
    "\n",
    "barrios_match.value_counts()\n",
    "\n",
    "data_3_nodup['barrio_cerrado']= barrios_match"
   ]
  },
  {
   "cell_type": "code",
   "execution_count": 61,
   "id": "b7e9fa36",
   "metadata": {},
   "outputs": [
    {
     "data": {
      "text/plain": [
       "property_type\n",
       "PH            5359\n",
       "apartment    57816\n",
       "house        39245\n",
       "store         3950\n",
       "Name: operation, dtype: int64"
      ]
     },
     "execution_count": 61,
     "metadata": {},
     "output_type": "execute_result"
    }
   ],
   "source": [
    "operation_type = data_2_nodup.groupby('property_type', axis=0).count().iloc[:, 0]\n",
    "operation_type"
   ]
  },
  {
   "cell_type": "code",
   "execution_count": 62,
   "id": "05d00f02",
   "metadata": {},
   "outputs": [
    {
     "name": "stderr",
     "output_type": "stream",
     "text": [
      "C:\\Users\\Equipo\\anaconda3\\envs\\dhdsblend2021\\lib\\site-packages\\pandas\\core\\indexing.py:1763: SettingWithCopyWarning: \n",
      "A value is trying to be set on a copy of a slice from a DataFrame.\n",
      "Try using .loc[row_indexer,col_indexer] = value instead\n",
      "\n",
      "See the caveats in the documentation: https://pandas.pydata.org/pandas-docs/stable/user_guide/indexing.html#returning-a-view-versus-a-copy\n",
      "  isetter(loc, value)\n"
     ]
    }
   ],
   "source": [
    "data_2_nodup.loc[data_2_nodup['place_name'].isnull(), 'place_name'] = 'Tigre'"
   ]
  },
  {
   "cell_type": "code",
   "execution_count": 63,
   "id": "0aab8ce8",
   "metadata": {},
   "outputs": [
    {
     "data": {
      "text/plain": [
       "place_name               property_type\n",
       " Country Maschwitz Club  house            1369.99\n",
       " los alamos              apartment        1600.00\n",
       "9 de Abril               house              94.02\n",
       "                         store             181.82\n",
       "Abasto                   PH               1548.24\n",
       "                                           ...   \n",
       "Yerba Buena              store             694.02\n",
       "Zelaya                   house             307.06\n",
       "ZÃ¡rate                  house              21.04\n",
       "coordenadas 34.255511    house            1943.46\n",
       "Ãlvarez                 house                NaN\n",
       "Name: price_usd_per_m2, Length: 2116, dtype: float64"
      ]
     },
     "execution_count": 63,
     "metadata": {},
     "output_type": "execute_result"
    }
   ],
   "source": [
    "data_3_nodup.groupby(['place_name', 'property_type'])['price_usd_per_m2'].mean().round(2)"
   ]
  },
  {
   "cell_type": "code",
   "execution_count": 64,
   "id": "a5c96920",
   "metadata": {},
   "outputs": [
    {
     "data": {
      "text/html": [
       "<div>\n",
       "<style scoped>\n",
       "    .dataframe tbody tr th:only-of-type {\n",
       "        vertical-align: middle;\n",
       "    }\n",
       "\n",
       "    .dataframe tbody tr th {\n",
       "        vertical-align: top;\n",
       "    }\n",
       "\n",
       "    .dataframe thead th {\n",
       "        text-align: right;\n",
       "    }\n",
       "</style>\n",
       "<table border=\"1\" class=\"dataframe\">\n",
       "  <thead>\n",
       "    <tr style=\"text-align: right;\">\n",
       "      <th></th>\n",
       "      <th>operation</th>\n",
       "      <th>property_type</th>\n",
       "      <th>place_name</th>\n",
       "      <th>place_with_parent_names</th>\n",
       "      <th>country_name</th>\n",
       "      <th>state_name</th>\n",
       "      <th>geonames_id</th>\n",
       "      <th>lat</th>\n",
       "      <th>lon</th>\n",
       "      <th>price</th>\n",
       "      <th>...</th>\n",
       "      <th>price_per_m2</th>\n",
       "      <th>floor</th>\n",
       "      <th>rooms</th>\n",
       "      <th>description</th>\n",
       "      <th>title</th>\n",
       "      <th>price_usd_per_m2_clean</th>\n",
       "      <th>pileta</th>\n",
       "      <th>cochera</th>\n",
       "      <th>ambientes</th>\n",
       "      <th>barrio_cerrado</th>\n",
       "    </tr>\n",
       "  </thead>\n",
       "  <tbody>\n",
       "    <tr>\n",
       "      <th>33586</th>\n",
       "      <td>sell</td>\n",
       "      <td>house</td>\n",
       "      <td>Country Maschwitz Club</td>\n",
       "      <td>|Argentina|Bs.As. G.B.A. Zona Norte|Escobar| C...</td>\n",
       "      <td>Argentina</td>\n",
       "      <td>Bs.As. G.B.A. Zona Norte</td>\n",
       "      <td>NaN</td>\n",
       "      <td>-34.377389</td>\n",
       "      <td>-58.756006</td>\n",
       "      <td>320000.0</td>\n",
       "      <td>...</td>\n",
       "      <td>1230.769231</td>\n",
       "      <td>NaN</td>\n",
       "      <td>NaN</td>\n",
       "      <td>Casa en Club Maschwitz, ubicada en lote centra...</td>\n",
       "      <td>Hermosa Casa en venta en Maschwitz Country Club</td>\n",
       "      <td>1066.666667</td>\n",
       "      <td>1</td>\n",
       "      <td></td>\n",
       "      <td>None</td>\n",
       "      <td>None</td>\n",
       "    </tr>\n",
       "    <tr>\n",
       "      <th>42404</th>\n",
       "      <td>sell</td>\n",
       "      <td>house</td>\n",
       "      <td>Country Maschwitz Club</td>\n",
       "      <td>|Argentina|Bs.As. G.B.A. Zona Norte|Escobar| C...</td>\n",
       "      <td>Argentina</td>\n",
       "      <td>Bs.As. G.B.A. Zona Norte</td>\n",
       "      <td>NaN</td>\n",
       "      <td>-34.378286</td>\n",
       "      <td>-58.754186</td>\n",
       "      <td>420000.0</td>\n",
       "      <td>...</td>\n",
       "      <td>1866.666667</td>\n",
       "      <td>NaN</td>\n",
       "      <td>NaN</td>\n",
       "      <td>Casa tradicional en 2 plantas al lago!! Excele...</td>\n",
       "      <td>excelente casa al lago desarrollada en 2 plantas</td>\n",
       "      <td>1673.306773</td>\n",
       "      <td></td>\n",
       "      <td></td>\n",
       "      <td>None</td>\n",
       "      <td>None</td>\n",
       "    </tr>\n",
       "    <tr>\n",
       "      <th>45159</th>\n",
       "      <td>sell</td>\n",
       "      <td>house</td>\n",
       "      <td>Country Maschwitz Club</td>\n",
       "      <td>|Argentina|Bs.As. G.B.A. Zona Norte|Escobar| C...</td>\n",
       "      <td>Argentina</td>\n",
       "      <td>Bs.As. G.B.A. Zona Norte</td>\n",
       "      <td>NaN</td>\n",
       "      <td>-34.377446</td>\n",
       "      <td>-58.756042</td>\n",
       "      <td>195000.0</td>\n",
       "      <td>...</td>\n",
       "      <td>812.500000</td>\n",
       "      <td>9.0</td>\n",
       "      <td>4.0</td>\n",
       "      <td>Corredor Responsable: Luis Alberto De Blas - C...</td>\n",
       "      <td>CASA EN DOS PLANTAS MASCHWITZ CLUB</td>\n",
       "      <td>812.500000</td>\n",
       "      <td></td>\n",
       "      <td></td>\n",
       "      <td>None</td>\n",
       "      <td>None</td>\n",
       "    </tr>\n",
       "  </tbody>\n",
       "</table>\n",
       "<p>3 rows × 25 columns</p>\n",
       "</div>"
      ],
      "text/plain": [
       "      operation property_type               place_name  \\\n",
       "33586      sell         house   Country Maschwitz Club   \n",
       "42404      sell         house   Country Maschwitz Club   \n",
       "45159      sell         house   Country Maschwitz Club   \n",
       "\n",
       "                                 place_with_parent_names country_name  \\\n",
       "33586  |Argentina|Bs.As. G.B.A. Zona Norte|Escobar| C...    Argentina   \n",
       "42404  |Argentina|Bs.As. G.B.A. Zona Norte|Escobar| C...    Argentina   \n",
       "45159  |Argentina|Bs.As. G.B.A. Zona Norte|Escobar| C...    Argentina   \n",
       "\n",
       "                     state_name  geonames_id        lat        lon     price  \\\n",
       "33586  Bs.As. G.B.A. Zona Norte          NaN -34.377389 -58.756006  320000.0   \n",
       "42404  Bs.As. G.B.A. Zona Norte          NaN -34.378286 -58.754186  420000.0   \n",
       "45159  Bs.As. G.B.A. Zona Norte          NaN -34.377446 -58.756042  195000.0   \n",
       "\n",
       "       ... price_per_m2  floor  rooms  \\\n",
       "33586  ...  1230.769231    NaN    NaN   \n",
       "42404  ...  1866.666667    NaN    NaN   \n",
       "45159  ...   812.500000    9.0    4.0   \n",
       "\n",
       "                                             description  \\\n",
       "33586  Casa en Club Maschwitz, ubicada en lote centra...   \n",
       "42404  Casa tradicional en 2 plantas al lago!! Excele...   \n",
       "45159  Corredor Responsable: Luis Alberto De Blas - C...   \n",
       "\n",
       "                                                  title  \\\n",
       "33586   Hermosa Casa en venta en Maschwitz Country Club   \n",
       "42404  excelente casa al lago desarrollada en 2 plantas   \n",
       "45159                CASA EN DOS PLANTAS MASCHWITZ CLUB   \n",
       "\n",
       "       price_usd_per_m2_clean  pileta  cochera ambientes barrio_cerrado  \n",
       "33586             1066.666667       1               None           None  \n",
       "42404             1673.306773                       None           None  \n",
       "45159              812.500000                       None           None  \n",
       "\n",
       "[3 rows x 25 columns]"
      ]
     },
     "execution_count": 64,
     "metadata": {},
     "output_type": "execute_result"
    }
   ],
   "source": [
    "mask_place1= data_3_nodup['place_name'].value_counts() ==1\n",
    "mask_place1.value_counts()\n",
    "\n",
    "mask1= data_3_nodup['place_name']  == ' Country Maschwitz Club'\n",
    "\n",
    "data_3_nodup[mask1]"
   ]
  },
  {
   "cell_type": "code",
   "execution_count": 65,
   "id": "d0d0c92f",
   "metadata": {},
   "outputs": [
    {
     "data": {
      "text/html": [
       "<div>\n",
       "<style scoped>\n",
       "    .dataframe tbody tr th:only-of-type {\n",
       "        vertical-align: middle;\n",
       "    }\n",
       "\n",
       "    .dataframe tbody tr th {\n",
       "        vertical-align: top;\n",
       "    }\n",
       "\n",
       "    .dataframe thead th {\n",
       "        text-align: right;\n",
       "    }\n",
       "</style>\n",
       "<table border=\"1\" class=\"dataframe\">\n",
       "  <thead>\n",
       "    <tr style=\"text-align: right;\">\n",
       "      <th></th>\n",
       "      <th>0</th>\n",
       "      <th>1</th>\n",
       "      <th>2</th>\n",
       "      <th>3</th>\n",
       "      <th>4</th>\n",
       "      <th>5</th>\n",
       "      <th>6</th>\n",
       "      <th>7</th>\n",
       "      <th>8</th>\n",
       "      <th>9</th>\n",
       "      <th>10</th>\n",
       "      <th>11</th>\n",
       "    </tr>\n",
       "  </thead>\n",
       "  <tbody>\n",
       "    <tr>\n",
       "      <th>0</th>\n",
       "      <td>|Argentina|Capital</td>\n",
       "      <td>Federal|Mataderos|</td>\n",
       "      <td>None</td>\n",
       "      <td>None</td>\n",
       "      <td>None</td>\n",
       "      <td>None</td>\n",
       "      <td>None</td>\n",
       "      <td>None</td>\n",
       "      <td>None</td>\n",
       "      <td>None</td>\n",
       "      <td>None</td>\n",
       "      <td>None</td>\n",
       "    </tr>\n",
       "    <tr>\n",
       "      <th>1</th>\n",
       "      <td>|Argentina|Bs.As.</td>\n",
       "      <td>G.B.A.</td>\n",
       "      <td>Zona</td>\n",
       "      <td>Sur|La</td>\n",
       "      <td>Plata|</td>\n",
       "      <td>None</td>\n",
       "      <td>None</td>\n",
       "      <td>None</td>\n",
       "      <td>None</td>\n",
       "      <td>None</td>\n",
       "      <td>None</td>\n",
       "      <td>None</td>\n",
       "    </tr>\n",
       "    <tr>\n",
       "      <th>2</th>\n",
       "      <td>|Argentina|Capital</td>\n",
       "      <td>Federal|Mataderos|</td>\n",
       "      <td>None</td>\n",
       "      <td>None</td>\n",
       "      <td>None</td>\n",
       "      <td>None</td>\n",
       "      <td>None</td>\n",
       "      <td>None</td>\n",
       "      <td>None</td>\n",
       "      <td>None</td>\n",
       "      <td>None</td>\n",
       "      <td>None</td>\n",
       "    </tr>\n",
       "    <tr>\n",
       "      <th>3</th>\n",
       "      <td>|Argentina|Capital</td>\n",
       "      <td>Federal|Liniers|</td>\n",
       "      <td>None</td>\n",
       "      <td>None</td>\n",
       "      <td>None</td>\n",
       "      <td>None</td>\n",
       "      <td>None</td>\n",
       "      <td>None</td>\n",
       "      <td>None</td>\n",
       "      <td>None</td>\n",
       "      <td>None</td>\n",
       "      <td>None</td>\n",
       "    </tr>\n",
       "    <tr>\n",
       "      <th>4</th>\n",
       "      <td>|Argentina|Buenos</td>\n",
       "      <td>Aires</td>\n",
       "      <td>Costa</td>\n",
       "      <td>AtlÃ¡ntica|Mar</td>\n",
       "      <td>del</td>\n",
       "      <td>Plata|Centro|</td>\n",
       "      <td>None</td>\n",
       "      <td>None</td>\n",
       "      <td>None</td>\n",
       "      <td>None</td>\n",
       "      <td>None</td>\n",
       "      <td>None</td>\n",
       "    </tr>\n",
       "    <tr>\n",
       "      <th>...</th>\n",
       "      <td>...</td>\n",
       "      <td>...</td>\n",
       "      <td>...</td>\n",
       "      <td>...</td>\n",
       "      <td>...</td>\n",
       "      <td>...</td>\n",
       "      <td>...</td>\n",
       "      <td>...</td>\n",
       "      <td>...</td>\n",
       "      <td>...</td>\n",
       "      <td>...</td>\n",
       "      <td>...</td>\n",
       "    </tr>\n",
       "    <tr>\n",
       "      <th>121214</th>\n",
       "      <td>|Argentina|Bs.As.</td>\n",
       "      <td>G.B.A.</td>\n",
       "      <td>Zona</td>\n",
       "      <td>Norte|San</td>\n",
       "      <td>Isidro|</td>\n",
       "      <td>None</td>\n",
       "      <td>None</td>\n",
       "      <td>None</td>\n",
       "      <td>None</td>\n",
       "      <td>None</td>\n",
       "      <td>None</td>\n",
       "      <td>None</td>\n",
       "    </tr>\n",
       "    <tr>\n",
       "      <th>121215</th>\n",
       "      <td>|Argentina|Capital</td>\n",
       "      <td>Federal|Belgrano|</td>\n",
       "      <td>None</td>\n",
       "      <td>None</td>\n",
       "      <td>None</td>\n",
       "      <td>None</td>\n",
       "      <td>None</td>\n",
       "      <td>None</td>\n",
       "      <td>None</td>\n",
       "      <td>None</td>\n",
       "      <td>None</td>\n",
       "      <td>None</td>\n",
       "    </tr>\n",
       "    <tr>\n",
       "      <th>121217</th>\n",
       "      <td>|Argentina|Capital</td>\n",
       "      <td>Federal|Villa</td>\n",
       "      <td>Urquiza|</td>\n",
       "      <td>None</td>\n",
       "      <td>None</td>\n",
       "      <td>None</td>\n",
       "      <td>None</td>\n",
       "      <td>None</td>\n",
       "      <td>None</td>\n",
       "      <td>None</td>\n",
       "      <td>None</td>\n",
       "      <td>None</td>\n",
       "    </tr>\n",
       "    <tr>\n",
       "      <th>121218</th>\n",
       "      <td>|Argentina|Buenos</td>\n",
       "      <td>Aires</td>\n",
       "      <td>Costa</td>\n",
       "      <td>AtlÃ¡ntica|Mar</td>\n",
       "      <td>del</td>\n",
       "      <td>Plata|Plaza</td>\n",
       "      <td>ColÃ³n|</td>\n",
       "      <td>None</td>\n",
       "      <td>None</td>\n",
       "      <td>None</td>\n",
       "      <td>None</td>\n",
       "      <td>None</td>\n",
       "    </tr>\n",
       "    <tr>\n",
       "      <th>121219</th>\n",
       "      <td>|Argentina|Capital</td>\n",
       "      <td>Federal|</td>\n",
       "      <td>None</td>\n",
       "      <td>None</td>\n",
       "      <td>None</td>\n",
       "      <td>None</td>\n",
       "      <td>None</td>\n",
       "      <td>None</td>\n",
       "      <td>None</td>\n",
       "      <td>None</td>\n",
       "      <td>None</td>\n",
       "      <td>None</td>\n",
       "    </tr>\n",
       "  </tbody>\n",
       "</table>\n",
       "<p>106370 rows × 12 columns</p>\n",
       "</div>"
      ],
      "text/plain": [
       "                        0                   1         2               3   \\\n",
       "0       |Argentina|Capital  Federal|Mataderos|      None            None   \n",
       "1        |Argentina|Bs.As.              G.B.A.      Zona          Sur|La   \n",
       "2       |Argentina|Capital  Federal|Mataderos|      None            None   \n",
       "3       |Argentina|Capital    Federal|Liniers|      None            None   \n",
       "4        |Argentina|Buenos               Aires     Costa  AtlÃ¡ntica|Mar   \n",
       "...                    ...                 ...       ...             ...   \n",
       "121214   |Argentina|Bs.As.              G.B.A.      Zona       Norte|San   \n",
       "121215  |Argentina|Capital   Federal|Belgrano|      None            None   \n",
       "121217  |Argentina|Capital       Federal|Villa  Urquiza|            None   \n",
       "121218   |Argentina|Buenos               Aires     Costa  AtlÃ¡ntica|Mar   \n",
       "121219  |Argentina|Capital            Federal|      None            None   \n",
       "\n",
       "             4              5        6     7     8     9     10    11  \n",
       "0          None           None     None  None  None  None  None  None  \n",
       "1        Plata|           None     None  None  None  None  None  None  \n",
       "2          None           None     None  None  None  None  None  None  \n",
       "3          None           None     None  None  None  None  None  None  \n",
       "4           del  Plata|Centro|     None  None  None  None  None  None  \n",
       "...         ...            ...      ...   ...   ...   ...   ...   ...  \n",
       "121214  Isidro|           None     None  None  None  None  None  None  \n",
       "121215     None           None     None  None  None  None  None  None  \n",
       "121217     None           None     None  None  None  None  None  None  \n",
       "121218      del    Plata|Plaza  ColÃ³n|  None  None  None  None  None  \n",
       "121219     None           None     None  None  None  None  None  None  \n",
       "\n",
       "[106370 rows x 12 columns]"
      ]
     },
     "execution_count": 65,
     "metadata": {},
     "output_type": "execute_result"
    }
   ],
   "source": [
    "data_3_nodup.place_with_parent_names.str.split(expand= True )"
   ]
  },
  {
   "cell_type": "code",
   "execution_count": 66,
   "id": "82cedb28",
   "metadata": {},
   "outputs": [],
   "source": [
    "df_data = pd.DataFrame(data_3_nodup.place_with_parent_names.str.split('|',4).tolist(),\n",
    "                         columns = ['first','2','3','place_final', 'Last'])\n",
    "\n",
    "labels_drop = ['2', '3', 'Last']\n",
    "df_data1 = df_data.drop(labels= labels_drop, axis=1)"
   ]
  },
  {
   "cell_type": "code",
   "execution_count": 67,
   "id": "d0e2be7f",
   "metadata": {},
   "outputs": [
    {
     "data": {
      "text/html": [
       "<div>\n",
       "<style scoped>\n",
       "    .dataframe tbody tr th:only-of-type {\n",
       "        vertical-align: middle;\n",
       "    }\n",
       "\n",
       "    .dataframe tbody tr th {\n",
       "        vertical-align: top;\n",
       "    }\n",
       "\n",
       "    .dataframe thead th {\n",
       "        text-align: right;\n",
       "    }\n",
       "</style>\n",
       "<table border=\"1\" class=\"dataframe\">\n",
       "  <thead>\n",
       "    <tr style=\"text-align: right;\">\n",
       "      <th></th>\n",
       "      <th>operation</th>\n",
       "      <th>property_type</th>\n",
       "      <th>place_name</th>\n",
       "      <th>place_with_parent_names</th>\n",
       "      <th>country_name</th>\n",
       "      <th>state_name</th>\n",
       "      <th>geonames_id</th>\n",
       "      <th>lat</th>\n",
       "      <th>lon</th>\n",
       "      <th>price</th>\n",
       "      <th>...</th>\n",
       "      <th>rooms</th>\n",
       "      <th>description</th>\n",
       "      <th>title</th>\n",
       "      <th>price_usd_per_m2_clean</th>\n",
       "      <th>pileta</th>\n",
       "      <th>cochera</th>\n",
       "      <th>ambientes</th>\n",
       "      <th>barrio_cerrado</th>\n",
       "      <th>first</th>\n",
       "      <th>place_final</th>\n",
       "    </tr>\n",
       "  </thead>\n",
       "  <tbody>\n",
       "    <tr>\n",
       "      <th>0</th>\n",
       "      <td>sell</td>\n",
       "      <td>PH</td>\n",
       "      <td>Mataderos</td>\n",
       "      <td>|Argentina|Capital Federal|Mataderos|</td>\n",
       "      <td>Argentina</td>\n",
       "      <td>Capital Federal</td>\n",
       "      <td>3430787.0</td>\n",
       "      <td>-34.661824</td>\n",
       "      <td>-58.508839</td>\n",
       "      <td>62000.0</td>\n",
       "      <td>...</td>\n",
       "      <td>NaN</td>\n",
       "      <td>2 AMBIENTES TIPO CASA PLANTA BAJA POR PASILLO,...</td>\n",
       "      <td>2 AMB TIPO CASA SIN EXPENSAS EN PB</td>\n",
       "      <td>1127.272727</td>\n",
       "      <td></td>\n",
       "      <td></td>\n",
       "      <td>2</td>\n",
       "      <td>None</td>\n",
       "      <td></td>\n",
       "      <td>Mataderos</td>\n",
       "    </tr>\n",
       "    <tr>\n",
       "      <th>1</th>\n",
       "      <td>sell</td>\n",
       "      <td>apartment</td>\n",
       "      <td>La Plata</td>\n",
       "      <td>|Argentina|Bs.As. G.B.A. Zona Sur|La Plata|</td>\n",
       "      <td>Argentina</td>\n",
       "      <td>Bs.As. G.B.A. Zona Sur</td>\n",
       "      <td>3432039.0</td>\n",
       "      <td>-34.903883</td>\n",
       "      <td>-57.964330</td>\n",
       "      <td>150000.0</td>\n",
       "      <td>...</td>\n",
       "      <td>NaN</td>\n",
       "      <td>Venta de departamento en dÃ©cimo piso al frent...</td>\n",
       "      <td>VENTA Depto 2 dorm. a estrenar 7 e/ 36 y 37   ...</td>\n",
       "      <td>NaN</td>\n",
       "      <td></td>\n",
       "      <td>1</td>\n",
       "      <td>None</td>\n",
       "      <td>None</td>\n",
       "      <td></td>\n",
       "      <td>La Plata</td>\n",
       "    </tr>\n",
       "    <tr>\n",
       "      <th>2</th>\n",
       "      <td>sell</td>\n",
       "      <td>apartment</td>\n",
       "      <td>Mataderos</td>\n",
       "      <td>|Argentina|Capital Federal|Mataderos|</td>\n",
       "      <td>Argentina</td>\n",
       "      <td>Capital Federal</td>\n",
       "      <td>3430787.0</td>\n",
       "      <td>-34.652262</td>\n",
       "      <td>-58.522982</td>\n",
       "      <td>72000.0</td>\n",
       "      <td>...</td>\n",
       "      <td>NaN</td>\n",
       "      <td>2 AMBIENTES 3ER PISO LATERAL LIVING COMEDOR AM...</td>\n",
       "      <td>2 AMB 3ER PISO CON ASCENSOR APTO CREDITO</td>\n",
       "      <td>1309.090909</td>\n",
       "      <td></td>\n",
       "      <td></td>\n",
       "      <td>2</td>\n",
       "      <td>None</td>\n",
       "      <td></td>\n",
       "      <td>Mataderos</td>\n",
       "    </tr>\n",
       "    <tr>\n",
       "      <th>3</th>\n",
       "      <td>sell</td>\n",
       "      <td>PH</td>\n",
       "      <td>Liniers</td>\n",
       "      <td>|Argentina|Capital Federal|Liniers|</td>\n",
       "      <td>Argentina</td>\n",
       "      <td>Capital Federal</td>\n",
       "      <td>3431333.0</td>\n",
       "      <td>-34.647797</td>\n",
       "      <td>-58.516424</td>\n",
       "      <td>95000.0</td>\n",
       "      <td>...</td>\n",
       "      <td>NaN</td>\n",
       "      <td>PH 3 ambientes con patio. Hay 3 deptos en lote...</td>\n",
       "      <td>PH 3 amb. cfte. reciclado</td>\n",
       "      <td>NaN</td>\n",
       "      <td></td>\n",
       "      <td></td>\n",
       "      <td>3</td>\n",
       "      <td>None</td>\n",
       "      <td></td>\n",
       "      <td>Liniers</td>\n",
       "    </tr>\n",
       "    <tr>\n",
       "      <th>4</th>\n",
       "      <td>sell</td>\n",
       "      <td>apartment</td>\n",
       "      <td>Centro</td>\n",
       "      <td>|Argentina|Buenos Aires Costa AtlÃ¡ntica|Mar d...</td>\n",
       "      <td>Argentina</td>\n",
       "      <td>Buenos Aires Costa AtlÃ¡ntica</td>\n",
       "      <td>3435548.0</td>\n",
       "      <td>-38.002626</td>\n",
       "      <td>-57.549447</td>\n",
       "      <td>64000.0</td>\n",
       "      <td>...</td>\n",
       "      <td>NaN</td>\n",
       "      <td>DEPARTAMENTO CON FANTÃSTICA ILUMINACIÃN NATU...</td>\n",
       "      <td>DEPTO 2 AMB AL CONTRAFRENTE ZONA CENTRO/PLAZA ...</td>\n",
       "      <td>1828.571429</td>\n",
       "      <td></td>\n",
       "      <td></td>\n",
       "      <td>2</td>\n",
       "      <td>None</td>\n",
       "      <td></td>\n",
       "      <td>Mar del Plata</td>\n",
       "    </tr>\n",
       "    <tr>\n",
       "      <th>...</th>\n",
       "      <td>...</td>\n",
       "      <td>...</td>\n",
       "      <td>...</td>\n",
       "      <td>...</td>\n",
       "      <td>...</td>\n",
       "      <td>...</td>\n",
       "      <td>...</td>\n",
       "      <td>...</td>\n",
       "      <td>...</td>\n",
       "      <td>...</td>\n",
       "      <td>...</td>\n",
       "      <td>...</td>\n",
       "      <td>...</td>\n",
       "      <td>...</td>\n",
       "      <td>...</td>\n",
       "      <td>...</td>\n",
       "      <td>...</td>\n",
       "      <td>...</td>\n",
       "      <td>...</td>\n",
       "      <td>...</td>\n",
       "      <td>...</td>\n",
       "    </tr>\n",
       "    <tr>\n",
       "      <th>121214</th>\n",
       "      <td>sell</td>\n",
       "      <td>store</td>\n",
       "      <td>San Isidro</td>\n",
       "      <td>|Argentina|Bs.As. G.B.A. Zona Norte|San Isidro|</td>\n",
       "      <td>Argentina</td>\n",
       "      <td>Bs.As. G.B.A. Zona Norte</td>\n",
       "      <td>3428983.0</td>\n",
       "      <td>NaN</td>\n",
       "      <td>NaN</td>\n",
       "      <td>NaN</td>\n",
       "      <td>...</td>\n",
       "      <td>NaN</td>\n",
       "      <td>***VENTA CON RENTA***Local en EDIFICIO lomas ...</td>\n",
       "      <td>Local - San Isidro</td>\n",
       "      <td>NaN</td>\n",
       "      <td></td>\n",
       "      <td>1</td>\n",
       "      <td>None</td>\n",
       "      <td>None</td>\n",
       "      <td>NaN</td>\n",
       "      <td>NaN</td>\n",
       "    </tr>\n",
       "    <tr>\n",
       "      <th>121215</th>\n",
       "      <td>sell</td>\n",
       "      <td>apartment</td>\n",
       "      <td>Belgrano</td>\n",
       "      <td>|Argentina|Capital Federal|Belgrano|</td>\n",
       "      <td>Argentina</td>\n",
       "      <td>Capital Federal</td>\n",
       "      <td>3436077.0</td>\n",
       "      <td>NaN</td>\n",
       "      <td>NaN</td>\n",
       "      <td>870000.0</td>\n",
       "      <td>...</td>\n",
       "      <td>NaN</td>\n",
       "      <td>TORRE FORUM ALCORTA - MÃXIMA CATEGORÃA.Impec...</td>\n",
       "      <td>Torre Forum Alcorta- Impecable 3 ambientes</td>\n",
       "      <td>7699.115044</td>\n",
       "      <td>1</td>\n",
       "      <td>1</td>\n",
       "      <td>None</td>\n",
       "      <td>None</td>\n",
       "      <td>NaN</td>\n",
       "      <td>NaN</td>\n",
       "    </tr>\n",
       "    <tr>\n",
       "      <th>121217</th>\n",
       "      <td>sell</td>\n",
       "      <td>apartment</td>\n",
       "      <td>Villa Urquiza</td>\n",
       "      <td>|Argentina|Capital Federal|Villa Urquiza|</td>\n",
       "      <td>Argentina</td>\n",
       "      <td>Capital Federal</td>\n",
       "      <td>3433775.0</td>\n",
       "      <td>-34.570639</td>\n",
       "      <td>-58.475596</td>\n",
       "      <td>131500.0</td>\n",
       "      <td>...</td>\n",
       "      <td>NaN</td>\n",
       "      <td>VENTA DEPARTAMENTO AMBIENTE DIVISIBLE A ESTREN...</td>\n",
       "      <td>VENTA DEPARTAMENTO AMBIENTE DIVISIBLE A ESTREN...</td>\n",
       "      <td>2858.695652</td>\n",
       "      <td></td>\n",
       "      <td>1</td>\n",
       "      <td>None</td>\n",
       "      <td>None</td>\n",
       "      <td>NaN</td>\n",
       "      <td>NaN</td>\n",
       "    </tr>\n",
       "    <tr>\n",
       "      <th>121218</th>\n",
       "      <td>sell</td>\n",
       "      <td>apartment</td>\n",
       "      <td>Plaza ColÃ³n</td>\n",
       "      <td>|Argentina|Buenos Aires Costa AtlÃ¡ntica|Mar d...</td>\n",
       "      <td>Argentina</td>\n",
       "      <td>Buenos Aires Costa AtlÃ¡ntica</td>\n",
       "      <td>NaN</td>\n",
       "      <td>NaN</td>\n",
       "      <td>NaN</td>\n",
       "      <td>95900.0</td>\n",
       "      <td>...</td>\n",
       "      <td>NaN</td>\n",
       "      <td>2 Amb al contrafrente,  luminoso. El departame...</td>\n",
       "      <td>2 amb. C/ dep. de servicio al contrafrente| Re...</td>\n",
       "      <td>1997.916667</td>\n",
       "      <td></td>\n",
       "      <td></td>\n",
       "      <td>None</td>\n",
       "      <td>None</td>\n",
       "      <td>NaN</td>\n",
       "      <td>NaN</td>\n",
       "    </tr>\n",
       "    <tr>\n",
       "      <th>121219</th>\n",
       "      <td>sell</td>\n",
       "      <td>apartment</td>\n",
       "      <td>Capital Federal</td>\n",
       "      <td>|Argentina|Capital Federal|</td>\n",
       "      <td>Argentina</td>\n",
       "      <td>Capital Federal</td>\n",
       "      <td>3433955.0</td>\n",
       "      <td>NaN</td>\n",
       "      <td>NaN</td>\n",
       "      <td>129000.0</td>\n",
       "      <td>...</td>\n",
       "      <td>NaN</td>\n",
       "      <td>Departamento de 77 m2 apto profesional. Edific...</td>\n",
       "      <td>Departamento apto profesional en el Centro</td>\n",
       "      <td>1675.324675</td>\n",
       "      <td></td>\n",
       "      <td></td>\n",
       "      <td>None</td>\n",
       "      <td>None</td>\n",
       "      <td>NaN</td>\n",
       "      <td>NaN</td>\n",
       "    </tr>\n",
       "  </tbody>\n",
       "</table>\n",
       "<p>118324 rows × 27 columns</p>\n",
       "</div>"
      ],
      "text/plain": [
       "       operation property_type       place_name  \\\n",
       "0           sell            PH        Mataderos   \n",
       "1           sell     apartment         La Plata   \n",
       "2           sell     apartment        Mataderos   \n",
       "3           sell            PH          Liniers   \n",
       "4           sell     apartment           Centro   \n",
       "...          ...           ...              ...   \n",
       "121214      sell         store       San Isidro   \n",
       "121215      sell     apartment         Belgrano   \n",
       "121217      sell     apartment    Villa Urquiza   \n",
       "121218      sell     apartment     Plaza ColÃ³n   \n",
       "121219      sell     apartment  Capital Federal   \n",
       "\n",
       "                                  place_with_parent_names country_name  \\\n",
       "0                   |Argentina|Capital Federal|Mataderos|    Argentina   \n",
       "1             |Argentina|Bs.As. G.B.A. Zona Sur|La Plata|    Argentina   \n",
       "2                   |Argentina|Capital Federal|Mataderos|    Argentina   \n",
       "3                     |Argentina|Capital Federal|Liniers|    Argentina   \n",
       "4       |Argentina|Buenos Aires Costa AtlÃ¡ntica|Mar d...    Argentina   \n",
       "...                                                   ...          ...   \n",
       "121214    |Argentina|Bs.As. G.B.A. Zona Norte|San Isidro|    Argentina   \n",
       "121215               |Argentina|Capital Federal|Belgrano|    Argentina   \n",
       "121217          |Argentina|Capital Federal|Villa Urquiza|    Argentina   \n",
       "121218  |Argentina|Buenos Aires Costa AtlÃ¡ntica|Mar d...    Argentina   \n",
       "121219                        |Argentina|Capital Federal|    Argentina   \n",
       "\n",
       "                           state_name  geonames_id        lat        lon  \\\n",
       "0                     Capital Federal    3430787.0 -34.661824 -58.508839   \n",
       "1              Bs.As. G.B.A. Zona Sur    3432039.0 -34.903883 -57.964330   \n",
       "2                     Capital Federal    3430787.0 -34.652262 -58.522982   \n",
       "3                     Capital Federal    3431333.0 -34.647797 -58.516424   \n",
       "4       Buenos Aires Costa AtlÃ¡ntica    3435548.0 -38.002626 -57.549447   \n",
       "...                               ...          ...        ...        ...   \n",
       "121214       Bs.As. G.B.A. Zona Norte    3428983.0        NaN        NaN   \n",
       "121215                Capital Federal    3436077.0        NaN        NaN   \n",
       "121217                Capital Federal    3433775.0 -34.570639 -58.475596   \n",
       "121218  Buenos Aires Costa AtlÃ¡ntica          NaN        NaN        NaN   \n",
       "121219                Capital Federal    3433955.0        NaN        NaN   \n",
       "\n",
       "           price  ... rooms  \\\n",
       "0        62000.0  ...   NaN   \n",
       "1       150000.0  ...   NaN   \n",
       "2        72000.0  ...   NaN   \n",
       "3        95000.0  ...   NaN   \n",
       "4        64000.0  ...   NaN   \n",
       "...          ...  ...   ...   \n",
       "121214       NaN  ...   NaN   \n",
       "121215  870000.0  ...   NaN   \n",
       "121217  131500.0  ...   NaN   \n",
       "121218   95900.0  ...   NaN   \n",
       "121219  129000.0  ...   NaN   \n",
       "\n",
       "                                              description  \\\n",
       "0       2 AMBIENTES TIPO CASA PLANTA BAJA POR PASILLO,...   \n",
       "1       Venta de departamento en dÃ©cimo piso al frent...   \n",
       "2       2 AMBIENTES 3ER PISO LATERAL LIVING COMEDOR AM...   \n",
       "3       PH 3 ambientes con patio. Hay 3 deptos en lote...   \n",
       "4       DEPARTAMENTO CON FANTÃSTICA ILUMINACIÃN NATU...   \n",
       "...                                                   ...   \n",
       "121214   ***VENTA CON RENTA***Local en EDIFICIO lomas ...   \n",
       "121215  TORRE FORUM ALCORTA - MÃXIMA CATEGORÃA.Impec...   \n",
       "121217  VENTA DEPARTAMENTO AMBIENTE DIVISIBLE A ESTREN...   \n",
       "121218  2 Amb al contrafrente,  luminoso. El departame...   \n",
       "121219  Departamento de 77 m2 apto profesional. Edific...   \n",
       "\n",
       "                                                    title  \\\n",
       "0                      2 AMB TIPO CASA SIN EXPENSAS EN PB   \n",
       "1       VENTA Depto 2 dorm. a estrenar 7 e/ 36 y 37   ...   \n",
       "2                2 AMB 3ER PISO CON ASCENSOR APTO CREDITO   \n",
       "3                            PH 3 amb. cfte. reciclado      \n",
       "4       DEPTO 2 AMB AL CONTRAFRENTE ZONA CENTRO/PLAZA ...   \n",
       "...                                                   ...   \n",
       "121214                                 Local - San Isidro   \n",
       "121215         Torre Forum Alcorta- Impecable 3 ambientes   \n",
       "121217  VENTA DEPARTAMENTO AMBIENTE DIVISIBLE A ESTREN...   \n",
       "121218  2 amb. C/ dep. de servicio al contrafrente| Re...   \n",
       "121219         Departamento apto profesional en el Centro   \n",
       "\n",
       "        price_usd_per_m2_clean  pileta  cochera  ambientes  barrio_cerrado  \\\n",
       "0                  1127.272727                           2            None   \n",
       "1                          NaN                1       None            None   \n",
       "2                  1309.090909                           2            None   \n",
       "3                          NaN                           3            None   \n",
       "4                  1828.571429                           2            None   \n",
       "...                        ...     ...      ...        ...             ...   \n",
       "121214                     NaN                1       None            None   \n",
       "121215             7699.115044       1        1       None            None   \n",
       "121217             2858.695652                1       None            None   \n",
       "121218             1997.916667                        None            None   \n",
       "121219             1675.324675                        None            None   \n",
       "\n",
       "       first    place_final  \n",
       "0                 Mataderos  \n",
       "1                  La Plata  \n",
       "2                 Mataderos  \n",
       "3                   Liniers  \n",
       "4             Mar del Plata  \n",
       "...      ...            ...  \n",
       "121214   NaN            NaN  \n",
       "121215   NaN            NaN  \n",
       "121217   NaN            NaN  \n",
       "121218   NaN            NaN  \n",
       "121219   NaN            NaN  \n",
       "\n",
       "[118324 rows x 27 columns]"
      ]
     },
     "execution_count": 67,
     "metadata": {},
     "output_type": "execute_result"
    }
   ],
   "source": [
    "result = pd.concat([data_3_nodup, df_data1], axis=1)\n",
    "result"
   ]
  },
  {
   "cell_type": "code",
   "execution_count": 68,
   "id": "d1bb8800",
   "metadata": {},
   "outputs": [
    {
     "data": {
      "text/plain": [
       "Tigre            7879\n",
       "Mar del Plata    7317\n",
       "Rosario          5978\n",
       "CÃ³rdoba         5671\n",
       "                 3776\n",
       "                 ... \n",
       "Patagones           1\n",
       "Helvecia            1\n",
       "Casa Grande         1\n",
       "Villa Fontana       1\n",
       "Franck              1\n",
       "Name: place_final, Length: 538, dtype: int64"
      ]
     },
     "execution_count": 68,
     "metadata": {},
     "output_type": "execute_result"
    }
   ],
   "source": [
    "result['place_final'].value_counts()"
   ]
  },
  {
   "cell_type": "code",
   "execution_count": 69,
   "id": "9feaada8",
   "metadata": {},
   "outputs": [
    {
     "data": {
      "text/html": [
       "<div>\n",
       "<style scoped>\n",
       "    .dataframe tbody tr th:only-of-type {\n",
       "        vertical-align: middle;\n",
       "    }\n",
       "\n",
       "    .dataframe tbody tr th {\n",
       "        vertical-align: top;\n",
       "    }\n",
       "\n",
       "    .dataframe thead th {\n",
       "        text-align: right;\n",
       "    }\n",
       "</style>\n",
       "<table border=\"1\" class=\"dataframe\">\n",
       "  <thead>\n",
       "    <tr style=\"text-align: right;\">\n",
       "      <th></th>\n",
       "      <th></th>\n",
       "      <th>price_usd_per_m2</th>\n",
       "    </tr>\n",
       "    <tr>\n",
       "      <th>place_final</th>\n",
       "      <th>property_type</th>\n",
       "      <th></th>\n",
       "    </tr>\n",
       "  </thead>\n",
       "  <tbody>\n",
       "    <tr>\n",
       "      <th rowspan=\"4\" valign=\"top\"></th>\n",
       "      <th>PH</th>\n",
       "      <td>1400.86</td>\n",
       "    </tr>\n",
       "    <tr>\n",
       "      <th>apartment</th>\n",
       "      <td>2491.00</td>\n",
       "    </tr>\n",
       "    <tr>\n",
       "      <th>house</th>\n",
       "      <td>1157.46</td>\n",
       "    </tr>\n",
       "    <tr>\n",
       "      <th>store</th>\n",
       "      <td>1541.10</td>\n",
       "    </tr>\n",
       "    <tr>\n",
       "      <th>Abasto</th>\n",
       "      <th>PH</th>\n",
       "      <td>1267.54</td>\n",
       "    </tr>\n",
       "    <tr>\n",
       "      <th>...</th>\n",
       "      <th>...</th>\n",
       "      <td>...</td>\n",
       "    </tr>\n",
       "    <tr>\n",
       "      <th rowspan=\"2\" valign=\"top\">Yerba Buena</th>\n",
       "      <th>house</th>\n",
       "      <td>1165.89</td>\n",
       "    </tr>\n",
       "    <tr>\n",
       "      <th>store</th>\n",
       "      <td>2439.43</td>\n",
       "    </tr>\n",
       "    <tr>\n",
       "      <th rowspan=\"2\" valign=\"top\">ZÃ¡rate</th>\n",
       "      <th>PH</th>\n",
       "      <td>864.66</td>\n",
       "    </tr>\n",
       "    <tr>\n",
       "      <th>apartment</th>\n",
       "      <td>2333.78</td>\n",
       "    </tr>\n",
       "    <tr>\n",
       "      <th>Ãlvarez</th>\n",
       "      <th>house</th>\n",
       "      <td>666.67</td>\n",
       "    </tr>\n",
       "  </tbody>\n",
       "</table>\n",
       "<p>1118 rows × 1 columns</p>\n",
       "</div>"
      ],
      "text/plain": [
       "                           price_usd_per_m2\n",
       "place_final property_type                  \n",
       "            PH                      1400.86\n",
       "            apartment               2491.00\n",
       "            house                   1157.46\n",
       "            store                   1541.10\n",
       "Abasto      PH                      1267.54\n",
       "...                                     ...\n",
       "Yerba Buena house                   1165.89\n",
       "            store                   2439.43\n",
       "ZÃ¡rate     PH                       864.66\n",
       "            apartment               2333.78\n",
       "Ãlvarez    house                    666.67\n",
       "\n",
       "[1118 rows x 1 columns]"
      ]
     },
     "execution_count": 69,
     "metadata": {},
     "output_type": "execute_result"
    }
   ],
   "source": [
    "#Armado de pivot:\n",
    "data_pivot = result.pivot_table(index = ['place_final', 'property_type' ], aggfunc={'price_usd_per_m2':'mean'}).round(2)\n",
    "data_pivot"
   ]
  },
  {
   "cell_type": "code",
   "execution_count": 70,
   "id": "f527faa9",
   "metadata": {},
   "outputs": [
    {
     "data": {
      "text/html": [
       "<div>\n",
       "<style scoped>\n",
       "    .dataframe tbody tr th:only-of-type {\n",
       "        vertical-align: middle;\n",
       "    }\n",
       "\n",
       "    .dataframe tbody tr th {\n",
       "        vertical-align: top;\n",
       "    }\n",
       "\n",
       "    .dataframe thead th {\n",
       "        text-align: right;\n",
       "    }\n",
       "</style>\n",
       "<table border=\"1\" class=\"dataframe\">\n",
       "  <thead>\n",
       "    <tr style=\"text-align: right;\">\n",
       "      <th></th>\n",
       "      <th>price_usd_per_m2</th>\n",
       "    </tr>\n",
       "    <tr>\n",
       "      <th>property_type</th>\n",
       "      <th></th>\n",
       "    </tr>\n",
       "  </thead>\n",
       "  <tbody>\n",
       "    <tr>\n",
       "      <th>PH</th>\n",
       "      <td>1267.54</td>\n",
       "    </tr>\n",
       "    <tr>\n",
       "      <th>apartment</th>\n",
       "      <td>2040.12</td>\n",
       "    </tr>\n",
       "    <tr>\n",
       "      <th>house</th>\n",
       "      <td>1105.65</td>\n",
       "    </tr>\n",
       "  </tbody>\n",
       "</table>\n",
       "</div>"
      ],
      "text/plain": [
       "               price_usd_per_m2\n",
       "property_type                  \n",
       "PH                      1267.54\n",
       "apartment               2040.12\n",
       "house                   1105.65"
      ]
     },
     "execution_count": 70,
     "metadata": {},
     "output_type": "execute_result"
    }
   ],
   "source": [
    "abastoprices=data_pivot.loc['Abasto']\n",
    "abastoprices"
   ]
  },
  {
   "cell_type": "markdown",
   "id": "c058a41b",
   "metadata": {},
   "source": [
    "### <i> Geo analisis: <i>"
   ]
  },
  {
   "cell_type": "code",
   "execution_count": 71,
   "id": "5a8cbca7",
   "metadata": {},
   "outputs": [],
   "source": [
    "#Eliminamos outliers o errores de locación\n",
    "data_3_nodup=data_3_nodup.drop(index=[28512])\n",
    "data_3_nodup=data_3_nodup.drop(index=[9761])"
   ]
  },
  {
   "cell_type": "code",
   "execution_count": 72,
   "id": "f0c65744",
   "metadata": {},
   "outputs": [
    {
     "ename": "NameError",
     "evalue": "name 'gpd' is not defined",
     "output_type": "error",
     "traceback": [
      "\u001b[1;31m---------------------------------------------------------------------------\u001b[0m",
      "\u001b[1;31mNameError\u001b[0m                                 Traceback (most recent call last)",
      "\u001b[1;32m<ipython-input-72-964bf6822aca>\u001b[0m in \u001b[0;36m<module>\u001b[1;34m\u001b[0m\n\u001b[1;32m----> 1\u001b[1;33m \u001b[0mgeo_prop\u001b[0m \u001b[1;33m=\u001b[0m \u001b[0mgpd\u001b[0m\u001b[1;33m.\u001b[0m\u001b[0mpoints_from_xy\u001b[0m\u001b[1;33m(\u001b[0m\u001b[0mdata_3_nodup\u001b[0m\u001b[1;33m.\u001b[0m\u001b[0mlon\u001b[0m\u001b[1;33m,\u001b[0m \u001b[0mdata_3_nodup\u001b[0m\u001b[1;33m.\u001b[0m\u001b[0mlat\u001b[0m\u001b[1;33m)\u001b[0m\u001b[1;33m\u001b[0m\u001b[1;33m\u001b[0m\u001b[0m\n\u001b[0m\u001b[0;32m      2\u001b[0m \u001b[0mdptos\u001b[0m \u001b[1;33m=\u001b[0m \u001b[0mgpd\u001b[0m\u001b[1;33m.\u001b[0m\u001b[0mGeoDataFrame\u001b[0m\u001b[1;33m(\u001b[0m\u001b[0mdata_3_nodup\u001b[0m\u001b[1;33m,\u001b[0m \u001b[0mgeometry\u001b[0m\u001b[1;33m=\u001b[0m\u001b[0mgeo_prop\u001b[0m\u001b[1;33m)\u001b[0m\u001b[1;33m\u001b[0m\u001b[1;33m\u001b[0m\u001b[0m\n",
      "\u001b[1;31mNameError\u001b[0m: name 'gpd' is not defined"
     ]
    }
   ],
   "source": [
    "geo_prop = gpd.points_from_xy(data_3_nodup.lon, data_3_nodup.lat)\n",
    "dptos = gpd.GeoDataFrame(data_3_nodup, geometry=geo_prop)"
   ]
  },
  {
   "cell_type": "code",
   "execution_count": 73,
   "id": "d85a3ebb",
   "metadata": {},
   "outputs": [
    {
     "ename": "NameError",
     "evalue": "name 'dptos' is not defined",
     "output_type": "error",
     "traceback": [
      "\u001b[1;31m---------------------------------------------------------------------------\u001b[0m",
      "\u001b[1;31mNameError\u001b[0m                                 Traceback (most recent call last)",
      "\u001b[1;32m<ipython-input-73-c607457e0901>\u001b[0m in \u001b[0;36m<module>\u001b[1;34m\u001b[0m\n\u001b[1;32m----> 1\u001b[1;33m \u001b[0mdptos\u001b[0m\u001b[1;33m.\u001b[0m\u001b[0mhead\u001b[0m\u001b[1;33m(\u001b[0m\u001b[1;36m2\u001b[0m\u001b[1;33m)\u001b[0m\u001b[1;33m\u001b[0m\u001b[1;33m\u001b[0m\u001b[0m\n\u001b[0m",
      "\u001b[1;31mNameError\u001b[0m: name 'dptos' is not defined"
     ]
    }
   ],
   "source": [
    "dptos.head(2)"
   ]
  },
  {
   "cell_type": "code",
   "execution_count": 74,
   "id": "3c1dd8b2",
   "metadata": {},
   "outputs": [
    {
     "ename": "NameError",
     "evalue": "name 'dptos' is not defined",
     "output_type": "error",
     "traceback": [
      "\u001b[1;31m---------------------------------------------------------------------------\u001b[0m",
      "\u001b[1;31mNameError\u001b[0m                                 Traceback (most recent call last)",
      "\u001b[1;32m<ipython-input-74-2e4991810930>\u001b[0m in \u001b[0;36m<module>\u001b[1;34m\u001b[0m\n\u001b[0;32m      5\u001b[0m \u001b[0mplt\u001b[0m\u001b[1;33m.\u001b[0m\u001b[0mgrid\u001b[0m\u001b[1;33m(\u001b[0m\u001b[1;33m)\u001b[0m\u001b[1;33m\u001b[0m\u001b[1;33m\u001b[0m\u001b[0m\n\u001b[0;32m      6\u001b[0m \u001b[1;33m\u001b[0m\u001b[0m\n\u001b[1;32m----> 7\u001b[1;33m \u001b[0mdptos\u001b[0m\u001b[1;33m.\u001b[0m\u001b[0mcrs\u001b[0m \u001b[1;33m=\u001b[0m \u001b[1;34m\"EPSG:4326\"\u001b[0m\u001b[1;33m\u001b[0m\u001b[1;33m\u001b[0m\u001b[0m\n\u001b[0m\u001b[0;32m      8\u001b[0m \u001b[0mgeo_mask_3857\u001b[0m \u001b[1;33m=\u001b[0m \u001b[0mdptos\u001b[0m\u001b[1;33m.\u001b[0m\u001b[0mto_crs\u001b[0m\u001b[1;33m(\u001b[0m\u001b[0mepsg\u001b[0m\u001b[1;33m=\u001b[0m\u001b[1;36m3857\u001b[0m\u001b[1;33m)\u001b[0m\u001b[1;33m\u001b[0m\u001b[1;33m\u001b[0m\u001b[0m\n\u001b[0;32m      9\u001b[0m \u001b[0mgeo_mask_3857\u001b[0m\u001b[1;33m.\u001b[0m\u001b[0mplot\u001b[0m\u001b[1;33m(\u001b[0m\u001b[0mcmap\u001b[0m\u001b[1;33m=\u001b[0m\u001b[1;34m'coolwarm'\u001b[0m\u001b[1;33m,\u001b[0m \u001b[0max\u001b[0m\u001b[1;33m=\u001b[0m\u001b[0max\u001b[0m\u001b[1;33m,\u001b[0m\u001b[0mlegend\u001b[0m \u001b[1;33m=\u001b[0m \u001b[1;32mTrue\u001b[0m\u001b[1;33m,\u001b[0m\u001b[0malpha\u001b[0m\u001b[1;33m=\u001b[0m\u001b[1;36m0.7\u001b[0m\u001b[1;33m)\u001b[0m\u001b[1;33m\u001b[0m\u001b[1;33m\u001b[0m\u001b[0m\n",
      "\u001b[1;31mNameError\u001b[0m: name 'dptos' is not defined"
     ]
    },
    {
     "data": {
      "image/png": "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\n",
      "text/plain": [
       "<Figure size 432x720 with 1 Axes>"
      ]
     },
     "metadata": {
      "needs_background": "light"
     },
     "output_type": "display_data"
    }
   ],
   "source": [
    "fig, ax = plt.subplots(figsize=(6,10))\n",
    "ax.set_title('Propiedades')\n",
    "ax.set_xlabel('Latitud')\n",
    "ax.set_ylabel('Longitud')\n",
    "plt.grid()\n",
    "\n",
    "dptos.crs = \"EPSG:4326\"                        \n",
    "geo_mask_3857 = dptos.to_crs(epsg=3857)       \n",
    "geo_mask_3857.plot(cmap='coolwarm', ax=ax,legend = True,alpha=0.7)\n",
    "\n",
    "cx.add_basemap(ax, source=cx.providers.Stamen.TonerLite)"
   ]
  },
  {
   "cell_type": "code",
   "execution_count": 75,
   "id": "d6f716e9",
   "metadata": {},
   "outputs": [
    {
     "data": {
      "text/plain": [
       "apartment    57815\n",
       "house        39244\n",
       "PH            5359\n",
       "store         3950\n",
       "Name: property_type, dtype: int64"
      ]
     },
     "execution_count": 75,
     "metadata": {},
     "output_type": "execute_result"
    }
   ],
   "source": [
    "tipo_prop=data_3_nodup['property_type'].value_counts()\n",
    "tipo_prop"
   ]
  },
  {
   "cell_type": "code",
   "execution_count": 76,
   "id": "908904a9",
   "metadata": {},
   "outputs": [
    {
     "data": {
      "image/png": "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\n",
      "text/plain": [
       "<Figure size 720x360 with 1 Axes>"
      ]
     },
     "metadata": {},
     "output_type": "display_data"
    }
   ],
   "source": [
    "titulos=['Dpto','House','PH','Tienda']\n",
    "\n",
    "fig = plt.figure(figsize=(10,5)); ax = plt.axes()\n",
    "\n",
    "ax.pie(tipo_prop, labels = titulos ,autopct='%1.2f%%')\n",
    "plt.show()"
   ]
  },
  {
   "cell_type": "code",
   "execution_count": 77,
   "id": "52f97422",
   "metadata": {},
   "outputs": [
    {
     "name": "stdout",
     "output_type": "stream",
     "text": [
      "2760.52\n"
     ]
    }
   ],
   "source": [
    "#Definicion de m2 por c/propiedad:\n",
    "maskcasa=data_3_nodup['property_type']=='house'\n",
    "meancasa=data_3_nodup['price_usd_per_m2_clean'][maskcasa]\n",
    "pricecasa=meancasa.mean().round(2)\n",
    "print(pricecasa)"
   ]
  },
  {
   "cell_type": "code",
   "execution_count": 78,
   "id": "d04911d3",
   "metadata": {},
   "outputs": [
    {
     "name": "stdout",
     "output_type": "stream",
     "text": [
      "3875.11\n"
     ]
    }
   ],
   "source": [
    "maskdpto=data_3_nodup['property_type']=='apartment'\n",
    "meandpto=data_3_nodup['price_usd_per_m2_clean'][maskdpto]\n",
    "pricedpto=meandpto.mean().round(2)\n",
    "print(pricedpto)"
   ]
  },
  {
   "cell_type": "code",
   "execution_count": 79,
   "id": "3d5435a6",
   "metadata": {},
   "outputs": [
    {
     "name": "stdout",
     "output_type": "stream",
     "text": [
      "2689.83\n"
     ]
    }
   ],
   "source": [
    "maskph=data_3_nodup['property_type']=='PH'\n",
    "#maskph2=data_3_nodup['price_usd_per_m2_clean']>0\n",
    "meanph=data_3_nodup['price_usd_per_m2_clean'][maskph]\n",
    "priceph=meanph.mean().round(2)\n",
    "print(priceph)"
   ]
  },
  {
   "cell_type": "code",
   "execution_count": 80,
   "id": "0f05a8eb",
   "metadata": {},
   "outputs": [
    {
     "name": "stdout",
     "output_type": "stream",
     "text": [
      "8030.82\n"
     ]
    }
   ],
   "source": [
    "maskstore=data_3_nodup['property_type']=='store'\n",
    "meanstore=data_3_nodup['price_usd_per_m2_clean'][maskstore]\n",
    "pricestore=meanstore.mean().round(2)\n",
    "print(pricestore)"
   ]
  },
  {
   "cell_type": "code",
   "execution_count": 81,
   "id": "5853e0d0",
   "metadata": {},
   "outputs": [
    {
     "data": {
      "image/png": "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\n",
      "text/plain": [
       "<Figure size 720x432 with 1 Axes>"
      ]
     },
     "metadata": {
      "needs_background": "light"
     },
     "output_type": "display_data"
    }
   ],
   "source": [
    "#PROMEDIO DE VALOR M2 X TIPO DE PROP\n",
    "pricemeans=(pricecasa,pricedpto,priceph,pricestore)\n",
    "width = 0.50 # ancho de las barras\n",
    "\n",
    "fig = plt.figure(figsize=(10,6)); ax = plt.axes()\n",
    "\n",
    "ax.bar(titulos, pricemeans, width, color='steelblue') # barra roja. \n",
    "\n",
    "ax.set_ylabel('Precio M2'); ax.set_title('Promedio x M2')\n",
    "plt.show()"
   ]
  },
  {
   "cell_type": "code",
   "execution_count": 82,
   "id": "1956669c",
   "metadata": {},
   "outputs": [
    {
     "ename": "AttributeError",
     "evalue": "'float' object has no attribute 'round'",
     "output_type": "error",
     "traceback": [
      "\u001b[1;31m---------------------------------------------------------------------------\u001b[0m",
      "\u001b[1;31mAttributeError\u001b[0m                            Traceback (most recent call last)",
      "\u001b[1;32m<ipython-input-82-d39e4bc5e48d>\u001b[0m in \u001b[0;36m<module>\u001b[1;34m\u001b[0m\n\u001b[0;32m      1\u001b[0m \u001b[0mmaskcor\u001b[0m\u001b[1;33m=\u001b[0m\u001b[0mdata_3_nodup\u001b[0m\u001b[1;33m[\u001b[0m\u001b[1;34m'state_name'\u001b[0m\u001b[1;33m]\u001b[0m\u001b[1;33m==\u001b[0m\u001b[1;34m\"Córdoba\"\u001b[0m\u001b[1;33m\u001b[0m\u001b[1;33m\u001b[0m\u001b[0m\n\u001b[1;32m----> 2\u001b[1;33m \u001b[0mmeancor\u001b[0m\u001b[1;33m=\u001b[0m\u001b[0mdata_3_nodup\u001b[0m\u001b[1;33m[\u001b[0m\u001b[1;34m'price_usd_per_m2_clean'\u001b[0m\u001b[1;33m]\u001b[0m\u001b[1;33m[\u001b[0m\u001b[0mmaskcor\u001b[0m\u001b[1;33m]\u001b[0m\u001b[1;33m.\u001b[0m\u001b[0mmean\u001b[0m\u001b[1;33m(\u001b[0m\u001b[1;33m)\u001b[0m\u001b[1;33m.\u001b[0m\u001b[0mround\u001b[0m\u001b[1;33m(\u001b[0m\u001b[1;36m2\u001b[0m\u001b[1;33m)\u001b[0m\u001b[1;33m\u001b[0m\u001b[1;33m\u001b[0m\u001b[0m\n\u001b[0m\u001b[0;32m      3\u001b[0m \u001b[0mmeancor\u001b[0m\u001b[1;33m\u001b[0m\u001b[1;33m\u001b[0m\u001b[0m\n",
      "\u001b[1;31mAttributeError\u001b[0m: 'float' object has no attribute 'round'"
     ]
    }
   ],
   "source": [
    "maskcor=data_3_nodup['state_name']==\"Córdoba\"\n",
    "meancor=data_3_nodup['price_usd_per_m2_clean'][maskcor].mean().round(2)\n",
    "meancor"
   ]
  },
  {
   "cell_type": "code",
   "execution_count": 83,
   "id": "bcd1b343",
   "metadata": {},
   "outputs": [
    {
     "data": {
      "text/plain": [
       "6029.3"
      ]
     },
     "execution_count": 83,
     "metadata": {},
     "output_type": "execute_result"
    }
   ],
   "source": [
    "masksantafe=data_3_nodup['state_name']==\"Santa Fe\"\n",
    "meansantafe=data_3_nodup['price_usd_per_m2_clean'][masksantafe].mean().round(2)\n",
    "meansantafe"
   ]
  },
  {
   "cell_type": "code",
   "execution_count": 84,
   "id": "9c7f83e3",
   "metadata": {},
   "outputs": [
    {
     "data": {
      "text/plain": [
       "3752.94"
      ]
     },
     "execution_count": 84,
     "metadata": {},
     "output_type": "execute_result"
    }
   ],
   "source": [
    "maskbuenosaires=data_3_nodup['state_name']==\"Capital Federal\"\n",
    "meanbuenosaires=data_3_nodup['price_usd_per_m2_clean'][maskbuenosaires].mean().round(2)\n",
    "meanbuenosaires"
   ]
  },
  {
   "cell_type": "code",
   "execution_count": 85,
   "id": "c3ffacc6",
   "metadata": {},
   "outputs": [
    {
     "ename": "NameError",
     "evalue": "name 'meancor' is not defined",
     "output_type": "error",
     "traceback": [
      "\u001b[1;31m---------------------------------------------------------------------------\u001b[0m",
      "\u001b[1;31mNameError\u001b[0m                                 Traceback (most recent call last)",
      "\u001b[1;32m<ipython-input-85-6148428b221a>\u001b[0m in \u001b[0;36m<module>\u001b[1;34m\u001b[0m\n\u001b[0;32m      1\u001b[0m \u001b[1;31m#Promedio M2 por top 3 provincias\u001b[0m\u001b[1;33m\u001b[0m\u001b[1;33m\u001b[0m\u001b[1;33m\u001b[0m\u001b[0m\n\u001b[1;32m----> 2\u001b[1;33m \u001b[0mprovsmeans\u001b[0m\u001b[1;33m=\u001b[0m\u001b[1;33m(\u001b[0m\u001b[0mmeancor\u001b[0m\u001b[1;33m,\u001b[0m\u001b[0mmeansantafe\u001b[0m\u001b[1;33m,\u001b[0m\u001b[0mmeanbuenosaires\u001b[0m\u001b[1;33m)\u001b[0m\u001b[1;33m\u001b[0m\u001b[1;33m\u001b[0m\u001b[0m\n\u001b[0m\u001b[0;32m      3\u001b[0m \u001b[0mtitulos2\u001b[0m\u001b[1;33m=\u001b[0m \u001b[1;33m(\u001b[0m\u001b[1;34m'Córdoba'\u001b[0m\u001b[1;33m,\u001b[0m\u001b[1;34m'Santa Fe'\u001b[0m\u001b[1;33m,\u001b[0m \u001b[1;34m'CABA'\u001b[0m\u001b[1;33m)\u001b[0m\u001b[1;33m\u001b[0m\u001b[1;33m\u001b[0m\u001b[0m\n\u001b[0;32m      4\u001b[0m \u001b[0mwidth\u001b[0m \u001b[1;33m=\u001b[0m \u001b[1;36m0.50\u001b[0m \u001b[1;31m# ancho de las barras\u001b[0m\u001b[1;33m\u001b[0m\u001b[1;33m\u001b[0m\u001b[0m\n\u001b[0;32m      5\u001b[0m \u001b[1;33m\u001b[0m\u001b[0m\n",
      "\u001b[1;31mNameError\u001b[0m: name 'meancor' is not defined"
     ]
    }
   ],
   "source": [
    "#Promedio M2 por top 3 provincias\n",
    "provsmeans=(meancor,meansantafe,meanbuenosaires)\n",
    "titulos2= ('Córdoba','Santa Fe', 'CABA')\n",
    "width = 0.50 # ancho de las barras\n",
    "\n",
    "fig = plt.figure(figsize=(10,6)); ax = plt.axes()\n",
    "\n",
    "ax.bar(titulos2, provsmeans, color='steelblue') # barra roja. \n",
    "\n",
    "ax.set_ylabel('Precio M2'); ax.set_title('Promedio x M2')\n",
    "plt.show()"
   ]
  },
  {
   "cell_type": "code",
   "execution_count": 86,
   "id": "a66e0a97",
   "metadata": {},
   "outputs": [
    {
     "data": {
      "image/png": "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\n",
      "text/plain": [
       "<Figure size 720x360 with 1 Axes>"
      ]
     },
     "metadata": {
      "needs_background": "light"
     },
     "output_type": "display_data"
    }
   ],
   "source": [
    "#Top ranking de provincias con más propiedades\n",
    "\n",
    "ranking=data_3_nodup['state_name'].value_counts()\n",
    "topranking=ranking.head(8)\n",
    "titulos3=('Capital Federal', 'Zona Norte','Zona Sur', 'Córdoba','Costa Atlántica',\n",
    "          'Zona Oeste','Santa Fe','Bs As Interior')\n",
    "\n",
    "width = 0.50 # ancho de las barras\n",
    "\n",
    "fig = plt.figure(figsize=(10,5)); ax = plt.axes()\n",
    "\n",
    "ax.bar(titulos3, topranking, color='steelblue') # barra roja. \n",
    "\n",
    "ax.set_ylabel('Cantidad Propiedades'); ax.set_title('Top provincias con más props')\n",
    "plt.show()"
   ]
  },
  {
   "cell_type": "code",
   "execution_count": 87,
   "id": "8c581fd1",
   "metadata": {},
   "outputs": [
    {
     "data": {
      "image/png": "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\n",
      "text/plain": [
       "<Figure size 864x432 with 4 Axes>"
      ]
     },
     "metadata": {
      "needs_background": "light"
     },
     "output_type": "display_data"
    }
   ],
   "source": [
    "g = sns.FacetGrid(data_3_nodup, col=\"property_type\")\n",
    "g.map(sns.scatterplot,\"price_usd_per_m2_clean\",\"state_name\")\n",
    "g.fig.set_size_inches(12, 6)\n",
    "g.set_axis_labels(\"Price USD per M2\", \"Provincia\")\n",
    "plt.show()\n"
   ]
  },
  {
   "cell_type": "code",
   "execution_count": 88,
   "id": "b8269e7e",
   "metadata": {},
   "outputs": [
    {
     "data": {
      "image/png": "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\n",
      "text/plain": [
       "<Figure size 720x432 with 1 Axes>"
      ]
     },
     "metadata": {
      "needs_background": "light"
     },
     "output_type": "display_data"
    }
   ],
   "source": [
    "g = sns.displot(data=data_3_nodup, x=\"property_type\", hue=\"state_name\", multiple=\"stack\")\n",
    "g.fig.set_size_inches(10, 6)\n",
    "g.set_axis_labels(\"Tipo Propiedad\", \"Cantidad propiedades\")\n",
    "plt.show()"
   ]
  },
  {
   "cell_type": "code",
   "execution_count": 89,
   "id": "cc9d5387",
   "metadata": {},
   "outputs": [
    {
     "data": {
      "image/png": "iVBORw0KGgoAAAANSUhEUgAAAqgAAAImCAYAAACfAnj0AAAAOXRFWHRTb2Z0d2FyZQBNYXRwbG90bGliIHZlcnNpb24zLjMuMiwgaHR0cHM6Ly9tYXRwbG90bGliLm9yZy8vihELAAAACXBIWXMAAAsTAAALEwEAmpwYAAB020lEQVR4nO3dd5irVbn+8e+9C4I0BRtVFMGGFAVFsWFFOYr+BKkqiKIee+8HsBw7FjxSFBERUBFQBClKtYH0pqAIKAgiWABpsjf374+1ws6ePZO8ySQzmT3357pyTfImK2vNTDLzZL1rPY9sExERERExKuZM9wAiIiIiItolQI2IiIiIkZIANSIiIiJGSgLUiIiIiBgpCVAjIiIiYqQkQI2IiIiIkTJvugcw1bbaaiufeOKJ0z2MiIiIqabpHkBEU7NuBvXmm2+e7iFERERERAezLkCNiIiIiNGWADUiIiIiRkoC1IiIiIgYKQlQIyIiImKkJECNiIiIiJGSADUiIiIiRkoC1IiIiIgYKQlQIyIiImKkJECNiIiIiJGSADUiIiIiRkoC1IiIiIgYKQlQIyIiImKkJECNiIiIiJGSADUiIiIiRkoC1IiIiIgYKQlQIyIiImKkJECdpDXWWhtJfV3WWGvt6R5+RERExMiZN90DmOmuv+5atj/gV321/d4bnjbg0URERETMfJlBjYiIiIiRkgA1IiIiIkZKAtSIiIiIGCkJUCMiIiJipCRAjYiIiIiRkgA1IiIiIkZKAtSIiIiIGCkJUCMiIiJipCRAjYiIiIiRkgA1IiIiIkZKAtSIiIiIGCkJUCMiIiJipCRAjYiIiIiRkgA1IiIiIkZKAtSIiIiIGCkJUCMiIiJipAwtQJW0lqTTJP1O0mWS3l6P7yXpL5IurJcXt7X5oKQrJV0h6YVtx58k6ZJ631ckqR6/n6Tv1eNnS1pnWN9PREREREyNYc6gLgDebfuxwObAmyU9rt73Rdsb18tPAOp9OwCPB7YCviZpbn38fsAewHr1slU9vjvwT9uPAr4IfGaI309ERERETIGhBai2b7B9fr1+G/A7YI0OTbYBvmv7bttXA1cCT5a0GrCS7V/bNvBt4GVtbQ6p138APLc1uxoRERERM9OUrEGtp943Ac6uh94i6WJJ35T0wHpsDeDatmbX1WNr1Otjjy/WxvYC4BZg1WF8DxERERExNeYNuwNJKwBHAe+wfauk/YCPA65fvwC8Fhhv5tMdjtPlvvYx7EFZIsDaa6/d67fQ0dz5y/C9Nzyt77YRERERsbihBqiS5lOC08NsHw1g+8a2+78OHFdvXges1dZ8TeD6enzNcY63t7lO0jxgZeAfY8dh+0DgQIBNN910iQB2Mhbe8x988NZ9tdVuxw9yKBERERFLhWHu4hdwEPA72/u0HV+t7WEvBy6t148Fdqg78x9B2Qz1G9s3ALdJ2rw+56uBH7W1eU29vi1wal2nGhEREREz1DBnULcAXgVcIunCeuxDwI6SNqacir8GeAOA7cskfR/4LSUDwJttL6zt3gR8C1gOOKFeoATAh0q6kjJzusMQv5+IiIiImAJDC1Bt/4Lx14j+pEObTwKfHOf4ucAG4xy/C9huEsOMiIiIiBGTSlIRERERMVISoEZERETESEmAGhEREREjJQFqRERERIyUBKgRERERMVISoEZERETESEmAGhEREREjJQFqRERERIyUBKgRERERMVISoEZERETESEmAGhEREREjJQFqRERERIyUBKgRERERMVISoEZERETESEmAGhEREREjJQFqRERERIyUBKgRERERMVISoEZERETESEmAGo2tsdbaSOr5ssZaa0/30CMiImIGmTfdA4iZ4/rrrmX7A37Vc7vvveFpQxhNRERELK0ygxoRERERIyUBakRERESMlASoERERETFSEqBGRERExEhJgBoRERERIyUBakRERESMlASoERERETFSEqBGRERExEhJgBoRERERIyUBakRERESMlJQ6jcbmzl+mr7Klc+cvM4TRRERExNIqAWo0tvCe/+CDt+65nXY7fgijiYiIiKVVTvFHRERExEhJgBoRERERIyUBakRERESMlASoERERETFSEqBGRERExEhJgBoRERERIyUBakRERESMlASoERERETFSEqBGRERExEhJgBoRERERIyUBakRERESMlASoERERETFSEqBGRERExEhJgBoRERERIyUBakRERESMlASoERERETFSEqBGRERExEhJgBoRERERIyUBakRERESMlASoERERETFSEqBGRERExEhJgBoRERERIyUBakRERESMlASoERERETFShhagSlpL0mmSfifpMklvr8dXkfRTSX+oXx/Y1uaDkq6UdIWkF7Ydf5KkS+p9X5Gkevx+kr5Xj58taZ1hfT8RERERMTWGOYO6AHi37ccCmwNvlvQ44APAKbbXA06pt6n37QA8HtgK+JqkufW59gP2ANarl63q8d2Bf9p+FPBF4DND/H4iIiIiYgoMLUC1fYPt8+v124DfAWsA2wCH1IcdArysXt8G+K7tu21fDVwJPFnSasBKtn9t28C3x7RpPdcPgOe2ZlcjIiIiYmaakjWo9dT7JsDZwENt3wAliAUeUh+2BnBtW7Pr6rE16vWxxxdrY3sBcAuw6lC+iYiIiIiYEkMPUCWtABwFvMP2rZ0eOs4xdzjeqc3YMewh6VxJ5950003dhhwRERER02ioAaqk+ZTg9DDbR9fDN9bT9tSvf6vHrwPWamu+JnB9Pb7mOMcXayNpHrAy8I+x47B9oO1NbW/64Ac/eBDfWkREREQMyTB38Qs4CPid7X3a7joWeE29/hrgR23Hd6g78x9B2Qz1m7oM4DZJm9fnfPWYNq3n2hY4ta5TjYiIiIgZat4Qn3sL4FXAJZIurMc+BHwa+L6k3YE/A9sB2L5M0veB31IyALzZ9sLa7k3At4DlgBPqBUoAfKikKykzpzsM8fuJiIiIiCkwtADV9i8Yf40owHMnaPNJ4JPjHD8X2GCc43dRA9yIiIiIWDqkklREREREjJQEqBERERExUhKgRkRERMRISYAaERERESMlAWpEREREjJQEqBERERExUhKgRkRERMRISYAaERERESMlAWpEREREjJQEqBERERExUhKgRkRERMRISYAaERERESMlAWpEREREjJQEqBERERExUhKgRkRERMRISYAaERERESMlAWpEREREjJQEqBERERExUhKgRkRERMRI6SlAlfRASRsOazAREREREV0DVEmnS1pJ0irARcDBkvYZ/tAiIiIiYjZqMoO6su1bgf8HHGz7ScDzhjusiIiIiJitmgSo8yStBrwSOG7I44mIiIiIWa5JgPox4CTgj7bPkfRI4A/DHVZEREREzFbzuj3A9pHAkW23rwJeMcxBRURERMTs1WST1PqSTpF0ab29oaSPDH9oERERETEbNTnF/3Xgg8A9ALYvBnYY5qAiIiIiYvZqEqDe3/ZvxhxbMIzBREREREQ0CVBvlrQuYABJ2wI3DHVUERERETFrdd0kBbwZOBB4jKS/AFcDuwx1VBERERExazXZxX8V8DxJywNzbN82/GFFRERExGw1YYAq6V0THAfAdsqdRkRERMTAdZpBXbF+fTSwGXBsvf0S4MxhDioiIiIiZq8JA1TbewNIOhl4YuvUvqS9aEvcHxERERExSE128a8N/Kft9n+AdYYymoiIiIiY9Zrs4j8U+I2kYyippl4OfHuoo4qIiIiIWavJLv5PSjoReHo9tJvtC4Y7rIiIiIiYrZrMoGL7PEnXAssCSFrb9p+HOrKIiIiImJW6rkGV9FJJf6Ak6D+jfj1h2AOLiIiIiNmpySapjwObA7+3/QjgecAvhzqqiIiIiJi1mgSo99j+OzBH0hzbpwEbD3dYERERETFbNVmD+i9JK1CS8x8m6W/AguEOKyIiIiJmqyYzqNsAdwLvBE4E/kipJhURERERMXBN0kzd3nbzkCGOJSIiIiJi4gBV0m2UxPzjsr3SUEYUEREREbPahAGq7RUBJH0M+CulopSAnYEVp2R0ERERETHrNFmD+kLbX7N9m+1bbe8HvGLYA4uIiIiI2alJgLpQ0s6S5kqaI2lnYOGwBxYRERERs1OTAHUn4JXAjfWyXT0WERERETFwTXbxX0NJNRURERERMXRdZ1AlrS/pFEmX1tsbSvrI8IcWEREREbNRk1P8Xwc+CNwDYPtiYIdhDioiIiIiZq8mAer9bf9mzLGUOo2IiIiIoWgSoN4saV1q0n5J2wI3DHVUERERETFrdd0kBbwZOBB4jKS/AFcDuwx1VBERERExazXZxX8V8DxJywNzbN82/GFFRERExGw1YYAqaRfb35H0rjHHAbC9z5DHFhERERGzUKc1qMvXrytOcOlI0jcl/a2Vnqoe20vSXyRdWC8vbrvvg5KulHSFpBe2HX+SpEvqfV9RjZAl3U/S9+rxsyWt08s3HhERERGjacIZVNsH1K979/nc3wK+Cnx7zPEv2v58+wFJj6Okrno8sDrwM0nr214I7AfsAZwF/ATYCjgB2B34p+1HSdoB+AywfZ9jjYiIiIgR0SRR/yMl/VjSTXVG9EeSHtmtne0zgX80HMc2wHdt3237auBK4MmSVgNWsv1r26YEuy9ra3NIvf4D4Lmt2dWIiIiImLmapJk6HPg+sBpldvNI4IhJ9PkWSRfXJQAPrMfWAK5te8x19dga9frY44u1sb0AuAVYdbwOJe0h6VxJ5950002TGHpEREREDFuTAFW2D7W9oF6+Q82J2of9gHWBjSm5VL/Q6mOcx7rD8U5tljxoH2h7U9ubPvjBD+5pwBERERExtZoEqKdJ+oCkdSQ9XNL7gOMlrSJplV46s32j7YW276WUUH1yves6YK22h64JXF+PrznO8cXaSJoHrEzzJQURERERMaKaJOpvbTx6w5jjr6XMWHZdj9oiaTXbrSpULwdaO/yPBQ6XtA9lGcF6wG9sL5R0m6TNgbOBVwP7trV5DfBrYFvg1LpONSIiIiJmsCaJ+h/RzxNLOgJ4NvAgSdcBewLPlrQxJbC9hhr02r5M0veB3wILgDfXHfwAb6JkBFiOsnv/hHr8IOBQSVdSZk536GecERERETFaugaokuZTgsRn1kOnAwfYvqdTO9s7jnP4oA6P/yTwyXGOnwtsMM7xu4DtOo0hIiIiImaeJqf49wPmA1+rt19Vj71uWIOKiIiIiNmrSYC6me2N2m6fKumiYQ0oIiIiIma3Jrv4F0pat3WjJulf2OHxERERERF9azKD+h5KqqmrKLlHHw7sNtRRRURERMSs1TFAlTQX2IiS9unRlAD1ctt3T8HYIiIiImIW6niKv6Z6eqntu21fbPuiBKcRERERMUxNTvH/StJXge8Bt7cO2j5/aKOKiIiIiFmrSYD6tPr1Y23HDDxn8MOJiIiIiNmuSSWpLadiIBERERER0CDNlKRVJX1F0vmSzpP0ZUmrTsXgIiIiImL2aZIH9bvATcArgG3r9e8Nc1ARERERMXs1WYO6iu2Pt93+hKSXDWk8ERERETHLNZlBPU3SDpLm1MsrgeOHPbCIiIiImJ2aBKhvAA4H7q6X7wLvknSbpFuHObiIiIiImH2a7OJfcSoGEqNv2flz0G69T54vO7/J56CIiIiIoska1AgA7rrnXnY7cbee2x281cFDGE1EREQsrTK1FREREREjJQFqRERERIyUCU/xS1qlU0Pb/xj8cCIiIiJituu0BvU8wICAtYF/1usPAP4MPGLYg4uIiIiI2WfCU/y2H2H7kcBJwEtsP8j2qsB/AUdP1QCXanPmIamvyxprrT3do4+IiIgYiia7+Dez/cbWDdsnSPp4pwbR0L0L2P6AX/XV9HtveNqABxMRERExGpoEqDdL+gjwHcop/12Avw91VBERERExazXZxb8j8GDgGOCHwEPqsYiIiIiIgWtSSeofwNunYCwREREREd0DVEkPBt4HPB5YtnXc9nOGOK6IiIiImKWanOI/DLicklZqb+Aa4JwhjikiIiIiZrEmAeqqtg8C7rF9hu3XApsPeVwRERERMUs12cV/T/16g6StgeuBNYc3pIiIiIiYzZoEqJ+QtDLwbmBfYCXgnUMdVURERETMWk128R9Xr94CbDnc4cwumjOv74T7c+cvM+DRRERERIyGCQNUSftSEvOPy/bbhjKiWcT3LsAHb91XW+12/IBHExERETEaOm2SOhc4j5Ja6onAH+plY2Dh0EcWEREREbPShDOotg8BkLQrsKXte+rt/YGTp2R0ERERETHrNEkztTqwYtvtFeqxiIiIiIiBa7KL/9PABZJOq7efBew1tBFFRERExKzWZBf/wZJOAJ5SD33A9l+HO6yIiIiImK0mPMUv6TH16xMpp/SvrZfV67GIiIiIiIHrNIP6LmAP4Avj3GfgOUMZUURERETMap128e9Rr77I9l3t90ladqijioiIiIhZq8ku/l81PBYRERERMWmdKkk9DFgDWE7SJoDqXSsB95+CsUVERETELNRpDeoLgV2BNYF92o7fBnxoiGOKiIiIiFmsWyWpQyS9wvZRUzimiIiIiJjFmiTqP07STsA67Y+3/bFhDSoiIiIiZq8mAeqPgFuA84C7hzuciIiIiJjtmgSoa9reaugjiYiIiIigYZopSU8Y+kgiIiIiImg2g/p0YFdJV1NO8Quw7Q2HOrKIiIiImJWaBKgvGvooIiIiIiKqrgGq7T8BSHoIkBKnERERETFUXdegSnqppD8AVwNnANcAJwx5XBERERExSzXZJPVxYHPg97YfATwX+OVQRxURERERs1aTAPUe238H5kiaY/s0YOPhDisiIiIiZqsmAeq/JK0AnAkcJunLwILhDiuiWGOttZHU82WNtdae7qFHREREn5rs4t8GuBN4J7AzsDKQMqcxJa6/7lq2P+BXPbf73hueNoTRRERExFSYcAZV0qMkbWH7dtv32l5g+xDgQuAB3Z5Y0jcl/U3SpW3HVpH0U0l/qF8f2HbfByVdKekKSS9sO/4kSZfU+74iSfX4/SR9rx4/W9I6ff0EIiIiImKkdDrF/yXgtnGO31Hv6+ZbwNgSqR8ATrG9HnBKvY2kxwE7AI+vbb4maW5tsx+wB7BevbSec3fgn7YfBXwR+EyDMUVEREQslSQ9W1JfpxAl7Spp9UGPqV+dTvGvY/visQdtn9tkttL2meM8bhvg2fX6IcDpwPvr8e/avhu4WtKVwJMlXQOsZPvXAJK+DbyMkuZqG2Cv+lw/AL4qSbbdbWwxc8ydv0xfp+vnzl9mCKOJiIiYHElzbS8cwvPOo8RY/wZ6XxsHuwKXAtcPblT96xSgdkrKv1yf/T3U9g0Atm+oyf8B1gDOanvcdfXYPfX62OOtNtfW51og6RZgVeDmPscWI2jhPf/BB2/dczvtdvwQRhMRETGxOjF3InA2sAnwe+DVwG+BbwIvoE6oAR+ilI8/3vb7a/t/AwcAWwL/BHawfZOkdYH/Ax5MOZP9etuXS/oW8I/a1z+ALYCFknYB3gp8G1jf9j2SVgIuBtazfc+YcW8LbErZDH8n8GHgdbZfXu9/PvAm2/+v1zH2+7PsdIr/HEmvH3tQ0u7Aef12OAGNc8wdjndqs+STS3tIOlfSuTfddFOfQ4yIiIjo6tHAgbY3BG4F/rsev8v20ylZkT4DPIeStnMzSS+rj1keON/2EynFkfasxw8E3mr7ScB7gK+19bc+8DzbrwD2B75oe2PbP6ecqW7N8uwAHDU2OAWw/QPgXGBn2xsDPwEeK+nB9SG7AQdPYow96zSD+g7gGEk7sygg3RRYBnh5n/3dKGm1Onu6GvC3evw6YK22x61JmWK+rl4fe7y9zXV1WntlyqeHJdg+kPKDY9NNN80SgIiIiBiWa223Chp9B3hbvf69+nUz4HTbNwFIOgx4JvBD4N62x30HOLqm+nwacGTdJw5wv7b+juywZOAbwPvqc+8GLDHxOB7blnQosIukg4GnUmaC6XOMPZswQLV9I/A0SVsCG9TDx9s+dRL9HQu8Bvh0/fqjtuOHS9oHWJ2yGeo3thdKuk3S5pTp8lcD+455rl8D2wKnZv1pRERETLOxsUjr9u3163hngDs91xzgX3Vmczy3T3Ac27+UtI6kZwFzbV860WPHcTDwY+AuShA8UQ78JmPsWddE/bZPs71vvTQOTiUdQQkeHy3puro04NPA8yX9AXh+vY3ty4DvU9ZonAi8ue3TwJsonwCuBP5I2SAFcBCwat1Q9S5qRoCIiIiIabS2pKfW6zsCvxhz/9nAsyQ9qGYs2pFyqhxKXLZtvb4T8Avbt1I2kG8HoGKjCfq+DVhxzLFvA0ew6BT9RBZra/t6ylnrj1AyM7VMdoyNNEnU3xfbO05w13MnePwngU+Oc/xcFs3gth+/C9huMmOMiIiIGLDfAa+RdADwB0q6zLe27qzLHD8InEaZTf2J7dYZ5duBx0s6D7gF2L4e3xnYT9JHgPnAd4GLxun7x8APJG1DWQ/6c+Aw4BOUILWTbwH7101ST7V9Z237YNu/bXvcZMfYyNAC1BiyOfNoW+fR2OprrsVfrv3zEAYUERERwL223zjm2DrtN2wfDhw+XmPbHwU+OubY1SyZWx7bu465/XtgwzEPezrwA9v/6jRo20cBR43T9uuTGWO/EqDOVPcuSAnQiIiImJCkfYEXAS/uo+15lNnSdw96XE0kQI2IiIgYANvXMM6yxB7arzC40YDtt449Jun/KPlS233Z9mJrVGu6qPGec6BjnEgC1IiIiIhZwvabp3sMTXTdxR8RERERMZUSoEZERETESEmAGhEREREjJWtQZyjNmdfXjvy585cZwmgiIiIiBicB6gzlexfgg7fuuZ12O34Io4mIiJg9NG/+9SxcsNrAnnDuvBu84J7VO/YpLQQuocRuvwNeY/sOSf9u31kvaVdgU9tvGdj4pkEC1IiIiIheLFyw2sPff9zpg3q6P33mv57d4GF3tmrdSzoMeCOwz6DGMGqyBjUiIiJiZvk58KjpHsQwZQY1IiIiYoaQNI9SHerEemg5SRe2PWQV4NipHtegJUCNpdOceUjqq+nqa67FX67984AHFBERMSntgejPgYPq9ftO/cOiNahTOrIhSIAaS6d7F7D9Ab/qq2k/2REiIiKGbLFAdGmXNagRERERMVIygxoRERHRi7nzbmi4877x8w3suZYSCVAjIiIietAtZ+lQ+mzLddrpuO1vAd+agiENVU7xR0RERMRISYAaERERESMlAWpEREREjJQEqBERERExUhKgRkRERMRIyS7+WCppzry+E+7Pnb/MgEcTERERvUiAGksl37sAH7x1X2212/EDHk1ERCxN7jdP1/9nIasN6vmWmcsNdy/wlKeukvRs4D+2+yu9OMR+EqBGRERE9OA/C1nNe650+qCeT3vf+uxBPVfjPqV5wLOBfwNDDVD76ScBakRERMSIk/RDYC1gWeDLtg+U9G/gAGBL4J/ADrZvkvR6YA9gGeBK4FW275D0LeAfwCb16xbAQkm7AG8FdgfuBB4DPBzYDXgN8FTgbNu71rG8ANgbuB/wR2A32/+WdA1wCPASYD6wHXAX8Mb2fmz/vNv3m01SMXxz5iGprwtz8hkqIiICeK3tJwGbAm+TtCqwPHC+7ScCZwB71scebXsz2xsBv6MEni3rA8+z/Qpgf+CLtjduCxofCDwHeCfwY+CLwOOBJ0jaWNKDgI/U53gicC7wrrbnv7ke3w94j+1rJuino/z3n0bz58yO9Y4CPN2DiIiImNneJunl9fpawHrAvcD36rHvAEfX6xtI+gTwAGAF4KS25znS9sIO/fzYtiVdAtxo+xIASZcB6wBrAo8DfikJyiztr9vat8ZwHvD/evwe75MAdRrdcy/sduJufbU9eKuDBzya4cmGpYiIiP7VTUbPA55aT9WfTjnVP1ZrPuhbwMtsXyRpV8oa0Jbbu3R3d/16b9v11u15wELgp7Z37NJ+IZOIM3OKPyIiImK0rQz8swanjwE2r8fnANvW6zsBv6jXVwRukDQf2LnD895WH9uLs4AtJD0KQNL9Ja3fpU3P/WQGNSIiIqIHy8zlhkHuvF9mLjd0eciJwBslXQxcQQkSocyGPl7SecAtwPb1+EeBs4E/AZcwcXD4Y+AHkrahbJLqqm7C2hU4QtL96uGPAL/v0GyxfpqsQ02AGhEREdGDqc5Zavtu4EVjj0vC9kcpAWn74/ejbFIa+zy7jrn9e2DDtkM/b7vvGmCD8draPhXYbJznX6ft+rnUpQXj9NNVTvFHRERExEhJgBoRERExA9leYbrHMCwJUCMiIiJipCRAjYiIiIiRkgA1IiIiIkZKAtSIiIiIGCkJUCMiIiJ6MGf+nOsleVCXOfPnXN+pP0nrSLp0qr6/UZA8qBERERE98AKvtsG3Njh9UM936a6XPntQz7W0yAxqRERExOibK+nrki6TdLKk5SRtLOksSRdLOkbSAwEknS5p03r9QZKuqdcfL+k3ki6sbdarx3dpO36ApLnT9l1WCVAjIiIiRt96wP/ZfjzwL+AVwLeB99vekFLSdM8uz/FG4Mu2NwY2Ba6T9FhKidQt6vGFwM7D+AZ6kVP8EREREaPvatsX1uvnAesCD7B9Rj12CHBkl+f4NfBhSWsCR9v+g6TnAk8CzpEEsBzwt0EPvlcJUCMiIiJG391t1xcCD+jw2AUsOku+bOug7cMlnQ1sDZwk6XWAgENsf3Cww52cnOKPiIiImHluAf4p6Rn19quA1mzqNZRZUYBtWw0kPRK4yvZXgGOBDYFTgG0lPaQ+ZhVJDx/+8DvLDGpEREREDzRPNwxy573m6YY+m74G2F/S/YGrgN3q8c8D35f0KuDUtsdvD+wi6R7gr8DHbP9D0keAkyXNAe4B3gz8qc8xDUQC1IiIiIge3HvPvatPZX+2rwE2aLv9+ba7Nx/n8ZdTZkdbPlKPfwr41DiP/x7wvQENdyByij8iIiIiRkoC1IiIiIgYKQlQIyIiImKkJECNiIiIiJGSADUiIiIiRkoC1IiIiIgYKQlQIyIiInqwzJw510vyoC7LzJlzfa9jkPSOmv90qZQ8qBERERE9uMde7bePfszpg3q+x11x+bP7aPYO4DvAHU0bSJpre2EffU25zKBGREREjDBJy0s6XtJFki6VtCewOnCapNPqY3aUdEm9/zNtbf8t6WOSzgaeKmkXSb+RdKGkAyTNnaZvq6NpCVAlXVN/iBdKOrceW0XSTyX9oX59YNvjPyjpSklXSHph2/En1ee5UtJXJGk6vp+IiIiIIdoKuN72RrY3AL4EXA9saXtLSasDnwGeA2wMbCbpZbXt8sCltp8C/J1S7nQL2xsDC4Gdp/D7aGw6Z1C3tL2x7U3r7Q8Ap9heDzil3kbS44AdgMdTfkFfa4v29wP2ANarl62mcPwRERERU+ES4HmSPiPpGbZvGXP/ZsDptm+yvQA4DHhmvW8hcFS9/lzgScA5ki6stx859NH3YZTWoG4DPLtePwQ4HXh/Pf5d23cDV0u6EniypGuAlWz/GkDSt4GXASdM6agjIiIihsj27yU9CXgx8ClJJ495SKczyHe1rTsVcIjtDw5jnIM0XTOoBk6WdJ6kPeqxh9q+AaB+fUg9vgZwbVvb6+qxNer1sccjIiIilhr1FP4dtr8DfB54InAbsGJ9yNnAsyQ9qJ5l3hE4Y5ynOgXYVtJD6vOuIunhQ/8G+jBdM6hb2L6+/oB+KunyDo8d71OBOxxf8glKELwHwNprr93rWCMiIiLuM1+6oc+d9xM+X5eHPAH4nKR7gXuANwFPBU6QdENdh/pB4DRKfPQT2z8a+yS2fyvpI5RJwjn1ud4M/GlQ38ugTEuAavv6+vVvko4BngzcKGk12zdIWg34W334dcBabc3XpCwMvq5eH3t8vP4OBA4E2HTTTccNYiMiIiKa+M+9964+lf3ZPgk4aczhc4F92x5zOHD4OG1XGHP7e8D3hjDMgZryAFXS8sAc27fV6y8APgYcC7wG+HT92or8jwUOl7QPJaXCesBvbC+UdJukzSlT26+m7RcVs9v8OaDdju+r7bLzk30tIiJiOk3HDOpDgWNqRqh5wOG2T5R0DvB9SbsDfwa2A7B9maTvA78FFgBvblvs+ybgW8BylM1R2SC1lOk30Jw/B3Y7cbe++jx4q4P7ahcRERGDMeUBqu2rgI3GOf53SrqD8dp8EvjkOMfPBTYY9BhjdNxzb3+BZoLMiIiImSvnMiMiIiJipCRAjYiIiIiRkgA1IiIiIkZKAtSIiIiIGCkJUCMiIiJipCRAjYiIiIiRkgA1IiIiIkZKAtSIiIiIGCkJUCMiIiJipCRAjYiIiIiRkgA1IiIiIkZKAtSIiIiIGCkJUCMiIiJipCRAjYiIiIiRkgA1IiIiIkZKAtSIiIiIGCkJUCMiIiJipMyb7gHMdMvOn4N2O76vtvPz8SAiIiJiCQlQJ+mue+5ltxN366vtwVsdPODRRERERMx8mcOLiIiIiJGSADUiIiIiRkoC1IiIiIgYKVmDOkPNn0tfm7OWzc6siIiIGHEJUGeoexbS1+asbMyKiIiIUZfptIiIiIgYKQlQIyIiImKkJECNiIiIiJGSADUiIiIiRkoC1IiIiIgYKQlQIyIiImKkJECNiIiIiJGSADViQNZYa20k9XVZY621p3v4ERERIyMBasSA3HjjjdPSNiIiYmmTSlIxdP2WZQWYSZVZF97zH3zw1n217ffnExERsTRKgBpD129ZVkhp1oiIiNloBs1PRURERMRskAA1IiIiIkZKAtSIiIiIGCkJUCMiIiJipCRAjYiIiIiRkgA1IiIiIkZKAtSIiIiIGCnJgxoxIMvOn9N3wv1lZ1JFgoiIiCFLgBoxIHfdc28KEkRERAxAAtRJmrvM3AQXEREREQOUAHWSFv5nIde86tV9tV3n0G8PeDQRERERM18WvkVERETESEmAGhEREREjJQFqRERERIyUBKgRERERMVISoEbMUmustTaS+rqssdba0z38iIhYiiVAjZilbrzxxmlpGxER0U3STE0jzU2C9pg+C+/5Dz54677a9lsx6wErrcgtt/27r7Yrr7gC/7r1tr7aRkTEzJIAdRp5ITMqh2qKEoymNdZam+uvu7b3hnOm/u1/y23/7j8o3v0kJPXcbvU11+Iv1/65rz77DagTTEdETE4C1Gis36IEkwqmM8vcVb+n20X/M6HLzp/61UEC3Ee7ySxH6Deg7vfnGhERRQLUGG19zjJPJiieA33N1E3Xgu5+T9Vrt+PZ7cTd+upzOj40zGMB9/TRbj4LBj6WiIgYrhkfoEraCvgyMBf4hu1PT/OQpkS/61fnqL/gC2bPjrp7IbNmQ7Ls/Dl9/5zmz6GvgDoz8BERM8+MDlAlzQX+D3g+cB1wjqRjbf92ekc2fP2uX13v8G9z78L++pw7t79202EyG9Dmz+0v2JzMWe9+Z22hfuiY4vFC/+Odjlnbqf7ZTscSiIiIpcmMDlCBJwNX2r4KQNJ3gW2ApT5A7dc9C6c+QJhUtoI+g+LJbkCb6pm6uXPp/4OD4DUnTP3M4kyazZzMa76ftodsdXDfQXE2WEVEzPwAdQ2gffvydcBTpmksMYGZlq2gb5Pc0DXlM4vZgDY0k/nAcdu//91XcJvANiKWJrL72Rc7GiRtB7zQ9uvq7VcBT7b91jGP2wPYo958NHDFFA7zQcDNU9gufQ63bfpcuvqcTNv0uXT1OZm20zXeXt1se6sp6itiUmb6DOp1wFptt9cErh/7INsHAgdO1aDaSTrX9qZT1S59Drdt+ly6+pxM2/S5dPU5mbbTNd6IpdlMX8l/DrCepEdIWgbYATh2mscUEREREZMwo2dQbS+Q9BbgJMp2mm/avmyahxURERERkzCjA1QA2z8BfjLd4+ig36UFk1mSkD6H1zZ9Ll19TqZt+ly6+pxM2+kab8RSa0ZvkoqIiIiIpc9MX4MaEREREUuZBKgRERERMVJm/BrUUSHpiZ3ut31+h7ZzgG1tf3/gA+tA0vLAnbbvlbQ+8BjgBNv3TOU4poqk5YC1bQ89D24tw/tp2+8ddl+DJGkj4Bn15s9tX9Rj+wcCa9m+eOCDixlB0kuBZ9abZ9j+8XSOZyKS5trus5xCRAxb1qAOiKTTOtxt28/p0v5M28/s9JgObR8MvB94HLBsW6fd+jyPEow8EDgLOBe4w/bODfq8P/BuSsD3eknrAY+2fdww2k2WpJcAnweWsf0ISRsDH7P90iH2eSrwXE/Tm6wGyQ+l7YOo7T93ePzbgdcDR9dDLwcOtL1vl35OB15a+7kQuIkSmLxrEsNvrH7AW8H2rQ0ff4rt53Y7Nk679YH3Ag9n8Z9px/dZW/utgcez+Hv0Yw3bPhTYrN78je2/NWjT13glLQQ+B3yw9dqVdL7tjh/C6+M+RSlBfVg9tCNwru0PdmvbL0krA3ux6IPVGZT39i1d2l0N/AA42HZP5bElLQvszpK/z9f28jwRMbHMoA6I7S0n+RQ/lfQe4HvA7W3P+48GbQ+r7bYG3gi8hhIkdCPbd0jaHdjX9mclXdBwvAcD5wFPrbevA44EugWa/bYrA+7/H8NelH+cp9fHXyhpnYZ9vr2O+zbgG8AmwAdsn9yl6QXAjyQdyeK/06MnbrJYvxuw5IeORrVfJb0V2BO4Ebi31RzYsEOz3YGn2L69PsdngF8DHQNUYGXbt0p6HeWf/Z6SGs2g1g8on2LJ7/ORXdodTnmtL6S8nlaWtI/tz3Vosyxwf+BBdaa3VU90JWD1BsM9Etgf+HrttzFJ+9e+t6S8hrYFftOw7SspAePpdcz7Snqv7R8MabyXUZZ/nSxp+/o3qGnt1a2BjW3fW8d+COV90ChA7fM1/03gUuCV9farKO/X/9el3YaU3NnfqB9yvgl8t+EHnUOBy4EXAh8DdgZ+16DdfSbzgSViVrCdy4AvwAaUP5avbl0atLl6nMtVDfs7r369uO3YGQ3aXUAJFM8CHl+PXdKwz3Nbz9F27KJhtWt77JHAx4E/UgLxk4EvN2h39jj9Xtywz4vq1xdSCkFsBJzfoN3B41y+2bDPPYHTKAHmwcBfgR/08HO6Eli1x9ftJcCybbeXbfJ6qO1Wq7+LzXr82f4CeC5wMWWmby9g7wbtLqxfdwb2AeZ36xN4e31f3T3mfXYR8JYGfZ7Xy89zTNuLx3xdATi56esPeEjb7Qc3fK/1Nd7Wa5vyN+wy4ElNXu+t7w9Ype32Kj28Fvp6zbdeC92OdXmOZwJ/oXyQPAR4VJfHXzDm9zkfOLWH/vYHvg1cW7/vS4CD+n195ZLL0njJDOqASdoTeDZlFuAnwIso/4Q7zgLYfsQkum2tGb2hfiq/nlL2tZt3UGY2jrF9maRHUv5BNPGfuqazdQpwXco//mG1a3mU7e0kbWP7kDqTdlKDdpdK2gmYW2ft3gb8qmGfrdmjF1NmCC+S1HVGyfZuDZ9/PNtSAuELbO9WT/F+o4f21wIdT3GO45vA2ZKOqbdfBhzUoN3HKL+DX9g+p76O/tCwz+VsnyJJtv8E7CXp55R/2p3MlzS/jvGrtu+R1HEphe0vA1+W9FZ3WbYwgR9L+m/gGNpes252luPO+vUOSasDfweavufnePFT+n+n2QbXfser+rjvS7oMOAJYu+FYPwVcUJc8iRL4NT293+9r/k5JT7f9CwBJW7Do5z2hugRma2A3YB3gC5SzUc+g/O1ev0Pz1t/cf9VZ37/W52jqabY3lHSx7b0lfYFFS2sigpziH4a+/shKevV4x93slO4n6jqsd1NOx64EvLNbI9tnAGdIWlHSCravogRuTewFnAisJekwYAvKH/pu9hyn3a4N+4T+/zG8Ffgw5R91K6j9eMM+z5N0MiWg+KCkFVl02nxCktak/D62oATkvwDebvu6Bn22Nq8tkLQS8Deg42nvMa4CTpd0PIsHJ/tMMNY5wNmU9XtPpwQXu9nuuuTD9pGUme3W7auAVzQc51217z/UqnB/AR7SoN0BwDWU2cUzJT0caLQGFbhlvPdbg/faa+rX9o1vptnv5ThJD6Ccqj+/tvt6g3YAJ0o6iRIoAmwPnNCgXb/jfd19Dy4fXJ9O+SDQle0j6prkzSivoffb/muTtvT/mn8j8O36NxDgnyz63jv5A+UD+edst39Y/YGkbvsBDqzLRD5KOauyAvA/DfpsmcwHlohZIZukBkzSb2w/uW5A2pKybvFS24/v0q59RmdZymnP821vO8SxPoEys7sK5Z/JTZTlCI3KxUpaFdi8tj3L9s0dHjvP9oJe243zPK8DjqKsHzuY8o/ho7YP6NJuuxpIdTw2Qds5wMaUJRf/quNfw112qkv6KSUYPrQe2gXY2fbzG/T5NeBDlDVy7wb+TTlt2WhWts7kL8H23h3a/Nr2Uye6f5zHv89l3fK+1BnxMX11/bAjaTPK2r0HUD4wrEQJGM5qOo6257rvNdblcVP+XhvT//0oSykaz3BL+n8s+uBwpu1jujSZzPj6/rCs8bOZ3AL8qdvvpp/XvNqyZdSgFjffLLeC7X83eeygSfoo5cPrc4H/o7x/vmH7o9MxnohRlAB1wCYbWLQ9z8rAoW6wy7xuRHi77X/V2w8EvuAuG4ck/Qr4sO3T6u1nA/9r+2kN+uxpJ7TadgFL2tf2W7v1MUgaZxfyeMcmaCvKWsdH2v6YpLWBh9nuuMlF0oW2N+52rEH/6wArdQuIJ0vS3pQ1hEe7wR8GSS+x/WNJ485W2T6kwXM8A/iV29L9SHqiO6Rlq495KPC/wOq2XyTpccBTbTdZkjD2uRq/1/qlskHrvylBZms2fT/bdzVo+wjghtZj6xKZh9q+pkHbnjcdTSaAl3QW8ETK60iU9fgXA6sCb3T3jYWt51mHhq95Sae6YSaFMe2+Od7xTn83Je1i+zuSxstQYeAfwLG2/9nDOHr+wBIxG+QU/wDVQOZTNVDcX9KJ9B9Y3AGs1/CxG7aCUwDb/5S0SYN2y7eC09rudJXcqBNS/zuh29dsbtFgbBP1vypleUHrtPnPgY/b/vsEj38RZe3oGpK+0nbXSkDX2bbqa5RT+s+hrLe8jTKLu1mnRsDNknZh0anZHSmn8rpqD/ZbgUinDwDjtJ8HPIHyc7+4ycwi8C5geWCBpLtqW9teabwHu+a3bBKIdnAScI6kV9q+sR77BiXI6eRblBn0D9fbv6dksug5QKXhe03Sl2y/Q9KPGTNj3CC4/TblddMK/nakzKxv12B8RwLtHxoX1mMdX3/qfz38Yh8eWwF8g3FCWXaxe+ssTP3g8F7K7PjRlI10E4335ZSNRrfYvkbSAyS9zPYPu/R5gaRjKT+TXrJlHN92fVlKWrXru7Rp/X1ccYL7HwG8iXKGaEKStgNOtH0b5efzREkfb7KkJmK2SIA6QLYt6YeUXa/3BRZNjPmnNxd4LNA0cf8cSQ9sfWqXtArNfrdX1VNN7aegr+7S5g2UzVWrU9L7tALPWymnqiYyqKn67wJnsmiN486UwOR5Ezz+ekp+15dSxttyGw3W6VZPsf1E1RRc9QPAMg3avRb4KvBFyvf/q3psQpP4AND+HK+mBCYnUTbTvL3OMnUMJG1P9E+3W3+nMf4p/iazWldQUyhJ2r2uBWyS0uhBLpt4Plj7WqCSv7PJePt9r7XeJ59v0s8Yj7a9Udvt0yQ1LYIwz/Z/Wjds/6fh62+yG+1aevmw/Jj2JUK2fytpE9tXqfu+wj3bly7U5TR7Aj/s0m4Vyge/9teb6bLpyPZR7bclHQH8rEubA+rXTktlmqSK+qjtI+v63hdSXlP7A09p0DZiVkiAOnhnSdrM9jk9tmv/p7eAsmaryWYaKLtPfyWplRdxO+CTDdq9Ftib8odclA0yHZci2P6ypK8CH7LddJMRwGNUcmMKWFeL8mS2Zuk65edst8qYfj8h6WUdxnsRcJGkw10rZGlRtaOmp+HuqWvdWpkHHkyDTVIuSfF7PW3c/gGg/TR3tw8A1LG9lPKP+vVt3+8PgG9K+pftH3Vo2+/6wfe0XV+W8uGh6ey0bR8n6Qrge/W0a5MPM7fX2fTW72Rzmmct6Ou9Zvu8+vWM1jFJ892s8toFkjZvra2V9BTglw3He5Okl9o+trbdBmiybruvTUdjAvg5lBnYph+Wr5C0H+WDJJQNXb+vp7G7/ZzGy0zQ9X9Ur8unOliPhtkK1GEDpO0mm6VaH6a2piz1+JGkvXofcsTSK2tQB0zSb4FHU0513U6PAVj9p/tM4M+tf4gN2z2OEpgIOMW9V0ZZzfYNPTy+1w01D+90v0uKoSbP83nKjGjrH+a2lByuHdMSaRLVjiTtTPlH+0RKjsRtgY94gg1WGszmob5SIamkaFqRUsHq7/XYAym7lf9t++kd2rbWD15SDz2Bsku+p/WD9bnOsP2sBo+7wPYm9fry1ATrtjsGJjWY3peyxvFSSm7Q7dywNKukh1EKNxg4x813mreW8mwJ7AS8xPZDG7T5HeXvQquS19qUzWH30uXvg0oqtsMoH1pESSH2attXdumzr/Xwktp/bz19WK7rY1trbUUJ3L4G3AXc3x02JdUPJ/9i0aahtwIPtL1rlz7XB/ajrMvdQNKGwEttf6JLu9tqP6pf/0qpnnVUp3a1bd8bIGv74ygZK55HOeN2J6VC2EYdG0bMIglQB2yiQGyiAKz+ofqA7UslrUaZNTsXWJdSZvJLHfpayaWCzyoT9NkkP2PruRptGGp7fE8baiZrzD+T5Vk0gzmHEniNu06yrf0FtjdRyQKwlmu1ox4+ODyGslmk9QFgwqoxmsTmIZXd2hPqtq5O0qWUYOAprhuPVPKFnk0p87pBh7bfpaznHXf9oCfY3DXm9TeH8g/3K7Yf3WmsHcaxtjuUZK2PuR9lFurRlN/JFZR8oV1z6tbXwP8Ap9a2z6KUxvzmmMc90iVlVuv2UyhB6cspp5XfTMMNMYP4gCZpBcrf7Nu6PXactuvQYD18PVNwku2Jlsw06Ws5SinjK3pstzwlbVOr75OBT7pWNuvQ7gzK6/SAtg87l3Z6rU+WJrkBUqXk81aUQhh/qH/7n9DLh8CIpV1O8Q+Y7T/VdUXr2T64ng5eoUOTR9i+tF7fDfip7Ver5Nr8JfClDm0PB/6LsrayPUhszQj0kjezaSnDltaGmoWS7mz12S1Q7Jf7XB/ZZl79J/BKFm2s6cUfKKfZ50HnIKoGp3OBDWy/d7zHdPCSDvd1XVdXx3kDcJSkgyi/l9cB51CqPXXS7/rB1utPlBm3q+my1ral7VTp0ykfOn5BqfjUza/rB6r7xivpfLpvroISzGzSNsO8KmV98Nhd3e8B/lvSJymvmz9TNrx9jFIRrfHmsPp34YHAWrT93XWXbAUtaiuL2fpduEtZTI2Ty1PSM22f2WGcCyXdIWll97GrvC4x+RywDPAISRtTgv+OS13q++VHfQbG97f9mzGv0QmXmEh6jO3LJ1jSYuAfDT4w9L0BEsClxPQfgRdKeiHw8wSnEYtLgDpgKov6N6XM7BxMKYH3HSbeud6+Luu51OTdtm+T1HGdo+3/ql8HkeC5adLwVt+TDRj7Vv8Jtv75nm77uAbNWtWOfukeqx1p8br2C1n0AWDC2df6j/5JTZ5/TLvJrqf7CCVA+DSwCWWcXwQ+QDnN20lf6wfHe/1Japqo/2DKB63WbvZd6rFxT5XWU/NrAMupZKpo30R2/4Z9XkfZJNdyG+W0+VgPrl/fQKm7vh9wnO271KVq1Tjj/jilIMUfWfRh0iy+sWeitvtTvrctKZuctgU6pjir2j8cLUtZ0nBegz7vAi6pp7Hbd8U3KeKxZ+3n9Nrmwjp729EkA+Ob6zKI1nrkbSkf0ibyLmAPytr98awq6SLbr+rwHD1vgGwn6e3A61n0gfM7kg7sZ1lPxNIqp/gHTNKFlMDg/LbTTROeSlbZkHAy5Z/mNykzqv+qp8nOdZcE//U5espJOsFzLE85dbmj7a0btuknUJwUSZ+mpNc5rB7akVJz/AND7PNKyinzxjMktd0XKBsvek1/02p/36xZW9uuO4Trqfm3UdYcQlmTum/bTP1E7fpePzjOc/3ZdtcNJ72eKq3LJnalfAg8t+2u24BvdfrZalHuyo0p62t/RAkutqGs/3vjmMe/3vbX6+zeCyivtedQ1vM+j7JUpNFmMJVNYE9w2278plp/P9q+rkBZcvGCHp9nLeCztnfs8rjJ5LU92/ZTtPja4kZLaSR9n5KeqafAuH7YPJCSiuuflBn8nZssm+jwnCf3+vPt8fkvpuTtvb3eXp5yVqDpZtGIpV5mUAfvP7bdmmFRl7yiwO6U2b3nAdt7UT7TzSkzSRNSjymJNKbSjkqqmhdT1tVtRcntuX+X8bbajg0U365SD7tjoChpPUq97rHJw5suR3gxsLHte+vzHQJcQJkh7NRvXxspqn7q2kOf6W/qePudNcNlg9wbuz5wyXZ3qmysOW6c9YO9VtxpumSkp1OlNUg6RNIr3GAzyxitWf8/1kvLuJkNbLfOZiyklBY9ob7n/ovyu/lL/SC4U4O+L6VUy/pbj2OGwZXFvI6yqWxcdTnSg8cGoirJ/m8cv9USLpW0EzC3vtffRpldbOJ4Fs9N2pRtP6/+rZ1Tzz51/fmoQ8WsiYJTDWADZOupWLSTHxadmYmIKgHq4H1f0gHAAyS9nnLaZ8LT57b/xjjBhEsC/dOWbLGYXnOSfgZ4t6TnUwKBF9Y+DgWe3OPp5b4CRUrQvSfl1NiWlHW3vf5hfgClYgvAyh0e1+7r1I0UALYvlnQ40CRA7amufdv9kzld/7S2WbO962xso5nX8dTA6iXuUNq13/WDE2h6aqbfU6XH1UBoHRZf0znhDLM75K5syqWa0w8o9dpXBDpuamvzKUqqqUtZ/DXU5Gd7nKQHUH4351PLYnZrNCaIapXr7ZTlYF/Kh7ix1qBkA2gSiL+Vssb7bsqHjpMom+y66mVN7xhHAU/04pupfkDNR91Be6GD+ypm0bmQQWtz5LkdHtPEwcDZklp5X19Gf0UmIpZaOcU/BDUAfAEl8DrJ9k+H3F+jlEQquUB3qmtbfw7savvqet9VPcxitk5RPds1U4DKTu7Tu52iknSe7SdJusT2E+qxn9t+RsN+d6SsrzyN8vN9JiU1zHe7tDvH9mZjTj022nWrPura13Z9z9q2nSo9ixIE/YOy47dpwvTWxpPWqenWRowJy1VKaq1PPL3h8pRLGD8QFbC+7fs1HWuvVKq03UL5YHbfTJTtidYVtrftq7BADRJfzZJBcZO0YZdRPhxdQlsOXbflVG1CPZTFHHOqfgFwje0Jc69KumyiJUUa8q742kdPZ1dUMms8Hvgsi6+3XQl4b5PlUWOeb1IlbyU9vJdlBSqbtFrLac50qkhFLCYzqENQA9KhBqVj+ttX0tNY8h/n2JmA1unFJ1FyI/5M0lWUTTFze+y2NSO0WKDYoN1dkuYAf5D0FkouwIc07dT2ESo5TTer/b7fzXJY9rqRor3PvWubFcvNxmsxJzNr25o1+yyLKmBNOGsmaSfbh9frz6TMdm1NWRawBWVt8x1d+lxg+xZ1r/jT8l9NHzjOeMc9RdrSIOhb0/ZWfXbfb2GBnwBnMSbIbOhm21/p/rDxjX1/Sxrv/b2YPmYk5/d53336Df6rXs+uPJryGnwAi2e/uI2yAalXTUvePpUyq3ym7b/VD54fAJ5BydLQ1NWU19288rR6ohtmdYiYDRKgDogW5ekcl4eUfqn2fSglb+qFLJpNMmNOVdl+R/16AeV0/PslbUGZYVtG0gnAMbYP7NbnJALFd1DW772NcupvS8qsVEdaMiVMK3H46pJWb/CH/c2UjRSPkfQX6kaKBuNtrcE7lLKmFEk3UxKlX9axYY/pb+pzbwZc61otS2VDzCWUXeRf7ND0ucDhkq6jpEPajzKLdJukqxsEp9Dj+sHJbEJh0SnSLSgzZt+rt7dj8ZK0E/mVpCfYvqT7QxfnJQtg/FIll2Y3y7pBYYcJnCfpU8CxLH6Kv2tA0vT93fb4iWa2qX3/EfiUlyxq8AdJL7b9kzHP9yLKMpcmJlNVbDnbp0hSfW3tpVJ4YqIzGD8CfiTpqbZ/3bCP+2jJkrddK2ZJ+hwlKL6Q8vfzOMrGwv+lt138fWd1iJgtEqAOiGvaJZU6zH+lBDSiBEFdUzLVNYK7s+Su7SZ/9DYFHuc+1mvUU36/lPQ2ykat11MCuYnGOXZn9oX16zJqkGAdWMelDOy/qWVVJW1HSSTfSevU7bKU7/ciys93w9p2wgpJAC4J1xfbSNGlv3YHAu+q64KR9GzK7OjTurTrZ9b2AGqi8joT+mnKur6N6zgmOkXf2ox3FGU92/aUHLWtnepN9L1+sFet2T1JuwJbelFZ1v0pWS26eTqwq6Sr63gbV2zT+IUFHtagz0PruvLjWDzIbFIQY5P6dfO2Y00Dkl7f351mtudRNkp9q21MLe+kzNy/kkUfEjYFntrlOe8zieAf+j+78vK6hOJO4ERgI+Adtr/Tpd3nWfTeaFXM+kuXNltTcujepbIx9XpgQ9uNUta1eSWwrvvI6hAxa9jOZYAX4Owmx8Z5zJGUYOCPwGso/6S/3LDPI4HVehznGpR/PsvU2w+hzAJc36XdJZQKUpe0XS6mBF4LG/R7fpNjHdp/l5Kup3V7A0p6oU5tNqDMNp1LSVh/SPtzNOjzoibHxnnMI4GfUU4d/oWStunhTfuibHTbq+32hR3aPbbtuiiBz9drv7dR/iGuMJnX9jAulApQq7TdfiBwRYN2Dx/v0rDPqykzgldTcuGeDDy9Qbs3U0pxXlPbXg1cNQU/o57f3w2ec+8Jjt+P8sHxC/XyWsrMcdPnXaXt8iDK2ueuv8/adjNKUZM1Kaf7jwY2b9Duwvr15fW9vUqn92d9P9xav7ZfbqWUQD6LUip4vLbnjdd3Hz//o4CHDPu1k0suM/mSGdTBW6hSu/27lE/nO7J4OpGJPMr2dpK2sX1IXat4UsM+HwT8VtJvaLBDWNI7KDNlVwL3k/RlYB9KENdx56vrxqa251oHeD9l1u9/J2pXTxO+GFhDUvtavJVofgoQSrWj+07rupSI3bhDv9tQZko+Vb+K8j0eLek9LqcJu7lK0kdZvO721Q3a2b2nv5mrRenAnktJKN4y4fvVbaVXbZtSxvNUlTKnL6KsOf4a5bWyGEkHM/Esq23v3mXMk/FpFq1lhlJ2dK9ujdx7xbb2tv0WtngX5X16cz+N1WNe27ZT0CvSw/u7CdsTnTa/my7p7bpon0FtVRVr9PpxObMCbWdXGmqtj30xcITtf3RaR+0ORUbqxsINKOnzxtsUtq6kY9tur9N+u4ffyWSyOkTMCglQB28n4Mv1Ykq50ibpWVqVev5V1zz+lbIpoom9ehsiewCPrn/I16YEqs+0fVbTJ6hrFD8MPIUy0/I219O0E7ieMoP5Uhb/J3Yb5dRiU5dL+galOpcpweLvOjz+Y8DzbV/TduwiSadS8l82CVBfC+xNmdERcCbN/oH2k/7mCOCMus71Tkq2BSQ9ij5ysdbfybHAsSqJ+MczXoGFtSnrhbtunqvrmPeizGLOY9Hp9q5ZIWpweQLldQTwATdYy6zeK7aNbd9kU+FYl1Fmw3um/vLaHgs8lPoaaPMsysz4yGgt75lE8I+kTSl/U1qvIwDcfdnGjyVdTnm//Hf9sHJXP2NwyXl7Ud3EN55txtzumjViAodQ0v71s+EuYlZImqkRIel1lIBmQ8o/3BWA/7HdKHF+j32d71LHvHW7cQqZGjx/mEXpXY6of9Sb9j2/SyDbrf2ywJtYVMHqTGA/l/yU4z3+t7Yf1+t9k6FJpr+RtDmwGnCyF1WaWZ9yir5p7farWXJW1LbX7dLukZScl8+kbMo6yF3WydXg4J0smfKpUeUtSWuwZFAyYb342uZCeqjYNqbtuJuO3L1i0TGU3+tpLD7r1STNVM/VoOoGnA/ZvnjM8U2BPW2/ZPyWU6/9b4qko2w3LXXb/hxXUN4vY1Nxdd2MV9eD3upSMnV5YMUmH3Smi6QzbD9ruscRMcoygzpg6jP3pe1WCqEzKGsXe+nzObZPlbRE0nCPX/pxzTGn2R/SfrvLP9yLKJWVjqfU3H5y++m0Bv+snyxpL/qYbaun346z/Tw672hvd894m7ckPZzuO+q/ZPsdY3b73qfD6bhJpb8Zbybb9u+7tRtj07bry1J2x68ywWOR9FjKB49NKAnh3+iGZTyBW2yf0OP4Wv1+hrKh6zIWBSWmfPDopNeKbe363VT4w3rpR+sDVC/VoNYZG5wC2D5XDerbT2Zmuw/t59T7ff6bbB/b/WG1w1rVqd58nmsRCtu3S/ow5YPWqOo7q0PEbJEAdfD6yn2pkoD7FfRQGafNsyhrDsfOqJjxqw+9d8ztJml9WhqnUpnAQYwz29ZEnR25Q9LKbpCovNqTku/1f2ufpmzG+ABl7WwnrTWnn+9xnJNKfzMI48xefknSL4D/GftYSUdSgrbPU343C4GVWh883H2X+mkq6XeOpvd/ti+jLDe5u9sDx+ipYtsYl1J27TfKg9vi/isdQTkN/QAWrwbVbbzLdrhvouUa7fp6r6m/csSe4Hov9qzLd05h8dfRRBXUdqCcpYCSg7m9StpWjHaAOpmsDhGzQgLUwes592X1IxZVxunpn3Vrw4MbltaczD/aSf6ThknMtlV3AZdI+ilw39rOiWZubf+wnu5+NyWNkigByiu9ZB7IsW3Pq1/vS5NTTyWuNd7M1jiulPQhlvzQMdkgvystnjd2DiUAnWhzyGaUf47vofycYNGMmOk+I9ZaP9o+a9v0n+1VlPWjvb7mP69Sse1Wyoz1/7hLxbbJbjqaYNlEt8ANSZtQ1kmvZvuoeuq+STWocyS93vZigayk3Wn2obLf91qvCfMBNpJ0a33ccvU6LJq1bZIHejfgMZTXQ/ts+kQBqia4Pt7tkVHPBB1ru+lZoIhZKQHq4PVbsWgylXEWU0/t7WT7zYN4vgGbzGwblKUFx/fSYQ1EuxYDmIhKQYKXUt4vFwI31TVk3ZK2/4iyweVn9DhbPADtmzcWUFIjvXK8B9peZzId2d5yEs3vAC6UNHbWrOu6TvdesW2ym456WjYBIOl/KBv5zgM+K+lTNeBsEpC/AzhGJStIe17SZSgplbrp973WU8L8+py9VqIbz0YekyWki06ztkPdXFE3Yr2fJWeZu34oq2eCXkrzZUoRs1IC1MHrt2JR35VxAFRSLe1ECUKuZuJZh+nW12xbXQKxkHL671bbt3Z6/ICtbPvWupHtYNt7Smoyg3p/292WEQzFJIPGnqnHFEptjq2Xpv38wvbTtWTltiYzddsw/qaj2ynB10Gd+u5l2USb7YGNbd8haVVKIvlGSxFs3wg8TdKWLEp5dLztU5u0p/+Z7UmVI56EsyQ9zvZvGz6+06xtp+URg3AYpfrZ1sAbKbmrb+qh/a8kfbU+R/uZoKxBjaiyi39AJG3evrlFPVYskvRb4FGU4LJjZRxJe9neq27I2oGSa/XvlD9277H98El/QyNG0g+AVSlVozay/aIp7PsS4AWU1DAftn1Okx3jkj4B/MpjSkdOBUkdZ3dt7zPAvsZNoeSG+VNV0l+tbfuKQY1pgn4mzFYh6ZJus3cTLJt4k+2NOrQ5z/aTJro9ilTK7f6Ossnv45TsE5+13a3a22T7/R0lu0LXv4HTrfV7bP870MvOfC3K+9vOTWZgI2aLzKAOzteAVpqVX9t+ao/tewm4WqmCLqecrnyJ7Str341zivabcaC27bs0a5+zbdcD/7L9AUlf69bHgH2MUjThFzU4fSSlAlE3bwc+JOluSp7bXtbjTdamlLWlrdnJl1B2xl87hL6e5kUplPaW9AUazuBLegllc9YywCPqmYCPdVoPWmf3Lp4o2OxgspuOxi6buJoJlk20aU/srjG3h56Yvc/32jrurxzxZA1kidMUaaXKu6H+jK+nVMBqZKrPcETMRAlQB6d9UX7Pp5dcKuNsBDyjHvp5h008rT+Or6DMoJ4m6URK9apeNgf0lXGgOpQSIL+QEsDtTOeE+UDfCcuh/Dxau3R7DrImE1DXfo9su30V5Wffrd2EFWumwIMoRQJugzLrDhxp+3WdGvXwGmx3Z/3aSwqllr0o6cpOB7B9obpU27J9r6SLNE76sC4mtemoz6BibGL3njJCTMYk3mtjd8RPdGyg6npXJD2E4Z+in6xPSFqZsqlwX8os8zuaNq5t92RRPuczKB/Mei7GEbG0SoA6OHPqDu85bdfvCxbdJVWPpLdTcmS2Zp6+I+lA2+NVNPnv+pzHUDZRLE9J1/NO4KGS9gOOsX1ylzH3m3EA+i/N2tdsW1twiu1Pta5LWgvYwfbnujxFzwG1ap5Flaoy4+3eHncjz5hTwUuYonVmawPtCfb/Q5fKZD2+Btsdp95TKLUssH3LmNdgk3VHqwGXqezEb1/D12lG8h1MYtORSqqyz9r+V739QODdtj8yURu3ZYCYBj291zSJcsRj1gS3Z4BofNagbhz6ArA68DdK/tbfUT5UjhTbreprt1A+AKBSQrqpb1KzidTbr6JkT1gil3XEbJUAdXBWpvzTa/1xbg9CmqTq2R14ihdVDvoM8GvKp/PFeEzVpNrmMOAwSatQdhd/AOgWoPabcQD6L806mdk26jgfRPkedwTWAI5p0KyfgLoVwJ7by/joXP5wqnIdHgr8RqX6kSkBWLdSno1fg+1sf7xe7SWFUsulknYC5qrk33wb8KsG7fZu+Pzt45zspqMX2b4vt6btf0p6MTBhgDrNen2v9V2OeEBnCz5OyQv6M9ub1N/TjgN43qnyLuBLDR+7rhevtrW3SnW0iKgSoA6IJ5mqhxLYtqciWkiX0/U1GB3PYqekO+g34wDAgXUG6aOUdY4r0Hk3c0tPs22S3mp7X0krUoKsnYD1KUHpI203XffVc0Bt+8f1a0+5X0dhfZntT6rUuG+drt/N9gVdmvX0Gqybaa51LSkp6dWUpQ9/qhv5uiX4h5Kb9sOUTTFHUD40fLxTg7oG9f/6WIMKgO3TKOVKezVX0v1ciwrUzV3362cMU6Sn91pdznGRpMM9uXLETwfWs31w/TC5ou2rGzS9x/bfJc2RNMf2afVD0kT9THrWdsB6WV51p6Sn2/4F3Jca8M4ubSJmleziHxEqu65fw6LZwJcBh7hDMmctShw+3h9Gu0MCcZVk0Z+2/V71mHFgUFRSR3WcbZP0Ldu7SrqTsn7uI5TNSpZ0VafvcczzvA44CtiQciptBUpy9/07tOmY/mjYG1wmQ9La4x3vtGZzzGtQlPWT37L9pQkefz6lxOQ/JD2Tsgb6rcDGwGNtbzuZ76ETSYcBH+xxDepk+3wfZXbxYMr77rWUhOuf7dhwBDR5r7U9tu8SqZL2pCybeLTt9evM7ZG2t2jQ9meUv3ufoqyh/huwme2ndWs7CiT92fa477txHrsR5YzGyvXQP4HXuFkBkIhZIQHqCKlrF59O+YdwZoMZr8n2d6r7TGuiHkuzdpptAyacbZP0Hdu7qGQn2AFYHjicklLrp00D1H5IuomyIesIyg7mxRdKTu/6wo5UUmO13tzLUU7tXmG743q+Xl6Dki5yTbEk6f8otdT3qrcvtL1xh7aTCv4lnUrJUtDLGtRJq+s0n0v5+Zxsu8m660kldu9jjH2919raX844JVK9ZB7Y8dpeSCnjeb7tTeqxrinZ6uOWp8wizqGcyVkZ+E6TmfhJzNr2REvm373vLkqBg45nJTVmY5+klQA8tXmdI2aEBKjTTNIbgG/bXuL0jqS32/5yg+c4xfZzux0bp90XgPUoywHa/8l33bSkkjWgVZq1/Z/YuOsv+51tk/TQunawdfuRlHVpO9Sx/w/wQ9u/7zLengLq2mYu8Pza34aUClZH2L6sU1+jqAaeb7D9hoaP38P2gV0ecyklCf2CGtTsYfvM1n2dTsFPNviXNG6+yVH90CDpZGqeYtoSu3sIhRwmO7Mt6WzbT+n0mA5tf2P7yZLOt/3EGnT+umGA+pmxP4/xjo3Tru9Z26nW+rnU60eNWYcaEW0SoA5Ih/WgwMS7+Oup66sppUkvHHPffX/MJmi7LGVG8VTg2Sz6J78ScILtx3YZ88HjD7VRLtOOAcg4j+97tq0+5lGUfK2/bDu2IWVTwrPcpdRirwH1OO3vRwlUP0dJB9NtZ3vrVOmFtm+XtAslT+6XXdPpTLVur6deHyvpw5Rd3zdTsgY8sS69eBRlecqEAcIggn9JD6XMokIpDPC3pm37MWb2bBlKzfjbm6x11CQTu/c4zsm+1z4NzKWPcsSS3kP54Ph8yqn61wKHN3y/LPGaazL7OplZ26km6YK2Md53PSKWlE1Sg3MeHdaDMvEu/suB9wE/lPRV2+15Erstun8DJXXO6iyeQeBW4P8ajPkb7QEf3BdUNdFrada5kubZXkA5RbpH231NXodfAj7UfsAlb+v76VAjvM2atntOBF4D060pgdQ6wFdoXkZ2P0o5xo0ov+ODKOvOBh6UjKXFK0nNoQTHvZRi7Lrhw2Uj1imUlE8ne9Gn3TmUGbtObRdSyn6e2Bb8ny6pafD/SsqHhdPrWPeV9F7bP+jWtl8es1Nd0ssoOVybmFRi9x5N9r3Wb4lUbH9e0vMpf4MeTVnn/dNObSS9iZI675FavITwisAvx2+1mP/UD0atbCTLN2gzXTzB9YgYIzOo06ztVNiDKMm0VwR2sX1D0xkv1Z3uY44tdmq8U9/djk3QtnFp1vr4vmfbavvJlqk8ENi3h4AaSYdQ0hGdAHzX9qVN29b2rd/t/wB/sX1QL7OYk1FPe7YsAK4BjvKYFGUd2q9p+7omr6NJjHFs8H8s8E3bf2nQ9iLg+a1Z07rG82fuUHZ0EuNsBXvj3XeW7c0bPMd/Uaq+rcWixO57uWaKGKTJvtcm2fcDKDOoAL93s01ZKwMPpMy4fqDtrtsmOvM0pn3fs7ZTTdJCynIqUdaG39G6i+nJPBAxshKgDoFK+qX1WHwzxJkTPHaxgEXSGykzhe+k1H1vHMzUP/SvoKRieqztNSZ43FOBp1FmX9uzBKwEvLzJP3lJDx/veKfT15I2Z9FsWyvX5vrACt1OH0q60vajer2v7TE9BdS1zb0sWpvb/kZp9M9E0hmUWcLXUtI93UQ55d8xmB4kScu3ftY9tGn0OprkuCYb/C/2oUQl9dRFw/jZtn3QaE+iPocyw/gs917WuPW87/AEGRImazLvtfrYnkqkSlqGkrLuZcBVlJ/PwykZId5o+z8TtR3nuRarJOUGmRrqrO0LKO/Nk7rN2kbE6Msp/gFTSWf0dsrpuwspiad/zcSnx8ZuDtlf0umUxPtdK6io5GJ8KSWYeCJlBvZllLrrE1mGkmZpXn18y62UcohdubfSrK02Z41zrOPmpjaTKlMJvKhhP+1jm9NrmzG2p/xeXmv7ryqpn7pVvBqI+iHkIMrvee36u3qD7f9ue8xmLjXX+30dTcarKMH/+sDbtKiSVNOZpBMlnUTZZAXlZ/2TYQy0zUtY9EGlNSs9mawBvSR278lk3mvqr0TqRyhrctfyovK6K1KWGn20Xrr1+xJgH3qsJFVnbf8FfJ+Gs7YRMfoygzpgKul9NgPOsr2xpMcAe9vefoLHP9n2En/8Jc0HXmH7ux36OoxSy/lkyk7dU4ErbTeqzCTp4Z1mPLu0HVsW8+VAk7KYfakbYo6hlOxcokyla0qdLs/RT535SakzzevZ/pmk+wNzPQX5ZiWdTQksjm3blLHYMglJ+9t+o0pVrWfQ5+toKqlts1yd0WylxPoncJjtPw6hz+sogdPYdbkGsL1Pn897re21Jjm8gWttMGr7ugJwtO0XdGhzKfBk23eMOb4C5W9h1w2VddnGcxhTScr2HhM8fmCzthExejKDOnh32b5LEipVZy6X9OiJHjxecFqP30MJFjrZgPKP+XfA5bYXtjYKNHS/ujZzHRZPvdQkN2NfZTH75UmWqRwnoG5aZ75vkl5P2aCyCrAupSzr/pSNK0Nn+1otXuN+4ZiHPKh+fTyTex1NpS9RN8u5pEM7GkDSpvW+lwyhz7mUmeheKgU1Mao/437KEd87NjgFsP3vHl5LPVWSYgCzthExuhKgDt519ZTTD4GfSvonZcfuwNneqM7Q7gT8TNLfgBUlPazJjCIl/+n+lNN4Y4OXbnouzToI7r9M5ZQG1NWbKbu8zwaw/Ye6vm4qXCvpaYDrTNPbKAFou+/UcU32dTSV1vE41XZsnytpnSH1eUOn9ZedqEti90mNanh6KpFaua69H+9vwL0N+/1XnXE9Ezisvg7H3ZxW/T/GzNravk3SfwNnkQA1YkbLKf4hUkkmvjIlJ2nfta176G9Tyo7o7YDr3KVEoGpuxj776rk063RqLb1o7WJXySF7zjA3LKkmPFfNdyhpHiVX49DzM6pkhfgy8DxK0HAy8HY3qwa0KSVY3ZYGr6OpNNnNcn32eYFnab5KNSyRKukaSiDaT9nlRwEPpazZb68k9XDKWZJx15irQ67TsZvoImLmSYA6YJIOtf2qbseGPAYBz3T3ajx7UTYjHMPiCbm7pnap7ae0NOtkTEdALemzlM0br6bkBf1v4Le2PzysPgepzry+0vZ3pnssLZKOAE6dYLPcCyZa6z3JPldp+p6YyTTJEqmT6Pc44ENjZ8brB6U9bY+7bKOuWX024wfFp3kIKcciYuokQB0wLZk2ai5wie3H9fFcx9n+r4EOcPHnH69WdbfZjkmXZp0uUx1Q1w8Kr6Mt/Q2lOMLQ3nQqOVcnYtsfH6fNSpTlCGtQcpH+tN5+DyV10zbDGGs/BrFZLsanSZZInUS/feU4nsysbUSMvgSoAyLpg5TNG2OTL/+Hsrv9g30852q2bxjcKCdPkyjNOh2mK6BWyct5cZPdywPu993jHF6esgZ3VdsrjNPmR5RNUr+mbOB6ICXge/vY3/GoGLNZ7rKmm+ViYppkidRJ9DvlyzYiYvRNNs9jVLY/5VIK8XO2V6qXFW2v2mdwugVll+rASXpf2/Xtxtz3v12aX07J8/pDlQouizUfzAgH6kvAeZI2Hue+1wyrU9v3Ahep5D6dMra/0LpQUvAsB+xGmQ2baEbpkbZ3tX0AZQ3zpsB/jWpwCmWznO196yXB6WDMreukoXxQaf+5DnND7Tk148Vi1DzHcUQshbKLf0AkPcb25cCR9VTyYtysesvGlM0pr6TMUjat+d5r5ZcdgM/W6x+k7OZv2YoxNe/HsO2f1vVh35D0ImppVkYzbc7lwPsoAfVXbX++7b5hB9SrAZdJ+g2LKlJhezLJ3buStAolCfzOwCGUUpf/7NDkvg18LimmrvYU5GqNkXMEcIakmymblX4O921i6in5vXqrBvUO4BhJOzPOso1e+o2IpUcC1MF5FyXn5RfGuc9MUElKpfzgDpSZq78D36MsvdiyacfqvfKLJrg+3u1x2b4ZeJlKadazJb2z6Xin2HQG1HsP+fmXIOlzlPQ7BwJPsP3vBs02knRr6ymA5ert1AefRWx/UtIpLCqR2np/zKGsRe1K0kspfwMbV4PyJHMcR8TSKWtQp5lKvfefA7vbvrIeu6qXBf7qsfJL+1rRcTZ1dVxHOl7KnZpD8zBgA9v3azruqTDO9/dGygzxO4EPj9qa2cmqr6e7Kfkj29/cCTZj6NRjNagB9jvlVeIiYrgygzpgNb/mf1N2i5sSfO7vmn9zHK+gzKCeJulEylrBXk8991r5ZaO2GbLlxsyeLTtxMwDeMPaAS7WszSnfy6hZ7Gdpe39Jp1MC6o41vvvuUPqF7adrySTtQw8SbWddeUynXqtBTZqmoUpcRAxfZlAHTNL3gduoVXoop+4faHu7iVuBpOUpuTl3pMxAHAIcY/vkBn1+lFIR6bmUMn+mpDOa9ZVUJD3Z45STlTQfeIXtbuVkI6IhST+j/B37FKWU7t8oBTKGVuxB0sXAU72oStzywK89BQUxImJ4EqAOWHuqlk7HujzHKpRqUNvbHnft6pjH38/23a3rlFnQu1rHYvq1fQDZyfbW0zyciKGor/P2alArA4e5QQWzSfQ55VXiImL4cop/8C6QtLntswAkPQX4ZS9P4FKx5YB6aeLXwBNr27uBu2vS7aVqfeVMo1KJ6cWUzAxbAUcB+0/roCKGpBYl+ZHt51ES6B8yRV0fTNmo2V4l7qAp6jsihiQB6uA9BXi1pFZalbWB39VP+e7ltFO3SlKSHkap/rOcpE1YtN5yJcqu/pgGkp5PWarxQuA04FDgybZ3m9aBRQxRTVF2h6SVbfeUlmqS/e5T15W3qsTt5hEuuxwRzeQU/4BJenin+23/qYfn6lhJStJrgF0pOQPPYVGAehvwLduN86gOQreAerZoy8ywq+2r67GeMjNEzER1Df7mlHK57bl/3zbEPlcZ5/Bttu8Z53hEzBAJUIekx0TVk+3rFbaPGtbz9zCOkSvN2smwAuo6m70DJR/tVZTMDP9ju+OHl4iZrn5oXoLtoZ3ul3QNsBalXK+ABwA3UDZovd52qlFFzEBJSTNgkl4q6Q+USlBnANcAJ3R4/HqSviVpH0lrSjpB0u2SLpK0WcNu15S0kopvSDpf0rg5UIdFQyzNOkRLlFccBNsX2H6/7XWBvYBNgGXq73ao+SAjpktdg/oq24eMvQy56xOBF9t+kO1VgRcB36ek+/vakPuOiCFJgDp4H6ec4vq97UdQUj912iR1MPAr4HrgbOCbwKrAe4CvNuzztbZvBV4APIRSe/3TfY2+B5I2lvTZOoPxCUpZ0RlhqgJq27+0/RbKWuEvAU8ddp8R08H2Qkou5pWnuOtNbZ/UNo6TgWfWjaojVTgkIprLJqnB6zVR9Qq2D4RS5cj2kfX4T2vZyiZaa09fDBxs+yJJQ6kzP4jSrNNF0saUHfWvpMxwT9kaXdv3AifVS8TS6i7gEklTtgYV+Iek91OW0gBsD/yzzujeO8R+I2KIEqAO3r9qqdEzgcMk/Y1SdnIi7X9Ab+1wXyfnSTqZUj3qg5JW7KFtry6nbAB6SVtp1ncOqa9Jm8kBdcQMdHy9TKWdgD2BH1I+rP+iHptL+TAaETNQNkkNWK+JqiXdAVxJ+cO6br1Ovf1I28s36HMOsDFwle1/SVoVWMP2xZP8dsbr6+WUgO9plLVf36VUrepUWnXatO2o370toM6O+oghkbQcsLbtK6Z7LBExcyVAHRBJjwIeavuXY44/E/iL7T9O0G4gaakkvRR4Zr15hu0fN2nXr8mUZp1K0xlQS1oXuM723ZKeDWwIfNv2v4bdd8R0kPQS4PPAMrYfUZfVfMz2S4fY54OB9wGPZ/HMKV2r8EXE6MomqcH5EiX/6Fh31PvGZftPnS5NOpb0aeDtwG/r5W2SPtXzd9AD27fbPqymaVoTuBD4wDD77IftY2xvDzwGOB14J/BQSftNQaaDo4CF9cPLQZQlGIcPuc+I6bQX8GTgXwC2L6S87ofpMMrSo0cAe1Myp5wz5D4jYsgygzogki61vcEE913ST11oSQfa7pqWSNLFwMZ1I04r3csFvVStmk1qYu/tgO2HOcsi6XzbT5T0XuAu2/tKusD2JsPqM2I6STrb9lPaX+eSLh7m3yJJ59l+Uns/ks6w/axh9RkRw5cZ1MFZtsN9y/X5nAf08NgHtF2f6jQvQEl8Px399sr2P2wfMAWnAO+RtCPwGqD1s5k/5D4jptOlknYC5tYcz/tS0ugNU6ti1A2Stq6FMtYccp8RMWQJUAfnHElLJH6XtDvQVyWTHiqgfAq4oCb8P6T297/99DlJQ0l8PyxTEFDvRsl7+knbV0t6BPCdIfcZMZ3eSlkLejdwBCUzyTuG3Ocnau7Vd1PyR3+DspQnImawnOIfEEkPBY4B/sOigHRTYBng5bb/OkG7p1N263+73v4B0Kot/QnbpzbsfzVgM8ru/7Mn6i8WmYrSrJKWAdavN69IffCIiIjuEqAOmKQtgdZa1Mu6BZiSTgHeavu39fYlwK7A8sCHbG/Voe0LgRVt/2DM8Z2Bv9n+ad/fyMR9rgd8GPgHsA/wdUr2gCuB19nO5oSq7tw/hLJpQ5R64a+xfeb0jSpi8CR91fZbJP0YWOKfyjB28Ut6n+3P1mUE4/U5zOIAETFkSdQ/YLZPA07roclKreC0+kPr1H6Dnfh7Ay8Z5/gplNncgQeolNKs3wZWopRmfQfwcuAZlNKsTxlCn32b5oD6C8ALWvkga9GAI4AnDbHPiOnwauAtlBRTU+V39eu5U9hnREyRBKjT7wHtN2z/v7abD+3S9v62bxp70PZfa57SYRhEadapNJ0B9fz2ZOW2fy8pm6RiafRHANtnTFWHbbme72j7OwSApO2mahwRMRwJUKff5ZK2tr1YeUBJ/wV0q8SyrKR5thcrpVqDoH4zB3QziNKsU2k6A+pzJR0EHFpv70yfG+YiRtyDJb1rojtt7zPEvj8IHNngWETMIAlQp987geMlbQucX489iVL56L+6tD0a+Lqkt9i+He6r8PSVet8wPKbmXRWwbr1OvT2K5UOnM6B+E/Bm4G2Un8+ZwNeG3GfEdJgLrEB5nU8JSS8CXgysIekrbXetBCwYv1VEzBTZJDUCJN2PMrv2+HroMuBw23d1aTcP+ATwOqBVdWptStWijw5jx/igSrNOFUl3UNabCli3XqfefqTtYS2FiJg1WkUpprjPjYCNgY8B/9N2123Aabb/OZXjiYjBSoC6FJC0HPCoevNK23dO53hGyXQG1JK2oJR+fDhtZytsj+JMc0TfprNCmqT5Sd8WsfRJgBoD07Q062wh6XLKEo7zgIWt47b/Pm2DihgCSavY/sc09T32g6AA54NgxMyWADUGRtKTeqh+Ne2GHVC36pIP6/kjIh8EI5ZWCVBj1hp2QC3p05TNI0dTSj8CYPv8CRtFRE/yQTBi6ZQAdYRJ2sv2Xg0etwVwoe3bJe0CPBH48jDWVw6qNOtsIGm8gg22/ZwpH0zEUiofBCOWTglQR5ikl7Qlo+70uIuBjYANKTk3DwL+n+1nDWFMfZdmnQ4JqCOWbvkgGLF0Sh7UEdYkOK0W2LakbSgzpwdJes2QhjWZ0qzTYW/grW23H01bQA0MLUCV9FDgf4HVbb9I0uOAp9o+aFh9Rsw2trec7jFExODNme4BRCHps5JWkjRf0imSbq6n65u4TdIHgVdRkv7PBYZVUvMB7Td6LM06HcYNqG2fCaw45L6/BZwErF5v/55SajUiBkjS1pLeJ+l/WpfpHlNETE4C1NHxAtu3UqpHXQesD7y3YdvtKWuvXmv7r8AawLDKeF4uaeuxBxuWZp0OD2i/McUB9YNsf59asaqWpF3YuUlE9ELS/pS/gW+lpJjajpJyKiJmsJziHx2tGc8XA0fY/ofUrGqg7b9KOgpYrx66GThm8EMEJleadTpcLmlr28e3H5yigPp2SasCrn1uDtwy5D4jZpun2d5Q0sW295b0BYZX6jkipkgC1NHx45rP707gvyU9GOhY6rRF0uuBPSibf9alzKDuDzx30IO0faWkDVm8NOuZwBu7lWadJtMZUL8LOBZYV9IvgQcD2w65z4jZplU57w5JqwN/Bx4xjeOJiAHILv4RIumBwK22F0q6P7Cq7WsbtLsQeDJwdqvcoKRLbD9hqAOeISTdj8UD6suAw6cioJY0j7IxS8AVKckYMViSPgrsS/lA/n+UMxZft511qBEzWALUEaNyXn9LYCfgJba7rpNsJapu1cOuQdH5tjcc9nhjYpJePd7xVsqriBis+mF0WdtZShMxw2WT1IiQ9BRJXwb+RDkt/HPgMQ2bnyHpQ8Bykp4PHAk0TVEVw7NZ2+UZlHrhL53OAUUsLSRtJulhbbdfDXwf+LikVSZuGREzQWZQp5mkTwKvBP4MHEHZ3HSu7cZrqOqs6+uAF1BOJZ8EfMP55Y4USSsDh9pOkBoxSZLOB55XN5Q+E/guZSf/xsBjbWe9d8QMlgB1mkm6ibKb/EvAcbbvknSV7Uc2bD8HuNj2BkMcZiNNS7POVpLmU35Xj53usUTMdJIusr1Rvf5/wE2tvz+SLrS98TQOLyImKbv4p9/DKDOfOwJfqmX7lpM0r+bN7Mj2vZIukrS27T8Pe7BdnDfN/fdk2AG1pB9TU0xRltM8jnIKMiImb27b38nnUjKZtOR/W8QMlzfxNLO9EDgBOEHSspTUR/cH/iLpFNs7NXia1YDLJP0GuL3tuaf0VHIPpVlHxbAD6s+3XV8A/Mn2dUPuM2K2OIKy/v5mSqqpnwNIehTJNxwx4+UU/4iStBLwctuHNHjss8Y7bvuMgQ9sUZ+fBT5B+cdwIrAR8A7b3xlWnzOZpAcBf8+64IjBqcUvVgNOtn17PbY+sILt8zs2joiRlgB1hEl64qj+kW2t8ZL0cuBllIT4p7XWhI2aqQyo6z/NTwP/AD4OHAo8iHKa/9W2Txx0nxEREUuTpJkabW/qdKekX9Svt0m6te1ym6Rbhzy2JUqzDrm/yXqB7VspSyiuA9YH3jukvr4K/C/lFOSpwOtsPwx4JvCpIfUZERGx1Mga1BFm+/Vd7n96/bri1IxoMX2XZp0mSwTUJTvXUMyzfTKApI/ZPgvA9uVD7DMiImKpkRnUESFpC0nL1+u7SNpH0sP7eJ7lJe0s6fjBj3IR2x8AngpsWst33s5o15lvBdSbAqcMOaC+t+36nWPuy5qaiIiILrIGdURIupiyLnJDyprFg4D/Z3vcDVBj2i5DmRncCdgKOAo4eip21fdTmnW6SHogcKvthZLuD6xq+9oh9LOQErALWA64o3UXpQzj/InaRkRERGZQR8mCusN7G+DLtr8MdDx1L+n5kr4JXE2ZvTwU+Ift3YYdnE6yNOu0sP1P4F5JzwG+Apw7pH7m2l7J9oq259XrrdsJTiMiIrpIgDo6bpP0QWAX4HhJc1m0bnIiJwHrAk+3vUsNSu/t0mZSJH1S0h8om4AuATahVHA5pAaAI2kmBtQRERGzVQLU0bE9cDewu+2/AmsAn+vS5knAWcDPJP1U0u7A3OEOkz2AG4H9gO/Y/jsjvK5ypgbUERERs1nWoI6gfpK6S9qCUi71FcCFwDG2DxzC2OayqDTrc4DTgOcBazUpzTrVJN0EXAF8CTjO9l2SrrL9yOkdWUREREwkM6jTTNLmkk6XdLSkTSRdClwK3Chpq6bPY/uXtt9CmXn9EmWH/cDZXmj7BNuvBh4F/Aj4FaU06+HD6HOSHgZ8EngpcKWkQ4HlJCXFWkRExIjKDOo0k3Qu8CFgZeBA4EW2z5L0GEq+zk2mdYAN9VKadbpIWpaSqH9H4OnAKbZ3mt5RRURExFgJUKdZq2Rovf47249tu++CmRKgwmiXZh1rJgTUERERs1VO8U+/pSmpe8fSrKOklj29ZLrHEREREUvKDOo0G0RSd0nrAtfZvlvSsynJ/r9t+1/DGPPSQtLXu5WTjYiIiKmXAHUpIOlCSgnPdSi5UY8FHm37xUPscwvgQtu3S9oFeCKlwMCfhtVnREREzA45xb90uLemeHo58CXb7wRWG3Kf+wF3SNoIeB8lAf63h9xn3yRtIWn5en0XSftIevh0jysiIiKWlAB16XCPpB2B1wDH1WPDLqnZc2nWaTajAuqIiIjZLAHq0mE3St7TT9q+WtIjgO8Muc9+SrNOp5kWUEdERMxaWYO6lJC0DLB+vXmF7XuG3N/DgJ2Ac2z/XNLawLNtj+SspKQzgBMpwfwzgZsoa2ifMK0Di4iIiCUkQF0K1J37hwDXUHb/rwW8xvaZU9R/z6VZp9pMC6gjIiJmswSoSwFJ5wE72b6i3l6fUoXqSUPoa3Pg08A/gI8DhwIPoiwXebXtEwfd56DNhIA6IiJiNssa1KXD/FZwCmD79wxvPehXgf8FjgBOBV5n+2GU0+afGlKffZO0uaTTJR0taRNJlwKXAjdK2mq6xxcRERFLygzqUkDSNylVpw6th3YG5tnebQh9zajSrJLOBT4ErAwcCLzI9lmSHkOZZR6p8UZERATMm+4BxEC8CXgz8DbKGtQzga8Nqa+ZVpp1nu2TASR9zPZZALYvlzS9I4uIiIhxJUBdCti+G9inXoZtI0m3Ukuz1uvU28tOQf+9mmkBdURExKyXU/xLgVp2dC/g4bR96LD9yOka06iQtBC4nRpQA3e07gKWtT3KuVsjIiJmpQSoSwFJlwPvBM4DFraO2/77tA0qIiIiok85xb90uMX2CdM9iIiIiIhByAzqUkDSp4G5wNHA3a3jts+ftkFFRERE9CkB6lJA0mnjHLbt50z5YCIiIiImKQFqRERERIyUVJJaCkh6qKSDJJ1Qbz9O0u7TPa6IiIiIfiRAXTp8CzgJWL3e/j3wjukaTERERMRkJEBdOjzI9vepSeltL6At3VRERETETJIAdelwu6RVqZWRJG0O3DK9Q4qIiIjoT/KgLh3eBRwLrCvpl8CDgW2nd0gRERER/cku/qWEpHnAoyklPK+wfc80DykiIiKiLwlQlwKSXj3ecdvfnuqxRERERExWTvEvHTZru74s8FzgfCABakRERMw4mUFdCklaGTjU9kuneywRERERvcou/qXTHcB60z2IiIiIiH7kFP9SQNKPqSmmKB86Hgd8f/pGFBEREdG/nOJfCkh6VtvNBcCfbF83XeOJiIiImIwEqEsZSQ8C/u78YiMiImKGyhrUGUzS5pJOl3S0pE0kXQpcCtwoaavpHl9EREREPzKDOoNJOhf4ELAycCDwIttnSXoMcITtTaZ1gBERERF9yAzqzDbP9sm2jwT+avssANuXT/O4IiIiIvqWAHVmu7ft+p1j7svUeERERMxIOcU/g0laCNwOCFiOkv+UentZ2/Ona2wRERER/UqAGhEREREjJaf4IyIiImKkJECNiIiIiJGSADUiIiIiRkoC1IillKRVJV1YL3+V9Jd6/d+SvjagPhbW57xU0pGS7j+g5/1Vj4/fS9J7emzz795GFRERU2XedA8gIobD9t+BjaEEcMC/bX9+wN3cabvVx2HAG4F9WndKmmt7Ya9PavtpAxthRETMOJlBjZhlJD1b0nH1+l6SDpV0qqQ/SHp9PS5Jn6szo5dI2r7BU/8ceFR9/tMkHQ5cImlZSQfX57lA0pa1j10l/UjSiZKukLRn2xj/3Xb9vZLOkXSxpL3bjn+4tvsZ8Oi246+vj79I0lGtWV1Jj5D063rfxyf3U4yIiGHKDGpEbAhsDiwPXCDpeOCplNnXjYAHAedIOtP2DeM9gaR5wIuAE+uhJwMb2L5a0rsBbD+hluE9WdL67Y+j5PA9R9Lxts9te94XAOvVxwk4VtIzKfl/dwA2ofwdOx84rzY72vbXa/tPALsD+wJfBvaz/W1Jb+77pxUREUOXGdSI+JHtO23fDJxGCQafDhxhe6HtG4EzgM3GabucpAuBc4E/AwfV47+xfXW9/nTgULivDO+fgFaA+lPbf7d9J3B0fWy7F9TLBZQg9DGUgPUZwDG277B9K3BsW5sNJP1c0iXAzsDj6/EtgCPq9UOb/WgiImI6ZAY1IsZW6zBltrKJ+9agtkiCMsN536Ee+17s6YBP2T5gTB/vGOexLd8CXmb7Ikm7As/u8PwRETGCMoMaEdvUdaKrUoK5c4Azge0lzZX0YOCZwG/6fP4zKTOZ1FP7awNX1PueL2kVScsBLwN+OabtScBrJa1Q268h6SH1OV8uaTlJKwIvaWuzInCDpPmtfqtfUpYFMOZ4RESMmMygRsRvgOMpgePHbV8v6RjKOtSLKLOO77P91z6f/2vA/vWU+wJgV9t315nWX1BOtz8KOLx9/SmA7ZMlPRb4dX38v4FdbJ8v6XvAhZQlAz9va/ZR4Ox6/BJKwArwduBwSW8Hjurze4mIiCkgO2e8ImarIaafatL3rsCmtt8y1X1HRMRoyyn+iIiIiBgpmUGNiIiIiJGSGdSIiIiIGCkJUCMiIiJipCRAjYiIiIiRkgA1IiIiIkZKAtSIiIiIGCkJUCMiIiJipPx/8eK6AYsK6noAAAAASUVORK5CYII=\n",
      "text/plain": [
       "<Figure size 720x432 with 1 Axes>"
      ]
     },
     "metadata": {
      "needs_background": "light"
     },
     "output_type": "display_data"
    }
   ],
   "source": [
    "g = sns.displot(data=data_3_nodup, x=\"state_name\", hue=\"property_type\", multiple=\"stack\")\n",
    "g.fig.set_size_inches(10, 6)\n",
    "g.set_axis_labels(\"Tipo Propiedad\", \"Cantidad propiedades\")\n",
    "plt.xticks(rotation=90)\n",
    "plt.show()"
   ]
  },
  {
   "cell_type": "code",
   "execution_count": 90,
   "id": "946b4515",
   "metadata": {},
   "outputs": [
    {
     "data": {
      "image/png": "iVBORw0KGgoAAAANSUhEUgAAAq8AAAGdCAYAAAA8O5qmAAAAOXRFWHRTb2Z0d2FyZQBNYXRwbG90bGliIHZlcnNpb24zLjMuMiwgaHR0cHM6Ly9tYXRwbG90bGliLm9yZy8vihELAAAACXBIWXMAAAsTAAALEwEAmpwYAAA2FElEQVR4nO3deZyddXX48c+ZmbCYkIVMIAQICSRGASFqwKqIuJSCWNG6UrUg2NQWaxf7qmtbutjqT6y1ikusClZQxAWsomAtiCsCiixCdJgkmAVCVkjIJOHO+f1xn5ncmcxyM5k7d57k83697mvuc+6znJknI8fvfJ/zjcxEkiRJKoOWZicgSZIk1cviVZIkSaVh8SpJkqTSsHiVJElSaVi8SpIkqTQsXiVJklQabc1OYG+cddZZ+Z3vfKfZaUiStK+JZicgDabUI6/r1q1rdgqSJEkaQ6UuXiVJkrR/sXiVJElSaVi8SpIkqTQsXiVJklQaFq+SJEkqDYtXSZIklYbFqyRJkkrD4lWSJEmlYfEqSZKk0rB4lSRJUmlYvEqSJKk0LF4lSZJUGhavkiRJKg2LV0mSJJWGxaskSZJKo63ZCezLKpUKHR0dfWLz5s2jtbW1SRlJkiSVm8VrA3V0dLD4sm8xsX0WAFvXrWbJxeewYMGCJmcmSZJUThavDTaxfRaTZx7T7DQkSZL2Cc55lSRJUmlYvEqSJKk0LF4lSZJUGhavkiRJKg2LV0mSJJWGxaskSZJKw+JVkiRJpdGw4jUiPhsRayPinprY1RFxZ/FaHhF3FvE5EbGt5rNPNiovSZIklVcjFym4HPgY8PmeQGa+tud9RHwI2Fyz/wOZubCB+UiSJKnkGla8ZuYtETFnoM8iIoDXAC9s1PUlSZK072nWnNfnAQ9n5m9qYnMj4hcR8f2IeF6T8pIkSdI41shpA0M5D/hizfYaYHZmro+IZwLXRsQJmflo/wMjYjGwGGD27NljkqwkSZLGhzEfeY2INuAPgKt7Ypm5PTPXF+/vAB4AnjzQ8Zm5JDMXZeaiGTNmjEXKkiRJGieaMW3gxcD9mbmyJxARMyKitXh/LDAf6GxCbpIkSRrHGtkq64vAT4AFEbEyIi4qPnodfacMAJwO3BURvwS+ArwlMzc0KjdJkiSVUyO7DZw3SPyCAWJfBb7aqFwkSZK0b3CFLUmSJJWGxaskSZJKw+JVkiRJpWHxKkmSpNKweJUkSVJpWLxKkiSpNCxeJUmSVBoWr5IkSSoNi1dJkiSVhsWrJEmSSsPiVZIkSaVh8SpJkqTSsHiVJElSaVi8SpIkqTQsXiVJklQaFq+SJEkqDYtXSZIklYbFqyRJkkrD4lWSJEmlYfEqSZKk0rB4lSRJUmlYvEqSJKk0LF4lSZJUGhavkiRJKg2LV0mSJJWGxaskSZJKw+JVkiRJpWHxKkmSpNKweJUkSVJpWLxKkiSpNCxeJUmSVBoWr5IkSSoNi1dJkiSVhsWrJEmSSsPiVZIkSaVh8SpJkqTSsHiVJElSaVi8SpIkqTQsXiVJklQaDSteI+KzEbE2Iu6piV0SEasi4s7i9ZKaz94VER0RsTQifq9ReUmSJKm8Gjnyejlw1gDxD2fmwuJ1PUBEHA+8DjihOObjEdHawNwkSZJUQg0rXjPzFmBDnbufC3wpM7dn5jKgAzi1UblJkiSpnJox5/WtEXFXMa1gWhE7EvhtzT4ri5gkSZLUa6yL108AxwELgTXAh4p4DLBvDnSCiFgcEbdHxO2PPPJIQ5KUJEnS+DSmxWtmPpyZlczsBj7NrqkBK4Gja3Y9Clg9yDmWZOaizFw0Y8aMxiYsSZKkcWVMi9eIOKJm8xVATyeCbwCvi4gDI2IuMB/42VjmJkmSpPGvrVEnjogvAmcA7RGxEvgH4IyIWEh1SsBy4E8AMvPeiPgy8CvgCeDizKw0KjdJkiSVU8OK18w8b4DwZ4bY/33A+xqVjyRJksrPFbYkSZJUGhavkiRJKg2LV0mSJJWGxaskSZJKw+JVkiRJpWHxKkmSpNKweJUkSVJpWLxKkiSpNBq2SIGgUqmwftUyurq2A7B1/WoqlZOanJUkSVJ5Wbw22Ju3X8VRXQcDsHL7NuDc5iYkSZJUYhavDdTa2srpC6az4IhJACxdswVaW5uclSRJUnk551WSJEmlYfEqSZKk0rB4lSRJUmlYvEqSJKk0fGCrgSqVCktXbmRbVxcAy9ZtY0Gl0uSsJEmSysvitcEubZvExAkTAdja1sqnm5yPJElSmVm8NlBraysznzaTKUdPAWDzbzfTaqssSZKkEXPOqyRJkkrD4lWSJEmlYfEqSZKk0rB4lSRJUmlYvEqSJKk07DYwhrI76ezs3C0+b948uxBIkiTVweJ1DG1Zu4VL7riT6Udu7o1tXbeaJRefw4IFC5qYmSRJUjlYvI6xidNnMXnmMc1OQ5IkqZSc8ypJkqTSsHiVJElSaVi8SpIkqTQsXiVJklQaFq+SJEkqDYtXSZIklYbFqyRJkkrD4lWSJEmlYfEqSZKk0rB4lSRJUmlYvEqSJKk0LF4lSZJUGhavkiRJKo2GFa8R8dmIWBsR99TEPhgR90fEXRHx9YiYWsTnRMS2iLizeH2yUXlJkiSpvBo58no5cFa/2HeBEzPzJODXwLtqPnsgMxcWr7c0MC9JkiSVVMOK18y8BdjQL3ZjZj5RbP4UOKpR15ckSdK+p5lzXi8Evl2zPTcifhER34+I5zUrKUmSJI1fbc24aES8B3gCuLIIrQFmZ+b6iHgmcG1EnJCZjw5w7GJgMcDs2bPHKmVJkiSNA2M+8hoR5wMvBV6fmQmQmdszc33x/g7gAeDJAx2fmUsyc1FmLpoxY8ZYpS1JkqRxYEyL14g4C3gH8LLMfLwmPiMiWov3xwLzgc6xzE2SJEnjX8OmDUTEF4EzgPaIWAn8A9XuAgcC340IgJ8WnQVOB/4pIp4AKsBbMnPDgCeWJEnSfmvY4jUi/gL4HPAY8F/A04F3ZuaNQx2XmecNEP7MIPt+FfjqsNlKkiRpv1bPtIELiwenzgRmAG8C3t/QrCRJkqQB1FO8RvH1JcDnMvOXNTFJkiRpzNRTvN4RETdSLV5viIhDgO7GpiVJkiTtrp4Hti4CFgKdmfl4REynOnVAkiRJGlP1jLwmcDzwtmJ7InBQwzKSJEmSBlFP8fpx4NlAT/eAx4DLGpaRJEmSNIh6pg08KzOfERG/AMjMjRFxQIPzkiRJknZTz8jrzmL1q4Tqalj4wJYkSZKaoJ7i9T+BrwOHRcT7gB8C/9rQrCRJkqQBDDttIDOvjIg7gBdR7e/68sy8r+GZSZIkSf0MWrxGxKE1m2uBL9Z+lpkbGpmYJEmS1N9QI693UJ3nGsBsYGPxfirwIDC30clJkiRJtQad85qZczPzWOAG4Pczsz0zpwMvBb42VglKkiRJPep5YOuUzLy+ZyMzvw08v3EpSZIkSQOrp8/ruoh4L/AFqtMI3gCsb2hWkiRJ0gDqGXk9D5hBtV3WtcBh7FptS5IkSRoz9bTK2gD8xRjkIkmSJA1p2OK1WFHrb4ETgIN64pn5wgbmJUmSJO2mnmkDVwL3U22N9Y/AcuC2BuYkSZIkDaie4nV6Zn4G2JmZ38/MC4HfaXBekiRJ0m7q6Taws/i6JiLOAVYDRzUuJUmSJGlg9RSv/xIRU4C3Ax8FJgN/1dCsJEmSpAHU023gm8XbzcALGpuOJEmSNLhBi9eI+CjVRQkGlJlva0hGkiRJ0iCGemDrduAOqu2xngH8pngtBCoNz0ySJEnqZ9CR18y8AiAiLgBekJk7i+1PAjeOSXaSJElSjXpaZc0CDqnZnlTEJEmSpDFVT7eB9wO/iIibiu3nA5c0LCNJkiRpEPV0G/hcRHwbeFYRemdmPtTYtCRJkqTdDTttICICeDFwcmZeBxwQEac2PDNJkiSpn3rmvH4ceDZwXrH9GHBZwzKSJEmSBlHPnNdnZeYzIuIXAJm5MSIOaHBekiRJ0m7qGXndGRGtFAsWRMQMoLuhWUmSJGlURcQZEfGcER57QUSMi25T9RSv/wl8HTgsIt4H/BD414ZmJUmStB8qBgwbcd424AxgRMUrcAHjpFXqsMVrZl4J/C3wb8Aa4OWZeU2jE5MkSdqXRMSciLg/Iq6IiLsi4isR8aSIWB4Rfx8RPwReHRHnRcTdEXFPRHyg5vgtEfGhiPh5RHyv+Gs4EXFcRHwnIu6IiB9ExFOK+OUR8e9Fu9OrgbcAfxURd0bE8yJiWURMKPadXOQxYYC8XwUsAq4sjj0nIr5e8/nvRsTXRpLjSAxavEbE5OLrocBa4IvAVcDDRUySJEl7ZgGwJDNPAh4F/qyId2XmacAtwAeAFwILgVMi4uXFPhOBn2fmM4DvA/9QxJcAf56ZzwT+hurD9j2eDLw4M18JfBL4cGYuzMwfADcD5xT7vQ74as+KqrUy8yvA7cDrM3MhcD3w1J7CFHgT8Lm9yHGPDPXA1lXAS4E7qM53jdrvAzh2pBeVJEnaT/02M39UvP8C8Lbi/dXF11OAmzPzEYCIuBI4HbiW6jNHV9cc+7WImER1KsA11e6mABxYc71rMrMySC7/RfWv69dSLUD/uJ5vIDMzIv4beENEfI5qV6o/Kj4eSY57ZNDiNTNfWnydO9KTq3EqlQodHR27xefNm0dra0Omy0iSpL2Xg2xvLb4G9Uuqf0XfVIyIDmTrIHEy80fFVIbnA62Zec8eXPtzwP8AXVQL5Cf2Isc9Uk+rLCLiD4DTigR+kJnXjsbFNXIdHR0svuxbTGzfNXd667rVLLn4HBYsWNDEzCRJ0hBmR8SzM/MnVHvo/xB4es3ntwIfiYh2YGOxz0eLz1qAVwFfAv4Q+GFmPlrMXX11Zl5TLC51Umb+coBrPwZM7hf7PNWpof88TN6PAYf0bGTm6ohYDbwX+N2a/fY2x2HVs8LWx6lO8L0buAd4S0S4SME4MLF9FpNnHtP7qi1kJUnSuHQfcH5E3AUcCnyi9sPMXAO8C7gJ+CXV+aPXFR9vBU6IiDuozon9pyL+euCiiPglcC9w7iDX/h/gFT0PbBWxK4FpVAvYoVwOfLI49uCaY3+bmb+q2W9vcxxWPSOvzwdOzMyePq9XUC1khxQRn6U6Z3ZtZp5YxA6lOg9iDrAceE1mbiw+exdwEVAB3paZN+zpNyNJkjTOdWfmW/rF5tRuZOZVVJ892k1m/h3wd/1iy4CzBtj3gn7bvwZO6rfbacBXMnPTUEln5leBrw5w7Kf3JseRqKfP61Jgds320cBddRx3Obsn+U7ge5k5H/hesU1EHE/1KbcTimM+3qg+Z5IkSYKI+CjwfoafMjDQsXdQLYS/MNp5DaeekdfpwH0R8bNi+xTgJxHxDYDMfNlAB2XmLRExp1/4XKoNcgGuoNqi4R1F/EuZuR1YFhEdwKnAT+r+TiRJksaxzFwOnLgXx08avWwgM/+8f6yYGvrcfuGPZObnagNFy6uBzjmqOQ6knuL170fxeocXcznIzDURcVgRPxL4ac1+K4vYbiJiMbAYYPbs2QPtIkmSpBHIzIubncNwhi1eM/P7EXE41RFXgJ9l5tpRzmOgthD9W0n05LOEaqNbFi1aNOA+kiRJ2jfV023gNcDPgFcDrwFuLZYJG4mHI+KI4rxHUF25C6ojrUfX7HcUsHqE15AkSdI+qp5pA+8BTukZbS2WAvtf4CsjuN43gPOpTg4+H7iuJn5VRPw7MAuYT7Vg1iAqlQrrVy2jq2t7b2zr+tVUKv0fIpQkSdp31FO8tvSbJrCe+kZsv0j14az2iFhJdW3b9wNfjoiLgAepjuaSmfdGxJeBXwFPABcPsZSZCm/efhVHdR3cu71y+zb2om2aJEnSuFdP8fqdiLiBXc1rXwtcP9xBmXneIB+9aJD93we8r458BLS2tnL6guksOGLXQ31L12wBl4aVJGm/EhEVqj342ygWQcjMxyNiS+3T/xFxAbAoM9/anExHx5AjqMXyXf8JfIpqL6+TgSWZ+Y4xyE2SJKlUom3C6ojIUXu1TajnGaBtmbmwWBRqB9WVUfdZQ468ZmZGxLVFL6+vjVFOkiRJ5VR54ohj3vHNm0frdCs+8NIz9vCQH7D7Klr7lHqmDfw0Ik7JzNsano0kSZJGJCLagLOB7xShgyPizppdDqX6kHyp1VO8vgB4S0QsB7ZS7cmamblPV/WSJEklUVuk/gD4TPF+W2Yu7NmpZ87rmGbWAPUUr2c3PAtJkiSNVJ8idV83aPFaLN36bmAe1SfY/i0zHx2rxCRJkqT+huo28Hmq0wQ+Ckyi2nVAkiRJapqhpg3MzMz3FO9viIifj0VCkiRJpdXatmYEHQKGPN9wu9T2ch0qnpmXA5ePSl5NNFTxGhExjeoDWgCttduZuaHRyUmSJJVJPrFzVrNz2NcNVbxOAe5gV/EK0DP6msCxjUpqf5Ld3XR2du4WnzdvHq2uliVJktTHoMVrZs4Zwzz2W1s3PMQl165g+pGbd8XWrWbJxeewYMGCJmYmSZI0/tTTKksNNnH6LCbPPKbZaUiSJI17Q3UbkCRJksYVi1dJkiSVxlCLFBw61IF2G5AkSdp3RcQZwI7M/PF4us5Qc17voNpVIIDZwMbi/VTgQWDuXuSpPVCpVOjo6OgT6+zs5JjubFJGkiRpIAe2xeodFY4YrfMd0Mqa7U/kmLffiog24AxgC9DQ4nVPrzNUt4G5ABHxSeAbmXl9sX028OK9TlN16+joYPFl32Ji+65/u+tXLeOSids4/shDmpiZJEmqtaPCEfkPk28erfPFPz56Rl37RVwLHA0cBHwkM5dExBbgU8ALqA5Cvi4zH4mIPwYWAwcAHcAbM/PxiLgc2AA8vfj6XKASEW8A/hy4CNgGPAU4BngTcD7wbODWzLygyOVM4B+BA4EHgDdl5paIWA5cAfw+MAF4NdAFvKX2Opn5g6G+13rmvJ7SU7gCZOa3gefXcZxG0cT2akeCntfE6fZAliRJvS7MzGcCi4C3RcR0YCLw88x8BvB94B+Kfb+Wmadk5snAfVSL0h5PBl6cma8EPgl8ODMX1hSU04AXAn8F/A/wYeAE4GkRsTAi2oH3Fud4BnA78Nc1519XxD8B/E1mLh/kOoOqp1XWuoh4L/AFqtMI3gCsr+M4SZIkjY23RcQrivdHA/OBbuDqIvYF4GvF+xMj4l+oTgWdBNxQc55rMrMyxHX+JzMzIu4GHs7MuwEi4l5gDnAUcDzwo4iA6ujuT2qO78nhDuAP9vB7BOorXs+jWql/vdi+pYhJkiSpyYoHnl4MPLv48//NVKcP9NfzsMzlwMsz85cRcQHVOac9tg5zue3F1+6a9z3bbUAF+G5mDlYr9hxTYYTrDQx7UNFV4C9GcnJJkiQ13BRgY1G4PgX4nSLeArwK+BLwh8APi/ghwJqImAC8Hlg1yHkfAybvYS4/BS6LiHmZ2RERTwKOysxfD3HMHl1n2OI1ImYAf0t1PkNvFZ+ZL6z3IpIkSWqY7wBviYi7gKVUC0iojqKeEBF3AJuB1xbxvwNuBVYAd1MtZgfyP8BXIuJcqg9sDat4IOwC4IsRcWARfi8wVPHa5zrDzXutZ7j2SqrzJV5K9Wmw84FH6jhOkiRpv3JAK2vq7RBQ7/mG2ycztwNn949HBJn5d1SL1dr9P0H1gan+57mg3/avgZNqQj+o+Ww5cOJAx2bm/wGnDHD+OTXvb6eYrjDAdYZUT/E6PTM/ExF/kZnfB74fEd+v9wKSJEn7i2b0ZN3f1FO87iy+romIc4DVVJ8kkyRJ0jiVmZOanUMj1FO8/ktETAHeDnyU6oTav2poVpIkSdIA6uk28M3i7WaqKzRIkiRJTTFo8RoRH2VXP7DdZObbGpKRJEmSNIihloe9nerqBwcBzwB+U7wWUm0sK0mSJI2pQUdeM/MKgKJX1wsyc2ex/UngxjHJTpIkSUOKiDnANzPzxOH23RcMNfLaYxZ9m9dOKmKSJEmq0TKhZXVE5Gi9Wia0rG729zTe1NNt4P3ALyLipmL7+cAlDctIkiSppPKJPOLEy0+8ebTOd88F95xR566tEfFp4DlUl3s9F1gAfBJ4EvAAcGFmboyIm4G/yczbI6IduD0z50TECcDngAOoDnC+MjN/ExFvAN5WxG8F/iwzmzaFdNiR18z8HPAs4OvF69k9Uwo0NiqVCutXLWPt8l/3vjatXg456PN0kiRp/zIfuCwzTwA2Aa8EPg+8IzNPoroM7D8Mc463AB/JzIXAImBlRDyV6rKyzy3iFeD1jfgG6jVUt4GnZOb9EfGMIvTb4uusiJiVmT9vfHrq8ebtV3FU18G927dv3sRhR09rYkaSJGkcWZaZdxbv7wCOA6YWq6MCXAFcM8w5fgK8JyKOAr5WjLq+CHgmcFtEABwMrB3t5PfEUNMG/hpYDHxogM8SeGFDMtJuWltbOX3BdBYc0XehjNaWaFJGkiRpnNle874CTB1i3yfY9df3g3qCmXlVRNwKnAPcEBFvBgK4IjPfNbrpjtxQ3QYWF2/Pzsyu2s8i4qABDpEkSdL4sBnYGBHPy8wfAG8EekZhl1MdTf0Z8KqeAyLiWKAzM/+zeH8S1Q5T10XEhzNzbUQcChySmSvG8Hvpo55uAz+uMyZJkqTx43zggxFxF9U+/f9UxC8F/jQifgy01+z/WuCeiLgTeArw+cz8FfBe4MbiPN8Fjhib9Ac21JzXmcCRwMER8XSqw8YAk6k+tSZJkqQa0RZr9qBDQF3nG26fzFwOnFizfWnNx78zwP73Ux1V7fHeIv5vwL8NsP/VwNV1J91gQ815/T3gAuAo4N9r4o8B725gTpIkSaXUvbPbXvgNNtwKW1dExCsz86ujdcGIWEDf6v1Y4O+pTiz+Y+CRIv7uzLx+tK4rSZKk8qtnkYJvRsQfAnNq98/Mfxr0iCFk5lKq8y6IiFaqjXS/DrwJ+HC/oe7SqFQqdHR09Il1dnaS3bt6sWZ3Vvuz1tj08EraJx46FilKkiSVXj3F63VUn1i7g75tGEbDi4AHMnNF0TustDo6Olh82beY2L7rrwXrVy1jytFbmHrM1N7YhTuu4riuKb3bt+/YxE19pp1IkiRpMPUUr0dl5lkNuv7rgC/WbL81Iv4IuB14e2Zu7H9ARCym2n+W2bNnNyitkZnYPovJM4/p3e7q6lvrR0tw2vxpLJzb3id+U8kLd0mSpLFSV6usiHjaaF84Ig4AXsau1R4+QXU1iIXAGgZeHIHMXJKZizJz0YwZM0Y7LUmSJI1j9RSvpwF3RMTSiLgrIu4u+nztrbOBn2fmwwCZ+XBmVjKzG/g0cOooXEOSJGm/ExF/GRH7ZGvTeqYNnN2ga59HzZSBiDgiM3t6mb0CuKdB15UkSWqIA1paVu/MHLUm/hMi1uzoHlH7rb8EvgA8Xu8BEdGamZURXGtMDVu89iz/FRGHUbP+7d4o/p/A7wJ/UhP+fxGxEEiqy5b9ye5HSpIkjV87M4/41YKn3Dxa5zt+6f1nDLdPREwEvky1N38r1SmZs4CbImJdZr4gIs6j2qc/gG9l5juKY7dQ7ef/e8DbI2IO8DbgAOBW4M/GW0E7bPEaES+jOv90FrAWOAa4DzhhpBfNzMeB6f1ibxzp+fY12d1NZ2dn73ZnZyfH1LTckiRJqnEWsDozzwGIiClUW5C+IDPXRcQs4APAM4GNVJd6fXlmXgtMBO7JzL+PiKcC7wCem5k7I+LjwOuBz4/9tzS4eqYN/DPVpcX+NzOfHhEvoPonfzXI1g0Pccm1K5h+5Gag2nLrkonbOP7IQ5qcmSRJGofuBi6NiA8A38zMH/RrQXoKcHNmPgIQEVcCpwPXAhWgZzGqF1EtcG8rjj+Y6sDluFJP8bozM9dHREtEtGTmTcUPRw00cfqutltdXduhq8kJSZKkcSkzfx0RzwReAvxbRNzYb5ehenJ21UwLCOCKzHxXI/IcLfV0G9gUEZOAW4ArI+IjwBONTUuSJEn1KKYFPJ6ZXwAuBZ4BPAb0/Mn2VuD5EdFerG56HvD9AU71PeBVxXNORMShEXHMAPs1VT0jr+cC24C/ojrvYQowoqVh1ViV7mRFzVzZHvPmzaO1tbUJGUmSpDHwNOCDEdEN7AT+FHg28O2IWFM8sPUu4Caqo6vXZ+Z1/U+Smb+KiPdSnRPbUpzrYmDFWH0j9Ri0eI2IecDhmfmjItQNXBERpwNTgfWNT097YsX6bVxy7Z29c2UBtq5bzZKLz2HBggVNzEySpP3DhIg19XQI2JPzDbdPZt4A3NAvfDvw0Zp9rgKuGuDYSf22rwauHlGyY2Sokdf/oNpSob/Hi89+vwH5aC/VzpWVJElja4Q9WbUHhprzOiczd1tJKzNvB+Y0LCNJkiRpEEMVr0MtSHDwaCciSZIkDWeo4vW2iPjj/sGIuAi4o3EpSZIkSQMbas7rXwJfj4jXs6tYXUR1ubBXNDgvjUB3d7Jp9fI+sa3rV1OpnNSchCRJkkbZoMVrZj4MPKdYUevEIvytzPy/MclMeyyBC3dcxXFdU3pjK7dvo9rtTJIkqfyG7fOamTdR7Qumca61JTht/jQWzm3vjf1q1WOsWLGiT59X+75KkqSyqmeRApVY/96v9n2VJEllZvG6H7D3qyRJ2lcM1W1AkiRJGlcceR1D2Z0sXbWpT+yBhzbDMdmchCRJkkrG4nWMXXrAIUybMLl3e13bDqY2Lx1JkqRSsXgdJZVKhfWrltHVtb03tmn1cqYfu2tUNVqCGcfPYOb8mX2OfeLxaFhe/Xu/2vdVkiSVmcXrKHrz9qs4qmvXyrkP7NjMdcxuYka7936176skSSozi9dR0trayukLprPgiEm9sTsPaeEbLY0bVa1H/96vS9dsAXu8SpKkkrLbgCRJkkrD4lWSJEml4bSBUVKpVFi6ciPburp6Y0tXbSLnHLLH58qkz0NWm1Yvh2m205IkSbJ4HUWXtk1i4oSJvdvrduzg8Ml7/iNumziNV6z8JIsOnQrA7Zs3cdjR00YrTUmSpNKyeB0lra2tzHzaTKYcPaVPPEbwwFa0tLBo7lTOPumwXedv8oNfkiRJ44FzXiVJklQaFq+SJEkqDYtXSZIklYbFqyRJkkrD4lWSJEmlYfEqSZKk0rB4lSRJUmnY57XJsjv7rKYFrqglSZI0GIvXceDCHVdxXNeuxQ1cUUuSJGlgFq9NFi3BafOnsXBue5+4K2pJkiTtzjmvkiRJKg2LV0mSJJWGxaskSZJKwzmvI1CpVOjo6OgT6+zsJLvtECBJktRITSleI2I58BhQAZ7IzEURcShwNTAHWA68JjM3NiO/4XR0dLD4sm8xsX1Wb2z9qmVMOXoLU4+Z2rzEJEmS9nHNnDbwgsxcmJmLiu13At/LzPnA94rtcWti+ywmzzym9zVx+qzhD5IkSdJeGU9zXs8FrijeXwG8vHmpSJIkaTxqVvGawI0RcUdELC5ih2fmGoDi62FNyk2SJEnjVLMe2HpuZq6OiMOA70bE/fUeWBS7iwFmz57dqPwkSZI0DjVl5DUzVxdf1wJfB04FHo6IIwCKr2sHOXZJZi7KzEUzZswYq5QlSZI0Dox58RoREyPikJ73wJnAPcA3gPOL3c4Hrhvr3CRJkjS+NWPawOHA1yOi5/pXZeZ3IuI24MsRcRHwIPDqJuQmSZKkcWzMi9fM7AROHiC+HnjRWOcjSZKk8hhPrbIkSZKkIVm8SpIkqTQsXiVJklQaFq+SJEkqDYtXSZIklYbFqyRJkkrD4lWSJEmlYfEqSZKk0rB4lSRJUmlYvEqSJKk0LF4lSZJUGm3NTqCMKpUK61cto6tre29s0+rlTD82m5iVJEnSvs/idYTevP0qjuo6uHf7gR2buY7ZTcxIkiRp32fxOgKtra2cvmA6C46Y1Bu785AWvtESTcxKkiRp3+ecV0mSJJWGxaskSZJKw+JVkiRJpeGc1xGoVCosXbmRbV1dvbGlqzaRcw5pYlaSJEn7PovXEbq0bRITJ0zs3V63YweHT/bHKUmS1EhWWyPQ2trKzKfNZMrRU/rEw24DkiRJDeWcV0mSJJWGxaskSZJKw2kD+5lKd7Kis3O3+Lx582htbW1CRpIkSfWzeN3PrFi/jUuuvZPpR27ujW1dt5olF5/DggULmpiZJEnS8Cxe9zPd3cnO7Tvo6treG+vavp1KpdLErCRJkupj8bqfSeDCHVdxXNeuTgkrt28Dzm1aTpIkSfWyeN3PtLYEp82fxsK57b2xpWu2gPNdJUlSCdhtQJIkSaXhyGtZZbJ01aY+oQce2szMSVObko4kSdJYsHgtqcMmtfCe9U+ifcLk3ti6th08t4k5SZIkNZrF6zAqlQodHR19Yp2dnWR3NimjqtaWoP3J7Rx1ylF94rHz0SZlJEmS1HgWr8Po6Ohg8WXfYmL7rN7Y+lXLmHL0FqYeM7V5iUmSJO2HLF7rMLF9FpNnHtO7XdsjdW9lt3NXJUmS6mXxOg5cesAhTHPuqiRJ0rAsXpssWoIZx89g5vyZfePOXZUkSdqNfV4lSZJUGo68DqNSqfBQ51I2b9rcG3v04d8y86mN6zbQfx6sc2AlSZKqLF7r0X0dVA7u3axs2Ujb5GOGOGDv1c6DdQ6sJElSlcXrMFpbW5l7+lymHD2lN7bytpVESzTsmgPNg+0/BzYz2bh6I22/2XULN67eSLY7E0SSJO27xrx4jYijgc8DM4FuYElmfiQiLgH+GHik2PXdmXn9WOdXJs/70U5OXrqrbdcv1+2Ecw9sYkaSJEmN1YyR1yeAt2fmzyPiEOCOiPhu8dmHM/PSJuRUOhHBye3TOePIfitsxdYmZSRJktR4Y168ZuYaYE3x/rGIuA84cqzzkCRJUvk0dYJkRMwBng7cWoTeGhF3RcRnI2Ja8zKTJEnSeNS04jUiJgFfBf4yMx8FPgEcByykOjL7oUGOWxwRt0fE7Y888shAu0iSJGkf1ZRuAxExgWrhemVmfg0gMx+u+fzTwDcHOjYzlwBLABYtWtS4Zqv7kUp38qNbbqGzs7NP/Mwzz6S1tbVJWUmSJO2uGd0GAvgMcF9m/ntN/IhiPizAK4B7xjq3/dWK9dvYfu+lMLOmHdiGbXQceywLFixoYmaSJEl9NWPk9bnAG4G7I+LOIvZu4LyIWAgksBz4kybktt86bf40Fs5t791eumZLE7ORJEkaWDO6DfwQGKjDvz1dJUmSNCSXY5IkSVJpuDxsCWR3snTVpj6xpas2UcmJDbtmpTtZ0e8Brnnz5vkAlyRJaiqL15K49IBDmDZhcu/2xgMq/BmNa7awYv02Lrn2TqYfuRmAretWs+Tic3yAS5IkNZXFawlESzDj+BnMnD+zN9b2mzZalm5v2DW7u5Od23fQ1VW9Rtf27VQqlYZdT5IkqR4WrxpQAhfuuIrjuqrts1Zu3wac29ScJEmSLF41oNaW6NM+a+maLeB8V0mS1GR2G5AkSVJpOPI6DiXJhgc39G5vWLWBtkf73qoND24g+3UbqCS7dSV44KHNzJw0tVGpSpIkjSmL13GobXIbz7mmi5Pbqw9L/eKRnUxt62butF0PaP1yXRfTD5/S57ggd+tKsK5tB88dm7QlSZIazuJ1HIqW4OT26Zxx5FG9sRltEzjh8MP77NcafRcqa4nduxIAxM5HG5esJEnSGHLOqyRJkkrDkdd+KpUKHR0dvdudnZ1kd+MWA5AkSVL9LF776ejoYPFl32Ji+ywA1q9axpSjtzD1mKnNTUySJEkWrwOZ2D6LyTOPAehdYaoMKkmfLgUAG1dvJNudHSJJkvYNFq/7kCA5+393MKdPV4KdcO6BTcxKkiRp9Fi89lOpVHiocymbN20G4NGHf8vMp5ZjzmtLBKfMOGy3rgQRW5uUkSRJ0uiyeB1I93VQORiAypaNtE0+pskJSZIkCSxed9Pa2src0+cy5ejqAgArb1tJtMQwR0mSJGks+CSPJEmSSsPiVZIkSaVh8SpJkqTScM7rGEpywD6s7VPam5RR/SrdyY9uuYXOzs4+8TPPPJPW1tYmZSVJkvY3Fq9jqG1yG8+5pouT2/v2Yb3vqU1Mqk4r1m9j+72XwswpvbGVG7bRceyxLFiwoImZSZKk/YnF6wiMdAQ1WoKT26dzxpFH9YnfH+XoZnDa/GksnLvre1y6ZksTs5EkSfsji9cRGM0R1IGWdN3w4AYyJ+5tmr3nv2f5I3R1dQFw/4OPMvP4GaNybkmSpLFm8ToCozmCOvCSrl1MP3zKEEft2flvve1AVk4+qJrjxi7OOH5UTi1JkjTmLF5HyYAjqKs20Pborh/xQCOqgy3p2jpKUwlaIjj76Nm95//eypXcu2I527fvKpYdjZUkSWVh8TpKBhpB/cUjO5na1s3cIjaaI6oj1X8kFhyNlSRJ5WHxOkoGG0Gd0TahT2y0RlRHqv9ILIx8NLbSnazo1zoLYN68ebbPkiRJDWHxqhGPxq5Yv41Lrr2T6Udu7o1tXbeaJRefY/ssSZLUEBavGnA09uZVK4nYumunTJau2tTnuF+v2cyOA3fQ1bVrxLZr+3YqlUqjU5YkSfspi1fV5bBJLbxn/ZNonzC5N/ZI63Yu2n4Vx3XVLFywfRtwbhMylCRJ+wOLV9WlJaB1UittU3f9k2mb3MZz26fy9GN3zY391arHWLFixW5zXp0HK0mSRoPFq+r2vB/t5OSlfRdm4NwD++zjPFhJktRIFq+qS8TACzP0mRcLdHcnO7ePv3mwlUqFG2+8sU/szDPPdDRYkqSSsXjVqErgwh3jbx5sR0cHK6/+W4469OBqThu20XHssY4GS5JUMhavw0hy95WzBlgpa19TSbhn+SN0dXUB0PHQY3V9z60twWnzp7FwbntvbOmaLTCGI5wDjbKuXLmS5z35UJ4y65BdOUmSpNKxeB1G2+Q2nnNNFye31871bP5KWY3Wv/fr/Ru7eOUx5fjn0n+UFeChZZvoOulQ4JDmJSZJkvZaOaqRMVSpVFi3Yh3burYBsHHlRk6avvtcz2avlNVo/Xu/3rxq5Yi/50p38qNbbqGzWI2ru7u7eo2Wlt59BopB33mplUqFjo6Ovucu5tLWzl3t7OzkufMP5fgjLVT7c+6vJKnsxl3xGhFnAR8BWoH/ysz3j3UOZ313B7MmVn80+8Moa6OtWL+N7fdeCjOrP8efL9vEtIOD42bu+rkOFOs/L7Wjo4PFl32Lie2zevd55Dd30vKkKUw/cm5vbP2qZVwycZvF6wCc+ytJKrtxVbxGRCtwGfC7wErgtoj4Rmb+aqxyaG1t5VmHH85xU3YVUfv6KOuoyuwzVxbg/gcf5YzjZ/TpB3vEIS195sWSyfoNG5g2YUdv6NG2nXzsYx/jsMMOA2Dt2rWs3zCZx7sn9O6zadMmWnck3RMe6Y09tmkT969f1+dc9z/4KOsmRm9eK9Z38bR+HRAGGpXs7u7mtttu6x2Z7O7uZtGiRUOOEPec61//9V93O1ftsfWMNg9koHMDvPvd765rBPX0BdNZcMQkoP65v/vjiO1A3zM07vse6+upfPw3IlWNq+IVOBXoyMxOgIj4EtXH1MeseNXeOWxSC1dfP4GV0w7qjd2/sYszjh/ZcTt2fosDDqmOoP5286MsbG3h8EmTevd5YPOjPKklOOKQXaOsHZsfpePgg9i+cte5frVhG4e0trBqSjW2dhs8rV8OA82VXfbQZn75k50cO7l6/s5HH2P60quGHCHuOdcDX7iS6Qft6oPb/9h6RpsHMtC513dtp+M1r2nYCOr+OGI70L+HRn7fY309lY//RqSq8Va8Hgn8tmZ7JfCssU7iwS27RqNWb32crrZWDtp80F7Hxvq4scihtd8oa8dDj7Fg2mGcWsyVBUiCe1esZfv26kNv9z/4KOtrRkGHOu7QtlbmT6+O0N768MN9tvck1v9cD27Zwqc+9Sna23fts27dOp7TtpNpE3aNYEyd8ASnHn44zyryuvXhh5k6Ye1uI8Qf//jHdzvXGUcdxeyaQrv/sZNan2DqhBj2XP0NdO4Ht2wZ9rje73HrQ2zcVL2PK9Z38eN6j6v52dSTZ9kN9O+hkd/3WF9P5TPYvxFpfxOZ2ewcekXEq4Hfy8w3F9tvBE7NzD+v2WcxsLjYXAAsHeU02oF1o3xO7R3vyfjkfRl/vCfjUxnvy7rMPKvZSUgDGW8jryuBo2u2jwJW1+6QmUuAJY1KICJuz8xFjTq/9pz3ZHzyvow/3pPxyfsija6W4XcZU7cB8yNibkQcALwO+EaTc5IkSdI4Ma5GXjPziYh4K3AD1VZZn83Me5ucliRJksaJcVW8AmTm9cD1TUyhYVMSNGLek/HJ+zL+eE/GJ++LNIrG1QNbkiRJ0lDG25xXSZIkaVAWr4WIOCsilkZER0S8s9n57OsiYnlE3B0Rd0bE7UXs0Ij4bkT8pvg6rWb/dxX3ZmlE/F5N/JnFeToi4j8jXA5tT0TEZyNibUTcUxMbtfsQEQdGxNVF/NaImDOm32AJDXJPLomIVcXvy50R8ZKaz7wnDRYRR0fETRFxX0TcGxF/UcT9XZGawOKVPsvSng0cD5wXEcOsCaVR8ILMXFjTQuadwPcycz7wvWKb4l68DjgBOAv4eHHPAD5Bte/v/OJlX8I9czm7/8xG8z5cBGzMzHnAh4EPNOw72XdczsD/jj9c/L4sLJ4N8J6MnSeAt2fmU4HfAS4ufvb+rkhNYPFa1bssbWbuAHqWpdXYOhe4onh/BfDymviXMnN7Zi4DOoBTI+IIYHJm/iSrk7c/X3OM6pCZtwAb+oVH8z7UnusrwIscHR/aIPdkMN6TMZCZazLz58X7x4D7qK4I6e+K1AQWr1UDLUt7ZJNy2V8kcGNE3FGsmgZweGaugep/LIDDivhg9+fI4n3/uPbOaN6H3mMy8wlgMzC9YZnv294aEXcV0wp6/jztPRljxZ/znw7cir8rUlNYvFYN9P9ubcPQWM/NzGdQnapxcUScPsS+g90f79vYGsl98B6Njk8AxwELgTXAh4q492QMRcQk4KvAX2bmo0PtOkDM+yKNEovXqmGXpdXoyszVxde1wNepTt14uPizGsXXtcXug92flcX7/nHtndG8D73HREQbMIX6/ySuQmY+nJmVzOwGPk319wW8J2MmIiZQLVyvzMyvFWF/V6QmsHitclnaMRQREyPikJ73wJnAPVR/5ucXu50PXFe8/wbwuuJp3LlUH3L4WfFnusci4neKuWF/VHOMRm4070PtuV4F/F/aXHqP9RRIhVdQ/X0B78mYKH6GnwHuy8x/r/nI3xWpGTLTV/V/H14C/Bp4AHhPs/PZl1/AscAvi9e9PT9vqvO7vgf8pvh6aM0x7ynuzVLg7Jr4Iqr/IX8A+BjFwhu+6r4XX6T6Z+idVEd+LhrN+wAcBFxD9YGVnwHHNvt7Hu+vQe7JfwN3A3dRLXKO8J6M6T05jeqf8O8C7ixeL/F3xZev5rxcYUuSJEml4bQBSZIklYbFqyRJkkrD4lWSJEmlYfEqSZKk0rB4lSRJUmlYvEr7gYioRMSdEXFPRFwTEU8ahXP+U0S8eDTyG8G150RERsQ/18TaI2JnRHys2P7riPhVsaTq9yLimGbkKkkaXRav0v5hW2YuzMwTgR3AW2o/jIjWPT1hZv59Zv7vaCU4lGLFof46gZfWbL+aat/gHr8AFmXmScBXgP/XuAwlSWPF4lXa//wAmBcRZ0TETRFxFXB3RLRGxAcj4rZitPJPeg6IiL+NiLsj4pcR8f4idnlEvKp4/6KI+EWxz2cj4sD+F42ImyPiPyLix8UI8KlF/NCIuLa45k8j4qQifklELImIG4HPD/B9bAPui4hFxfZrgS/3fJiZN2Xm48XmT+m7LKckqaQGGs2QtI8qRjDPBr5ThE4FTszMZRGxGNicmacUxeePisLxKcDLgWdl5uMRcWi/cx4EXA68KDN/HRGfB/4U+I8BUpiYmc+JiNOBzwInAv8I/CIzXx4RL6RaqC4s9n8mcFpmbhvkW/oS1WU4HwIqVNeJnzXAfhcB3x7iRyNJKglHXqX9w8ERcSdwO/Ag1XXaobre+rLi/ZnAHxX73Up16cv5wIuBz/WMYmbmhn7nXgAsy8xfF9tXAKcPkscXi3PcAkyOiKlUl9787yL+f8D0iJhS7P+NIQpXqBbhvwucB1w90A4R8QaqS3J+cIjzSJJKwpFXaf+wLTMX1gYiAmBrbQj488y8od9+Z1Fd130wsQd59D9PDnJ8z35bB/hs106ZOyLiDuDtwAnA7/dJrPpA2XuA52fm9j3IU5I0TjnyKqnHDcCfRsQEgIh4ckRMBG4ELuzpUNB/2gBwPzAnIuYV228Evj/INV5bnOM0qlMUNgO3AK8v4mcA6zLz0T3I+0PAOzJzfW0wIp4OfAp4WWau3YPzSZLGMUdeJfX4L2AO8POoDss+Arw8M78TEQuB2yNiB3A98O6egzKzKyLeBFxTzKm9DfjkINfYGBE/BiYDFxaxS4DPRcRdwOPA+XuSdGbeS98uAz0+CEwq8gJ4MDNftifnliSNP5E51F8DJWl0RMTNwN9k5u3NzkWSVF5OG5AkSVJpOPIqSZKk0nDkVZIkSaVh8SpJkqTSsHiVJElSaVi8SpIkqTQsXiVJklQaFq+SJEkqjf8Pd/0UCXYm1n0AAAAASUVORK5CYII=\n",
      "text/plain": [
       "<Figure size 720x432 with 1 Axes>"
      ]
     },
     "metadata": {
      "needs_background": "light"
     },
     "output_type": "display_data"
    }
   ],
   "source": [
    "g = sns.displot(data=data_pivot, x=\"price_usd_per_m2\", hue=\"property_type\", multiple=\"stack\")\n",
    "g.fig.set_size_inches(10, 6)\n",
    "g.set_axis_labels(\"Precio por M2\", \"Cantidad Propiedades\")\n",
    "plt.show()"
   ]
  },
  {
   "cell_type": "code",
   "execution_count": 91,
   "id": "9531fa98",
   "metadata": {},
   "outputs": [
    {
     "name": "stdout",
     "output_type": "stream",
     "text": [
      "Index(['operation', 'property_type', 'Barrio', 'place_with_parent_names',\n",
      "       'country_name', 'state_name', 'geonames_id', 'lat', 'lon', 'price',\n",
      "       'currency', 'price_aprox_usd', 'surface_total_in_m2',\n",
      "       'surface_covered_in_m2', 'price_usd_per_m2', 'price_per_m2', 'floor',\n",
      "       'rooms', 'description', 'title', 'price_usd_per_m2_clean', 'pileta',\n",
      "       'cochera', 'ambientes', 'barrio_cerrado'],\n",
      "      dtype='object')\n"
     ]
    }
   ],
   "source": [
    "data_cf=data_3_nodup.loc[data.state_name == 'Capital Federal', :]\n",
    "data_cf=data_cf.loc[data.property_type != 'store', :]\n",
    "data_cf.shape\n",
    "data_cf.rename(columns={'place_name':'Barrio'}, inplace=True)\n",
    "print(data_cf.columns)"
   ]
  },
  {
   "cell_type": "code",
   "execution_count": 92,
   "id": "44dd0e78",
   "metadata": {},
   "outputs": [
    {
     "data": {
      "text/plain": [
       "Palermo          2334\n",
       "Belgrano         2302\n",
       "Caballito        1792\n",
       "Recoleta         1289\n",
       "Villa Urquiza    1177\n",
       "Name: Barrio, dtype: int64"
      ]
     },
     "execution_count": 92,
     "metadata": {},
     "output_type": "execute_result"
    }
   ],
   "source": [
    "contar_CF = data_cf['Barrio'].value_counts()\n",
    "contar_CF.head(5)"
   ]
  },
  {
   "cell_type": "code",
   "execution_count": 93,
   "id": "55756c0f",
   "metadata": {},
   "outputs": [],
   "source": [
    "mask_contar = contar_CF>400\n",
    "data_cf1 = contar_CF[mask_contar]\n",
    "data_cf1\n",
    "\n",
    "mask_barrio = (data_cf.Barrio == 'Belgrano')|(data_cf.Barrio == 'Palermo')|(data_cf.Barrio == 'Caballito')|(data_cf.Barrio == 'Villa Urquiza')|(data_cf.Barrio == 'Recoleta')|(data_cf.Barrio == 'Flores')|(data_cf.Barrio == 'Villa Crespo')|(data_cf.Barrio == 'San Telmo')|(data_cf.Barrio == 'Almagro')|(data_cf.Barrio == 'Barrio Norte')|(data_cf.Barrio == 'Boedo')|(data_cf.Barrio == 'Nuñez')|(data_cf.Barrio == 'Puerto Madero')|(data_cf.Barrio == 'Balvanera')|(data_cf.Barrio == 'San Cristobal')|(data_cf.Barrio == 'Saavedra')|(data_cf.Barrio == 'Palermo Hollywood')|(data_cf.Barrio == 'Floresta')|(data_cf.Barrio == 'Monserrat')|(data_cf.Barrio == 'Villa del Parque')|(data_cf.Barrio == 'Villa Luro')|(data_cf.Barrio == 'Barracas')|(data_cf.Barrio == 'Villa Devoto')"
   ]
  },
  {
   "cell_type": "code",
   "execution_count": 94,
   "id": "7e198f96",
   "metadata": {},
   "outputs": [
    {
     "name": "stderr",
     "output_type": "stream",
     "text": [
      "C:\\Users\\Equipo\\anaconda3\\envs\\dhdsblend2021\\lib\\site-packages\\seaborn\\_decorators.py:36: FutureWarning: Pass the following variables as keyword args: x, y. From version 0.12, the only valid positional argument will be `data`, and passing other arguments without an explicit keyword will result in an error or misinterpretation.\n",
      "  warnings.warn(\n"
     ]
    },
    {
     "data": {
      "image/png": "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\n",
      "text/plain": [
       "<Figure size 864x360 with 1 Axes>"
      ]
     },
     "metadata": {},
     "output_type": "display_data"
    }
   ],
   "source": [
    "with sns.axes_style(style='ticks'):\n",
    "    g = sns.catplot(\"Barrio\", \"price_usd_per_m2_clean\",data=data_cf, kind=\"box\")\n",
    "    g.fig.set_size_inches(12,5)\n",
    "    g.set_axis_labels(\"Barrio\", \"price_usd_per_m2_clean\");\n",
    "    plt.xticks(rotation=90)"
   ]
  },
  {
   "cell_type": "code",
   "execution_count": 95,
   "id": "50f3d2c2",
   "metadata": {},
   "outputs": [
    {
     "name": "stderr",
     "output_type": "stream",
     "text": [
      "C:\\Users\\Equipo\\anaconda3\\envs\\dhdsblend2021\\lib\\site-packages\\seaborn\\_decorators.py:36: FutureWarning: Pass the following variables as keyword args: x, y. From version 0.12, the only valid positional argument will be `data`, and passing other arguments without an explicit keyword will result in an error or misinterpretation.\n",
      "  warnings.warn(\n"
     ]
    },
    {
     "data": {
      "image/png": "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
